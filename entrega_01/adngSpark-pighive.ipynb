{
 "cells": [
  {
   "cell_type": "code",
   "execution_count": 1,
   "id": "25758410",
   "metadata": {},
   "outputs": [],
   "source": [
    "#https://spark.apache.org/docs/latest/api/python/reference/pyspark.sql.html#dataframe-apis"
   ]
  },
  {
   "cell_type": "code",
   "execution_count": 2,
   "id": "a1ece02f",
   "metadata": {},
   "outputs": [],
   "source": [
    "#/home/hduser/Descargas/aoe_archive"
   ]
  },
  {
   "cell_type": "markdown",
   "id": "6e6a2886",
   "metadata": {},
   "source": [
    "matches:\n",
    "\n",
    "* token: ID da partida\n",
    "* winning_team: que equipo gañou a partida\n",
    "* mirror: se os dous xogadores utilizaron a mesma civilizacion no xogo\n",
    "* ladder: que tipo de partida clasificatoria era\n",
    "* patch: en que parche do xogo foi a partida\n",
    "* average rating: puntuacion media dos xogadores da partida\n",
    "* map: que mapa do xogo se utilizou na partida\n",
    "* map_size: tamaño dese mapa na partida\n",
    "* num_players: cantos xogadores habia nesa partida\n",
    "* server: en que servidor se librou a partida\n",
    "* duration: duracion da partida\n",
    "\n",
    "match_players:\n",
    "\n",
    "* token: ID do xogador\n",
    "* match: partida na que xogou (o ID de match)\n",
    "* rating: calificacion do xogador nese momento\n",
    "* color: que color de xogador tiña na partida\n",
    "* civ: que civilizacion utilizou o xogador na partida\n",
    "* team: en que equipo estaba o xogador\n",
    "* winner: se o xogador gañou a partida ou non"
   ]
  },
  {
   "cell_type": "markdown",
   "id": "d78c0c9c",
   "metadata": {},
   "source": [
    "1. Cantos rexistros contén o csv de matches.\n",
    "2. Cantas veces se utilizou cada mapa.\n",
    "3. Media dos ratings dos xogadores no dataset.\n",
    "4. Partidas no mapa máis xogado para o servidor “westeurope”.\n",
    "5. Máximo de duracion dunha partida en cada parche.\n",
    "6. Mínimo de duracion dunha partida en cada tipo de clasificatoria (ladder).\n",
    "7. Que parches diferentes estar rexistrados no dataset.\n",
    "8. Suma dos xogadores de cada partida no dataset.\n",
    "9. Canto se xogou cada cor (enriquece a táboa con match_players).\n",
    "10. Civilizacions na partida “axps4XstiBOmrDeG“ (enriquece a táboa con match_players)."
   ]
  },
  {
   "cell_type": "code",
   "execution_count": 68,
   "id": "ab0881f3",
   "metadata": {},
   "outputs": [],
   "source": [
    "spark = SparkSession \\\n",
    "    .builder \\\n",
    "    .appName(\"Python Spark Execicio Pighive\") \\\n",
    "    .getOrCreate()"
   ]
  },
  {
   "cell_type": "code",
   "execution_count": 69,
   "id": "de59eb29",
   "metadata": {},
   "outputs": [
    {
     "data": {
      "text/html": [
       "\n",
       "            <div>\n",
       "                <p><b>SparkSession - in-memory</b></p>\n",
       "                \n",
       "        <div>\n",
       "            <p><b>SparkContext</b></p>\n",
       "\n",
       "            <p><a href=\"http://hadoop-master:4040\">Spark UI</a></p>\n",
       "\n",
       "            <dl>\n",
       "              <dt>Version</dt>\n",
       "                <dd><code>v3.2.1</code></dd>\n",
       "              <dt>Master</dt>\n",
       "                <dd><code>local[*]</code></dd>\n",
       "              <dt>AppName</dt>\n",
       "                <dd><code>PySparkShell</code></dd>\n",
       "            </dl>\n",
       "        </div>\n",
       "        \n",
       "            </div>\n",
       "        "
      ],
      "text/plain": [
       "<pyspark.sql.session.SparkSession at 0x7f233430f790>"
      ]
     },
     "execution_count": 69,
     "metadata": {},
     "output_type": "execute_result"
    }
   ],
   "source": [
    "spark"
   ]
  },
  {
   "cell_type": "code",
   "execution_count": 77,
   "id": "9b424b0d",
   "metadata": {},
   "outputs": [],
   "source": [
    "from pyspark.sql.types import StructType,StructField, StringType, IntegerType, DoubleType"
   ]
  },
  {
   "cell_type": "code",
   "execution_count": 91,
   "id": "e0d07b8e",
   "metadata": {},
   "outputs": [],
   "source": [
    "columnas = StructType([\n",
    "    StructField(\"matchid\",StringType(),True),\n",
    "    StructField(\"wteam\",IntegerType(),True),\n",
    "    StructField(\"mirror\",StringType(),True),\n",
    "    StructField(\"ladder\", StringType(),True),\n",
    "    StructField(\"patch\", DoubleType(),True),\n",
    "    StructField(\"avgrating\", DoubleType(),True),\n",
    "    StructField(\"maptype\", StringType(),True),\n",
    "    StructField(\"mapsize\", StringType(),True),\n",
    "    StructField(\"numplayers\", IntegerType(),True),\n",
    "    StructField(\"server\", StringType(),True),\n",
    "    StructField(\"duration\", StringType(),True)\n",
    "    ])"
   ]
  },
  {
   "cell_type": "code",
   "execution_count": 133,
   "id": "a3d47875",
   "metadata": {},
   "outputs": [],
   "source": [
    "partidas = spark.read.format(\"csv\").load(path=\"matches.csv\",schema=columnas,sep=',')"
   ]
  },
  {
   "cell_type": "code",
   "execution_count": 120,
   "id": "85419d2c",
   "metadata": {},
   "outputs": [
    {
     "data": {
      "text/plain": [
       "DataFrame[matchid: string, wteam: int, mirror: string, ladder: string, patch: double, avgrating: double, maptype: string, mapsize: string, numplayers: int, server: string, duration: string]"
      ]
     },
     "execution_count": 120,
     "metadata": {},
     "output_type": "execute_result"
    }
   ],
   "source": [
    "partidas"
   ]
  },
  {
   "cell_type": "code",
   "execution_count": 94,
   "id": "02539349",
   "metadata": {},
   "outputs": [
    {
     "name": "stdout",
     "output_type": "stream",
     "text": [
      "+----------------+-----+------+-------+-------+---------+----------+--------+----------+-----------+--------+\n",
      "|         matchid|wteam|mirror| ladder|  patch|avgrating|   maptype| mapsize|numplayers|     server|duration|\n",
      "+----------------+-----+------+-------+-------+---------+----------+--------+----------+-----------+--------+\n",
      "|           token| null|mirror| ladder|   null|     null|       map|map_size|      null|     server|duration|\n",
      "|B2c2Ad6Uf6TVL5uk|    2| False| RM_1v1|39515.0|   1575.0|    arabia|    tiny|         2|brazilsouth| 0:23:30|\n",
      "|eb8WdcbYlpeFLnoc|    2| False|RM_TEAM|39515.0|   2187.0|    arabia|   large|         8|     eastus| 0:32:48|\n",
      "|tphUBvZ8eZBmai0L|    2| False|RM_TEAM|39515.0|   2450.0|megarandom|   large|         8|brazilsouth| 0:33:08|\n",
      "|Kmhn0HZ8o8WwdXV9|    1| False|RM_TEAM|39515.0|   2387.0|    arabia|   large|         8|     ukwest| 0:25:51|\n",
      "+----------------+-----+------+-------+-------+---------+----------+--------+----------+-----------+--------+\n",
      "only showing top 5 rows\n",
      "\n"
     ]
    }
   ],
   "source": [
    "partidas.show(5)"
   ]
  },
  {
   "cell_type": "markdown",
   "id": "22b63662",
   "metadata": {},
   "source": [
    "---"
   ]
  },
  {
   "cell_type": "markdown",
   "id": "9dc1d481",
   "metadata": {},
   "source": [
    "1. Cantos rexistros contén o csv de matches."
   ]
  },
  {
   "cell_type": "code",
   "execution_count": 95,
   "id": "de7728e4",
   "metadata": {},
   "outputs": [
    {
     "name": "stderr",
     "output_type": "stream",
     "text": [
      "                                                                                \r"
     ]
    },
    {
     "data": {
      "text/plain": [
       "3153768"
      ]
     },
     "execution_count": 95,
     "metadata": {},
     "output_type": "execute_result"
    }
   ],
   "source": [
    "partidas.count()"
   ]
  },
  {
   "cell_type": "markdown",
   "id": "fe1ad51a",
   "metadata": {},
   "source": [
    "2. Cantas veces se utilizou cada mapa."
   ]
  },
  {
   "cell_type": "code",
   "execution_count": 96,
   "id": "d672b9cd",
   "metadata": {},
   "outputs": [
    {
     "name": "stderr",
     "output_type": "stream",
     "text": [
      "[Stage 58:=============================>                            (1 + 1) / 2]\r"
     ]
    },
    {
     "name": "stdout",
     "output_type": "stream",
     "text": [
      "+------------+-------+\n",
      "|     maptype|  count|\n",
      "+------------+-------+\n",
      "|      arabia|1174357|\n",
      "|       arena| 422091|\n",
      "|  four_lakes| 153459|\n",
      "|     hideout| 152758|\n",
      "|  golden_pit| 129842|\n",
      "|  megarandom| 121077|\n",
      "|golden_swamp|  81188|\n",
      "|   hill_fort|  74651|\n",
      "|       nomad|  69519|\n",
      "|   lombardia|  68708|\n",
      "+------------+-------+\n",
      "only showing top 10 rows\n",
      "\n"
     ]
    },
    {
     "name": "stderr",
     "output_type": "stream",
     "text": [
      "\r",
      "                                                                                \r"
     ]
    }
   ],
   "source": [
    "partidas.groupBy('maptype').count().sort('count', ascending=False).show(10)"
   ]
  },
  {
   "cell_type": "markdown",
   "id": "ca988323",
   "metadata": {},
   "source": [
    "3. Media dos ratings dos xogadores no dataset."
   ]
  },
  {
   "cell_type": "code",
   "execution_count": 101,
   "id": "b081bf35",
   "metadata": {},
   "outputs": [
    {
     "name": "stderr",
     "output_type": "stream",
     "text": [
      "[Stage 64:=============================>                            (1 + 1) / 2]\r"
     ]
    },
    {
     "name": "stdout",
     "output_type": "stream",
     "text": [
      "+------------------+\n",
      "|    avg(avgrating)|\n",
      "+------------------+\n",
      "|1271.1566946746302|\n",
      "+------------------+\n",
      "\n"
     ]
    },
    {
     "name": "stderr",
     "output_type": "stream",
     "text": [
      "\r",
      "                                                                                \r"
     ]
    }
   ],
   "source": [
    "partidas.groupBy().avg().select('avg(avgrating)').show()"
   ]
  },
  {
   "cell_type": "markdown",
   "id": "5547f477",
   "metadata": {},
   "source": [
    "4. Partidas no mapa máis xogado para o servidor “westeurope”."
   ]
  },
  {
   "cell_type": "code",
   "execution_count": 109,
   "id": "a28a9f1b",
   "metadata": {},
   "outputs": [
    {
     "name": "stderr",
     "output_type": "stream",
     "text": [
      "[Stage 73:=============================>                            (1 + 1) / 2]\r"
     ]
    },
    {
     "name": "stdout",
     "output_type": "stream",
     "text": [
      "+----------+-----+\n",
      "|    server|count|\n",
      "+----------+-----+\n",
      "|westeurope|68841|\n",
      "+----------+-----+\n",
      "\n"
     ]
    },
    {
     "name": "stderr",
     "output_type": "stream",
     "text": [
      "\r",
      "                                                                                \r"
     ]
    }
   ],
   "source": [
    "partidas.groupBy('server').count().filter(partidas['server'] == 'westeurope').show()"
   ]
  },
  {
   "cell_type": "markdown",
   "id": "499f919c",
   "metadata": {},
   "source": [
    "5. Máximo de duracion dunha partida en cada parche."
   ]
  },
  {
   "cell_type": "code",
   "execution_count": 114,
   "id": "4a2a4f2b",
   "metadata": {},
   "outputs": [
    {
     "name": "stderr",
     "output_type": "stream",
     "text": [
      "[Stage 79:=============================>                            (1 + 1) / 2]\r"
     ]
    },
    {
     "name": "stdout",
     "output_type": "stream",
     "text": [
      "+-------+--------------+\n",
      "|  patch|min(avgrating)|\n",
      "+-------+--------------+\n",
      "|41855.0|         101.0|\n",
      "|39515.0|         144.0|\n",
      "|   null|          null|\n",
      "|43210.0|         202.0|\n",
      "|37650.0|         721.0|\n",
      "|42848.0|        1055.0|\n",
      "|39284.0|         975.0|\n",
      "|40220.0|         172.0|\n",
      "|37906.0|         147.0|\n",
      "|35584.0|         330.0|\n",
      "|36202.0|         301.0|\n",
      "|40874.0|         141.0|\n",
      "|36906.0|         281.0|\n",
      "+-------+--------------+\n",
      "\n"
     ]
    },
    {
     "name": "stderr",
     "output_type": "stream",
     "text": [
      "\r",
      "                                                                                \r"
     ]
    }
   ],
   "source": [
    "partidas.groupBy('patch').min('avgrating').show()"
   ]
  },
  {
   "cell_type": "markdown",
   "id": "3a98a913",
   "metadata": {},
   "source": [
    "6. Mínimo de duracion dunha partida en cada tipo de clasificatoria (ladder)."
   ]
  },
  {
   "cell_type": "code",
   "execution_count": 115,
   "id": "62fcab16",
   "metadata": {},
   "outputs": [
    {
     "name": "stderr",
     "output_type": "stream",
     "text": [
      "[Stage 82:=============================>                            (1 + 1) / 2]\r"
     ]
    },
    {
     "name": "stdout",
     "output_type": "stream",
     "text": [
      "+-------+--------------+\n",
      "| ladder|max(avgrating)|\n",
      "+-------+--------------+\n",
      "| ladder|          null|\n",
      "|RM_TEAM|        3131.0|\n",
      "| RM_1v1|        2504.0|\n",
      "+-------+--------------+\n",
      "\n"
     ]
    },
    {
     "name": "stderr",
     "output_type": "stream",
     "text": [
      "\r",
      "                                                                                \r"
     ]
    }
   ],
   "source": [
    "partidas.groupBy('ladder').max('avgrating').show()"
   ]
  },
  {
   "cell_type": "markdown",
   "id": "49b2da7b",
   "metadata": {},
   "source": [
    "7. Que parches diferentes estar rexistrados no dataset."
   ]
  },
  {
   "cell_type": "code",
   "execution_count": 123,
   "id": "d0516243",
   "metadata": {},
   "outputs": [
    {
     "name": "stderr",
     "output_type": "stream",
     "text": [
      "[Stage 88:=============================>                            (1 + 1) / 2]\r"
     ]
    },
    {
     "name": "stdout",
     "output_type": "stream",
     "text": [
      "+-------+\n",
      "|  patch|\n",
      "+-------+\n",
      "|41855.0|\n",
      "|39515.0|\n",
      "|   null|\n",
      "|43210.0|\n",
      "|37650.0|\n",
      "|42848.0|\n",
      "|39284.0|\n",
      "|40220.0|\n",
      "|37906.0|\n",
      "|35584.0|\n",
      "|36202.0|\n",
      "|40874.0|\n",
      "|36906.0|\n",
      "+-------+\n",
      "\n"
     ]
    },
    {
     "name": "stderr",
     "output_type": "stream",
     "text": [
      "\r",
      "                                                                                \r"
     ]
    }
   ],
   "source": [
    "partidas.select('patch').distinct().show()"
   ]
  },
  {
   "cell_type": "markdown",
   "id": "281631be",
   "metadata": {},
   "source": [
    "8. Suma dos xogadores de cada partida no dataset."
   ]
  },
  {
   "cell_type": "code",
   "execution_count": 129,
   "id": "c8895b59",
   "metadata": {},
   "outputs": [
    {
     "name": "stderr",
     "output_type": "stream",
     "text": [
      "\r",
      "[Stage 91:>                                                         (0 + 2) / 2]\r"
     ]
    },
    {
     "name": "stdout",
     "output_type": "stream",
     "text": [
      "+---------------+\n",
      "|sum(numplayers)|\n",
      "+---------------+\n",
      "|        9732500|\n",
      "+---------------+\n",
      "\n"
     ]
    },
    {
     "name": "stderr",
     "output_type": "stream",
     "text": [
      "\r",
      "[Stage 91:=============================>                            (1 + 1) / 2]\r",
      "\r",
      "                                                                                \r"
     ]
    }
   ],
   "source": [
    "partidas.groupBy().sum('numplayers').show()"
   ]
  },
  {
   "cell_type": "markdown",
   "id": "b0201b65",
   "metadata": {},
   "source": [
    "---"
   ]
  },
  {
   "cell_type": "code",
   "execution_count": 130,
   "id": "f3864e64",
   "metadata": {},
   "outputs": [],
   "source": [
    "columnas2 = StructType([\n",
    "    StructField(\"xogadorid\",StringType(),True),\n",
    "    StructField(\"matchid\",StringType(),True),\n",
    "    StructField(\"rating\",DoubleType(),True),\n",
    "    StructField(\"color\", StringType(),True),\n",
    "    StructField(\"civil\", StringType(),True),\n",
    "    StructField(\"team\", IntegerType(),True),\n",
    "    StructField(\"winner\", StringType(),True)\n",
    "    ])"
   ]
  },
  {
   "cell_type": "code",
   "execution_count": 134,
   "id": "134fa3ff",
   "metadata": {},
   "outputs": [],
   "source": [
    "xogadores = spark.read.format(\"csv\").load(path=\"match_players.csv\",schema=columnas2,sep=',')"
   ]
  },
  {
   "cell_type": "code",
   "execution_count": 135,
   "id": "4140d580",
   "metadata": {
    "scrolled": true
   },
   "outputs": [
    {
     "data": {
      "text/plain": [
       "DataFrame[xogadorid: string, matchid: string, rating: double, color: string, civil: string, team: int, winner: string]"
      ]
     },
     "execution_count": 135,
     "metadata": {},
     "output_type": "execute_result"
    }
   ],
   "source": [
    "xogadores"
   ]
  },
  {
   "cell_type": "code",
   "execution_count": 138,
   "id": "8e72c1d4",
   "metadata": {},
   "outputs": [
    {
     "data": {
      "text/plain": [
       "DataFrame[matchid: string, matchid: string, wteam: int, mirror: string, ladder: string, patch: double, avgrating: double, maptype: string, mapsize: string, numplayers: int, server: string, duration: string, xogadorid: string, rating: double, color: string, civil: string, team: int, winner: string]"
      ]
     },
     "execution_count": 138,
     "metadata": {},
     "output_type": "execute_result"
    }
   ],
   "source": [
    "partidas.join(xogadores,['matchid','matchid'])"
   ]
  },
  {
   "cell_type": "markdown",
   "id": "0fcaf107",
   "metadata": {},
   "source": [
    "---"
   ]
  },
  {
   "cell_type": "markdown",
   "id": "5e13f630",
   "metadata": {},
   "source": [
    "9. Canto se xogou cada cor (enriquece a táboa con match_players)."
   ]
  },
  {
   "cell_type": "code",
   "execution_count": 143,
   "id": "78bbd04f",
   "metadata": {},
   "outputs": [
    {
     "name": "stderr",
     "output_type": "stream",
     "text": [
      "2022-02-15 18:15:29,994 WARN expressions.RowBasedKeyValueBatch: Calling spill() on RowBasedKeyValueBatch. Will not spill but return 0.\n",
      "2022-02-15 18:15:30,592 WARN expressions.RowBasedKeyValueBatch: Calling spill() on RowBasedKeyValueBatch. Will not spill but return 0.\n",
      "2022-02-15 18:15:30,914 WARN expressions.RowBasedKeyValueBatch: Calling spill() on RowBasedKeyValueBatch. Will not spill but return 0.\n",
      "2022-02-15 18:15:31,436 WARN expressions.RowBasedKeyValueBatch: Calling spill() on RowBasedKeyValueBatch. Will not spill but return 0.\n",
      "2022-02-15 18:15:33,119 WARN expressions.RowBasedKeyValueBatch: Calling spill() on RowBasedKeyValueBatch. Will not spill but return 0.\n",
      "2022-02-15 18:15:33,126 WARN expressions.RowBasedKeyValueBatch: Calling spill() on RowBasedKeyValueBatch. Will not spill but return 0.\n",
      "[Stage 113:======================================>                  (2 + 1) / 3]\r"
     ]
    },
    {
     "name": "stdout",
     "output_type": "stream",
     "text": [
      "+------+-------+\n",
      "| color|  count|\n",
      "+------+-------+\n",
      "|Orange| 433475|\n",
      "|  Cyan| 679950|\n",
      "|  null|      1|\n",
      "| Green|1103141|\n",
      "|Purple| 682216|\n",
      "|  Blue|2713926|\n",
      "|Yellow|1036954|\n",
      "|   Red|2714025|\n",
      "|  Grey| 368812|\n",
      "+------+-------+\n",
      "\n"
     ]
    },
    {
     "name": "stderr",
     "output_type": "stream",
     "text": [
      "\r",
      "                                                                                \r"
     ]
    }
   ],
   "source": [
    "partidas.join(xogadores,['matchid','matchid']).groupBy('color').count().show()"
   ]
  },
  {
   "cell_type": "markdown",
   "id": "4310ab14",
   "metadata": {},
   "source": [
    "10. Civilizacions na partida “axps4XstiBOmrDeG“ (enriquece a táboa con match_players)."
   ]
  },
  {
   "cell_type": "code",
   "execution_count": 141,
   "id": "b93f99f5",
   "metadata": {},
   "outputs": [
    {
     "name": "stderr",
     "output_type": "stream",
     "text": [
      "[Stage 105:=============================================>           (4 + 1) / 5]\r"
     ]
    },
    {
     "name": "stdout",
     "output_type": "stream",
     "text": [
      "+-------+\n",
      "|  civil|\n",
      "+-------+\n",
      "|Chinese|\n",
      "|  Goths|\n",
      "+-------+\n",
      "\n"
     ]
    },
    {
     "name": "stderr",
     "output_type": "stream",
     "text": [
      "\r",
      "                                                                                \r"
     ]
    }
   ],
   "source": [
    "partidas.join(xogadores,['matchid','matchid']).filter(partidas['matchid'] == 'axps4XstiBOmrDeG').select('civil').show()"
   ]
  },
  {
   "cell_type": "code",
   "execution_count": null,
   "id": "bb3ef3a4",
   "metadata": {},
   "outputs": [],
   "source": []
  }
 ],
 "metadata": {
  "kernelspec": {
   "display_name": "Python 3 (ipykernel)",
   "language": "python",
   "name": "python3"
  },
  "language_info": {
   "codemirror_mode": {
    "name": "ipython",
    "version": 3
   },
   "file_extension": ".py",
   "mimetype": "text/x-python",
   "name": "python",
   "nbconvert_exporter": "python",
   "pygments_lexer": "ipython3",
   "version": "3.8.10"
  }
 },
 "nbformat": 4,
 "nbformat_minor": 5
}
