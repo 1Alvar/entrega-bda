{
 "cells": [
  {
   "cell_type": "code",
   "execution_count": 29,
   "id": "32c1643c",
   "metadata": {},
   "outputs": [],
   "source": [
    "spark = SparkSession \\\n",
    "    .builder \\\n",
    "    .appName(\"Python Spark SQL Exemplo Básico\") \\\n",
    "    .getOrCreate()"
   ]
  },
  {
   "cell_type": "code",
   "execution_count": 55,
   "id": "c260048a",
   "metadata": {},
   "outputs": [],
   "source": [
    "\n",
    "from pyspark.sql.types import(StringType, StructType, StructField, IntegerType, FloatType)\n",
    "\n",
    "columns=StructType([ \n",
    "    StructField('numero',IntegerType(),True),\n",
    "    StructField('id', StringType(), True),\n",
    "    StructField('n_incidente', IntegerType(), True),\n",
    "    StructField('tipo', StringType(), True),\n",
    "    StructField('fecha', StringType(), True),\n",
    "    StructField('direccion', StringType(), True),\n",
    "    StructField('zipcode', StringType(), True),\n",
    "    StructField('area', StringType(), True),\n",
    "    StructField('box', IntegerType(), True),\n",
    "    StructField('prioridad_uno', IntegerType(), True),\n",
    "    StructField('prioridad', IntegerType(), True),\n",
    "    StructField('prioridad_final', IntegerType(), True),\n",
    "    StructField('als', StringType(), True),\n",
    "    StructField('numero_alarmas', IntegerType(), True),\n",
    "    StructField('tipo_unidad', StringType(), True),\n",
    "    StructField('distrito', StringType(), True),\n",
    "    StructField('supervision', StringType(), True),\n",
    "    StructField('analisis_vecinos', StringType(), True),\n",
    "    StructField('localidad', StringType(), True),\n",
    "    StructField('row_id', StringType(), True),\n",
    "])"
   ]
  },
  {
   "cell_type": "code",
   "execution_count": 74,
   "id": "3d37870c",
   "metadata": {},
   "outputs": [],
   "source": [
    "df_lumes = spark.read.csv('input/Fire2.csv', columns, sep='\\t')\n",
    "                          "
   ]
  },
  {
   "cell_type": "code",
   "execution_count": 75,
   "id": "000da0e7",
   "metadata": {},
   "outputs": [
    {
     "name": "stdout",
     "output_type": "stream",
     "text": [
      "+-------+---+-----------+--------------------+----------+--------------------+-------+----+----+-------------+---------+---------------+-----+--------------+------------+--------+-----------+--------------------+--------------------+-------------+\n",
      "| numero| id|n_incidente|                tipo|     fecha|           direccion|zipcode|area| box|prioridad_uno|prioridad|prioridad_final|  als|numero_alarmas| tipo_unidad|distrito|supervision|    analisis_vecinos|           localidad|       row_id|\n",
      "+-------+---+-----------+--------------------+----------+--------------------+-------+----+----+-------------+---------+---------------+-----+--------------+------------+--------+-----------+--------------------+--------------------+-------------+\n",
      "|1030101|E18|     306091|    Medical Incident|04/12/2000|2000 Block of 37T...|94116.0|18.0|null|            3|        3|              3|False|             1|      ENGINE|       8|          4|     Sunset/Parkside|(37.7487247711275...|001030101-E18|\n",
      "|1030104|M14|      30612|    Medical Incident|04/12/2000|1700 Block of 43R...|94122.0|23.0|null|            3|        3|              3| True|             1|       MEDIC|       8|          4|     Sunset/Parkside|(37.7540326780595...|001030104-M14|\n",
      "|1030106|M36|      30614|    Medical Incident|04/12/2000|  0 Block of FELL ST|94102.0|36.0|null|            3|        3|              3|False|             1|       MEDIC|       2|          6|          Tenderloin|(37.7764405100838...|001030106-M36|\n",
      "|1030107|E01|      30615|              Alarms|04/12/2000|100 Block of JONE...|94102.0| 1.0|null|            3|        3|              3|False|             1|      ENGINE|       3|          6|          Tenderloin|(37.7825474000421...|001030107-E01|\n",
      "|1030108|RS1|      30616|    Medical Incident|04/12/2000|700 Block of MARK...|94108.0| 1.0|null|            3|        3|              3|False|             1|RESCUE SQUAD|       1|          3|Financial Distric...|(37.7863072236365...|001030108-RS1|\n",
      "|1030112|T03|      30620|Citizen Assist / ...|04/12/2000|800 Block of SUTT...|94109.0| 3.0|null|            3|        3|              3|False|             1|       TRUCK|       1|          3|            Nob Hill|(37.7884388430214...|001030112-T03|\n",
      "|1030116|E38|      30624|   Electrical Hazard|04/12/2000|CALIFORNIA ST/VAN...|94109.0|38.0|null|            3|        3|              3|False|             1|      ENGINE|       4|          2|            Nob Hill|(37.7903696585646...|001030116-E38|\n",
      "|1030117|E15|      30626|Odor (Strange / U...|04/12/2000|2100 Block of ALE...|94112.0|15.0|null|            3|        3|              3|False|             1|      ENGINE|       9|         11|       Outer Mission|(37.7183153380753...|001030117-E15|\n",
      "|1030118|E08|      30625|    Medical Incident|04/12/2000|   4TH ST/CHANNEL ST|   null| 8.0|null|            3|        3|              3|False|             1|      ENGINE|       3|          6|                None|(37.7750268633971...|001030118-E08|\n",
      "|1030119|M17|      30628|    Medical Incident|04/12/2000|1400 Block of NEW...|94124.0|17.0|null|            1|        1|              2| True|             1|       MEDIC|      10|         10|Bayview Hunters P...|(37.7335924152271...|001030119-M17|\n",
      "|1030120|E13|      30627|              Alarms|04/12/2000|500 Block of COMM...|94111.0|13.0|null|            3|        3|              3|False|             1|      ENGINE|       1|          3|           Chinatown|(37.7942116655012...|001030120-E13|\n",
      "|1030122|M18|      30630|    Medical Incident|04/12/2000|1800 Block of IRV...|94122.0|22.0|null|            1|        1|              2|False|             1|       MEDIC|       8|          4|     Sunset/Parkside|(37.763482287794,...|001030122-M18|\n",
      "|1030124|M09|      30633|    Medical Incident|04/12/2000| 21ST ST/SHOTWELL ST|94110.0| 7.0|null|            1|        1|              2| True|             1|       MEDIC|       6|          9|             Mission|(37.7572324112144...|001030124-M09|\n",
      "|1030127|E08|      30635|    Medical Incident|04/12/2000|      4TH ST/KING ST|94107.0| 8.0|null|            3|        3|              3|False|             1|      ENGINE|       3|          6|         Mission Bay|(37.7763329756243...|001030127-E08|\n",
      "|1030128|E05|      30636|              Alarms|04/12/2000|1400 Block of STE...|94115.0| 5.0|null|            3|        3|              3|False|             1|      ENGINE|       5|          5|    Western Addition|(37.7826256736324...|001030128-E05|\n",
      "|1030128|T06|      30636|              Alarms|04/12/2000|1400 Block of STE...|94115.0| 5.0|null|            3|        3|              3|False|             1|       TRUCK|       5|          5|    Western Addition|(37.7826256736324...|001030128-T06|\n",
      "|1030130|M18|      30638|    Medical Incident|04/12/2000|3000 Block of VIC...|94116.0|18.0|null|            2|        2|              2|False|             1|       MEDIC|       8|          4|     Sunset/Parkside|(37.7383172638778...|001030130-M18|\n",
      "|1030132|E39|      30639|               Other|04/12/2000|500 Block of TERE...|94127.0|39.0|null|            3|        3|              3|False|             1|      ENGINE|       9|          7|  West of Twin Peaks|(37.738002083532,...|001030132-E39|\n",
      "|1030135|M10|      30642|    Medical Incident|04/12/2000|2600 Block of TUR...|94118.0|21.0|null|            3|        3|              3|False|             1|       MEDIC|       5|          1|   Lone Mountain/USF|(37.7781665631084...|001030135-M10|\n",
      "|1030136|E33|      30644|      Structure Fire|04/12/2000| BROAD ST/CAPITOL AV|94112.0|33.0|null|            3|        3|              3|False|             1|      ENGINE|       9|         11|Oceanview/Merced/...|(37.7131720494385...|001030136-E33|\n",
      "+-------+---+-----------+--------------------+----------+--------------------+-------+----+----+-------------+---------+---------------+-----+--------------+------------+--------+-----------+--------------------+--------------------+-------------+\n",
      "only showing top 20 rows\n",
      "\n"
     ]
    }
   ],
   "source": [
    "df_lumes.show()\n"
   ]
  },
  {
   "cell_type": "code",
   "execution_count": 58,
   "id": "4f2be258",
   "metadata": {},
   "outputs": [
    {
     "name": "stdout",
     "output_type": "stream",
     "text": [
      "root\n",
      " |-- numero: integer (nullable = true)\n",
      " |-- id: string (nullable = true)\n",
      " |-- n_incidente: integer (nullable = true)\n",
      " |-- tipo: string (nullable = true)\n",
      " |-- fecha: string (nullable = true)\n",
      " |-- direccion: string (nullable = true)\n",
      " |-- zipcode: string (nullable = true)\n",
      " |-- area: string (nullable = true)\n",
      " |-- box: integer (nullable = true)\n",
      " |-- prioridad_uno: integer (nullable = true)\n",
      " |-- prioridad: integer (nullable = true)\n",
      " |-- prioridad_final: integer (nullable = true)\n",
      " |-- als: string (nullable = true)\n",
      " |-- numero_alarmas: integer (nullable = true)\n",
      " |-- tipo_unidad: string (nullable = true)\n",
      " |-- distrito: string (nullable = true)\n",
      " |-- supervision: string (nullable = true)\n",
      " |-- analisis_vecinos: string (nullable = true)\n",
      " |-- localidad: string (nullable = true)\n",
      " |-- row_id: string (nullable = true)\n",
      "\n"
     ]
    }
   ],
   "source": [
    "df_lumes.printSchema()"
   ]
  },
  {
   "cell_type": "code",
   "execution_count": 76,
   "id": "e0e8a7fc",
   "metadata": {},
   "outputs": [
    {
     "name": "stdout",
     "output_type": "stream",
     "text": [
      "+-------+---+-----------+----------------+----------+--------------------+-------+----+------+---+---+---+-----+-------+------------+--------+--------+--------------------+--------------------+-------------+\n",
      "| numero| id|n_incidente|            tipo|     fecha|           direccion|zipcode|area|   box|pr1| pr|prf|  als|n_alarm| tipo_unidad|distrito|sup_dist|    analisis_vecinos|           localidad|       row_id|\n",
      "+-------+---+-----------+----------------+----------+--------------------+-------+----+------+---+---+---+-----+-------+------------+--------+--------+--------------------+--------------------+-------------+\n",
      "|1030101|E18|     306091|Medical Incident|04/12/2000|2000 Block of 37T...|94116.0|18.0| 757.0|  3|  3|  3|False|      1|      ENGINE|       8|       4|     Sunset/Parkside|(37.7487247711275...|001030101-E18|\n",
      "|1030104|M14|      30612|Medical Incident|04/12/2000|1700 Block of 43R...|94122.0|23.0|7651.0|  3|  3|  3| True|      1|       MEDIC|       8|       4|     Sunset/Parkside|(37.7540326780595...|001030104-M14|\n",
      "|1030106|M36|      30614|Medical Incident|04/12/2000|  0 Block of FELL ST|94102.0|36.0|3111.0|  3|  3|  3|False|      1|       MEDIC|       2|       6|          Tenderloin|(37.7764405100838...|001030106-M36|\n",
      "|1030107|E01|      30615|          Alarms|04/12/2000|100 Block of JONE...|94102.0| 1.0|1456.0|  3|  3|  3|False|      1|      ENGINE|       3|       6|          Tenderloin|(37.7825474000421...|001030107-E01|\n",
      "|1030108|RS1|      30616|Medical Incident|04/12/2000|700 Block of MARK...|94108.0| 1.0|1322.0|  3|  3|  3|False|      1|RESCUE SQUAD|       1|       3|Financial Distric...|(37.7863072236365...|001030108-RS1|\n",
      "+-------+---+-----------+----------------+----------+--------------------+-------+----+------+---+---+---+-----+-------+------------+--------+--------+--------------------+--------------------+-------------+\n",
      "only showing top 5 rows\n",
      "\n"
     ]
    }
   ],
   "source": [
    "df_lume.show(5)"
   ]
  },
  {
   "cell_type": "markdown",
   "id": "75c60575",
   "metadata": {},
   "source": [
    "1.¿Cantos rexistros contén o dataset principal?\n",
    "\n",
    "\n"
   ]
  },
  {
   "cell_type": "code",
   "execution_count": 60,
   "id": "88d2a0fe",
   "metadata": {},
   "outputs": [
    {
     "name": "stderr",
     "output_type": "stream",
     "text": [
      "                                                                                \r"
     ]
    },
    {
     "data": {
      "text/plain": [
       "2000000"
      ]
     },
     "execution_count": 60,
     "metadata": {},
     "output_type": "execute_result"
    }
   ],
   "source": [
    "df_lumes.count()"
   ]
  },
  {
   "cell_type": "markdown",
   "id": "2491fd89",
   "metadata": {},
   "source": [
    "2.Cantas chamadas hay por tipo de unidad de chamada?\n",
    "\n"
   ]
  },
  {
   "cell_type": "code",
   "execution_count": 61,
   "id": "d7e055be",
   "metadata": {},
   "outputs": [
    {
     "name": "stderr",
     "output_type": "stream",
     "text": [
      "[Stage 30:======================================>                   (2 + 1) / 3]\r"
     ]
    },
    {
     "name": "stdout",
     "output_type": "stream",
     "text": [
      "+--------------+------+\n",
      "|   tipo_unidad| count|\n",
      "+--------------+------+\n",
      "|       AIRPORT| 12631|\n",
      "|         MEDIC|672767|\n",
      "|         CHIEF|157005|\n",
      "|  RESCUE SQUAD| 39820|\n",
      "|RESCUE CAPTAIN| 83863|\n",
      "|         TRUCK|233216|\n",
      "| INVESTIGATION|  2527|\n",
      "|        ENGINE|770663|\n",
      "|       SUPPORT|  7483|\n",
      "|       PRIVATE| 20025|\n",
      "+--------------+------+\n",
      "\n"
     ]
    },
    {
     "name": "stderr",
     "output_type": "stream",
     "text": [
      "\r",
      "                                                                                \r"
     ]
    }
   ],
   "source": [
    "df_lumes_grupo= df_lumes.groupBy('tipo_unidad').count()\n",
    "df_lumes_grupo.show()\n"
   ]
  },
  {
   "cell_type": "markdown",
   "id": "6c242e03",
   "metadata": {},
   "source": [
    "3.Mostra solo as chamadas que o seu tipo sea : Medical Incident a sua prioridade final sea maior a tres.Limita o resultado a seis\n",
    "\n"
   ]
  },
  {
   "cell_type": "code",
   "execution_count": 73,
   "id": "e5da9f4e",
   "metadata": {},
   "outputs": [
    {
     "name": "stderr",
     "output_type": "stream",
     "text": [
      "[Stage 35:=============================>                            (1 + 1) / 2]\r"
     ]
    },
    {
     "name": "stdout",
     "output_type": "stream",
     "text": [
      "+------+---+-----------+----+-----+---------+-------+----+---+-------------+---------+---------------+---+--------------+-----------+--------+-----------+----------------+---------+------+\n",
      "|numero| id|n_incidente|tipo|fecha|direccion|zipcode|area|box|prioridad_uno|prioridad|prioridad_final|als|numero_alarmas|tipo_unidad|distrito|supervision|analisis_vecinos|localidad|row_id|\n",
      "+------+---+-----------+----+-----+---------+-------+----+---+-------------+---------+---------------+---+--------------+-----------+--------+-----------+----------------+---------+------+\n",
      "+------+---+-----------+----+-----+---------+-------+----+---+-------------+---------+---------------+---+--------------+-----------+--------+-----------+----------------+---------+------+\n",
      "\n"
     ]
    },
    {
     "name": "stderr",
     "output_type": "stream",
     "text": [
      "\r",
      "                                                                                \r"
     ]
    }
   ],
   "source": [
    "df_lumes.filter(df_lumes['tipo'] =='Medical Incident')& (df_lumes['prioridad'] > 3 ).show()\n"
   ]
  },
  {
   "cell_type": "markdown",
   "id": "75bc376f",
   "metadata": {},
   "source": [
    "4.¿Cantos rexistros hay na consulta anterior antes da limitación?\n",
    "\n"
   ]
  },
  {
   "cell_type": "code",
   "execution_count": null,
   "id": "a2a09001",
   "metadata": {},
   "outputs": [],
   "source": []
  },
  {
   "cell_type": "markdown",
   "id": "7f9fe10d",
   "metadata": {},
   "source": [
    " 5.¿Cal e o valor máximo que pode alcanzar a box?\n"
   ]
  },
  {
   "cell_type": "code",
   "execution_count": null,
   "id": "1dd00407",
   "metadata": {},
   "outputs": [],
   "source": []
  },
  {
   "cell_type": "markdown",
   "id": "8dde6a08",
   "metadata": {},
   "source": [
    "6.Según o tipo de chamada, mostra a media de prioridade_final de cada un delas"
   ]
  },
  {
   "cell_type": "code",
   "execution_count": null,
   "id": "f56949ad",
   "metadata": {},
   "outputs": [],
   "source": []
  },
  {
   "cell_type": "markdown",
   "id": "38001599",
   "metadata": {},
   "source": [
    "7.Separa por prioridade de chamada os que a prioridade de chamada e maior de dous (máxima prioridade) por un lado e o que e menor (minima prioridade )para outro.\n"
   ]
  },
  {
   "cell_type": "code",
   "execution_count": null,
   "id": "0b02028a",
   "metadata": {},
   "outputs": [],
   "source": []
  },
  {
   "cell_type": "markdown",
   "id": "82944033",
   "metadata": {},
   "source": [
    "8.Carga un novo dataset con datos solo no que  a causa da incidencia e lume, e mostra nos que houbera máis de tres feridos. "
   ]
  },
  {
   "cell_type": "code",
   "execution_count": null,
   "id": "fd1f9f6e",
   "metadata": {},
   "outputs": [],
   "source": []
  },
  {
   "cell_type": "markdown",
   "id": "18374ba7",
   "metadata": {},
   "source": [
    "9.Enriquece o dataset das chamadas a os bombeiros cas que solo lumes. Limita o resultado os 6 primeiros.\n"
   ]
  },
  {
   "cell_type": "code",
   "execution_count": null,
   "id": "c47694e8",
   "metadata": {},
   "outputs": [],
   "source": []
  },
  {
   "cell_type": "markdown",
   "id": "49611b68",
   "metadata": {},
   "source": [
    "10.Da unión obtida cantos sucesos hay con mais de duas vítimas mortais"
   ]
  }
 ],
 "metadata": {
  "kernelspec": {
   "display_name": "Python 3 (ipykernel)",
   "language": "python",
   "name": "python3"
  },
  "language_info": {
   "codemirror_mode": {
    "name": "ipython",
    "version": 3
   },
   "file_extension": ".py",
   "mimetype": "text/x-python",
   "name": "python",
   "nbconvert_exporter": "python",
   "pygments_lexer": "ipython3",
   "version": "3.8.10"
  }
 },
 "nbformat": 4,
 "nbformat_minor": 5
}
