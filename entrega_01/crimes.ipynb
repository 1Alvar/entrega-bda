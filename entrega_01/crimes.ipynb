{
 "cells": [
  {
   "cell_type": "code",
   "execution_count": 10,
   "id": "2214b09c",
   "metadata": {},
   "outputs": [
    {
     "name": "stdout",
     "output_type": "stream",
     "text": [
      "+--------+----------+-----+--------------------+-----+---------------+----------+---+---+---+----+-----+----+-----+----+----+----+----+----+\n",
      "|     _c0|       _c1|  _c2|                 _c3|  _c4|            _c5|       _c6|_c7|_c8|_c9|_c10| _c11|_c12| _c13|_c14|_c15|_c16|_c17|_c18|\n",
      "+--------+----------+-----+--------------------+-----+---------------+----------+---+---+---+----+-----+----+-----+----+----+----+----+----+\n",
      "|32311380|06/18/2007|511.0|CONTROLLED SUBSTA...|235.0|DANGEROUS DRUGS|PL 2200300|  M|  Q| 27| 1.0|18-24|   M|BLACK|null|null|null|null|null|\n",
      "+--------+----------+-----+--------------------+-----+---------------+----------+---+---+---+----+-----+----+-----+----+----+----+----+----+\n",
      "only showing top 1 row\n",
      "\n"
     ]
    }
   ],
   "source": [
    "crimes = spark.read.option(\"delimiter\", \"\\t\").csv('crimes.csv')\n",
    "crimes.show(1)"
   ]
  },
  {
   "cell_type": "code",
   "execution_count": 11,
   "id": "3d7a6400",
   "metadata": {},
   "outputs": [
    {
     "data": {
      "text/plain": [
       "1000"
      ]
     },
     "execution_count": 11,
     "metadata": {},
     "output_type": "execute_result"
    }
   ],
   "source": [
    "crimes.count()"
   ]
  },
  {
   "cell_type": "code",
   "execution_count": 15,
   "id": "3b0ceb5b",
   "metadata": {},
   "outputs": [
    {
     "name": "stdout",
     "output_type": "stream",
     "text": [
      "+---------+----------+-----+--------------------+-----+--------------------+----------+---+---+---+----+----+----+--------------------+---------+--------+------------------+------------------+--------------------+\n",
      "|      _c0|       _c1|  _c2|                 _c3|  _c4|                 _c5|       _c6|_c7|_c8|_c9|_c10|_c11|_c12|                _c13|     _c14|    _c15|              _c16|              _c17|                _c18|\n",
      "+---------+----------+-----+--------------------+-----+--------------------+----------+---+---+---+----+----+----+--------------------+---------+--------+------------------+------------------+--------------------+\n",
      "|189863002|11/11/2018|179.0|      SEXUAL ABUSE 1|116.0|          SEX CRIMES|PL 1306502|  F|  K| 63| 0.0| <18|   M|               BLACK|1000448.0|168068.0| 40.62797775500008|-73.94164715699996|POINT (-73.941647...|\n",
      "|189259155|10/26/2018|175.0|    SEXUAL ABUSE 3,2|233.0|          SEX CRIMES|PL 13052A1|  M|  K| 67| 0.0| <18|   M|               BLACK| 998032.0|175598.0| 40.64865008500004|-73.95033556299995|POINT (-73.950335...|\n",
      "|193261068|02/06/2019|672.0|              RIOT 1|126.0|MISCELLANEOUS PEN...|PL 2400601|  F|  S|120| 0.0| <18|   F|               BLACK| 963248.0|173085.0|40.641738260000075|     -74.075678037|POINT (-74.075678...|\n",
      "|192334397|01/15/2019|175.0|    SEXUAL ABUSE 3,2|233.0|          SEX CRIMES|PL 13052A1|  M|  M|  7| 0.0| <18|   M|               BLACK| 988708.0|200317.0| 40.71650772200008|-73.98391989899993|POINT (-73.983919...|\n",
      "|188210546|10/01/2018|665.0|                null| null|                null|PL 4902001|  F|  K| 61| 0.0| <18|   M|               WHITE| 995118.0|155709.0| 40.59406298000005|-73.96086869299995|POINT (-73.960868...|\n",
      "|196296399|04/22/2019|263.0|         ARSON 2,3,4|114.0|               ARSON|PL 1501500|  F|  S|120|71.0| <18|   M|               BLACK| 961580.0|163524.0| 40.61549122300005|-74.08165622999996|POINT (-74.081656...|\n",
      "|206009619|12/04/2019|440.0|                null| null|                null|PL 1553502|  F|  Q|114| 0.0| <18|   M|               WHITE|1009988.0|221743.0| 40.77528038400004|-73.90707361899997|POINT (-73.907073...|\n",
      "|192751854|01/25/2019|440.0|                null| null|                null|PL 1553502|  F|  M|  5| 0.0| <18|   M|               BLACK| 983907.0|199959.0| 40.71552621300003|-74.00123874799993|POINT (-74.001238...|\n",
      "|191778810|01/02/2019|168.0|            SODOMY 1|116.0|          SEX CRIMES|PL 1305003|  F|  Q|112| 0.0| <18|   M|               WHITE|1025420.0|202485.0| 40.72236368700004|-73.85147389399998|POINT (-73.851473...|\n",
      "|193529396|02/13/2019|101.0|           ASSAULT 3|344.0|ASSAULT 3 & RELAT...|PL 1200000|  M|  K| 73|97.0| <18|   M|               BLACK|1008427.0|183518.0|40.670366460000025|-73.91284696199993|POINT (-73.912846...|\n",
      "|193932587|02/24/2019|157.0|              RAPE 1|104.0|                RAPE|PL 1303501|  F|  M| 25| 0.0| <18|   M|      BLACK HISPANIC|1000555.0|230994.0|40.800694331000045|-73.94110928599997|POINT (-73.941109...|\n",
      "|197122470|05/13/2019|153.0|              RAPE 3|104.0|                RAPE|PL 1302503|  F|  K| 77| 0.0| <18|   M|      BLACK HISPANIC|1003606.0|185050.0| 40.67458330800008|-73.93022154099998|POINT (-73.930221...|\n",
      "|184778224|07/05/2018|397.0|ROBBERY,UNCLASSIF...|105.0|             ROBBERY|PL 1601001|  F|  S|122| 0.0| <18|   M|               BLACK| 964272.0|157347.0| 40.59854310300005|-74.07194167999995|POINT (-74.071941...|\n",
      "|183848020|06/14/2018|115.0|RECKLESS ENDANGER...|355.0|OFFENSES AGAINST ...|PL 1202000|  M|  S|120| 0.0| <18|   M|               WHITE| 962074.0|173539.0| 40.64298153100003|     -74.079909806|POINT (-74.079909...|\n",
      "|202546977|09/17/2019|440.0|                null| null|                null|PL 1553502|  F|  M| 32| 2.0| <18|   M|               BLACK|1000126.0|238706.0| 40.82186240800007|-73.94264055399998|POINT (-73.942640...|\n",
      "|198988258|06/26/2019|263.0|         ARSON 2,3,4|114.0|               ARSON|PL 1501001|  F|  K| 62| 0.0| <18|   M|               BLACK| 984036.0|160462.0| 40.60711566300006|-74.00077214699996|POINT (-74.000772...|\n",
      "|198164143|06/07/2019|101.0|           ASSAULT 3|344.0|ASSAULT 3 & RELAT...|PL 1200000|  M|  K| 62| 0.0| <18|   M|               WHITE| 983503.0|158624.0|40.602070698000034|-74.00269150899999|POINT (-74.002691...|\n",
      "|183466983|06/04/2018|168.0|            SODOMY 1|116.0|          SEX CRIMES|PL 1305001|  F|  Q|112| 0.0| <18|   M|      BLACK HISPANIC|1025420.0|202485.0| 40.72236368700004|-73.85147389399998|POINT (-73.851473...|\n",
      "|199918939|07/18/2019|153.0|              RAPE 3|104.0|                RAPE|PL 1302503|  F|  Q|112| 0.0| <18|   M|ASIAN / PACIFIC I...|1025420.0|202485.0| 40.72236368700004|-73.85147389399998|POINT (-73.851473...|\n",
      "|191026342|12/11/2018|109.0|ASSAULT 2,1,UNCLA...|106.0|      FELONY ASSAULT|PL 1201001|  F|  K| 69| 0.0| <18|   M|               BLACK|1010576.0|175629.0| 40.64870676900005|-73.90513094099998|POINT (-73.905130...|\n",
      "+---------+----------+-----+--------------------+-----+--------------------+----------+---+---+---+----+----+----+--------------------+---------+--------+------------------+------------------+--------------------+\n",
      "only showing top 20 rows\n",
      "\n"
     ]
    }
   ],
   "source": [
    "crimes.filter(crimes['_c11'] == '<18').show()"
   ]
  },
  {
   "cell_type": "code",
   "execution_count": 18,
   "id": "a700f8bd",
   "metadata": {},
   "outputs": [
    {
     "name": "stdout",
     "output_type": "stream",
     "text": [
      "+----+-----+\n",
      "|_c12|count|\n",
      "+----+-----+\n",
      "|   F|  141|\n",
      "|   M|  859|\n",
      "+----+-----+\n",
      "\n"
     ]
    }
   ],
   "source": [
    "crimes.groupBy('_c12').count().show()\n"
   ]
  },
  {
   "cell_type": "code",
   "execution_count": 29,
   "id": "8fbcfc6f",
   "metadata": {},
   "outputs": [
    {
     "name": "stdout",
     "output_type": "stream",
     "text": [
      "+-----+--------------------+\n",
      "|  _c2|                 _c3|\n",
      "+-----+--------------------+\n",
      "|244.0|BURGLARY,UNCLASSI...|\n",
      "|594.0|         OBSCENITY 1|\n",
      "|478.0|THEFT OF SERVICES...|\n",
      "|198.0| CRIMINAL CONTEMPT 1|\n",
      "|201.0|TRESPASS 4,CRIMIN...|\n",
      "|879.0|ADM.CODE,UNCLASSI...|\n",
      "|176.0|                null|\n",
      "|507.0|CONTROLLED SUBSTA...|\n",
      "|969.0|TRAFFIC,UNCLASSIF...|\n",
      "|105.0|   STRANGULATION 1ST|\n",
      "|739.0|     IDENTITY THFT-1|\n",
      "|916.0|LEAVING SCENE-ACC...|\n",
      "|568.0|MARIJUANA, POSSES...|\n",
      "|462.0|UNAUTHORIZED USE ...|\n",
      "|205.0|TRESPASS 2, CRIMINAL|\n",
      "|862.0|ALCOHOLIC BEVERAG...|\n",
      "|748.0|   CONTEMPT,CRIMINAL|\n",
      "|729.0|FORGERY,ETC.,UNCL...|\n",
      "|113.0|MENACING,UNCLASSI...|\n",
      "|117.0|RECKLESS ENDANGER...|\n",
      "+-----+--------------------+\n",
      "only showing top 20 rows\n",
      "\n"
     ]
    }
   ],
   "source": [
    "crimes.select('_c2', '_c3').distinct().show()"
   ]
  },
  {
   "cell_type": "code",
   "execution_count": 38,
   "id": "54eb1621",
   "metadata": {},
   "outputs": [
    {
     "name": "stdout",
     "output_type": "stream",
     "text": [
      "+--------------------+-----+\n",
      "|                 _c3|count|\n",
      "+--------------------+-----+\n",
      "|ASSAULT POLICE/PE...|    5|\n",
      "|GENERAL BUSINESS ...|    1|\n",
      "|CONTROLLED SUBSTA...|   27|\n",
      "|     IDENTITY THFT-1|    2|\n",
      "|    RECKLESS DRIVING|    1|\n",
      "|TRAFFIC,UNCLASSIF...|   36|\n",
      "|WEAPONS POSSESSIO...|    5|\n",
      "|IMPERSONATION 2, ...|    3|\n",
      "|CONTROLLED SUBSTA...|    9|\n",
      "|ADM.CODE,UNCLASSI...|    1|\n",
      "|           ASSAULT 3|  114|\n",
      "|            SODOMY 1|    6|\n",
      "|PROMOTING A SEXUA...|    2|\n",
      "|LARCENY,GRAND FRO...|    2|\n",
      "|TRAFFIC,UNCLASSIF...|    9|\n",
      "|FORGERY,ETC.,UNCL...|    7|\n",
      "|ASSAULT 2,1,UNCLA...|   46|\n",
      "|            SODOMY 2|    2|\n",
      "|              RAPE 3|   32|\n",
      "|              RIOT 1|    1|\n",
      "+--------------------+-----+\n",
      "only showing top 20 rows\n",
      "\n"
     ]
    }
   ],
   "source": [
    "crimes.groupBy('_c3').count().show()"
   ]
  },
  {
   "cell_type": "code",
   "execution_count": null,
   "id": "830444fb",
   "metadata": {},
   "outputs": [],
   "source": []
  }
 ],
 "metadata": {
  "kernelspec": {
   "display_name": "Python 3 (ipykernel)",
   "language": "python",
   "name": "python3"
  },
  "language_info": {
   "codemirror_mode": {
    "name": "ipython",
    "version": 3
   },
   "file_extension": ".py",
   "mimetype": "text/x-python",
   "name": "python",
   "nbconvert_exporter": "python",
   "pygments_lexer": "ipython3",
   "version": "3.8.10"
  }
 },
 "nbformat": 4,
 "nbformat_minor": 5
}
