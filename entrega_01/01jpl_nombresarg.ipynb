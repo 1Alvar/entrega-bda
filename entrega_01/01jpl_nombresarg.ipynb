{
 "cells": [
  {
   "cell_type": "code",
   "execution_count": null,
   "id": "4bf13a22",
   "metadata": {},
   "outputs": [],
   "source": [
    "spark = SparkSession \\\n",
    "    .builder \\\n",
    "    .appName(\"Python Spark Nombres Argentina\") \\\n",
    "    .getOrCreate()"
   ]
  },
  {
   "cell_type": "code",
   "execution_count": null,
   "id": "12aa8374",
   "metadata": {},
   "outputs": [],
   "source": [
    "spark"
   ]
  },
  {
   "cell_type": "code",
   "execution_count": 1,
   "id": "fa64995d",
   "metadata": {},
   "outputs": [],
   "source": [
    " ficheiro= \"input_nombresarg/historico-nombres.csv\""
   ]
  },
  {
   "cell_type": "code",
   "execution_count": 2,
   "id": "67cf4caa",
   "metadata": {},
   "outputs": [
    {
     "data": {
      "text/plain": [
       "str"
      ]
     },
     "execution_count": 2,
     "metadata": {},
     "output_type": "execute_result"
    }
   ],
   "source": [
    "type(ficheiro)"
   ]
  },
  {
   "cell_type": "code",
   "execution_count": 13,
   "id": "79520342",
   "metadata": {},
   "outputs": [],
   "source": [
    "df_nomarg = spark.read.csv(ficheiro, sep=',',header=True)"
   ]
  },
  {
   "cell_type": "code",
   "execution_count": 14,
   "id": "4f74d155",
   "metadata": {},
   "outputs": [
    {
     "name": "stdout",
     "output_type": "stream",
     "text": [
      "+------------+--------+----+\n",
      "|      nombre|cantidad|anio|\n",
      "+------------+--------+----+\n",
      "|       Maria|     314|1922|\n",
      "|        Rosa|     203|1922|\n",
      "|        Jose|     163|1922|\n",
      "| Maria Luisa|     127|1922|\n",
      "|      Carmen|     117|1922|\n",
      "|         Ana|     113|1922|\n",
      "| Maria Elena|     112|1922|\n",
      "|       Juana|     111|1922|\n",
      "|Maria Esther|     109|1922|\n",
      "|     Antonio|     103|1922|\n",
      "|       Elena|     102|1922|\n",
      "|      Teresa|      97|1922|\n",
      "|      Angela|      93|1922|\n",
      "|   Margarita|      88|1922|\n",
      "|    Catalina|      87|1922|\n",
      "|   Francisco|      87|1922|\n",
      "|        Juan|      87|1922|\n",
      "|   Francisca|      84|1922|\n",
      "|      Elvira|      81|1922|\n",
      "|      Josefa|      79|1922|\n",
      "+------------+--------+----+\n",
      "only showing top 20 rows\n",
      "\n"
     ]
    }
   ],
   "source": [
    "df_nomarg.show()"
   ]
  },
  {
   "cell_type": "code",
   "execution_count": 15,
   "id": "cc3b5120",
   "metadata": {},
   "outputs": [
    {
     "name": "stderr",
     "output_type": "stream",
     "text": [
      "                                                                                \r"
     ]
    },
    {
     "data": {
      "text/plain": [
       "9761609"
      ]
     },
     "execution_count": 15,
     "metadata": {},
     "output_type": "execute_result"
    }
   ],
   "source": [
    "#Número de registros del fichero\n",
    "df_nomarg.count()"
   ]
  },
  {
   "cell_type": "code",
   "execution_count": 24,
   "id": "7c73ff7d",
   "metadata": {},
   "outputs": [
    {
     "name": "stderr",
     "output_type": "stream",
     "text": [
      "\r",
      "[Stage 20:>                                                         (0 + 1) / 1]\r"
     ]
    },
    {
     "name": "stdout",
     "output_type": "stream",
     "text": [
      "+----------------+--------+----+\n",
      "|          nombre|cantidad|anio|\n",
      "+----------------+--------+----+\n",
      "|     Juan Carlos|    5415|1965|\n",
      "|    Miguel Angel|    5060|1965|\n",
      "|       Jose Luis|    4206|1965|\n",
      "|   Norma Beatriz|    4009|1965|\n",
      "|  Carlos Alberto|    3674|1965|\n",
      "|       Ana Maria|    2773|1965|\n",
      "| Maria Alejandra|    2653|1965|\n",
      "|    Luis Alberto|    2617|1965|\n",
      "|  Maria Cristina|    2285|1965|\n",
      "|Maria del Carmen|    2204|1965|\n",
      "+----------------+--------+----+\n",
      "only showing top 10 rows\n",
      "\n"
     ]
    },
    {
     "name": "stderr",
     "output_type": "stream",
     "text": [
      "\r",
      "                                                                                \r"
     ]
    }
   ],
   "source": [
    "#Los diez nombres más utilizados en el año 1965\n",
    "df_nomarg.filter(df_nomarg['anio']==1965).show(10)\n",
    "\n"
   ]
  },
  {
   "cell_type": "code",
   "execution_count": 25,
   "id": "497c5319",
   "metadata": {},
   "outputs": [
    {
     "name": "stdout",
     "output_type": "stream",
     "text": [
      "+------------+--------+----+\n",
      "|      nombre|cantidad|anio|\n",
      "+------------+--------+----+\n",
      "|       Maria|     314|1922|\n",
      "|        Rosa|     203|1922|\n",
      "|        Jose|     163|1922|\n",
      "| Maria Luisa|     127|1922|\n",
      "|      Carmen|     117|1922|\n",
      "|         Ana|     113|1922|\n",
      "| Maria Elena|     112|1922|\n",
      "|       Juana|     111|1922|\n",
      "|Maria Esther|     109|1922|\n",
      "|     Antonio|     103|1922|\n",
      "|       Elena|     102|1922|\n",
      "|      Teresa|      97|1922|\n",
      "|      Angela|      93|1922|\n",
      "|   Margarita|      88|1922|\n",
      "|    Catalina|      87|1922|\n",
      "|   Francisco|      87|1922|\n",
      "|        Juan|      87|1922|\n",
      "|   Francisca|      84|1922|\n",
      "|      Elvira|      81|1922|\n",
      "|      Josefa|      79|1922|\n",
      "+------------+--------+----+\n",
      "only showing top 20 rows\n",
      "\n"
     ]
    }
   ],
   "source": [
    "df_nomarg.filter(df_nomarg['anio']==1922).show()"
   ]
  },
  {
   "cell_type": "code",
   "execution_count": 23,
   "id": "35f14d22",
   "metadata": {},
   "outputs": [
    {
     "name": "stderr",
     "output_type": "stream",
     "text": [
      "\r",
      "[Stage 19:>                                                         (0 + 1) / 1]\r"
     ]
    },
    {
     "name": "stdout",
     "output_type": "stream",
     "text": [
      "+------+--------+----+\n",
      "|nombre|cantidad|anio|\n",
      "+------+--------+----+\n",
      "| Maria|     314|1922|\n",
      "| Maria|     351|1923|\n",
      "| Maria|     416|1924|\n",
      "| Maria|     496|1925|\n",
      "| Maria|     575|1926|\n",
      "| Maria|     623|1927|\n",
      "| Maria|     764|1928|\n",
      "| Maria|     753|1929|\n",
      "| Maria|     858|1930|\n",
      "| Maria|     831|1931|\n",
      "| Maria|     836|1932|\n",
      "| Maria|     842|1933|\n",
      "| Maria|     900|1934|\n",
      "| Maria|     841|1935|\n",
      "| Maria|     899|1937|\n",
      "| Maria|     919|1938|\n",
      "| Maria|     979|1939|\n",
      "| Maria|     968|1940|\n",
      "| Maria|     991|1941|\n",
      "| Maria|    1019|1942|\n",
      "+------+--------+----+\n",
      "only showing top 20 rows\n",
      "\n"
     ]
    },
    {
     "name": "stderr",
     "output_type": "stream",
     "text": [
      "\r",
      "                                                                                \r"
     ]
    }
   ],
   "source": [
    "#Número de nombres que lleva “María”.\n",
    "#df = df.withColumn('output', F.expr(\"regexp_extract_all(stringValue, '[a-z]*([0-9]+)', 1)\"))\n",
    "\n",
    "\n",
    "df_nomarg.filter(df_nomarg['nombre']=='Maria').show()\n"
   ]
  },
  {
   "cell_type": "code",
   "execution_count": null,
   "id": "91f7faa8",
   "metadata": {},
   "outputs": [],
   "source": [
    "#Número de nombres compuestos por tres nombres"
   ]
  },
  {
   "cell_type": "code",
   "execution_count": null,
   "id": "eea1ba30",
   "metadata": {},
   "outputs": [],
   "source": [
    "#Año con más nombres compuestos."
   ]
  },
  {
   "cell_type": "code",
   "execution_count": 19,
   "id": "776623fd",
   "metadata": {},
   "outputs": [],
   "source": [
    "#Uso de “Gabriela” por cada año"
   ]
  },
  {
   "cell_type": "code",
   "execution_count": null,
   "id": "5e0e1cf0",
   "metadata": {},
   "outputs": [],
   "source": [
    "#Para el año 1980 porcentaje de cada nombre de ese año."
   ]
  },
  {
   "cell_type": "code",
   "execution_count": null,
   "id": "4804f45c",
   "metadata": {},
   "outputs": [],
   "source": []
  },
  {
   "cell_type": "code",
   "execution_count": null,
   "id": "ecf36c30",
   "metadata": {},
   "outputs": [],
   "source": []
  }
 ],
 "metadata": {
  "kernelspec": {
   "display_name": "Python 3 (ipykernel)",
   "language": "python",
   "name": "python3"
  },
  "language_info": {
   "codemirror_mode": {
    "name": "ipython",
    "version": 3
   },
   "file_extension": ".py",
   "mimetype": "text/x-python",
   "name": "python",
   "nbconvert_exporter": "python",
   "pygments_lexer": "ipython3",
   "version": "3.8.10"
  }
 },
 "nbformat": 4,
 "nbformat_minor": 5
}
