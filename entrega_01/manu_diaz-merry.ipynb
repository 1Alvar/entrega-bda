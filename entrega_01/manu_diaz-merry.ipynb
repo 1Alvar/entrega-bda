{
 "cells": [
  {
   "cell_type": "code",
   "execution_count": 2,
   "metadata": {},
   "outputs": [
    {
     "data": {
      "text/html": [
       "\n",
       "        <div>\n",
       "            <p><b>SparkContext</b></p>\n",
       "\n",
       "            <p><a href=\"http://hadoop-master:4040\">Spark UI</a></p>\n",
       "\n",
       "            <dl>\n",
       "              <dt>Version</dt>\n",
       "                <dd><code>v3.2.1</code></dd>\n",
       "              <dt>Master</dt>\n",
       "                <dd><code>local[*]</code></dd>\n",
       "              <dt>AppName</dt>\n",
       "                <dd><code>PySparkShell</code></dd>\n",
       "            </dl>\n",
       "        </div>\n",
       "        "
      ],
      "text/plain": [
       "<SparkContext master=local[*] appName=PySparkShell>"
      ]
     },
     "execution_count": 2,
     "metadata": {},
     "output_type": "execute_result"
    }
   ],
   "source": [
    "sc"
   ]
  },
  {
   "cell_type": "code",
   "execution_count": null,
   "metadata": {},
   "outputs": [],
   "source": [
    "# nombre = sc.textFile(ficheiro_ruta)   #así lo carga como rdd\n",
    "\n",
    "# nombre = spark.read.text(ficheiro_ruta) #así lo carga como dataframe\n",
    "\n",
    "# nombre = spark.read.json(ficheiro_ruta) #así lo carga como dataframe"
   ]
  },
  {
   "cell_type": "code",
   "execution_count": 1,
   "metadata": {},
   "outputs": [],
   "source": [
    "bikes = spark.read.csv('bikes_database.csv', header=True, sep=',')"
   ]
  },
  {
   "cell_type": "code",
   "execution_count": 3,
   "metadata": {},
   "outputs": [
    {
     "data": {
      "text/plain": [
       "12157458"
      ]
     },
     "execution_count": 3,
     "metadata": {},
     "output_type": "execute_result"
    }
   ],
   "source": [
    "bikes.count()"
   ]
  },
  {
   "cell_type": "code",
   "execution_count": 4,
   "metadata": {},
   "outputs": [
    {
     "data": {
      "text/plain": [
       "pyspark.sql.dataframe.DataFrame"
      ]
     },
     "execution_count": 4,
     "metadata": {},
     "output_type": "execute_result"
    }
   ],
   "source": [
    "type(bikes)"
   ]
  },
  {
   "cell_type": "code",
   "execution_count": 11,
   "metadata": {},
   "outputs": [
    {
     "data": {
      "text/plain": [
       "Row(departure='2020-03-23 06:09:44', return='2020-03-23 06:16:26', departure_id='86', departure_name='Kuusitie', return_id='111.0', return_name='Esterinportti', distance (m)='1747.0', duration (sec.)='401.0', avg_speed (km/h)='0.2613965087281795', departure_latitude='60.1952452', departure_longitude='24.9018997', return_latitude='60.1975724', return_longitude='24.9267808', Air temperature (degC)='0.9')"
      ]
     },
     "execution_count": 11,
     "metadata": {},
     "output_type": "execute_result"
    }
   ],
   "source": [
    "#bikes.show()\n",
    "#bikes.first()\n",
    "bikes.head()"
   ]
  },
  {
   "cell_type": "code",
   "execution_count": 12,
   "metadata": {},
   "outputs": [
    {
     "data": {
      "text/plain": [
       "Row(departure='2020-03-23 06:09:44', return='2020-03-23 06:16:26', departure_id='86', departure_name='Kuusitie', return_id='111.0', return_name='Esterinportti', distance (m)='1747.0', duration (sec.)='401.0', avg_speed (km/h)='0.2613965087281795', departure_latitude='60.1952452', departure_longitude='24.9018997', return_latitude='60.1975724', return_longitude='24.9267808', Air temperature (degC)='0.9')"
      ]
     },
     "execution_count": 12,
     "metadata": {},
     "output_type": "execute_result"
    }
   ],
   "source": [
    "bikes.first()"
   ]
  },
  {
   "cell_type": "code",
   "execution_count": 8,
   "metadata": {},
   "outputs": [
    {
     "name": "stdout",
     "output_type": "stream",
     "text": [
      "root\n",
      " |-- departure: string (nullable = true)\n",
      " |-- return: string (nullable = true)\n",
      " |-- departure_id: string (nullable = true)\n",
      " |-- departure_name: string (nullable = true)\n",
      " |-- return_id: string (nullable = true)\n",
      " |-- return_name: string (nullable = true)\n",
      " |-- distance (m): string (nullable = true)\n",
      " |-- duration (sec.): string (nullable = true)\n",
      " |-- avg_speed (km/h): string (nullable = true)\n",
      " |-- departure_latitude: string (nullable = true)\n",
      " |-- departure_longitude: string (nullable = true)\n",
      " |-- return_latitude: string (nullable = true)\n",
      " |-- return_longitude: string (nullable = true)\n",
      " |-- Air temperature (degC): string (nullable = true)\n",
      "\n"
     ]
    }
   ],
   "source": [
    "bikes.printSchema()\n"
   ]
  },
  {
   "cell_type": "code",
   "execution_count": null,
   "metadata": {},
   "outputs": [],
   "source": [
    "\"\"\"\"\n",
    "bikes.select('col1','col2').show()\n",
    "bikes.select(bikes['col']).show()\n",
    "bikes.select(bikes['col']+1).show()\n",
    "bikes.filter(bikes['col'] > 25).show()\n",
    "bikes.groupBy('col').count().show()\n",
    "\"\"\"\""
   ]
  },
  {
   "cell_type": "code",
   "execution_count": 27,
   "metadata": {},
   "outputs": [
    {
     "name": "stdout",
     "output_type": "stream",
     "text": [
      "+--------------------+------+\n",
      "|      departure_name| count|\n",
      "+--------------------+------+\n",
      "|        Itämerentori|330397|\n",
      "|    Töölönlahdenkatu|242555|\n",
      "|          Kamppi (M)|201560|\n",
      "|Rautatientori / l...|175358|\n",
      "|          Ympyrätalo|172776|\n",
      "+--------------------+------+\n",
      "only showing top 5 rows\n",
      "\n"
     ]
    }
   ],
   "source": [
    "bikes.groupBy('departure_name').count().sort('count', ascending=False).show(5)"
   ]
  },
  {
   "cell_type": "code",
   "execution_count": 19,
   "metadata": {},
   "outputs": [
    {
     "data": {
      "text/plain": [
       "5507"
      ]
     },
     "execution_count": 19,
     "metadata": {},
     "output_type": "execute_result"
    }
   ],
   "source": [
    "bikes.filter(bikes['Air temperature (degC)'] > 30).count()"
   ]
  },
  {
   "cell_type": "code",
   "execution_count": 21,
   "metadata": {},
   "outputs": [
    {
     "data": {
      "text/plain": [
       "14846"
      ]
     },
     "execution_count": 21,
     "metadata": {},
     "output_type": "execute_result"
    }
   ],
   "source": [
    "bikes.filter(bikes['Air temperature (degC)'] < 0).count()"
   ]
  },
  {
   "cell_type": "code",
   "execution_count": 23,
   "metadata": {},
   "outputs": [
    {
     "data": {
      "text/plain": [
       "125"
      ]
     },
     "execution_count": 23,
     "metadata": {},
     "output_type": "execute_result"
    }
   ],
   "source": [
    "bikes.filter(bikes['Air temperature (degC)'] < -3).count()"
   ]
  },
  {
   "cell_type": "code",
   "execution_count": null,
   "metadata": {},
   "outputs": [],
   "source": []
  }
 ],
 "metadata": {
  "kernelspec": {
   "display_name": "Python 3",
   "language": "python",
   "name": "python3"
  },
  "language_info": {
   "codemirror_mode": {
    "name": "ipython",
    "version": 3
   },
   "file_extension": ".py",
   "mimetype": "text/x-python",
   "name": "python",
   "nbconvert_exporter": "python",
   "pygments_lexer": "ipython3",
   "version": "3.8.10"
  }
 },
 "nbformat": 4,
 "nbformat_minor": 4
}
