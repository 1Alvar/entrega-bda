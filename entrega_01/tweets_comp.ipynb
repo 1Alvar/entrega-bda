{
 "cells": [
  {
   "cell_type": "code",
   "execution_count": 19,
   "id": "2938b084",
   "metadata": {},
   "outputs": [],
   "source": [
    "company = spark.read.csv('input/pig/company2.tsv', sep = '\\t')"
   ]
  },
  {
   "cell_type": "code",
   "execution_count": 20,
   "id": "9127f207",
   "metadata": {},
   "outputs": [
    {
     "name": "stdout",
     "output_type": "stream",
     "text": [
      "+-----+----------+\n",
      "|  _c0|       _c1|\n",
      "+-----+----------+\n",
      "| AAPL|     apple|\n",
      "| GOOG|Google Inc|\n",
      "|GOOGL|Google Inc|\n",
      "| AMZN|Amazon.com|\n",
      "| TSLA| Tesla Inc|\n",
      "| MSFT| Microsoft|\n",
      "+-----+----------+\n",
      "\n"
     ]
    }
   ],
   "source": [
    "company.show()"
   ]
  },
  {
   "cell_type": "code",
   "execution_count": 21,
   "id": "68b41d12",
   "metadata": {},
   "outputs": [],
   "source": [
    "company_tweets = spark.read.csv('input/pig/Company_Tweet2.tsv', sep = '\\t')"
   ]
  },
  {
   "cell_type": "code",
   "execution_count": 22,
   "id": "97c9581f",
   "metadata": {},
   "outputs": [
    {
     "name": "stdout",
     "output_type": "stream",
     "text": [
      "+------------------+----+\n",
      "|               _c0| _c1|\n",
      "+------------------+----+\n",
      "|550803612197457920|AAPL|\n",
      "|550803610825928706|AAPL|\n",
      "|550803225113157632|AAPL|\n",
      "|550802957370159104|AAPL|\n",
      "|550802855129382912|AAPL|\n",
      "|550802745737768960|AAPL|\n",
      "|550797494188142592|AAPL|\n",
      "|550797275786518528|AAPL|\n",
      "|550797272686923776|AAPL|\n",
      "|550796617444765696|AAPL|\n",
      "|550795512899960832|AAPL|\n",
      "|550795254102638593|AAPL|\n",
      "|550795167318700033|AAPL|\n",
      "|550795088821886976|AAPL|\n",
      "|550793298357391360|AAPL|\n",
      "|550793247669231616|AAPL|\n",
      "|550793108242198528|AAPL|\n",
      "|550791919815892992|AAPL|\n",
      "|550791232738590720|AAPL|\n",
      "|550790423888035840|AAPL|\n",
      "+------------------+----+\n",
      "only showing top 20 rows\n",
      "\n"
     ]
    }
   ],
   "source": [
    "company_tweets.show()"
   ]
  },
  {
   "cell_type": "code",
   "execution_count": 70,
   "id": "4dddf58a",
   "metadata": {},
   "outputs": [],
   "source": [
    "tweets = spark.read.csv('input/pig/Tweet2.tsv', sep = '\\t')"
   ]
  },
  {
   "cell_type": "code",
   "execution_count": 24,
   "id": "604b8171",
   "metadata": {},
   "outputs": [
    {
     "name": "stdout",
     "output_type": "stream",
     "text": [
      "+------------------+---------------+----------+--------------------+---+---+---+\n",
      "|               _c0|            _c1|       _c2|                 _c3|_c4|_c5|_c6|\n",
      "+------------------+---------------+----------+--------------------+---+---+---+\n",
      "|550441509175443456|VisualStockRSRC|1420070457|lx21 made $10,008...|  0|0.1|  1|\n",
      "|550441672312512512|    KeralaGuy77|1420070496|Insanity of today...|  0|  0|  0|\n",
      "|550441732014223360|    DozenStocks|1420070510|S&P100 #Stocks Pe...|  0|  0|  0|\n",
      "|550442977802207232|   ShowDreamCar|1420070807|$GM $TSLA: Volksw...|  0|  0|  1|\n",
      "|550443807834402816|   i_Know_First|1420071005|Swing Trading: Up...|  0|  0|  1|\n",
      "|550443808606126081|  aaplstocknews|1420071005|Swing Trading: Up...|  0|  0|  1|\n",
      "|550443809700851716|     iknowfirst|1420071005|Swing Trading: Up...|  0|  0|  1|\n",
      "|550443857142611968|    Cprediction|1420071016|Swing Trading: Up...|  0|  0|  1|\n",
      "|550443857595600896|  iknowfirst_br|1420071017|Swing Trading: Up...|  0|  0|  1|\n",
      "|550443857692078081|Gold_prediction|1420071017|Swing Trading: Up...|  0|  0|  1|\n",
      "|550443858010861568|    IKFResearch|1420071017|Swing Trading: Up...|  0|  0|  1|\n",
      "|550444112328261632|         GetAOM|1420071077|$UNP $ORCL $QCOM ...|  0|  0|  0|\n",
      "|550444969924653056|  AppleNewsAAPL|1420071282|$AAPL Apple goes ...|  0|  0|  1|\n",
      "|550444970738335744|   espositooooo|1420071282|“@WSJ: Apple is b...|  0|  0|  0|\n",
      "|550445066444369921|     Bidnessetc|1420071305|Apple filed for i...|  0|  0|  0|\n",
      "|550445850170642432| JorelLaraKalel|1420071492|@CNBC 15 Top #tra...|  0|  0|  2|\n",
      "|550447574285418497|      btcgemini|1420071903|We searched throu...|  0|  0|  0|\n",
      "|550447850857828352| JorelLaraKalel|1420071969|Top 10 searched #...|  0|  0|  2|\n",
      "|550447998577426433|   UPBOptionMil|1420072004|2014 The Year in ...|  0|  2|  2|\n",
      "|550448085789200384|    MacHashNews|1420072025|Give your brain a...|  0|  0|  0|\n",
      "+------------------+---------------+----------+--------------------+---+---+---+\n",
      "only showing top 20 rows\n",
      "\n"
     ]
    }
   ],
   "source": [
    "tweets.show()"
   ]
  },
  {
   "cell_type": "code",
   "execution_count": 73,
   "id": "f65ff20f",
   "metadata": {},
   "outputs": [],
   "source": [
    "tweets = tweets.select(tweets['_c0'], tweets['_c1'], tweets['_c2'], tweets['_c3'], tweets['_c4'].cast('int'), tweets['_c5'].cast('int'), tweets['_c6'].cast('int'))"
   ]
  },
  {
   "cell_type": "code",
   "execution_count": 74,
   "id": "dd96736a",
   "metadata": {},
   "outputs": [
    {
     "data": {
      "text/plain": [
       "DataFrame[_c0: string, _c1: string, _c2: string, _c3: string, _c4: int, _c5: int, _c6: int]"
      ]
     },
     "execution_count": 74,
     "metadata": {},
     "output_type": "execute_result"
    }
   ],
   "source": [
    "tweets"
   ]
  },
  {
   "cell_type": "code",
   "execution_count": 75,
   "id": "16c64a68",
   "metadata": {},
   "outputs": [
    {
     "name": "stderr",
     "output_type": "stream",
     "text": [
      "                                                                                \r"
     ]
    },
    {
     "data": {
      "text/plain": [
       "3717964"
      ]
     },
     "execution_count": 75,
     "metadata": {},
     "output_type": "execute_result"
    }
   ],
   "source": [
    "#PREGUNTA 1\n",
    "\n",
    "tweets.count()"
   ]
  },
  {
   "cell_type": "code",
   "execution_count": 76,
   "id": "59daa95f",
   "metadata": {},
   "outputs": [
    {
     "name": "stderr",
     "output_type": "stream",
     "text": [
      "[Stage 53:==================================>                       (3 + 2) / 5]\r"
     ]
    },
    {
     "name": "stdout",
     "output_type": "stream",
     "text": [
      "+--------------------+---+\n",
      "|                 _c3|_c6|\n",
      "+--------------------+---+\n",
      "|Nice of @elonmusk...|999|\n",
      "|Popular Science 1...|995|\n",
      "|Then why is your ...|987|\n",
      "|Tesla Model S Is ...|987|\n",
      "|\"Tesla Spokespers...|986|\n",
      "|Breaking UpdateFi...|975|\n",
      "|My wife, who know...|972|\n",
      "|Tesla debt receiv...|972|\n",
      "|Tesla shorts burn...|967|\n",
      "|Tesla ( China ) Q...|965|\n",
      "+--------------------+---+\n",
      "only showing top 10 rows\n",
      "\n"
     ]
    },
    {
     "name": "stderr",
     "output_type": "stream",
     "text": [
      "\r",
      "[Stage 53:==============================================>           (4 + 1) / 5]\r",
      "\r",
      "                                                                                \r"
     ]
    }
   ],
   "source": [
    "#PREGUNTA 2\n",
    "\n",
    "tweets[['_c3', '_c6']].orderBy(tweets._c6.desc()).show(10)"
   ]
  },
  {
   "cell_type": "code",
   "execution_count": 85,
   "id": "d4eaa538",
   "metadata": {},
   "outputs": [
    {
     "name": "stderr",
     "output_type": "stream",
     "text": [
      "[Stage 63:==================================>                       (3 + 2) / 5]\r"
     ]
    },
    {
     "name": "stdout",
     "output_type": "stream",
     "text": [
      "+--------+--------+--------+\n",
      "|sum(_c4)|sum(_c5)|sum(_c6)|\n",
      "+--------+--------+--------+\n",
      "| 1161359| 2310643| 8253814|\n",
      "+--------+--------+--------+\n",
      "\n"
     ]
    },
    {
     "name": "stderr",
     "output_type": "stream",
     "text": [
      "\r",
      "                                                                                \r"
     ]
    }
   ],
   "source": [
    "#PREGUNTA 3\n",
    "\n",
    "tweets.groupBy().sum('_c4','_c5','_c6').show()"
   ]
  },
  {
   "cell_type": "code",
   "execution_count": 44,
   "id": "ecb22444",
   "metadata": {},
   "outputs": [
    {
     "name": "stderr",
     "output_type": "stream",
     "text": [
      "[Stage 33:===========================================>              (3 + 1) / 4]\r"
     ]
    },
    {
     "name": "stdout",
     "output_type": "stream",
     "text": [
      "+---------------+\n",
      "|            _c1|\n",
      "+---------------+\n",
      "|     ValaAfshar|\n",
      "|      RANsquawk|\n",
      "|   Carl_C_Icahn|\n",
      "|   Carl_C_Icahn|\n",
      "|     ValaAfshar|\n",
      "|     ValaAfshar|\n",
      "|  WhatTheFFacts|\n",
      "|    AshleyPurdy|\n",
      "|  WhatTheFFacts|\n",
      "|          twt05|\n",
      "|Follow2TheMoney|\n",
      "|        cnntech|\n",
      "|Follow2TheMoney|\n",
      "|   SJosephBurns|\n",
      "|BreakoutTickers|\n",
      "|   DavidSchawel|\n",
      "|   The_Real_Fly|\n",
      "|      KimDotcom|\n",
      "|      KimDotcom|\n",
      "|    johnfcarter|\n",
      "+---------------+\n",
      "only showing top 20 rows\n",
      "\n"
     ]
    },
    {
     "name": "stderr",
     "output_type": "stream",
     "text": [
      "\r",
      "                                                                                \r"
     ]
    }
   ],
   "source": [
    "#PREGUNTA 4\n",
    "\n",
    "tweets.where(tweets['_c6'] > 400).select('_c1').show()"
   ]
  },
  {
   "cell_type": "code",
   "execution_count": 62,
   "id": "90a00d69",
   "metadata": {},
   "outputs": [],
   "source": [
    "#JOINS PARA PODER REALIZAR AS SEGUINTES PREGUNTAS\n",
    "\n",
    "t_ct = company_tweets.join(company, company_tweets['_c1'] == company['_C0']).select(company_tweets['_c0'], company['_c1'])\n",
    "\n",
    "t_comp = tweets.join(t_ct, tweets['_c0'] == t_ct['_c0']).select(tweets['_c0'], tweets['_c1'], tweets['_c2'], tweets['_c3'], tweets['_c4'], tweets['_c5'], tweets['_c6'], t_ct['_c1'])\n",
    "\n",
    "t_comp = t_comp.toDF('id','autor','data','contido','cmt', 'rt', 'like', 'emp')"
   ]
  },
  {
   "cell_type": "code",
   "execution_count": 87,
   "id": "4be49e21",
   "metadata": {},
   "outputs": [
    {
     "name": "stderr",
     "output_type": "stream",
     "text": [
      "2022-02-15 18:34:16,190 WARN expressions.RowBasedKeyValueBatch: Calling spill() on RowBasedKeyValueBatch. Will not spill but return 0.\n",
      "2022-02-15 18:34:16,270 WARN expressions.RowBasedKeyValueBatch: Calling spill() on RowBasedKeyValueBatch. Will not spill but return 0.\n",
      "2022-02-15 18:34:16,958 WARN expressions.RowBasedKeyValueBatch: Calling spill() on RowBasedKeyValueBatch. Will not spill but return 0.\n",
      "2022-02-15 18:34:17,007 WARN expressions.RowBasedKeyValueBatch: Calling spill() on RowBasedKeyValueBatch. Will not spill but return 0.\n",
      "[Stage 71:===================>                                      (1 + 2) / 3]\r"
     ]
    },
    {
     "name": "stdout",
     "output_type": "stream",
     "text": [
      "+----------+-------+\n",
      "|       emp|  count|\n",
      "+----------+-------+\n",
      "|     apple|1425013|\n",
      "|Amazon.com| 718715|\n",
      "| Microsoft| 375711|\n",
      "| Tesla Inc|1096868|\n",
      "|Google Inc| 720138|\n",
      "+----------+-------+\n",
      "\n"
     ]
    },
    {
     "name": "stderr",
     "output_type": "stream",
     "text": [
      "\r",
      "[Stage 71:======================================>                   (2 + 1) / 3]\r",
      "\r",
      "                                                                                \r"
     ]
    }
   ],
   "source": [
    "#PREGUNTA 5\n",
    "\n",
    "t_comp.groupBy('emp').count().show()"
   ]
  },
  {
   "cell_type": "code",
   "execution_count": null,
   "id": "51b6a743",
   "metadata": {},
   "outputs": [],
   "source": [
    "#PREGUNTA 6"
   ]
  },
  {
   "cell_type": "code",
   "execution_count": null,
   "id": "739f5c38",
   "metadata": {},
   "outputs": [],
   "source": [
    "#PREGUNTA 7"
   ]
  },
  {
   "cell_type": "code",
   "execution_count": null,
   "id": "45899033",
   "metadata": {},
   "outputs": [],
   "source": [
    "#PREGUNTA 8"
   ]
  },
  {
   "cell_type": "code",
   "execution_count": null,
   "id": "00fe060b",
   "metadata": {},
   "outputs": [],
   "source": [
    "#PREGUNTA 9"
   ]
  },
  {
   "cell_type": "code",
   "execution_count": null,
   "id": "256f56ca",
   "metadata": {},
   "outputs": [],
   "source": [
    "#PREGUNTA 10"
   ]
  }
 ],
 "metadata": {
  "kernelspec": {
   "display_name": "Python 3 (ipykernel)",
   "language": "python",
   "name": "python3"
  },
  "language_info": {
   "codemirror_mode": {
    "name": "ipython",
    "version": 3
   },
   "file_extension": ".py",
   "mimetype": "text/x-python",
   "name": "python",
   "nbconvert_exporter": "python",
   "pygments_lexer": "ipython3",
   "version": "3.8.10"
  }
 },
 "nbformat": 4,
 "nbformat_minor": 5
}
