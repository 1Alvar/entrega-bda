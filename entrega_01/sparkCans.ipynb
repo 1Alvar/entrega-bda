{
 "cells": [
  {
   "cell_type": "code",
   "execution_count": null,
   "id": "a2c94ac6",
   "metadata": {},
   "outputs": [],
   "source": [
    "#EXERCICIO PIG CON SPARK HÉCTOR VILAR"
   ]
  },
  {
   "cell_type": "code",
   "execution_count": 2,
   "id": "01ac123a",
   "metadata": {},
   "outputs": [
    {
     "name": "stderr",
     "output_type": "stream",
     "text": [
      "                                                                                \r"
     ]
    },
    {
     "data": {
      "text/plain": [
       "DataFrame[_c0: string, _c1: string, _c2: string, _c3: string, _c4: string, _c5: string]"
      ]
     },
     "execution_count": 2,
     "metadata": {},
     "output_type": "execute_result"
    }
   ],
   "source": [
    "dogInfo= spark.read.csv(\"DogInfo.csv\")\n",
    "dogInfo"
   ]
  },
  {
   "cell_type": "code",
   "execution_count": 3,
   "id": "abb815fe",
   "metadata": {},
   "outputs": [
    {
     "data": {
      "text/plain": [
       "DataFrame[_c0: string, _c1: string, _c2: string, _c3: string, _c4: string, _c5: string, _c6: string, _c7: string, _c8: string, _c9: string, _c10: string, _c11: string, _c12: string, _c13: string, _c14: string, _c15: string, _c16: string, _c17: string, _c18: string, _c19: string]"
      ]
     },
     "execution_count": 3,
     "metadata": {},
     "output_type": "execute_result"
    }
   ],
   "source": [
    "dogMove= spark.read.csv(\"DogMoveData.csv\")\n",
    "dogMove"
   ]
  },
  {
   "cell_type": "code",
   "execution_count": 4,
   "id": "c8ab5d95",
   "metadata": {},
   "outputs": [
    {
     "data": {
      "text/plain": [
       "pyspark.sql.dataframe.DataFrame"
      ]
     },
     "execution_count": 4,
     "metadata": {},
     "output_type": "execute_result"
    }
   ],
   "source": [
    "type(dogInfo)"
   ]
  },
  {
   "cell_type": "code",
   "execution_count": 5,
   "id": "f99bf36a",
   "metadata": {},
   "outputs": [
    {
     "name": "stdout",
     "output_type": "stream",
     "text": [
      "+---+--------------------+---+---+---+---+\n",
      "|_c0|                 _c1|_c2|_c3|_c4|_c5|\n",
      "+---+--------------------+---+---+---+---+\n",
      "| 16|          Crossbreed| 13| 20|  1|  0|\n",
      "| 18|    Belgian Shepherd| 29| 76|  2|  0|\n",
      "| 19|     German Shepherd| 30| 57|  1|  0|\n",
      "| 20|       Border Collie| 15| 47|  1|  0|\n",
      "| 21|    Golden Retriever| 39| 19|  2|  0|\n",
      "| 22|           Beauceron| 35| 20|  2|  0|\n",
      "| 23|  Labrador Retriever| 23|113|  1|  1|\n",
      "| 25|    Finnish Lapphund| 26| 88|  2|  1|\n",
      "| 26|   Spanish Water Dog| 20| 47|  2|  0|\n",
      "| 27|                Mudi| 16| 99|  2|  1|\n",
      "| 28|            Hovawart| 28|109|  1|  1|\n",
      "| 29|          Crossbreed| 13| 32|  2|  0|\n",
      "| 30|Bull Terrier (Min...| 17| 31|  1|  1|\n",
      "| 33|Bouvier des Ardennes| 23| 24|  2|  0|\n",
      "| 34|       Smooth Collie| 18| 98|  1|  0|\n",
      "| 36|          Crossbreed| 20| 95|  2|  0|\n",
      "| 39|       Border Collie| 15| 60|  1|  0|\n",
      "| 41|Belgian Shepherd ...| 25| 22|  2|  0|\n",
      "| 43|   Lagotto Romagnolo| 14|116|  2|  0|\n",
      "| 44|          Crossbreed| 19| 67|  1|  1|\n",
      "+---+--------------------+---+---+---+---+\n",
      "only showing top 20 rows\n",
      "\n"
     ]
    }
   ],
   "source": [
    "dogInfo.show()"
   ]
  },
  {
   "cell_type": "code",
   "execution_count": 6,
   "id": "dcac6212",
   "metadata": {},
   "outputs": [
    {
     "name": "stdout",
     "output_type": "stream",
     "text": [
      "root\n",
      " |-- _c0: string (nullable = true)\n",
      " |-- _c1: string (nullable = true)\n",
      " |-- _c2: string (nullable = true)\n",
      " |-- _c3: string (nullable = true)\n",
      " |-- _c4: string (nullable = true)\n",
      " |-- _c5: string (nullable = true)\n",
      "\n"
     ]
    }
   ],
   "source": [
    "dogInfo.printSchema()"
   ]
  },
  {
   "cell_type": "code",
   "execution_count": 7,
   "id": "e3463355",
   "metadata": {},
   "outputs": [],
   "source": [
    "#FEITO CON SQL"
   ]
  },
  {
   "cell_type": "code",
   "execution_count": 8,
   "id": "b3e70170",
   "metadata": {},
   "outputs": [
    {
     "name": "stdout",
     "output_type": "stream",
     "text": [
      "+--------+\n",
      "|count(1)|\n",
      "+--------+\n",
      "|      45|\n",
      "+--------+\n",
      "\n"
     ]
    }
   ],
   "source": [
    "#Consulta 1: Sacar o número de cans\n",
    "dogInfo.createOrReplaceTempView(\"cans\")\n",
    "sqlCans = spark.sql(\"SELECT COUNT(*) FROM cans\")\n",
    "sqlCans.show()"
   ]
  },
  {
   "cell_type": "code",
   "execution_count": 9,
   "id": "efcdea48",
   "metadata": {},
   "outputs": [
    {
     "name": "stdout",
     "output_type": "stream",
     "text": [
      "+---+--------------------+---+---+---+---+\n",
      "|_c0|                 _c1|_c2|_c3|_c4|_c5|\n",
      "+---+--------------------+---+---+---+---+\n",
      "| 23|  Labrador Retriever| 23|113|  1|  1|\n",
      "| 25|    Finnish Lapphund| 26| 88|  2|  1|\n",
      "| 27|                Mudi| 16| 99|  2|  1|\n",
      "| 28|            Hovawart| 28|109|  1|  1|\n",
      "| 30|Bull Terrier (Min...| 17| 31|  1|  1|\n",
      "| 44|          Crossbreed| 19| 67|  1|  1|\n",
      "| 47|Bouvier des Ardennes| 22| 56|  1|  1|\n",
      "| 53|     German Shepherd| 35| 87|  1|  1|\n",
      "| 54|   Australian Kelpie| 18| 20|  2|  1|\n",
      "| 55|              Vizsla| 25| 61|  2|  1|\n",
      "| 57|           Beauceron| 28| 52|  1|  1|\n",
      "| 60|     Standard Poodle| 31| 76|  2|  1|\n",
      "| 63|  Labrador Retriever| 37| 30|  2|  1|\n",
      "| 65|Nova Scotia Duck ...| 20| 84|  1|  1|\n",
      "| 74|     German Shepherd| 32| 90|  1|  1|\n",
      "+---+--------------------+---+---+---+---+\n",
      "\n"
     ]
    }
   ],
   "source": [
    "#Consulta 2: Sacar os cans castrados.\n",
    "sqlCansCastrados = spark.sql(\"SELECT * FROM cans WHERE _c5 == 1\")\n",
    "sqlCansCastrados.show()"
   ]
  },
  {
   "cell_type": "code",
   "execution_count": 10,
   "id": "c33ac7cc",
   "metadata": {},
   "outputs": [
    {
     "name": "stdout",
     "output_type": "stream",
     "text": [
      "+--------+\n",
      "|max(_c3)|\n",
      "+--------+\n",
      "|      99|\n",
      "+--------+\n",
      "\n"
     ]
    }
   ],
   "source": [
    "#Consulta 3: Saca a máxima idade dos cans.\n",
    "sqlMaxIdade = spark.sql(\"SELECT MAX(_c3) FROM cans\")\n",
    "sqlMaxIdade.show()"
   ]
  },
  {
   "cell_type": "code",
   "execution_count": 11,
   "id": "4d90a3f8",
   "metadata": {},
   "outputs": [
    {
     "name": "stdout",
     "output_type": "stream",
     "text": [
      "+---+---------------+---+---+---+---+\n",
      "|_c0|            _c1|_c2|_c3|_c4|_c5|\n",
      "+---+---------------+---+---+---+---+\n",
      "| 53|German Shepherd| 35| 87|  1|  1|\n",
      "| 74|German Shepherd| 32| 90|  1|  1|\n",
      "+---+---------------+---+---+---+---+\n",
      "\n"
     ]
    }
   ],
   "source": [
    "#Consulta 4: Saca as cadelas que pesen máis de 30 kilos.\n",
    "sqlCadelas = spark.sql(\"SELECT * FROM cans WHERE _c4 == 1 AND _c2 > 30\")\n",
    "sqlCadelas.show()"
   ]
  },
  {
   "cell_type": "code",
   "execution_count": 12,
   "id": "6bf86b8c",
   "metadata": {},
   "outputs": [
    {
     "name": "stdout",
     "output_type": "stream",
     "text": [
      "+------------------+\n",
      "|          avg(_c3)|\n",
      "+------------------+\n",
      "|58.044444444444444|\n",
      "+------------------+\n",
      "\n"
     ]
    }
   ],
   "source": [
    "#Consulta 5: Saca a media da idade dos cans.\n",
    "sqlIdadeMedia = spark.sql(\"SELECT AVG(_c3) FROM cans\")\n",
    "sqlIdadeMedia.show()"
   ]
  },
  {
   "cell_type": "code",
   "execution_count": 13,
   "id": "6e74a8ed",
   "metadata": {},
   "outputs": [
    {
     "name": "stdout",
     "output_type": "stream",
     "text": [
      "+--------------------+----------+\n",
      "|                 _c1|count(_c1)|\n",
      "+--------------------+----------+\n",
      "|      Dutch Shepherd|         2|\n",
      "|  Labrador Retriever|         3|\n",
      "|English Springer ...|         1|\n",
      "|Bull Terrier (Min...|         1|\n",
      "|    Finnish Lapphund|         1|\n",
      "|     Standard Poodle|         1|\n",
      "|          Crossbreed|         4|\n",
      "|                Mudi|         1|\n",
      "|       Border Collie|         4|\n",
      "|    Belgian Shepherd|         1|\n",
      "|     German Shepherd|         3|\n",
      "|           Beauceron|         3|\n",
      "|Bouvier des Ardennes|         2|\n",
      "|             Bouvier|         1|\n",
      "|       Smooth Collie|         1|\n",
      "|              Vizsla|         1|\n",
      "|            Hovawart|         2|\n",
      "|Flat-Coated Retri...|         1|\n",
      "|   Lagotto Romagnolo|         1|\n",
      "|    Lapponian Herder|         2|\n",
      "+--------------------+----------+\n",
      "only showing top 20 rows\n",
      "\n"
     ]
    }
   ],
   "source": [
    "#Consulta 6: Saca as diferentes razas dos cans co número de cans por cada unha.\n",
    "sqlRazasCans = spark.sql(\"SELECT _c1, COUNT(_c1) FROM cans GROUP BY _c1\")\n",
    "sqlRazasCans.show()"
   ]
  },
  {
   "cell_type": "code",
   "execution_count": 14,
   "id": "a6f8b255",
   "metadata": {},
   "outputs": [
    {
     "name": "stderr",
     "output_type": "stream",
     "text": [
      "\r",
      "[Stage 18:>                                                         (0 + 2) / 2]\r"
     ]
    },
    {
     "name": "stdout",
     "output_type": "stream",
     "text": [
      "+---+----------+---+---+---+---+\n",
      "|_c0|       _c1|_c2|_c3|_c4|_c5|\n",
      "+---+----------+---+---+---+---+\n",
      "| 16|Crossbreed| 13| 20|  1|  0|\n",
      "+---+----------+---+---+---+---+\n",
      "\n"
     ]
    },
    {
     "name": "stderr",
     "output_type": "stream",
     "text": [
      "\r",
      "[Stage 18:=============================>                            (1 + 1) / 2]\r",
      "\r",
      "                                                                                \r"
     ]
    }
   ],
   "source": [
    "#Consulta 7: Saca os cans de raza Crossbreed realizaron a tarefa de xogar(task play).\n",
    "dogMove.createOrReplaceTempView(\"cansMove\")\n",
    "sqlCrossPlay = spark.sql(\"SELECT DISTINCT c.* FROM cans c INNER JOIN cansMove cm ON c._c0 == cm._c0 WHERE cm._c15 == 'Task play' AND c._c1 == 'Crossbreed'\")\n",
    "sqlCrossPlay.show()"
   ]
  },
  {
   "cell_type": "code",
   "execution_count": 15,
   "id": "ebcbd514",
   "metadata": {},
   "outputs": [],
   "source": [
    "dShow = spark.sql(\"SELECT * FROM cansMove\")\n",
    "#dShow.show()"
   ]
  },
  {
   "cell_type": "code",
   "execution_count": 16,
   "id": "f01c4adf",
   "metadata": {},
   "outputs": [
    {
     "name": "stderr",
     "output_type": "stream",
     "text": [
      "\r",
      "[Stage 22:>                                                         (0 + 2) / 2]\r"
     ]
    },
    {
     "name": "stdout",
     "output_type": "stream",
     "text": [
      "+---+----------------+---+---+---+---+\n",
      "|_c0|             _c1|_c2|_c3|_c4|_c5|\n",
      "+---+----------------+---+---+---+---+\n",
      "| 16|      Crossbreed| 13| 20|  1|  0|\n",
      "| 18|Belgian Shepherd| 29| 76|  2|  0|\n",
      "| 19| German Shepherd| 30| 57|  1|  0|\n",
      "| 20|   Border Collie| 15| 47|  1|  0|\n",
      "| 22|       Beauceron| 35| 20|  2|  0|\n",
      "| 21|Golden Retriever| 39| 19|  2|  0|\n",
      "+---+----------------+---+---+---+---+\n",
      "\n"
     ]
    },
    {
     "name": "stderr",
     "output_type": "stream",
     "text": [
      "\r",
      "[Stage 22:=============================>                            (1 + 1) / 2]\r",
      "\r",
      "                                                                                \r"
     ]
    }
   ],
   "source": [
    "#Consulta 8: Saca os cans que tiveron 3 comportamentos durante o experimento.\n",
    "sqlBehavior3 = spark.sql(\"SELECT DISTINCT c.* FROM cans c INNER JOIN cansMove cm ON c._c0 == cm._c0 WHERE cm._c18== '<undefined>'\")\n",
    "sqlBehavior3.show()"
   ]
  },
  {
   "cell_type": "code",
   "execution_count": 17,
   "id": "b0fbd4a0",
   "metadata": {},
   "outputs": [
    {
     "name": "stderr",
     "output_type": "stream",
     "text": [
      "[Stage 25:=============================>                            (1 + 1) / 2]\r"
     ]
    },
    {
     "name": "stdout",
     "output_type": "stream",
     "text": [
      "+-------------+-----------+\n",
      "|         _c15|count(_c15)|\n",
      "+-------------+-----------+\n",
      "|  <undefined>|     257262|\n",
      "|Task lie down|     109634|\n",
      "|    Task play|     129066|\n",
      "+-------------+-----------+\n",
      "\n"
     ]
    },
    {
     "name": "stderr",
     "output_type": "stream",
     "text": [
      "\r",
      "                                                                                \r"
     ]
    }
   ],
   "source": [
    "#Consulta 9: Saca as tarefas que máis mandaron facer.\n",
    "cansTarefas = spark.sql(\"SELECT _c15, COUNT(_c15) FROM cansMove GROUP BY _c15 ORDER BY _c15 ASC LIMIT 3\")\n",
    "cansTarefas.show()"
   ]
  },
  {
   "cell_type": "code",
   "execution_count": 18,
   "id": "afce5af1",
   "metadata": {},
   "outputs": [
    {
     "name": "stderr",
     "output_type": "stream",
     "text": [
      "[Stage 29:=============================>                            (1 + 1) / 2]\r"
     ]
    },
    {
     "name": "stdout",
     "output_type": "stream",
     "text": [
      "+---+---+---+---+---+---+\n",
      "|_c0|_c1|_c2|_c3|_c4|_c5|\n",
      "+---+---+---+---+---+---+\n",
      "+---+---+---+---+---+---+\n",
      "\n"
     ]
    },
    {
     "name": "stderr",
     "output_type": "stream",
     "text": [
      "\r",
      "                                                                                \r"
     ]
    }
   ],
   "source": [
    "#Consulta 10: Saca aos cans que tiveron algún evento curto (neste caso non hai ningún pero sería así en caso de que a houbera).\n",
    "cansEventoCurto = spark.sql(\"SELECT DISTINCT c.* FROM cans c INNER JOIN cansMove cm ON c._c0 == cm._c0 WHERE cm._c19 != '<undefined>'\")\n",
    "cansEventoCurto.show()"
   ]
  },
  {
   "cell_type": "code",
   "execution_count": 19,
   "id": "181866a1",
   "metadata": {},
   "outputs": [],
   "source": [
    "#FEITO CON SPARKSQL"
   ]
  },
  {
   "cell_type": "code",
   "execution_count": 20,
   "id": "41b06908",
   "metadata": {},
   "outputs": [
    {
     "data": {
      "text/plain": [
       "45"
      ]
     },
     "execution_count": 20,
     "metadata": {},
     "output_type": "execute_result"
    }
   ],
   "source": [
    "#Consulta 1: Sacar o número de cans\n",
    "dogInfo.count()"
   ]
  },
  {
   "cell_type": "code",
   "execution_count": 21,
   "id": "1d3101fe",
   "metadata": {},
   "outputs": [
    {
     "name": "stdout",
     "output_type": "stream",
     "text": [
      "+-----+--------------------+------+----------+------+---------------+\n",
      "|DogId|               Breed|Weight|Age_months|Gender|NeuteringStatus|\n",
      "+-----+--------------------+------+----------+------+---------------+\n",
      "|   23|  Labrador Retriever|    23|       113|     1|              1|\n",
      "|   25|    Finnish Lapphund|    26|        88|     2|              1|\n",
      "|   27|                Mudi|    16|        99|     2|              1|\n",
      "|   28|            Hovawart|    28|       109|     1|              1|\n",
      "|   30|Bull Terrier (Min...|    17|        31|     1|              1|\n",
      "|   44|          Crossbreed|    19|        67|     1|              1|\n",
      "|   47|Bouvier des Ardennes|    22|        56|     1|              1|\n",
      "|   53|     German Shepherd|    35|        87|     1|              1|\n",
      "|   54|   Australian Kelpie|    18|        20|     2|              1|\n",
      "|   55|              Vizsla|    25|        61|     2|              1|\n",
      "|   57|           Beauceron|    28|        52|     1|              1|\n",
      "|   60|     Standard Poodle|    31|        76|     2|              1|\n",
      "|   63|  Labrador Retriever|    37|        30|     2|              1|\n",
      "|   65|Nova Scotia Duck ...|    20|        84|     1|              1|\n",
      "|   74|     German Shepherd|    32|        90|     1|              1|\n",
      "+-----+--------------------+------+----------+------+---------------+\n",
      "\n"
     ]
    }
   ],
   "source": [
    "#Consulta 2: Sacar os cans castrados.\n",
    "dogInfo = dogInfo.toDF('DogId','Breed','Weight','Age_months','Gender','NeuteringStatus')\n",
    "dogInfo.filter(dogInfo['NeuteringStatus'] ==1).show()"
   ]
  },
  {
   "cell_type": "code",
   "execution_count": 22,
   "id": "2a50de5b",
   "metadata": {},
   "outputs": [
    {
     "data": {
      "text/plain": [
       "[Row(max(Age_months)='99')]"
      ]
     },
     "execution_count": 22,
     "metadata": {},
     "output_type": "execute_result"
    }
   ],
   "source": [
    "#Consulta3 Saca a máxima idade dos cans.\n",
    "dogInfo.agg({'Age_months':'max'}).collect()"
   ]
  },
  {
   "cell_type": "code",
   "execution_count": 23,
   "id": "f86f4628",
   "metadata": {},
   "outputs": [
    {
     "name": "stdout",
     "output_type": "stream",
     "text": [
      "+-----+---------------+------+----------+------+---------------+\n",
      "|DogId|          Breed|Weight|Age_months|Gender|NeuteringStatus|\n",
      "+-----+---------------+------+----------+------+---------------+\n",
      "|   53|German Shepherd|    35|        87|     1|              1|\n",
      "|   74|German Shepherd|    32|        90|     1|              1|\n",
      "+-----+---------------+------+----------+------+---------------+\n",
      "\n"
     ]
    }
   ],
   "source": [
    "#Consulta 4: Saca as cadelas que pesen máis de 30 kilos.\n",
    "dogInfo.filter((dogInfo['Gender'] ==1) & (dogInfo['Weight'] > 30)).show()"
   ]
  },
  {
   "cell_type": "code",
   "execution_count": 24,
   "id": "601aece4",
   "metadata": {},
   "outputs": [
    {
     "data": {
      "text/plain": [
       "[Row(avg(Age_months)=58.044444444444444)]"
      ]
     },
     "execution_count": 24,
     "metadata": {},
     "output_type": "execute_result"
    }
   ],
   "source": [
    "#Consulta 5: Saca a media da idade dos cans.\n",
    "dogInfo.agg({'Age_months':'avg'}).collect()"
   ]
  },
  {
   "cell_type": "code",
   "execution_count": 59,
   "id": "db74c432",
   "metadata": {},
   "outputs": [
    {
     "name": "stdout",
     "output_type": "stream",
     "text": [
      "+--------------------+-----+\n",
      "|               Breed|count|\n",
      "+--------------------+-----+\n",
      "|      Dutch Shepherd|    2|\n",
      "|  Labrador Retriever|    3|\n",
      "|English Springer ...|    1|\n",
      "|Bull Terrier (Min...|    1|\n",
      "|    Finnish Lapphund|    1|\n",
      "|     Standard Poodle|    1|\n",
      "|          Crossbreed|    4|\n",
      "|                Mudi|    1|\n",
      "|       Border Collie|    4|\n",
      "|    Belgian Shepherd|    1|\n",
      "|     German Shepherd|    3|\n",
      "|           Beauceron|    3|\n",
      "|Bouvier des Ardennes|    2|\n",
      "|             Bouvier|    1|\n",
      "|       Smooth Collie|    1|\n",
      "|              Vizsla|    1|\n",
      "|            Hovawart|    2|\n",
      "|Flat-Coated Retri...|    1|\n",
      "|   Lagotto Romagnolo|    1|\n",
      "|    Lapponian Herder|    2|\n",
      "+--------------------+-----+\n",
      "only showing top 20 rows\n",
      "\n"
     ]
    }
   ],
   "source": [
    "#Consulta 6: Saca as diferentes razas dos cans co número de cans por cada unha.\n",
    "dogInfo.groupBy('Breed').count().show()"
   ]
  },
  {
   "cell_type": "code",
   "execution_count": 54,
   "id": "8f1201b3",
   "metadata": {},
   "outputs": [],
   "source": [
    "#Modifico el dataframe de dogmove y los uno\n",
    "dogMove = dogMove.toDF('DogId','TestNum','t_sec','ABX','ABY','ABZ','ANX','ANY','ANZ','GBX','GBY','GBZ','GNX','GNY','GNZ','Task','Behavior1','Behavior2','Behavior3','PointEvent')\n",
    "dogMoveSimple = dogMove.select('DogId', 'Task', 'Behavior1', 'Behavior2', 'Behavior3', 'PointEvent')\n",
    "#dogMoveSimple.show()\n",
    "dogs = dogInfo.join(dogMoveSimple, dogInfo['DogId'] == dogMoveSimple['DogId'])\n",
    "#dogs.show()"
   ]
  },
  {
   "cell_type": "code",
   "execution_count": 55,
   "id": "6c8fef34",
   "metadata": {},
   "outputs": [
    {
     "name": "stdout",
     "output_type": "stream",
     "text": [
      "+-----+----------+------+----------+------+---------------+-----+---------+-----------+-----------+-----------+-----------+\n",
      "|DogId|     Breed|Weight|Age_months|Gender|NeuteringStatus|DogId|     Task|  Behavior1|  Behavior2|  Behavior3| PointEvent|\n",
      "+-----+----------+------+----------+------+---------------+-----+---------+-----------+-----------+-----------+-----------+\n",
      "|   16|Crossbreed|    13|        20|     1|              0|   16|Task play|<undefined>|<undefined>|<undefined>|<undefined>|\n",
      "|   16|Crossbreed|    13|        20|     1|              0|   16|Task play|<undefined>|<undefined>|<undefined>|<undefined>|\n",
      "|   16|Crossbreed|    13|        20|     1|              0|   16|Task play|<undefined>|<undefined>|<undefined>|<undefined>|\n",
      "|   16|Crossbreed|    13|        20|     1|              0|   16|Task play|<undefined>|<undefined>|<undefined>|<undefined>|\n",
      "|   16|Crossbreed|    13|        20|     1|              0|   16|Task play|<undefined>|<undefined>|<undefined>|<undefined>|\n",
      "|   16|Crossbreed|    13|        20|     1|              0|   16|Task play|    Playing|<undefined>|<undefined>|<undefined>|\n",
      "|   16|Crossbreed|    13|        20|     1|              0|   16|Task play|    Playing|<undefined>|<undefined>|<undefined>|\n",
      "|   16|Crossbreed|    13|        20|     1|              0|   16|Task play|    Playing|<undefined>|<undefined>|<undefined>|\n",
      "|   16|Crossbreed|    13|        20|     1|              0|   16|Task play|    Playing|<undefined>|<undefined>|<undefined>|\n",
      "|   16|Crossbreed|    13|        20|     1|              0|   16|Task play|    Playing|<undefined>|<undefined>|<undefined>|\n",
      "|   16|Crossbreed|    13|        20|     1|              0|   16|Task play|    Playing|<undefined>|<undefined>|<undefined>|\n",
      "|   16|Crossbreed|    13|        20|     1|              0|   16|Task play|    Playing|<undefined>|<undefined>|<undefined>|\n",
      "|   16|Crossbreed|    13|        20|     1|              0|   16|Task play|    Playing|<undefined>|<undefined>|<undefined>|\n",
      "|   16|Crossbreed|    13|        20|     1|              0|   16|Task play|    Playing|<undefined>|<undefined>|<undefined>|\n",
      "|   16|Crossbreed|    13|        20|     1|              0|   16|Task play|    Playing|<undefined>|<undefined>|<undefined>|\n",
      "|   16|Crossbreed|    13|        20|     1|              0|   16|Task play|    Playing|<undefined>|<undefined>|<undefined>|\n",
      "|   16|Crossbreed|    13|        20|     1|              0|   16|Task play|    Playing|<undefined>|<undefined>|<undefined>|\n",
      "|   16|Crossbreed|    13|        20|     1|              0|   16|Task play|    Playing|<undefined>|<undefined>|<undefined>|\n",
      "|   16|Crossbreed|    13|        20|     1|              0|   16|Task play|    Playing|<undefined>|<undefined>|<undefined>|\n",
      "|   16|Crossbreed|    13|        20|     1|              0|   16|Task play|    Playing|<undefined>|<undefined>|<undefined>|\n",
      "+-----+----------+------+----------+------+---------------+-----+---------+-----------+-----------+-----------+-----------+\n",
      "only showing top 20 rows\n",
      "\n"
     ]
    }
   ],
   "source": [
    "#Consulta 7: Saca os cans de raza Crossbreed realizaron a tarefa de xogar(task play).\n",
    "dogs.filter((dogs['Breed'] =='Crossbreed') & (dogs['Task'] == 'Task play')).show()"
   ]
  },
  {
   "cell_type": "code",
   "execution_count": 60,
   "id": "ef52cbe6",
   "metadata": {},
   "outputs": [
    {
     "name": "stdout",
     "output_type": "stream",
     "text": [
      "+-----+----------+------+----------+------+---------------+-----+---------+---------+---------------+---------+-----------+\n",
      "|DogId|     Breed|Weight|Age_months|Gender|NeuteringStatus|DogId|     Task|Behavior1|      Behavior2|Behavior3| PointEvent|\n",
      "+-----+----------+------+----------+------+---------------+-----+---------+---------+---------------+---------+-----------+\n",
      "|   16|Crossbreed|    13|        20|     1|              0|   16|Task play|  Playing|Carrying object| Trotting|<undefined>|\n",
      "|   16|Crossbreed|    13|        20|     1|              0|   16|Task play|  Playing|Carrying object| Trotting|<undefined>|\n",
      "|   16|Crossbreed|    13|        20|     1|              0|   16|Task play|  Playing|Carrying object| Trotting|<undefined>|\n",
      "|   16|Crossbreed|    13|        20|     1|              0|   16|Task play|  Playing|Carrying object| Trotting|<undefined>|\n",
      "|   16|Crossbreed|    13|        20|     1|              0|   16|Task play|  Playing|Carrying object| Trotting|<undefined>|\n",
      "|   16|Crossbreed|    13|        20|     1|              0|   16|Task play|  Playing|Carrying object| Trotting|<undefined>|\n",
      "|   16|Crossbreed|    13|        20|     1|              0|   16|Task play|  Playing|Carrying object| Trotting|<undefined>|\n",
      "|   16|Crossbreed|    13|        20|     1|              0|   16|Task play|  Playing|Carrying object| Trotting|<undefined>|\n",
      "|   16|Crossbreed|    13|        20|     1|              0|   16|Task play|  Playing|Carrying object| Trotting|<undefined>|\n",
      "|   16|Crossbreed|    13|        20|     1|              0|   16|Task play|  Playing|Carrying object| Trotting|<undefined>|\n",
      "|   16|Crossbreed|    13|        20|     1|              0|   16|Task play|  Playing|Carrying object| Trotting|<undefined>|\n",
      "|   16|Crossbreed|    13|        20|     1|              0|   16|Task play|  Playing|Carrying object| Trotting|<undefined>|\n",
      "|   16|Crossbreed|    13|        20|     1|              0|   16|Task play|  Playing|Carrying object| Trotting|<undefined>|\n",
      "|   16|Crossbreed|    13|        20|     1|              0|   16|Task play|  Playing|Carrying object| Trotting|<undefined>|\n",
      "|   16|Crossbreed|    13|        20|     1|              0|   16|Task play|  Playing|Carrying object| Trotting|<undefined>|\n",
      "|   16|Crossbreed|    13|        20|     1|              0|   16|Task play|  Playing|Carrying object| Trotting|<undefined>|\n",
      "|   16|Crossbreed|    13|        20|     1|              0|   16|Task play|  Playing|Carrying object| Trotting|<undefined>|\n",
      "|   16|Crossbreed|    13|        20|     1|              0|   16|Task play|  Playing|Carrying object| Trotting|<undefined>|\n",
      "|   16|Crossbreed|    13|        20|     1|              0|   16|Task play|  Playing|Carrying object| Trotting|<undefined>|\n",
      "|   16|Crossbreed|    13|        20|     1|              0|   16|Task play|  Playing|Carrying object| Trotting|<undefined>|\n",
      "+-----+----------+------+----------+------+---------------+-----+---------+---------+---------------+---------+-----------+\n",
      "only showing top 20 rows\n",
      "\n"
     ]
    }
   ],
   "source": [
    "#Consulta 8: Saca os cans que tiveron 3 comportamentos durante o experimento.\n",
    "dogs.filter(dogs['Behavior3'] != '<undefined>').show()"
   ]
  },
  {
   "cell_type": "code",
   "execution_count": 62,
   "id": "c807dbef",
   "metadata": {},
   "outputs": [
    {
     "name": "stderr",
     "output_type": "stream",
     "text": [
      "[Stage 80:=============================>                            (1 + 1) / 2]\r"
     ]
    },
    {
     "name": "stdout",
     "output_type": "stream",
     "text": [
      "+-----------------+------+\n",
      "|             Task| count|\n",
      "+-----------------+------+\n",
      "|    Task lie down|109634|\n",
      "|        Task walk|109879|\n",
      "|         Task sit|109998|\n",
      "|Task treat-search|110630|\n",
      "|        Task trot|110758|\n",
      "|       Task stand|111348|\n",
      "|        Task play|129066|\n",
      "|      <undefined>|257262|\n",
      "+-----------------+------+\n",
      "\n"
     ]
    },
    {
     "name": "stderr",
     "output_type": "stream",
     "text": [
      "\r",
      "                                                                                \r"
     ]
    }
   ],
   "source": [
    "#Consulta 9: Saca as tarefas que máis mandaron facer.\n",
    "dogs.groupBy('Task').count().sort('count').show()"
   ]
  },
  {
   "cell_type": "code",
   "execution_count": 63,
   "id": "962d3755",
   "metadata": {},
   "outputs": [
    {
     "name": "stderr",
     "output_type": "stream",
     "text": [
      "[Stage 85:>                                                         (0 + 1) / 1]\r"
     ]
    },
    {
     "name": "stdout",
     "output_type": "stream",
     "text": [
      "+-----+-----+------+----------+------+---------------+-----+----+---------+---------+---------+----------+\n",
      "|DogId|Breed|Weight|Age_months|Gender|NeuteringStatus|DogId|Task|Behavior1|Behavior2|Behavior3|PointEvent|\n",
      "+-----+-----+------+----------+------+---------------+-----+----+---------+---------+---------+----------+\n",
      "+-----+-----+------+----------+------+---------------+-----+----+---------+---------+---------+----------+\n",
      "\n"
     ]
    },
    {
     "name": "stderr",
     "output_type": "stream",
     "text": [
      "\r",
      "                                                                                \r"
     ]
    }
   ],
   "source": [
    "#Consulta 10: Saca aos cans que tiveron algún evento curto (neste caso non hai ningún pero sería así en caso de que a houbera).\n",
    "dogs.filter(dogs['PointEvent'] != '<undefined>').show()"
   ]
  }
 ],
 "metadata": {
  "kernelspec": {
   "display_name": "Python 3 (ipykernel)",
   "language": "python",
   "name": "python3"
  },
  "language_info": {
   "codemirror_mode": {
    "name": "ipython",
    "version": 3
   },
   "file_extension": ".py",
   "mimetype": "text/x-python",
   "name": "python",
   "nbconvert_exporter": "python",
   "pygments_lexer": "ipython3",
   "version": "3.8.10"
  }
 },
 "nbformat": 4,
 "nbformat_minor": 5
}
