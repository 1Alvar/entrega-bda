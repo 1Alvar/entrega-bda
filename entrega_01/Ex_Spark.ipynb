{
 "cells": [
  {
   "cell_type": "code",
   "execution_count": 1,
   "id": "a686b3b0",
   "metadata": {},
   "outputs": [],
   "source": [
    "spark = SparkSession \\\n",
    "    .builder \\\n",
    "    .appName(\"Python Spark SQL Exemplo Básico\") \\\n",
    "    .getOrCreate()"
   ]
  },
  {
   "cell_type": "code",
   "execution_count": 2,
   "id": "b153f1c3",
   "metadata": {},
   "outputs": [
    {
     "data": {
      "text/html": [
       "\n",
       "            <div>\n",
       "                <p><b>SparkSession - in-memory</b></p>\n",
       "                \n",
       "        <div>\n",
       "            <p><b>SparkContext</b></p>\n",
       "\n",
       "            <p><a href=\"http://hadoop-master:4041\">Spark UI</a></p>\n",
       "\n",
       "            <dl>\n",
       "              <dt>Version</dt>\n",
       "                <dd><code>v3.2.1</code></dd>\n",
       "              <dt>Master</dt>\n",
       "                <dd><code>local[*]</code></dd>\n",
       "              <dt>AppName</dt>\n",
       "                <dd><code>PySparkShell</code></dd>\n",
       "            </dl>\n",
       "        </div>\n",
       "        \n",
       "            </div>\n",
       "        "
      ],
      "text/plain": [
       "<pyspark.sql.session.SparkSession at 0x7f851826c7c0>"
      ]
     },
     "execution_count": 2,
     "metadata": {},
     "output_type": "execute_result"
    }
   ],
   "source": [
    "spark"
   ]
  },
  {
   "cell_type": "code",
   "execution_count": 105,
   "id": "943ac5fb",
   "metadata": {},
   "outputs": [],
   "source": [
    "path = \"df2.csv\"\n",
    "\n",
    "from pyspark.sql.types import (StringType, DoubleType, \n",
    "IntegerType, StructType, StructField, FloatType)\n",
    "\n",
    "columns = StructType([\n",
    "    StructField('index',IntegerType(),True),\n",
    "    StructField('appname',StringType(),True),\n",
    "    StructField('appid',StringType(),True),\n",
    "    StructField('category',StringType(),True),\n",
    "    StructField('rat_x',FloatType(),True),\n",
    "    StructField('installs',StringType(),True),\n",
    "    StructField('free',StringType(),True),\n",
    "    StructField('review',StringType(),True),\n",
    "    StructField('rat_y',FloatType(),True),\n",
    "    StructField('score',StringType(),True),\n",
    "    StructField('country',StringType(),True)\n",
    "\n",
    "])\n",
    "\n",
    "df = spark.read.csv(path, columns, sep='\\t')"
   ]
  },
  {
   "cell_type": "code",
   "execution_count": 106,
   "id": "173b6056",
   "metadata": {},
   "outputs": [
    {
     "data": {
      "text/plain": [
       "DataFrame[index: int, appname: string, appid: string, category: string, rat_x: float, installs: string, free: string, review: string, rat_y: float, score: string, country: string]"
      ]
     },
     "execution_count": 106,
     "metadata": {},
     "output_type": "execute_result"
    }
   ],
   "source": [
    "df"
   ]
  },
  {
   "cell_type": "code",
   "execution_count": 107,
   "id": "64a98e84",
   "metadata": {},
   "outputs": [
    {
     "name": "stderr",
     "output_type": "stream",
     "text": [
      "                                                                                \r"
     ]
    },
    {
     "data": {
      "text/plain": [
       "3129137"
      ]
     },
     "execution_count": 107,
     "metadata": {},
     "output_type": "execute_result"
    }
   ],
   "source": [
    "#1. Número total de valoracións\n",
    "df.count()"
   ]
  },
  {
   "cell_type": "code",
   "execution_count": 108,
   "id": "9c9fc8bb",
   "metadata": {},
   "outputs": [
    {
     "name": "stderr",
     "output_type": "stream",
     "text": [
      "[Stage 56:======================================>                   (2 + 1) / 3]\r"
     ]
    },
    {
     "name": "stdout",
     "output_type": "stream",
     "text": [
      "+---------------+------+\n",
      "|       category| count|\n",
      "+---------------+------+\n",
      "|  Music & Audio|154928|\n",
      "|      Education|241090|\n",
      "|         Trivia| 11795|\n",
      "|Auto & Vehicles| 18280|\n",
      "|             cl|  4846|\n",
      "|  Entertainment|151910|\n",
      "|      Adventure| 23203|\n",
      "|         Arcade| 60882|\n",
      "|         Sports| 47483|\n",
      "| Travel & Local| 67288|\n",
      "|   Food & Drink| 74382|\n",
      "|           null| 22904|\n",
      "|   Role Playing| 10034|\n",
      "|        Finance|137037|\n",
      "|Personalization| 89277|\n",
      "|         Racing| 10362|\n",
      "|          Tools|170296|\n",
      "|             ec|  3156|\n",
      "|    Educational| 21308|\n",
      "|             co|  3814|\n",
      "+---------------+------+\n",
      "only showing top 20 rows\n",
      "\n"
     ]
    },
    {
     "name": "stderr",
     "output_type": "stream",
     "text": [
      "\r",
      "                                                                                \r"
     ]
    }
   ],
   "source": [
    "#2. Número total de valoracións por categoría\n",
    "ex2 = df.groupby('category').count()\n",
    "ex2.show()"
   ]
  },
  {
   "cell_type": "code",
   "execution_count": 110,
   "id": "0369237c",
   "metadata": {},
   "outputs": [
    {
     "name": "stderr",
     "output_type": "stream",
     "text": [
      "[Stage 59:======================================>                   (2 + 1) / 3]\r"
     ]
    },
    {
     "name": "stdout",
     "output_type": "stream",
     "text": [
      "+--------------------+------+\n",
      "|            category| count|\n",
      "+--------------------+------+\n",
      "|       Music & Audio|    23|\n",
      "|       Entertainment| 12248|\n",
      "|        Food & Drink|   407|\n",
      "|             Finance| 65035|\n",
      "|              Social|242328|\n",
      "|            Shopping|  7432|\n",
      "|        Productivity|  5549|\n",
      "|           Lifestyle|  5793|\n",
      "|              Casual| 16065|\n",
      "|       Communication|212750|\n",
      "|            Strategy|  8146|\n",
      "|              Action|   332|\n",
      "|              Arcade|  6348|\n",
      "|               Tools| 24464|\n",
      "|            Business| 25551|\n",
      "|Video Players & E...| 57859|\n",
      "|              Puzzle|   171|\n",
      "|   Maps & Navigation|  1848|\n",
      "|     Personalization|    66|\n",
      "|    Health & Fitness|   254|\n",
      "+--------------------+------+\n",
      "only showing top 20 rows\n",
      "\n"
     ]
    },
    {
     "name": "stderr",
     "output_type": "stream",
     "text": [
      "\r",
      "                                                                                \r"
     ]
    }
   ],
   "source": [
    "#Número total de valoracións por categoría en LA\n",
    "\n",
    "df2 = (df\n",
    "               .where(df.country != 'null')\n",
    "               .select(df.category)\n",
    "               )\n",
    "df2.groupby('category').count().show()"
   ]
  },
  {
   "cell_type": "code",
   "execution_count": 111,
   "id": "88768c56",
   "metadata": {},
   "outputs": [
    {
     "name": "stderr",
     "output_type": "stream",
     "text": [
      "[Stage 62:===================>                                      (1 + 2) / 3]\r"
     ]
    },
    {
     "name": "stdout",
     "output_type": "stream",
     "text": [
      "+-------+------+\n",
      "|country| count|\n",
      "+-------+------+\n",
      "|     cl| 58538|\n",
      "|     ec| 72915|\n",
      "|     co| 81799|\n",
      "|     pe|100664|\n",
      "|     ar| 39328|\n",
      "|     bo| 11265|\n",
      "|     do| 56025|\n",
      "|     mx|272600|\n",
      "+-------+------+\n",
      "\n"
     ]
    },
    {
     "name": "stderr",
     "output_type": "stream",
     "text": [
      "\r",
      "                                                                                \r"
     ]
    }
   ],
   "source": [
    "#Que país comenta máis en LA\n",
    "\n",
    "df2 = (df\n",
    "               .where(df.country != 'null')\n",
    "               .select(df.country)\n",
    "               )\n",
    "\n",
    "df3 = df2.groupby('country').count().show()"
   ]
  },
  {
   "cell_type": "code",
   "execution_count": 124,
   "id": "4d0baae7",
   "metadata": {},
   "outputs": [
    {
     "name": "stderr",
     "output_type": "stream",
     "text": [
      "                                                                                \r"
     ]
    },
    {
     "data": {
      "text/plain": [
       "277251"
      ]
     },
     "execution_count": 124,
     "metadata": {},
     "output_type": "execute_result"
    }
   ],
   "source": [
    "#Cantas valoracións con máis de 4.5 hai?\n",
    "\n",
    "df2 = (df\n",
    "               .where(df.rat_y > 4.5)\n",
    "               .select(df.country)\n",
    "               )\n",
    "df2.count()"
   ]
  },
  {
   "cell_type": "code",
   "execution_count": 137,
   "id": "8b5eab47",
   "metadata": {},
   "outputs": [
    {
     "name": "stderr",
     "output_type": "stream",
     "text": [
      "                                                                                \r"
     ]
    },
    {
     "name": "stdout",
     "output_type": "stream",
     "text": [
      "+--------------------+------+\n",
      "|             appname| count|\n",
      "+--------------------+------+\n",
      "|         HSBC México|  3010|\n",
      "|  WhatsApp Messenger| 61930|\n",
      "|    Mi Movistar Perú|  1250|\n",
      "|           Messenger|318360|\n",
      "|    Candy Crush Saga| 16065|\n",
      "|              TikTok| 33072|\n",
      "|                BNA+|   503|\n",
      "|         Onboard BdP|   247|\n",
      "|           Instagram| 80443|\n",
      "|     Starbucks Chile|   407|\n",
      "|Crash Bandicoot: ...|   193|\n",
      "|      Walmart México|  3238|\n",
      "|                Yape|   891|\n",
      "|Bancolombia A la ...|   717|\n",
      "|     Puntos Colombia|    19|\n",
      "|          Cuenta DNI|  1038|\n",
      "|           Pinterest|  5793|\n",
      "|ZOL FM Republica ...|    23|\n",
      "|    Cinemark Bolivia|    23|\n",
      "|             Netflix|  1922|\n",
      "+--------------------+------+\n",
      "only showing top 20 rows\n",
      "\n"
     ]
    },
    {
     "name": "stderr",
     "output_type": "stream",
     "text": [
      "[Stage 107:======================================>                  (2 + 1) / 3]\r"
     ]
    },
    {
     "name": "stdout",
     "output_type": "stream",
     "text": [
      "+--------------------+------------------+\n",
      "|             appname|        avg(rat_y)|\n",
      "+--------------------+------------------+\n",
      "|         HSBC México|2.2883720930232556|\n",
      "|  WhatsApp Messenger|3.5629258840626514|\n",
      "|    Mi Movistar Perú|            2.0144|\n",
      "|           Messenger|2.8544101017715793|\n",
      "|    Candy Crush Saga| 4.662060379707438|\n",
      "|              TikTok| 4.766448959845186|\n",
      "|                BNA+|3.6481113320079523|\n",
      "|         Onboard BdP|2.7611336032388665|\n",
      "|           Instagram|  3.59048021580498|\n",
      "|     Starbucks Chile|3.3144963144963144|\n",
      "|Crash Bandicoot: ...| 4.632124352331606|\n",
      "|      Walmart México|3.4014823965410748|\n",
      "|                Yape|2.8226711560044895|\n",
      "|Bancolombia A la ...|1.8744769874476988|\n",
      "|     Puntos Colombia|2.0526315789473686|\n",
      "|          Cuenta DNI| 2.674373795761079|\n",
      "|           Pinterest| 4.638701881581219|\n",
      "|ZOL FM Republica ...|3.5652173913043477|\n",
      "|    Cinemark Bolivia|3.3043478260869565|\n",
      "|             Netflix|2.5416233090530698|\n",
      "+--------------------+------------------+\n",
      "only showing top 20 rows\n",
      "\n"
     ]
    },
    {
     "name": "stderr",
     "output_type": "stream",
     "text": [
      "\r",
      "                                                                                \r"
     ]
    }
   ],
   "source": [
    "#Imprime a media das valoracións en LA por aplicación, co total delas\n",
    "\n",
    "df2 = (df\n",
    "               .where(df.country != 'null')\n",
    "               .select(df.appname,df.rat_y)\n",
    "               )\n",
    "\n",
    "df2.groupby('appname').count().show()\n",
    "df2.groupby('appname').avg().show()"
   ]
  },
  {
   "cell_type": "code",
   "execution_count": 138,
   "id": "839eaa10",
   "metadata": {},
   "outputs": [
    {
     "name": "stderr",
     "output_type": "stream",
     "text": [
      "                                                                                \r"
     ]
    },
    {
     "name": "stdout",
     "output_type": "stream",
     "text": [
      "+------------------+\n",
      "|        avg(rat_x)|\n",
      "+------------------+\n",
      "|2.5163021553947864|\n",
      "+------------------+\n",
      "\n"
     ]
    },
    {
     "name": "stderr",
     "output_type": "stream",
     "text": [
      "[Stage 113:===================>                                     (1 + 2) / 3]\r"
     ]
    },
    {
     "name": "stdout",
     "output_type": "stream",
     "text": [
      "+------------------+\n",
      "|        avg(rat_x)|\n",
      "+------------------+\n",
      "|3.5123932847232804|\n",
      "+------------------+\n",
      "\n"
     ]
    },
    {
     "name": "stderr",
     "output_type": "stream",
     "text": [
      "\r",
      "                                                                                \r"
     ]
    }
   ],
   "source": [
    "#Compara a media das valoracións mundiales coas de Latinoamérica\n",
    "from pyspark.sql.functions import avg\n",
    "\n",
    "df.select(avg('rat_x')).show()\n",
    "\n",
    "\n",
    "df2 = (df\n",
    "               .where(df.country != 'null')\n",
    "               .select(df.rat_x)\n",
    "               )\n",
    "\n",
    "df2.select(avg('rat_x')).show()\n"
   ]
  },
  {
   "cell_type": "code",
   "execution_count": 179,
   "id": "adefd173",
   "metadata": {},
   "outputs": [
    {
     "name": "stderr",
     "output_type": "stream",
     "text": [
      "[Stage 227:======================================>                  (2 + 1) / 3]\r"
     ]
    },
    {
     "name": "stdout",
     "output_type": "stream",
     "text": [
      "Row(appname='Messenger', count=318360)\n",
      "Row(appname='Instagram', count=80443)\n",
      "Row(appname='WhatsApp Messenger', count=61930)\n"
     ]
    },
    {
     "name": "stderr",
     "output_type": "stream",
     "text": [
      "\r",
      "                                                                                \r"
     ]
    }
   ],
   "source": [
    "#As tres aplicacións máis comentadas\n",
    "from pyspark.sql.functions import *\n",
    "\n",
    "df2 = (df\n",
    "               .where(df.country != 'null')\n",
    "               .select(df.appname,df.review)\n",
    "               )\n",
    "\n",
    "df3 = df2.groupby('appname').count()\n",
    "df4 = df3.sort(desc('count')).collect()\n",
    "\n",
    "for i in range(0,3,1):\n",
    "    print(df4[i])"
   ]
  },
  {
   "cell_type": "code",
   "execution_count": null,
   "id": "ba70e735",
   "metadata": {},
   "outputs": [],
   "source": []
  }
 ],
 "metadata": {
  "kernelspec": {
   "display_name": "Python 3 (ipykernel)",
   "language": "python",
   "name": "python3"
  },
  "language_info": {
   "codemirror_mode": {
    "name": "ipython",
    "version": 3
   },
   "file_extension": ".py",
   "mimetype": "text/x-python",
   "name": "python",
   "nbconvert_exporter": "python",
   "pygments_lexer": "ipython3",
   "version": "3.8.10"
  }
 },
 "nbformat": 4,
 "nbformat_minor": 5
}
