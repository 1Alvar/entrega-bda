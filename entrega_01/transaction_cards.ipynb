{
 "cells": [
  {
   "cell_type": "code",
   "execution_count": 1,
   "id": "74816024",
   "metadata": {},
   "outputs": [
    {
     "data": {
      "text/html": [
       "\n",
       "        <div>\n",
       "            <p><b>SparkContext</b></p>\n",
       "\n",
       "            <p><a href=\"http://hadoop-master:4042\">Spark UI</a></p>\n",
       "\n",
       "            <dl>\n",
       "              <dt>Version</dt>\n",
       "                <dd><code>v3.2.1</code></dd>\n",
       "              <dt>Master</dt>\n",
       "                <dd><code>local[*]</code></dd>\n",
       "              <dt>AppName</dt>\n",
       "                <dd><code>PySparkShell</code></dd>\n",
       "            </dl>\n",
       "        </div>\n",
       "        "
      ],
      "text/plain": [
       "<SparkContext master=local[*] appName=PySparkShell>"
      ]
     },
     "execution_count": 1,
     "metadata": {},
     "output_type": "execute_result"
    }
   ],
   "source": [
    "# Mostra o contexto de execución Spark Context\n",
    "sc"
   ]
  },
  {
   "cell_type": "code",
   "execution_count": 2,
   "id": "c580a00e",
   "metadata": {},
   "outputs": [],
   "source": [
    "# Crea unha lista con 8 elementos\n",
    "lista = [1,2,3,4,5,6,7,8]"
   ]
  },
  {
   "cell_type": "code",
   "execution_count": 3,
   "id": "875fa0a1",
   "metadata": {},
   "outputs": [
    {
     "data": {
      "text/plain": [
       "list"
      ]
     },
     "execution_count": 3,
     "metadata": {},
     "output_type": "execute_result"
    }
   ],
   "source": [
    "# Comproba o tipo\n",
    "type(lista)"
   ]
  },
  {
   "cell_type": "code",
   "execution_count": 4,
   "id": "6129f184",
   "metadata": {},
   "outputs": [],
   "source": [
    "# Crea un elemento RDD a partir da lista\n",
    "un_rdd = sc.parallelize(lista)"
   ]
  },
  {
   "cell_type": "code",
   "execution_count": 5,
   "id": "bf570331",
   "metadata": {},
   "outputs": [
    {
     "name": "stderr",
     "output_type": "stream",
     "text": [
      "                                                                                \r"
     ]
    },
    {
     "data": {
      "text/plain": [
       "8"
      ]
     },
     "execution_count": 5,
     "metadata": {},
     "output_type": "execute_result"
    }
   ],
   "source": [
    "# Conta o número de elementos\n",
    "un_rdd.count()"
   ]
  },
  {
   "cell_type": "code",
   "execution_count": 6,
   "id": "e5f89cd2",
   "metadata": {},
   "outputs": [
    {
     "data": {
      "text/plain": [
       "pyspark.rdd.RDD"
      ]
     },
     "execution_count": 6,
     "metadata": {},
     "output_type": "execute_result"
    }
   ],
   "source": [
    "# Comproba o typo do elemento\n",
    "type(un_rdd)"
   ]
  },
  {
   "cell_type": "code",
   "execution_count": 7,
   "id": "c0379edc",
   "metadata": {},
   "outputs": [],
   "source": [
    "ficheiro_ruta = \"credit.csv\""
   ]
  },
  {
   "cell_type": "code",
   "execution_count": 8,
   "id": "5dba46ba",
   "metadata": {},
   "outputs": [
    {
     "data": {
      "text/plain": [
       "pyspark.rdd.RDD"
      ]
     },
     "execution_count": 8,
     "metadata": {},
     "output_type": "execute_result"
    }
   ],
   "source": [
    "# Lectura do ficheiro a RDD\n",
    "fichero = sc.textFile(ficheiro_ruta)\n",
    "type(fichero)"
   ]
  },
  {
   "cell_type": "code",
   "execution_count": 9,
   "id": "72bf8ab4",
   "metadata": {},
   "outputs": [
    {
     "name": "stderr",
     "output_type": "stream",
     "text": [
      "                                                                                \r"
     ]
    },
    {
     "data": {
      "text/plain": [
       "2299999"
      ]
     },
     "execution_count": 9,
     "metadata": {},
     "output_type": "execute_result"
    }
   ],
   "source": [
    "fichero.count()"
   ]
  },
  {
   "cell_type": "code",
   "execution_count": 13,
   "id": "33bc4264",
   "metadata": {},
   "outputs": [],
   "source": [
    "df = spark.read.csv(ficheiro_ruta)"
   ]
  },
  {
   "cell_type": "code",
   "execution_count": 14,
   "id": "7ddb766e",
   "metadata": {},
   "outputs": [
    {
     "name": "stderr",
     "output_type": "stream",
     "text": [
      "                                                                                \r"
     ]
    },
    {
     "data": {
      "text/plain": [
       "2299999"
      ]
     },
     "execution_count": 14,
     "metadata": {},
     "output_type": "execute_result"
    }
   ],
   "source": [
    "df.count()"
   ]
  },
  {
   "cell_type": "code",
   "execution_count": 12,
   "id": "d97d1845",
   "metadata": {},
   "outputs": [
    {
     "data": {
      "text/html": [
       "\n",
       "        <div>\n",
       "            <p><b>SparkContext</b></p>\n",
       "\n",
       "            <p><a href=\"http://hadoop-master:4042\">Spark UI</a></p>\n",
       "\n",
       "            <dl>\n",
       "              <dt>Version</dt>\n",
       "                <dd><code>v3.2.1</code></dd>\n",
       "              <dt>Master</dt>\n",
       "                <dd><code>local[*]</code></dd>\n",
       "              <dt>AppName</dt>\n",
       "                <dd><code>PySparkShell</code></dd>\n",
       "            </dl>\n",
       "        </div>\n",
       "        "
      ],
      "text/plain": [
       "<SparkContext master=local[*] appName=PySparkShell>"
      ]
     },
     "execution_count": 12,
     "metadata": {},
     "output_type": "execute_result"
    }
   ],
   "source": [
    "sc"
   ]
  },
  {
   "cell_type": "code",
   "execution_count": 16,
   "id": "d0a5da5c",
   "metadata": {},
   "outputs": [],
   "source": [
    "df = spark.read.csv(\"file:///home/hduser/archive(1)/credit.csv\")"
   ]
  },
  {
   "cell_type": "code",
   "execution_count": 17,
   "id": "5ea5dd99",
   "metadata": {},
   "outputs": [
    {
     "data": {
      "text/plain": [
       "pyspark.sql.dataframe.DataFrame"
      ]
     },
     "execution_count": 17,
     "metadata": {},
     "output_type": "execute_result"
    }
   ],
   "source": [
    "type(df)"
   ]
  },
  {
   "cell_type": "code",
   "execution_count": 18,
   "id": "60614c48",
   "metadata": {},
   "outputs": [
    {
     "data": {
      "text/plain": [
       "DataFrame[_c0: string, _c1: string, _c2: string, _c3: string, _c4: string, _c5: string, _c6: string, _c7: string, _c8: string, _c9: string, _c10: string, _c11: string, _c12: string, _c13: string, _c14: string]"
      ]
     },
     "execution_count": 18,
     "metadata": {},
     "output_type": "execute_result"
    }
   ],
   "source": [
    "df"
   ]
  },
  {
   "cell_type": "code",
   "execution_count": 19,
   "id": "d33ecee2",
   "metadata": {},
   "outputs": [
    {
     "name": "stdout",
     "output_type": "stream",
     "text": [
      "+---+---+----+---+---+-----+-------+------------------+--------------------+-------------+----+-------+----+----+----+\n",
      "|_c0|_c1| _c2|_c3|_c4|  _c5|    _c6|               _c7|                 _c8|          _c9|_c10|   _c11|_c12|_c13|_c14|\n",
      "+---+---+----+---+---+-----+-------+------------------+--------------------+-------------+----+-------+----+----+----+\n",
      "|  0|  0|2002|  9|  1|06:21|$134.09| Swipe Transaction| 3527213246127876953|     La Verne|  CA|91750.0|5300|null|  No|\n",
      "|  0|  0|2002|  9|  1|06:42| $38.48| Swipe Transaction| -727612092139916043|Monterey Park|  CA|91754.0|5411|null|  No|\n",
      "|  0|  0|2002|  9|  2|06:22|$120.34| Swipe Transaction| -727612092139916043|Monterey Park|  CA|91754.0|5411|null|  No|\n",
      "|  0|  0|2002|  9|  2|17:45|$128.95| Swipe Transaction| 3414527459579106770|Monterey Park|  CA|91754.0|5651|null|  No|\n",
      "|  0|  0|2002|  9|  3|06:23|$104.71| Swipe Transaction| 5817218446178736267|     La Verne|  CA|91750.0|5912|null|  No|\n",
      "|  0|  0|2002|  9|  3|13:53| $86.19| Swipe Transaction|-7146670748125200898|Monterey Park|  CA|91755.0|5970|null|  No|\n",
      "|  0|  0|2002|  9|  4|05:51| $93.84| Swipe Transaction| -727612092139916043|Monterey Park|  CA|91754.0|5411|null|  No|\n",
      "|  0|  0|2002|  9|  4|06:09|$123.50| Swipe Transaction| -727612092139916043|Monterey Park|  CA|91754.0|5411|null|  No|\n",
      "|  0|  0|2002|  9|  5|06:14| $61.72| Swipe Transaction| -727612092139916043|Monterey Park|  CA|91754.0|5411|null|  No|\n",
      "|  0|  0|2002|  9|  5|09:35| $57.10| Swipe Transaction| 4055257078481058705|     La Verne|  CA|91750.0|7538|null|  No|\n",
      "|  0|  0|2002|  9|  5|20:18| $76.07| Swipe Transaction|-4500542936415012428|     La Verne|  CA|91750.0|5814|null|  No|\n",
      "|  0|  0|2002|  9|  5|20:41| $53.91|Online Transaction|-9092677072201095172|       ONLINE|null|   null|4900|null|  No|\n",
      "|  0|  0|2002|  9|  6|06:16|$110.37| Swipe Transaction| 2027553650310142703|    Mira Loma|  CA|91752.0|5541|null|  No|\n",
      "|  0|  0|2002|  9|  7|06:16|$117.05| Swipe Transaction| -727612092139916043|Monterey Park|  CA|91754.0|5411|null|  No|\n",
      "|  0|  0|2002|  9|  7|06:34| $45.30| Swipe Transaction|-5475680618560174533|Monterey Park|  CA|91755.0|5942|null|  No|\n",
      "|  0|  0|2002|  9|  7|09:39| $29.34| Swipe Transaction| 4055257078481058705|     La Verne|  CA|91750.0|7538|null|  No|\n",
      "|  0|  0|2002|  9|  8|06:10|$147.45| Swipe Transaction|  -34551508091458520|     La Verne|  CA|91750.0|5912|null|  No|\n",
      "|  0|  0|2002|  9|  8|06:38| $27.75| Swipe Transaction| 4060646732831064559|     La Verne|  CA|91750.0|5411|null|  No|\n",
      "|  0|  0|2002|  9|  8|13:48| $76.57| Swipe Transaction| -727612092139916043|Monterey Park|  CA|91754.0|5411|null|  No|\n",
      "|  0|  0|2002|  9|  8|22:01| $22.56| Swipe Transaction|-6733168469687845480|    Mira Loma|  CA|91752.0|7832|null|  No|\n",
      "+---+---+----+---+---+-----+-------+------------------+--------------------+-------------+----+-------+----+----+----+\n",
      "only showing top 20 rows\n",
      "\n"
     ]
    }
   ],
   "source": [
    "df.show()"
   ]
  },
  {
   "cell_type": "code",
   "execution_count": 20,
   "id": "b829a148",
   "metadata": {},
   "outputs": [
    {
     "data": {
      "text/plain": [
       "Row(_c0='0', _c1='0', _c2='2002', _c3='9', _c4='1', _c5='06:21', _c6='$134.09', _c7='Swipe Transaction', _c8='3527213246127876953', _c9='La Verne', _c10='CA', _c11='91750.0', _c12='5300', _c13=None, _c14='No')"
      ]
     },
     "execution_count": 20,
     "metadata": {},
     "output_type": "execute_result"
    }
   ],
   "source": [
    "df.first()"
   ]
  },
  {
   "cell_type": "code",
   "execution_count": 25,
   "id": "62fb3170",
   "metadata": {},
   "outputs": [
    {
     "data": {
      "text/plain": [
       "Column<'_c7'>"
      ]
     },
     "execution_count": 25,
     "metadata": {},
     "output_type": "execute_result"
    }
   ],
   "source": [
    "df['_c7']"
   ]
  },
  {
   "cell_type": "code",
   "execution_count": 26,
   "id": "ba10fee1",
   "metadata": {},
   "outputs": [
    {
     "name": "stdout",
     "output_type": "stream",
     "text": [
      "+------------------+\n",
      "|               _c7|\n",
      "+------------------+\n",
      "| Swipe Transaction|\n",
      "| Swipe Transaction|\n",
      "| Swipe Transaction|\n",
      "| Swipe Transaction|\n",
      "| Swipe Transaction|\n",
      "| Swipe Transaction|\n",
      "| Swipe Transaction|\n",
      "| Swipe Transaction|\n",
      "| Swipe Transaction|\n",
      "| Swipe Transaction|\n",
      "| Swipe Transaction|\n",
      "|Online Transaction|\n",
      "| Swipe Transaction|\n",
      "| Swipe Transaction|\n",
      "| Swipe Transaction|\n",
      "| Swipe Transaction|\n",
      "| Swipe Transaction|\n",
      "| Swipe Transaction|\n",
      "| Swipe Transaction|\n",
      "| Swipe Transaction|\n",
      "+------------------+\n",
      "only showing top 20 rows\n",
      "\n"
     ]
    }
   ],
   "source": [
    "df.select('_c7').show()"
   ]
  },
  {
   "cell_type": "code",
   "execution_count": 27,
   "id": "66e5b8e2",
   "metadata": {},
   "outputs": [
    {
     "name": "stdout",
     "output_type": "stream",
     "text": [
      "+------------------+-------+\n",
      "|               _c7|   _c11|\n",
      "+------------------+-------+\n",
      "| Swipe Transaction|91750.0|\n",
      "| Swipe Transaction|91754.0|\n",
      "| Swipe Transaction|91754.0|\n",
      "| Swipe Transaction|91754.0|\n",
      "| Swipe Transaction|91750.0|\n",
      "| Swipe Transaction|91755.0|\n",
      "| Swipe Transaction|91754.0|\n",
      "| Swipe Transaction|91754.0|\n",
      "| Swipe Transaction|91754.0|\n",
      "| Swipe Transaction|91750.0|\n",
      "| Swipe Transaction|91750.0|\n",
      "|Online Transaction|   null|\n",
      "| Swipe Transaction|91752.0|\n",
      "| Swipe Transaction|91754.0|\n",
      "| Swipe Transaction|91755.0|\n",
      "| Swipe Transaction|91750.0|\n",
      "| Swipe Transaction|91750.0|\n",
      "| Swipe Transaction|91750.0|\n",
      "| Swipe Transaction|91754.0|\n",
      "| Swipe Transaction|91752.0|\n",
      "+------------------+-------+\n",
      "only showing top 20 rows\n",
      "\n"
     ]
    }
   ],
   "source": [
    "df.select('_c7','_c11').show()"
   ]
  },
  {
   "cell_type": "code",
   "execution_count": 29,
   "id": "0fbb4287",
   "metadata": {},
   "outputs": [
    {
     "name": "stdout",
     "output_type": "stream",
     "text": [
      "+------------------+\n",
      "|               _c7|\n",
      "+------------------+\n",
      "| Swipe Transaction|\n",
      "| Swipe Transaction|\n",
      "| Swipe Transaction|\n",
      "| Swipe Transaction|\n",
      "| Swipe Transaction|\n",
      "| Swipe Transaction|\n",
      "| Swipe Transaction|\n",
      "| Swipe Transaction|\n",
      "| Swipe Transaction|\n",
      "| Swipe Transaction|\n",
      "| Swipe Transaction|\n",
      "|Online Transaction|\n",
      "| Swipe Transaction|\n",
      "| Swipe Transaction|\n",
      "| Swipe Transaction|\n",
      "| Swipe Transaction|\n",
      "| Swipe Transaction|\n",
      "| Swipe Transaction|\n",
      "| Swipe Transaction|\n",
      "| Swipe Transaction|\n",
      "+------------------+\n",
      "only showing top 20 rows\n",
      "\n"
     ]
    }
   ],
   "source": [
    "df.select(df['_c7']).show()"
   ]
  },
  {
   "cell_type": "code",
   "execution_count": 30,
   "id": "ffab0974",
   "metadata": {},
   "outputs": [
    {
     "name": "stdout",
     "output_type": "stream",
     "text": [
      "+----------+\n",
      "|(_c11 + 1)|\n",
      "+----------+\n",
      "|   91751.0|\n",
      "|   91755.0|\n",
      "|   91755.0|\n",
      "|   91755.0|\n",
      "|   91751.0|\n",
      "|   91756.0|\n",
      "|   91755.0|\n",
      "|   91755.0|\n",
      "|   91755.0|\n",
      "|   91751.0|\n",
      "|   91751.0|\n",
      "|      null|\n",
      "|   91753.0|\n",
      "|   91755.0|\n",
      "|   91756.0|\n",
      "|   91751.0|\n",
      "|   91751.0|\n",
      "|   91751.0|\n",
      "|   91755.0|\n",
      "|   91753.0|\n",
      "+----------+\n",
      "only showing top 20 rows\n",
      "\n"
     ]
    }
   ],
   "source": [
    "df.select(df['_c11']+1).show()"
   ]
  },
  {
   "cell_type": "code",
   "execution_count": 31,
   "id": "be12973d",
   "metadata": {},
   "outputs": [
    {
     "name": "stdout",
     "output_type": "stream",
     "text": [
      "+---+---+----+---+---+-----+-------+-----------------+--------------------+-------------+----+-------+----+----+----+\n",
      "|_c0|_c1| _c2|_c3|_c4|  _c5|    _c6|              _c7|                 _c8|          _c9|_c10|   _c11|_c12|_c13|_c14|\n",
      "+---+---+----+---+---+-----+-------+-----------------+--------------------+-------------+----+-------+----+----+----+\n",
      "|  0|  0|2002|  9|  1|06:42| $38.48|Swipe Transaction| -727612092139916043|Monterey Park|  CA|91754.0|5411|null|  No|\n",
      "|  0|  0|2002|  9|  2|06:22|$120.34|Swipe Transaction| -727612092139916043|Monterey Park|  CA|91754.0|5411|null|  No|\n",
      "|  0|  0|2002|  9|  2|17:45|$128.95|Swipe Transaction| 3414527459579106770|Monterey Park|  CA|91754.0|5651|null|  No|\n",
      "|  0|  0|2002|  9|  3|13:53| $86.19|Swipe Transaction|-7146670748125200898|Monterey Park|  CA|91755.0|5970|null|  No|\n",
      "|  0|  0|2002|  9|  4|05:51| $93.84|Swipe Transaction| -727612092139916043|Monterey Park|  CA|91754.0|5411|null|  No|\n",
      "|  0|  0|2002|  9|  4|06:09|$123.50|Swipe Transaction| -727612092139916043|Monterey Park|  CA|91754.0|5411|null|  No|\n",
      "|  0|  0|2002|  9|  5|06:14| $61.72|Swipe Transaction| -727612092139916043|Monterey Park|  CA|91754.0|5411|null|  No|\n",
      "|  0|  0|2002|  9|  6|06:16|$110.37|Swipe Transaction| 2027553650310142703|    Mira Loma|  CA|91752.0|5541|null|  No|\n",
      "|  0|  0|2002|  9|  7|06:16|$117.05|Swipe Transaction| -727612092139916043|Monterey Park|  CA|91754.0|5411|null|  No|\n",
      "|  0|  0|2002|  9|  7|06:34| $45.30|Swipe Transaction|-5475680618560174533|Monterey Park|  CA|91755.0|5942|null|  No|\n",
      "|  0|  0|2002|  9|  8|13:48| $76.57|Swipe Transaction| -727612092139916043|Monterey Park|  CA|91754.0|5411|null|  No|\n",
      "|  0|  0|2002|  9|  8|22:01| $22.56|Swipe Transaction|-6733168469687845480|    Mira Loma|  CA|91752.0|7832|null|  No|\n",
      "|  0|  0|2002|  9| 10|06:20|$160.00|Swipe Transaction|-4282466774399734331|    Mira Loma|  CA|91752.0|4829|null|  No|\n",
      "|  0|  0|2002|  9| 10|21:39| $29.33|Swipe Transaction|-6733168469687845480|    Mira Loma|  CA|91752.0|7832|null|  No|\n",
      "|  0|  0|2002|  9| 11|13:06| $62.06|Swipe Transaction| 2027553650310142703|    Mira Loma|  CA|91752.0|5541|null|  No|\n",
      "|  0|  0|2002|  9| 11|13:17|$-99.00|Swipe Transaction| 2027553650310142703|    Mira Loma|  CA|91752.0|5541|null|  No|\n",
      "|  0|  0|2002|  9| 11|13:23| $99.00|Swipe Transaction| 2027553650310142703|    Mira Loma|  CA|91752.0|5541|null|  No|\n",
      "|  0|  0|2002|  9| 15|13:54| $81.35|Swipe Transaction|-5904116920141006298|  Diamond Bar|  CA|91765.0|5719|null|  No|\n",
      "|  0|  0|2002|  9| 21|06:27|$145.50|Swipe Transaction| 2027553650310142703|    Mira Loma|  CA|91752.0|5541|null|  No|\n",
      "|  0|  0|2002|  9| 21|06:47| $48.34|Swipe Transaction|-5475680618560174533|Monterey Park|  CA|91755.0|5942|null|  No|\n",
      "+---+---+----+---+---+-----+-------+-----------------+--------------------+-------------+----+-------+----+----+----+\n",
      "only showing top 20 rows\n",
      "\n"
     ]
    }
   ],
   "source": [
    "df.filter(df['_c11'] > 91750).show()"
   ]
  },
  {
   "cell_type": "code",
   "execution_count": 32,
   "id": "4fd7fcea",
   "metadata": {},
   "outputs": [
    {
     "name": "stderr",
     "output_type": "stream",
     "text": [
      "                                                                                \r"
     ]
    },
    {
     "data": {
      "text/plain": [
       "2299999"
      ]
     },
     "execution_count": 32,
     "metadata": {},
     "output_type": "execute_result"
    }
   ],
   "source": [
    "df.count()"
   ]
  },
  {
   "cell_type": "code",
   "execution_count": 33,
   "id": "ccb4ecd0",
   "metadata": {},
   "outputs": [
    {
     "name": "stderr",
     "output_type": "stream",
     "text": [
      "[Stage 20:=============================>                            (1 + 1) / 2]\r"
     ]
    },
    {
     "name": "stdout",
     "output_type": "stream",
     "text": [
      "+------------------+-------+\n",
      "|               _c7|  count|\n",
      "+------------------+-------+\n",
      "| Swipe Transaction|1440884|\n",
      "|  Chip Transaction| 565831|\n",
      "|Online Transaction| 293284|\n",
      "+------------------+-------+\n",
      "\n"
     ]
    },
    {
     "name": "stderr",
     "output_type": "stream",
     "text": [
      "\r",
      "                                                                                \r"
     ]
    }
   ],
   "source": [
    "df.groupBy('_c7').count().show()"
   ]
  },
  {
   "cell_type": "code",
   "execution_count": 34,
   "id": "6a619c0c",
   "metadata": {},
   "outputs": [
    {
     "data": {
      "text/plain": [
       "pyspark.sql.group.GroupedData"
      ]
     },
     "execution_count": 34,
     "metadata": {},
     "output_type": "execute_result"
    }
   ],
   "source": [
    "type(df.groupBy('_c7'))"
   ]
  }
 ],
 "metadata": {
  "kernelspec": {
   "display_name": "Python 3 (ipykernel)",
   "language": "python",
   "name": "python3"
  },
  "language_info": {
   "codemirror_mode": {
    "name": "ipython",
    "version": 3
   },
   "file_extension": ".py",
   "mimetype": "text/x-python",
   "name": "python",
   "nbconvert_exporter": "python",
   "pygments_lexer": "ipython3",
   "version": "3.8.10"
  }
 },
 "nbformat": 4,
 "nbformat_minor": 5
}
