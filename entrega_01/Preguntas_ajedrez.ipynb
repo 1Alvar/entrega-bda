{
 "cells": [
  {
   "cell_type": "code",
   "execution_count": 1,
   "id": "c0677f6d",
   "metadata": {},
   "outputs": [],
   "source": [
    "spark = SparkSession \\\n",
    "    .builder \\\n",
    "    .appName(\"Python Spark Preguntas ajedrez\") \\\n",
    "    .getOrCreate()"
   ]
  },
  {
   "cell_type": "code",
   "execution_count": 2,
   "id": "35a79ba9",
   "metadata": {},
   "outputs": [],
   "source": [
    "fichero = \"Sept_20_analysis.csv\""
   ]
  },
  {
   "cell_type": "code",
   "execution_count": 3,
   "id": "e9c526c0",
   "metadata": {},
   "outputs": [
    {
     "name": "stderr",
     "output_type": "stream",
     "text": [
      "                                                                                \r"
     ]
    }
   ],
   "source": [
    "df = spark.read.csv(fichero, header=True)"
   ]
  },
  {
   "cell_type": "code",
   "execution_count": 4,
   "id": "5078e569",
   "metadata": {},
   "outputs": [
    {
     "name": "stderr",
     "output_type": "stream",
     "text": [
      "2022-02-17 16:11:52,186 WARN util.package: Truncated the string representation of a plan since it was too large. This behavior can be adjusted by setting 'spark.sql.debug.maxToStringFields'.\n"
     ]
    },
    {
     "data": {
      "text/plain": [
       "Row(GAME='11', BlackElo='1143', BlackRatingDiff='6', Date='2020.09.01', ECO='A02', Event='Rated Blitz game', Opening='Bird Opening', Result='0-1', Site='https://lichess.org/hjb8FYm1', Termination='Time forfeit', TimeControl='300+0', UTCTime='00:00:00', WhiteElo='1180', WhiteRatingDiff='-7', Black_elo_category='Low rating', White_elo_category='Low rating', starting_time='300', increment='0', Game_type='Blitz', Total_moves='66', Black_blunders='4', White_blunders='2', Black_mistakes='0', White_mistakes='3', Black_inaccuracies='3', White_inaccuracies='1', Black_inferior_moves='7', White_inferior_moves='6', Black_ts_moves='8', White_ts_moves='8', Black_ts_blunders='0', White_ts_blunders='0', Black_ts_mistakes='0', White_ts_mistake='0', Black_long_moves='2', White_long_moves='1', Black_bad_long_moves='1', White_bad_long_moves='1', Game_flips='8', Game_flips_ts='0')"
      ]
     },
     "execution_count": 4,
     "metadata": {},
     "output_type": "execute_result"
    }
   ],
   "source": [
    "df.head()"
   ]
  },
  {
   "cell_type": "code",
   "execution_count": 5,
   "id": "4c2fca1a",
   "metadata": {},
   "outputs": [
    {
     "name": "stderr",
     "output_type": "stream",
     "text": [
      "                                                                                \r"
     ]
    },
    {
     "data": {
      "text/plain": [
       "3739909"
      ]
     },
     "execution_count": 5,
     "metadata": {},
     "output_type": "execute_result"
    }
   ],
   "source": [
    "#Pregunta 1\n",
    "df.count()"
   ]
  },
  {
   "cell_type": "code",
   "execution_count": 6,
   "id": "48ac67de",
   "metadata": {},
   "outputs": [
    {
     "data": {
      "text/plain": [
       "pyspark.sql.group.GroupedData"
      ]
     },
     "execution_count": 6,
     "metadata": {},
     "output_type": "execute_result"
    }
   ],
   "source": [
    "type(df.groupBy(\"Result\"))"
   ]
  },
  {
   "cell_type": "code",
   "execution_count": 7,
   "id": "3973d664",
   "metadata": {},
   "outputs": [
    {
     "name": "stderr",
     "output_type": "stream",
     "text": [
      "                                                                                \r"
     ]
    },
    {
     "data": {
      "text/plain": [
       "[Row(Result='*', count=72),\n",
       " Row(Result='1/2-1/2', count=109548),\n",
       " Row(Result='1-0', count=1863894),\n",
       " Row(Result='0-1', count=1766395)]"
      ]
     },
     "execution_count": 7,
     "metadata": {},
     "output_type": "execute_result"
    }
   ],
   "source": [
    "#Pregunta 2\n",
    "df.groupBy(\"Result\").count().collect()"
   ]
  },
  {
   "cell_type": "code",
   "execution_count": 8,
   "id": "ed244a72",
   "metadata": {},
   "outputs": [
    {
     "name": "stderr",
     "output_type": "stream",
     "text": [
      "                                                                                \r"
     ]
    },
    {
     "data": {
      "text/plain": [
       "Row(Termination='Normal', count=2869458)"
      ]
     },
     "execution_count": 8,
     "metadata": {},
     "output_type": "execute_result"
    }
   ],
   "source": [
    "#Pregunta 3\n",
    "sorted(df.groupBy(\"Termination\").count().collect(), key=lambda x: x[\"count\"])[-1]"
   ]
  },
  {
   "cell_type": "code",
   "execution_count": 9,
   "id": "db0f5bb2",
   "metadata": {},
   "outputs": [
    {
     "name": "stderr",
     "output_type": "stream",
     "text": [
      "                                                                                \r"
     ]
    },
    {
     "data": {
      "text/plain": [
       "618272"
      ]
     },
     "execution_count": 9,
     "metadata": {},
     "output_type": "execute_result"
    }
   ],
   "source": [
    "#Pregunta 4\n",
    "df.filter((df[\"Blackelo\"] > 1900) & (df[\"WhiteElo\"] > 1900)).count()"
   ]
  },
  {
   "cell_type": "code",
   "execution_count": 10,
   "id": "f0c9385e",
   "metadata": {},
   "outputs": [
    {
     "name": "stderr",
     "output_type": "stream",
     "text": [
      "                                                                                \r"
     ]
    },
    {
     "data": {
      "text/plain": [
       "Row(Event='Rated Blitz game', count=279935)"
      ]
     },
     "execution_count": 10,
     "metadata": {},
     "output_type": "execute_result"
    }
   ],
   "source": [
    "#Pregunta 5\n",
    "sorted(df.filter((df[\"Blackelo\"] > 1900) & (df[\"WhiteElo\"] > 1900)).groupBy(\"Event\").count().collect(), key=lambda x: x[\"count\"])[-1]"
   ]
  },
  {
   "cell_type": "code",
   "execution_count": 11,
   "id": "b27b6743",
   "metadata": {},
   "outputs": [
    {
     "name": "stderr",
     "output_type": "stream",
     "text": [
      "                                                                                \r"
     ]
    },
    {
     "name": "stdout",
     "output_type": "stream",
     "text": [
      "+--------------------+\n",
      "|             Opening|\n",
      "+--------------------+\n",
      "|Grünfeld Defense:...|\n",
      "|King's Gambit, Fa...|\n",
      "|Four Knights Game...|\n",
      "|Alekhine Defense:...|\n",
      "|King's Indian Att...|\n",
      "|Ruy Lopez: Classi...|\n",
      "|Blackmar-Diemer G...|\n",
      "|Caro-Kann Defense...|\n",
      "|Owen Defense: Mat...|\n",
      "|Queen's Gambit Ac...|\n",
      "|Modern Defense: R...|\n",
      "|Queen's Gambit De...|\n",
      "|Caro-Kann Defense...|\n",
      "|Evans Gambit, Leo...|\n",
      "|Slav Defense: Cze...|\n",
      "|Ruy Lopez: Berlin...|\n",
      "|Tarrasch Defense:...|\n",
      "|Evans Gambit, Mor...|\n",
      "|King's Indian Def...|\n",
      "|French Defense: S...|\n",
      "+--------------------+\n",
      "only showing top 20 rows\n",
      "\n"
     ]
    },
    {
     "name": "stderr",
     "output_type": "stream",
     "text": [
      "\r",
      "[Stage 20:>                                                         (0 + 1) / 1]\r",
      "\r",
      "                                                                                \r"
     ]
    }
   ],
   "source": [
    "#Pregunta 6\n",
    "spark.createDataFrame(df.filter((df[\"Blackelo\"] > 1900) & (df[\"WhiteElo\"] > 1900)).groupBy(\"Opening\").count().collect()).select([\"Opening\"]).show()"
   ]
  },
  {
   "cell_type": "code",
   "execution_count": 12,
   "id": "39da6f32",
   "metadata": {},
   "outputs": [
    {
     "name": "stderr",
     "output_type": "stream",
     "text": [
      "                                                                                \r"
     ]
    },
    {
     "data": {
      "text/plain": [
       "250672"
      ]
     },
     "execution_count": 12,
     "metadata": {},
     "output_type": "execute_result"
    }
   ],
   "source": [
    "#Pregunta 7\n",
    "df.filter((df[\"Result\"] == \"0-1\") & (df[\"Opening\"].contains(\"Sicilian Defense\"))).count()"
   ]
  },
  {
   "cell_type": "code",
   "execution_count": 13,
   "id": "640691c9",
   "metadata": {},
   "outputs": [],
   "source": [
    "dfAperturas = spark.read.csv(\"high_elo_opening.csv\", header=True)"
   ]
  },
  {
   "cell_type": "code",
   "execution_count": 14,
   "id": "79e916b4",
   "metadata": {},
   "outputs": [
    {
     "data": {
      "text/plain": [
       "Row(opening_name='Alekhine Defense, Balogh Variation', side='white', num_games='692', ECO='B03', last_played_date='2018-06-22', perf_rating='2247', avg_player='2225', perc_player_win='40.8', perc_draw='24.3', pec_opponent_win='35.0', moves_list=\"['1.e4', 'Nf6', '2.e5', 'Nd5', '3.d4', 'd6', '4.Bc4']\", move1w='e4', move1b='Nf6', move2w='e5', move2b='Nd5', move3w='d4', move3b='d6', move4w='Bc4', move4b=None, perc_white_win='40.8', perc_black_win='35.0', white_odds='1.1657142857142857', white_wins='282.336', black_wins='242.2')"
      ]
     },
     "execution_count": 14,
     "metadata": {},
     "output_type": "execute_result"
    }
   ],
   "source": [
    "dfAperturas.head()"
   ]
  },
  {
   "cell_type": "code",
   "execution_count": 15,
   "id": "b99a4675",
   "metadata": {},
   "outputs": [
    {
     "name": "stdout",
     "output_type": "stream",
     "text": [
      "+--------------------+---------+\n",
      "|             Opening|num_games|\n",
      "+--------------------+---------+\n",
      "|Sicilian Defense:...|      146|\n",
      "|Sicilian Defense:...|      924|\n",
      "|Sicilian Defense:...|    10310|\n",
      "|Sicilian Defense:...|     1749|\n",
      "|Sicilian Defense:...|     1791|\n",
      "|Sicilian Defense:...|    22482|\n",
      "|Sicilian Defense:...|    16093|\n",
      "|Sicilian Defense:...|    17184|\n",
      "|Sicilian Defense:...|      213|\n",
      "|Sicilian Defense:...|      512|\n",
      "|Sicilian Defense:...|     1096|\n",
      "|Sicilian Defense:...|      254|\n",
      "|Sicilian Defense:...|     1217|\n",
      "|Sicilian Defense:...|      124|\n",
      "|Sicilian Defense:...|      713|\n",
      "|Sicilian Defense:...|      288|\n",
      "|Sicilian Defense:...|      202|\n",
      "|Sicilian Defense:...|      362|\n",
      "|Sicilian Defense:...|     2274|\n",
      "|Sicilian Defense:...|      219|\n",
      "+--------------------+---------+\n",
      "only showing top 20 rows\n",
      "\n"
     ]
    }
   ],
   "source": [
    "#Pregunta 8\n",
    "df.filter(df[\"Opening\"].contains(\"Sicilian Defense\")).join(dfAperturas, df[\"ECO\"] == dfAperturas[\"ECO\"], \"inner\").select([\"Opening\", \"num_games\"]).show()"
   ]
  },
  {
   "cell_type": "code",
   "execution_count": 16,
   "id": "04517d2a",
   "metadata": {},
   "outputs": [
    {
     "name": "stdout",
     "output_type": "stream",
     "text": [
      "+-----------------+---------+\n",
      "|          Opening|num_games|\n",
      "+-----------------+---------+\n",
      "|     Bird Opening|     6728|\n",
      "|     Bird Opening|      493|\n",
      "|     Bird Opening|      738|\n",
      "|     Réti Opening|    15625|\n",
      "|     Réti Opening|      463|\n",
      "|     Réti Opening|    20045|\n",
      "|     Réti Opening|      895|\n",
      "|     Réti Opening|     1434|\n",
      "|     Réti Opening|     3596|\n",
      "|     Réti Opening|      572|\n",
      "|     Réti Opening|     3309|\n",
      "|     Réti Opening|     5579|\n",
      "|     Réti Opening|      637|\n",
      "|     Réti Opening|      306|\n",
      "|     Réti Opening|     8899|\n",
      "|     Réti Opening|     6773|\n",
      "|     Réti Opening|     1035|\n",
      "|     Réti Opening|      329|\n",
      "|Queen's Pawn Game|     2199|\n",
      "|Queen's Pawn Game|      462|\n",
      "+-----------------+---------+\n",
      "only showing top 20 rows\n",
      "\n"
     ]
    }
   ],
   "source": [
    "#Pregunta 9\n",
    "df.filter((df[\"Blackelo\"] < 1900) & (df[\"WhiteElo\"] < 1900)).join(dfAperturas, df[\"ECO\"] == dfAperturas[\"ECO\"], \"inner\").select([\"Opening\", \"num_games\"]).show()"
   ]
  }
 ],
 "metadata": {
  "kernelspec": {
   "display_name": "Python 3 (ipykernel)",
   "language": "python",
   "name": "python3"
  },
  "language_info": {
   "codemirror_mode": {
    "name": "ipython",
    "version": 3
   },
   "file_extension": ".py",
   "mimetype": "text/x-python",
   "name": "python",
   "nbconvert_exporter": "python",
   "pygments_lexer": "ipython3",
   "version": "3.8.10"
  }
 },
 "nbformat": 4,
 "nbformat_minor": 5
}
