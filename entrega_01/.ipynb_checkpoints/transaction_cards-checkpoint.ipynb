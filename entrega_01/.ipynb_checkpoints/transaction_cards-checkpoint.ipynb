{
 "cells": [
  {
   "cell_type": "code",
   "execution_count": 1,
   "id": "74816024",
   "metadata": {},
   "outputs": [
    {
     "data": {
      "text/html": [
       "\n",
       "        <div>\n",
       "            <p><b>SparkContext</b></p>\n",
       "\n",
       "            <p><a href=\"http://hadoop-master:4043\">Spark UI</a></p>\n",
       "\n",
       "            <dl>\n",
       "              <dt>Version</dt>\n",
       "                <dd><code>v3.2.1</code></dd>\n",
       "              <dt>Master</dt>\n",
       "                <dd><code>local[*]</code></dd>\n",
       "              <dt>AppName</dt>\n",
       "                <dd><code>PySparkShell</code></dd>\n",
       "            </dl>\n",
       "        </div>\n",
       "        "
      ],
      "text/plain": [
       "<SparkContext master=local[*] appName=PySparkShell>"
      ]
     },
     "execution_count": 1,
     "metadata": {},
     "output_type": "execute_result"
    }
   ],
   "source": [
    "# Mostra o contexto de execución Spark Context\n",
    "sc"
   ]
  },
  {
   "cell_type": "code",
   "execution_count": 2,
   "id": "e9cce535",
   "metadata": {},
   "outputs": [],
   "source": [
    "df = spark.read.csv(\"file:///home/hduser/archive(1)/credit.csv\")"
   ]
  },
  {
   "cell_type": "code",
   "execution_count": 3,
   "id": "ff0267f3",
   "metadata": {},
   "outputs": [],
   "source": [
    "df = df.withColumnRenamed(\"_c0\", \"user\")\\\n",
    "       .withColumnRenamed(\"_c1\", \"card\")\\\n",
    "       .withColumnRenamed(\"_c2\", \"year\")\\\n",
    "       .withColumnRenamed(\"_c3\", \"month\")\\\n",
    "       .withColumnRenamed(\"_c4\", \"day\")\\\n",
    "       .withColumnRenamed(\"_c5\", \"time\")\\\n",
    "       .withColumnRenamed(\"_c6\", \"amount\")\\\n",
    "       .withColumnRenamed(\"_c7\", \"use_chip\")\\\n",
    "       .withColumnRenamed(\"_c8\", \"merch_name\")\\\n",
    "       .withColumnRenamed(\"_c9\", \"merch_city\")\\\n",
    "       .withColumnRenamed(\"_c10\", \"merch_state\")\\\n",
    "       .withColumnRenamed(\"_c11\", \"zip\")\\\n",
    "       .withColumnRenamed(\"_c12\", \"mcc\")\\\n",
    "       .withColumnRenamed(\"_c13\", \"errors\")\\\n",
    "       .withColumnRenamed(\"_c14\", \"fraud\")"
   ]
  },
  {
   "cell_type": "code",
   "execution_count": 14,
   "id": "618abbe2",
   "metadata": {},
   "outputs": [],
   "source": [
    "df.createOrReplaceTempView('transaction_cards')"
   ]
  },
  {
   "cell_type": "code",
   "execution_count": 15,
   "id": "36da415b",
   "metadata": {},
   "outputs": [
    {
     "name": "stdout",
     "output_type": "stream",
     "text": [
      "+----+----+----+-----+---+-----+-------+------------------+--------------------+-------------+-----------+-------+----+------+-----+\n",
      "|user|card|year|month|day| time| amount|          use_chip|          merch_name|   merch_city|merch_state|    zip| mcc|errors|fraud|\n",
      "+----+----+----+-----+---+-----+-------+------------------+--------------------+-------------+-----------+-------+----+------+-----+\n",
      "|   0|   0|2002|    9|  1|06:21|$134.09| Swipe Transaction| 3527213246127876953|     La Verne|         CA|91750.0|5300|  null|   No|\n",
      "|   0|   0|2002|    9|  1|06:42| $38.48| Swipe Transaction| -727612092139916043|Monterey Park|         CA|91754.0|5411|  null|   No|\n",
      "|   0|   0|2002|    9|  2|06:22|$120.34| Swipe Transaction| -727612092139916043|Monterey Park|         CA|91754.0|5411|  null|   No|\n",
      "|   0|   0|2002|    9|  2|17:45|$128.95| Swipe Transaction| 3414527459579106770|Monterey Park|         CA|91754.0|5651|  null|   No|\n",
      "|   0|   0|2002|    9|  3|06:23|$104.71| Swipe Transaction| 5817218446178736267|     La Verne|         CA|91750.0|5912|  null|   No|\n",
      "|   0|   0|2002|    9|  3|13:53| $86.19| Swipe Transaction|-7146670748125200898|Monterey Park|         CA|91755.0|5970|  null|   No|\n",
      "|   0|   0|2002|    9|  4|05:51| $93.84| Swipe Transaction| -727612092139916043|Monterey Park|         CA|91754.0|5411|  null|   No|\n",
      "|   0|   0|2002|    9|  4|06:09|$123.50| Swipe Transaction| -727612092139916043|Monterey Park|         CA|91754.0|5411|  null|   No|\n",
      "|   0|   0|2002|    9|  5|06:14| $61.72| Swipe Transaction| -727612092139916043|Monterey Park|         CA|91754.0|5411|  null|   No|\n",
      "|   0|   0|2002|    9|  5|09:35| $57.10| Swipe Transaction| 4055257078481058705|     La Verne|         CA|91750.0|7538|  null|   No|\n",
      "|   0|   0|2002|    9|  5|20:18| $76.07| Swipe Transaction|-4500542936415012428|     La Verne|         CA|91750.0|5814|  null|   No|\n",
      "|   0|   0|2002|    9|  5|20:41| $53.91|Online Transaction|-9092677072201095172|       ONLINE|       null|   null|4900|  null|   No|\n",
      "|   0|   0|2002|    9|  6|06:16|$110.37| Swipe Transaction| 2027553650310142703|    Mira Loma|         CA|91752.0|5541|  null|   No|\n",
      "|   0|   0|2002|    9|  7|06:16|$117.05| Swipe Transaction| -727612092139916043|Monterey Park|         CA|91754.0|5411|  null|   No|\n",
      "|   0|   0|2002|    9|  7|06:34| $45.30| Swipe Transaction|-5475680618560174533|Monterey Park|         CA|91755.0|5942|  null|   No|\n",
      "|   0|   0|2002|    9|  7|09:39| $29.34| Swipe Transaction| 4055257078481058705|     La Verne|         CA|91750.0|7538|  null|   No|\n",
      "|   0|   0|2002|    9|  8|06:10|$147.45| Swipe Transaction|  -34551508091458520|     La Verne|         CA|91750.0|5912|  null|   No|\n",
      "|   0|   0|2002|    9|  8|06:38| $27.75| Swipe Transaction| 4060646732831064559|     La Verne|         CA|91750.0|5411|  null|   No|\n",
      "|   0|   0|2002|    9|  8|13:48| $76.57| Swipe Transaction| -727612092139916043|Monterey Park|         CA|91754.0|5411|  null|   No|\n",
      "|   0|   0|2002|    9|  8|22:01| $22.56| Swipe Transaction|-6733168469687845480|    Mira Loma|         CA|91752.0|7832|  null|   No|\n",
      "+----+----+----+-----+---+-----+-------+------------------+--------------------+-------------+-----------+-------+----+------+-----+\n",
      "only showing top 20 rows\n",
      "\n"
     ]
    }
   ],
   "source": [
    "spark.sql('SELECT * FROM transaction_cards').show()"
   ]
  },
  {
   "cell_type": "code",
   "execution_count": 8,
   "id": "6160ffd7",
   "metadata": {},
   "outputs": [
    {
     "name": "stdout",
     "output_type": "stream",
     "text": [
      "+------------------------+\n",
      "|concat(year, month, day)|\n",
      "+------------------------+\n",
      "|                 1999122|\n",
      "|                19991230|\n",
      "|                  200011|\n",
      "|                  200012|\n",
      "|                  200013|\n",
      "|                  200016|\n",
      "|                 2000113|\n",
      "|                 2000115|\n",
      "|                 2000128|\n",
      "|                 2000130|\n",
      "|                 2000130|\n",
      "|                  200022|\n",
      "|                 2000216|\n",
      "|                  200031|\n",
      "|                  200038|\n",
      "|                 2000312|\n",
      "|                 2000313|\n",
      "|                 2000315|\n",
      "|                 2000319|\n",
      "|                 2000321|\n",
      "+------------------------+\n",
      "only showing top 20 rows\n",
      "\n"
     ]
    }
   ],
   "source": [
    "# Muestra la fecha(“year”, “month”, “day”) como un único campo para la transacciones\n",
    "# tipo “Online Transaction” del usuario con id = 4\n",
    "spark.sql(\"SELECT CONCAT(year,month, day) FROM transaction_cards WHERE user == 4 AND use_chip == 'Online Transaction'\").show()"
   ]
  },
  {
   "cell_type": "code",
   "execution_count": 10,
   "id": "b449fa32",
   "metadata": {},
   "outputs": [
    {
     "name": "stderr",
     "output_type": "stream",
     "text": [
      "\r",
      "[Stage 6:>                                                          (0 + 4) / 4]\r"
     ]
    },
    {
     "name": "stdout",
     "output_type": "stream",
     "text": [
      "+----+----+-----------+\n",
      "|user|card|count(user)|\n",
      "+----+----+-----------+\n",
      "|  26|   0|      10945|\n",
      "|  31|   3|       3978|\n",
      "|  31|   1|       5696|\n",
      "|  26|   1|         33|\n",
      "|  15|   0|       2847|\n",
      "|   8|   2|      10742|\n",
      "|  34|   0|       4741|\n",
      "|  16|   2|        963|\n",
      "|  44|   1|      15949|\n",
      "|  15|   2|       2461|\n",
      "|   0|   4|         26|\n",
      "|   1|   4|       1149|\n",
      "|  37|   0|       3662|\n",
      "|   5|   1|       4253|\n",
      "|   9|   0|      18284|\n",
      "|  36|   1|       3726|\n",
      "|   0|   1|       1203|\n",
      "|   1|   1|       1830|\n",
      "|   7|   0|        236|\n",
      "|  10|   0|         49|\n",
      "+----+----+-----------+\n",
      "only showing top 20 rows\n",
      "\n"
     ]
    },
    {
     "name": "stderr",
     "output_type": "stream",
     "text": [
      "\r",
      "[Stage 6:==============>                                            (1 + 3) / 4]\r",
      "\r",
      "                                                                                \r"
     ]
    }
   ],
   "source": [
    "# ¿Qué cantidad de transacciones ha realizado cada tarjeta? (pd: las tarjetas se\n",
    "# identifican por dos números:“user” y “card”)\n",
    "spark.sql(\"SELECT user, card, COUNT(user) FROM transaction_cards GROUP BY user, card\").show()"
   ]
  },
  {
   "cell_type": "code",
   "execution_count": 12,
   "id": "fd3a04e8",
   "metadata": {},
   "outputs": [
    {
     "name": "stderr",
     "output_type": "stream",
     "text": [
      "\r",
      "[Stage 12:>                                                         (0 + 4) / 4]\r"
     ]
    },
    {
     "name": "stdout",
     "output_type": "stream",
     "text": [
      "+-------------------+------+\n",
      "|         merch_name|cuenta|\n",
      "+-------------------+------+\n",
      "|1799189980464955940|102100|\n",
      "+-------------------+------+\n",
      "\n"
     ]
    },
    {
     "name": "stderr",
     "output_type": "stream",
     "text": [
      "\r",
      "[Stage 12:=============================>                            (2 + 2) / 4]\r",
      "\r",
      "                                                                                \r"
     ]
    }
   ],
   "source": [
    "# En qué tienda se han realizado el mayor número de transacciones?(pd: el dataset no\n",
    "# contiene el nombre de la tienda, solo un identificador)\n",
    "spark.sql(\"SELECT merch_name, COUNT(*) as cuenta FROM transaction_cards GROUP BY merch_name ORDER BY cuenta DESC LIMIT 1\").show()"
   ]
  },
  {
   "cell_type": "code",
   "execution_count": 16,
   "id": "0101e5aa",
   "metadata": {},
   "outputs": [
    {
     "name": "stderr",
     "output_type": "stream",
     "text": [
      "\r",
      "[Stage 16:>                                                         (0 + 4) / 4]\r"
     ]
    },
    {
     "name": "stdout",
     "output_type": "stream",
     "text": [
      "+--------------------+\n",
      "|              errors|\n",
      "+--------------------+\n",
      "|    Technical Glitch|\n",
      "|Bad Card Number,B...|\n",
      "|Bad Expiration,Ba...|\n",
      "|Bad Card Number,I...|\n",
      "|Insufficient Balance|\n",
      "|     Bad Card Number|\n",
      "|                null|\n",
      "|Bad PIN,Insuffici...|\n",
      "|Bad Expiration,Te...|\n",
      "|Bad Expiration,In...|\n",
      "|Bad Card Number,B...|\n",
      "|             Bad PIN|\n",
      "|Bad Card Number,B...|\n",
      "|Insufficient Bala...|\n",
      "|             Bad CVV|\n",
      "|Bad PIN,Technical...|\n",
      "|      Bad Expiration|\n",
      "|         Bad Zipcode|\n",
      "|Bad CVV,Insuffici...|\n",
      "|Bad CVV,Technical...|\n",
      "+--------------------+\n",
      "only showing top 20 rows\n",
      "\n"
     ]
    },
    {
     "name": "stderr",
     "output_type": "stream",
     "text": [
      "\r",
      "[Stage 16:=============================>                            (2 + 2) / 4]\r",
      "\r",
      "                                                                                \r"
     ]
    }
   ],
   "source": [
    "#¿Cuáles son los distintos valores que tiene el campo “Errors?”?\n",
    "spark.sql(\"SELECT DISTINCT errors FROM transaction_cards\").show()"
   ]
  },
  {
   "cell_type": "code",
   "execution_count": 17,
   "id": "25f80593",
   "metadata": {},
   "outputs": [
    {
     "name": "stderr",
     "output_type": "stream",
     "text": [
      "\r",
      "[Stage 19:>                                                         (0 + 4) / 4]\r"
     ]
    },
    {
     "name": "stdout",
     "output_type": "stream",
     "text": [
      "+-------------+------+\n",
      "|   merch_city|   zip|\n",
      "+-------------+------+\n",
      "|     Weatogue|6089.0|\n",
      "|   Ridgefield|6877.0|\n",
      "|  Broad Brook|6016.0|\n",
      "|   West Haven|6516.0|\n",
      "|  Wallingford|6492.0|\n",
      "|      Norwalk|6853.0|\n",
      "|West Hartford|6110.0|\n",
      "|   Sandy Hook|6482.0|\n",
      "|       Groton|6340.0|\n",
      "|    Salisbury|6068.0|\n",
      "|       Berlin|6037.0|\n",
      "|     Prospect|6712.0|\n",
      "|   Deep River|6417.0|\n",
      "|     Old Lyme|6371.0|\n",
      "|   Willington|6279.0|\n",
      "|       Groton|5046.0|\n",
      "|East Hartford|6108.0|\n",
      "|     Hartford|6105.0|\n",
      "| East Corinth|5040.0|\n",
      "|   Manchester|6040.0|\n",
      "+-------------+------+\n",
      "only showing top 20 rows\n",
      "\n"
     ]
    },
    {
     "name": "stderr",
     "output_type": "stream",
     "text": [
      "\r",
      "                                                                                \r"
     ]
    }
   ],
   "source": [
    "# ¿Cuáles son los nombres y códigos zip de las ciudades donde se realizaron\n",
    "# transacciones, y su código zip es mayor a 5000 y menor a 7000?(pd: algunas\n",
    "# ciudades tienen varios zips) ORDEN ALFABÉTICO\n",
    "spark.sql(\"SELECT DISTINCT merch_city, zip FROM transaction_cards WHERE zip > 5000 AND zip<7000\").show()"
   ]
  },
  {
   "cell_type": "code",
   "execution_count": 19,
   "id": "16ac964b",
   "metadata": {},
   "outputs": [
    {
     "name": "stderr",
     "output_type": "stream",
     "text": [
      "\r",
      "[Stage 22:>                                                         (0 + 4) / 4]\r"
     ]
    },
    {
     "name": "stdout",
     "output_type": "stream",
     "text": [
      "+--------+\n",
      "|count(1)|\n",
      "+--------+\n",
      "|    2529|\n",
      "+--------+\n",
      "\n"
     ]
    },
    {
     "name": "stderr",
     "output_type": "stream",
     "text": [
      "\r",
      "                                                                                \r"
     ]
    }
   ],
   "source": [
    "# ¿Qué cantidad de fraudes se han cometido?\n",
    "spark.sql(\"SELECT COUNT(*) FROM transaction_cards WHERE fraud = 'Yes'\").show()spark.sql(\" SELECT COUNT(*) FROM transaction_cards WHERE fraud = 'Yes'\").show()"
   ]
  },
  {
   "cell_type": "code",
   "execution_count": 20,
   "id": "a46e1bc8",
   "metadata": {},
   "outputs": [
    {
     "name": "stderr",
     "output_type": "stream",
     "text": [
      "\r",
      "[Stage 25:>                                                         (0 + 4) / 4]\r"
     ]
    },
    {
     "name": "stdout",
     "output_type": "stream",
     "text": [
      "+------------------+\n",
      "|         avg(year)|\n",
      "+------------------+\n",
      "|2011.7077403077133|\n",
      "+------------------+\n",
      "\n"
     ]
    },
    {
     "name": "stderr",
     "output_type": "stream",
     "text": [
      "\r",
      "                                                                                \r"
     ]
    }
   ],
   "source": [
    "# ¿Cuál es la media de los años?\n",
    "spark.sql(\"SELECT AVG(year) FROM transaction_cards\").show()"
   ]
  },
  {
   "cell_type": "code",
   "execution_count": 22,
   "id": "017a655e",
   "metadata": {},
   "outputs": [
    {
     "name": "stderr",
     "output_type": "stream",
     "text": [
      "\r",
      "[Stage 28:>                                                         (0 + 4) / 4]\r"
     ]
    },
    {
     "name": "stdout",
     "output_type": "stream",
     "text": [
      "+----+----+----+-----+---+-----+-------+----------------+-------------------+----------+-----------+-------+----+------+-----+\n",
      "|user|card|year|month|day| time| amount|        use_chip|         merch_name|merch_city|merch_state|    zip| mcc|errors|fraud|\n",
      "+----+----+----+-----+---+-----+-------+----------------+-------------------+----------+-----------+-------+----+------+-----+\n",
      "|  99|   1|2019|   11| 26|12:51|$594.73|Chip Transaction|3452760747765970571|Lewisville|         TX|75077.0|3174|  null|   No|\n",
      "+----+----+----+-----+---+-----+-------+----------------+-------------------+----------+-----------+-------+----+------+-----+\n",
      "\n"
     ]
    },
    {
     "name": "stderr",
     "output_type": "stream",
     "text": [
      "\r",
      "[Stage 28:=============================>                            (2 + 2) / 4]\r",
      "\r",
      "                                                                                \r"
     ]
    }
   ],
   "source": [
    "# ¿Cuál es la última fila del dataset?\n",
    "spark.sql(\"SELECT * FROM transaction_cards ORDER BY (user, card) DESC LIMIT 1\").show()"
   ]
  },
  {
   "cell_type": "code",
   "execution_count": 33,
   "id": "46a7097a",
   "metadata": {},
   "outputs": [],
   "source": [
    "df_cards = spark.read.csv(\"file:///home/hduser/archive(1)/sd254_cards.csv\")"
   ]
  },
  {
   "cell_type": "code",
   "execution_count": 34,
   "id": "afde6f99",
   "metadata": {},
   "outputs": [],
   "source": [
    "df_cards = df_cards.withColumnRenamed(\"_c0\", \"user\")\\\n",
    "       .withColumnRenamed(\"_c1\", \"card\")\\\n",
    "       .withColumnRenamed(\"_c2\", \"brand\")\\\n",
    "       .withColumnRenamed(\"_c3\", \"type\")\\\n",
    "       .withColumnRenamed(\"_c4\", \"number\")\\\n",
    "       .withColumnRenamed(\"_c5\", \"expires\")\\\n",
    "       .withColumnRenamed(\"_c6\", \"cvv\")\\\n",
    "       .withColumnRenamed(\"_c7\", \"chip\")"
   ]
  },
  {
   "cell_type": "code",
   "execution_count": 35,
   "id": "c829fc9d",
   "metadata": {},
   "outputs": [],
   "source": [
    "df_cards.createOrReplaceTempView('cards')"
   ]
  },
  {
   "cell_type": "code",
   "execution_count": 36,
   "id": "656ebff0",
   "metadata": {},
   "outputs": [
    {
     "name": "stdout",
     "output_type": "stream",
     "text": [
      "+----+----------+----------+---------------+----------------+-------+---+--------+------------+------------+--------------+--------------------+----------------+\n",
      "|user|      card|     brand|           type|          number|expires|cvv|    chip|         _c8|         _c9|          _c10|                _c11|            _c12|\n",
      "+----+----------+----------+---------------+----------------+-------+---+--------+------------+------------+--------------+--------------------+----------------+\n",
      "|User|CARD INDEX|Card Brand|      Card Type|     Card Number|Expires|CVV|Has Chip|Cards Issued|Credit Limit|Acct Open Date|Year PIN last Cha...|Card on Dark Web|\n",
      "|   0|         0|      Visa|          Debit|4344676511950444|12/2022|623|     YES|           2|      $24295|       09/2002|                2008|              No|\n",
      "|   0|         1|      Visa|          Debit|4956965974959986|12/2020|393|     YES|           2|      $21968|       04/2014|                2014|              No|\n",
      "|   0|         2|      Visa|          Debit|4582313478255491|02/2024|719|     YES|           2|      $46414|       07/2003|                2004|              No|\n",
      "|   0|         3|      Visa|         Credit|4879494103069057|08/2024|693|      NO|           1|      $12400|       01/2003|                2012|              No|\n",
      "|   0|         4|Mastercard|Debit (Prepaid)|5722874738736011|03/2009|075|     YES|           1|         $28|       09/2008|                2009|              No|\n",
      "|   1|         0|      Visa|         Credit|4404898874682993|09/2003|736|     YES|           1|      $27500|       09/2003|                2012|              No|\n",
      "|   1|         1|      Visa|          Debit|4001482973848631|07/2022|972|     YES|           2|      $28508|       02/2011|                2011|              No|\n",
      "|   1|         2|Mastercard|          Debit|5627220683410948|06/2022|048|     YES|           2|       $9022|       07/2003|                2015|              No|\n",
      "|   1|         3|Mastercard|Debit (Prepaid)|5711382187309326|11/2020|722|     YES|           2|         $54|       06/2010|                2015|              No|\n",
      "|   1|         4|Mastercard|Debit (Prepaid)|5766121508358701|02/2023|908|     YES|           1|         $99|       07/2006|                2012|              No|\n",
      "|   2|         0|Mastercard|          Debit|5495199163052054|03/2022|677|     YES|           2|      $31599|       10/2009|                2009|              No|\n",
      "|   2|         1|Mastercard|          Debit|5804499644308599|07/2023|258|      NO|           2|      $27480|       03/2002|                2008|              No|\n",
      "|   2|         2|Mastercard|          Debit|5766352389579834|02/2020|992|     YES|           1|      $26743|       03/2019|                2019|              No|\n",
      "|   2|         3|      Visa|          Debit|4242015583697294|06/2020|928|     YES|           1|      $31463|       04/2014|                2014|              No|\n",
      "|   2|         4|Mastercard|          Debit|5191030913182493|06/2024|360|     YES|           1|      $16055|       09/2009|                2009|              No|\n",
      "|   3|         0|      Visa|         Credit|4017261190134817|05/2015|877|     YES|           2|      $98100|       01/2011|                2011|              No|\n",
      "|   3|         1|Mastercard|Debit (Prepaid)|5581970288727991|06/2020|448|     YES|           1|         $62|       02/2007|                2007|              No|\n",
      "|   3|         2|      Visa|          Debit|4032240655674503|06/2022|053|     YES|           1|     $132439|       11/2010|                2011|              No|\n",
      "|   3|         3|      Visa|          Debit|4935974646456357|06/2020|649|     YES|           1|     $125723|       10/2009|                2010|              No|\n",
      "+----+----------+----------+---------------+----------------+-------+---+--------+------------+------------+--------------+--------------------+----------------+\n",
      "only showing top 20 rows\n",
      "\n"
     ]
    }
   ],
   "source": [
    "spark.sql('SELECT * FROM cards').show()"
   ]
  },
  {
   "cell_type": "code",
   "execution_count": 37,
   "id": "ccde28eb",
   "metadata": {},
   "outputs": [
    {
     "name": "stderr",
     "output_type": "stream",
     "text": [
      "\r",
      "[Stage 34:>                                                         (0 + 4) / 4]\r"
     ]
    },
    {
     "name": "stdout",
     "output_type": "stream",
     "text": [
      "+----------+---------------+----------------+\n",
      "|     brand|           type|          number|\n",
      "+----------+---------------+----------------+\n",
      "|      Visa|          Debit|4344676511950444|\n",
      "|Mastercard|          Debit|5456808094753905|\n",
      "|Mastercard|          Debit|5281056728185174|\n",
      "|      Visa|         Credit|4404898874682993|\n",
      "|      Amex|         Credit| 399966116933253|\n",
      "|      Visa|         Credit|4879494103069057|\n",
      "|      Visa|          Debit|4242015583697294|\n",
      "|Mastercard|Debit (Prepaid)|5750288075891808|\n",
      "|Mastercard|         Credit|5882842508952744|\n",
      "|Mastercard|         Credit|5247576622089394|\n",
      "|      Visa|         Credit|4231526239204033|\n",
      "|Mastercard|         Credit|5172743861765175|\n",
      "|Mastercard|Debit (Prepaid)|5711382187309326|\n",
      "|Mastercard|          Debit|5804499644308599|\n",
      "|Mastercard|          Debit|5191030913182493|\n",
      "|Mastercard|         Credit|5301114615829913|\n",
      "|      Visa|          Debit|4013876625955765|\n",
      "|      Visa|         Credit|4800116569994473|\n",
      "|Mastercard|          Debit|5401948301255038|\n",
      "|      Visa|          Debit|4055403312631050|\n",
      "+----------+---------------+----------------+\n",
      "only showing top 20 rows\n",
      "\n"
     ]
    },
    {
     "name": "stderr",
     "output_type": "stream",
     "text": [
      "\r",
      "                                                                                \r"
     ]
    }
   ],
   "source": [
    "# Muestra los atributos “Card Brand”, “Card Type”, “Card Number” para cada tarjeta\n",
    "spark.sql(\"SELECT DISTINCT cards.brand, cards.type , cards.number FROM transaction_cards, cards WHERE cards.user == transaction_cards.user AND cards.card == transaction_cards.card\").show()"
   ]
  },
  {
   "cell_type": "code",
   "execution_count": 39,
   "id": "3f88ad1e",
   "metadata": {},
   "outputs": [
    {
     "name": "stderr",
     "output_type": "stream",
     "text": [
      "[Stage 38:==============>                                           (1 + 3) / 4]\r"
     ]
    },
    {
     "name": "stdout",
     "output_type": "stream",
     "text": [
      "+----+--------------------------+\n",
      "|chip|count(DISTINCT user, card)|\n",
      "+----+--------------------------+\n",
      "| YES|                       505|\n",
      "+----+--------------------------+\n",
      "\n"
     ]
    },
    {
     "name": "stderr",
     "output_type": "stream",
     "text": [
      "\r",
      "                                                                                \r"
     ]
    }
   ],
   "source": [
    "# ¿Qué cantidad de tarjetas tienen CHIP?\n",
    "spark.sql(\"SELECT cards.chip, COUNT(DISTINCT cards.user, cards.card) FROM cards, transaction_cards WHERE cards.user == transaction_cards.user AND cards.card == transaction_cards.card AND cards.chip='YES' GROUP BY cards.chip\").show()"
   ]
  }
 ],
 "metadata": {
  "kernelspec": {
   "display_name": "Python 3 (ipykernel)",
   "language": "python",
   "name": "python3"
  },
  "language_info": {
   "codemirror_mode": {
    "name": "ipython",
    "version": 3
   },
   "file_extension": ".py",
   "mimetype": "text/x-python",
   "name": "python",
   "nbconvert_exporter": "python",
   "pygments_lexer": "ipython3",
   "version": "3.8.10"
  }
 },
 "nbformat": 4,
 "nbformat_minor": 5
}
