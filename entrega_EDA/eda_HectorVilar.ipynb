{
 "cells": [
  {
   "cell_type": "markdown",
   "metadata": {},
   "source": [
    "<h1><b><u>Análise exploratorio dos datos Héctor Vilar</u></b></h1>"
   ]
  },
  {
   "cell_type": "markdown",
   "metadata": {},
   "source": [
    "<h2><b>Descrición dos datos</b></h2>\n",
    "<p><b>Rank:</b> posición dentro do ranking que ocupa o anime</p>\n",
    "<p><b>Name:</b> nome do anime</p>\n",
    "<p><b>Japanese_name:</b> nome xaponés do anime</p>\n",
    "<p><b>Type:</b> tipo do anime(serie, película, ova ...)</p>\n",
    "<p><b>Episodes:</b> número de episodios que ten o anime</p>\n",
    "<p><b>Studio:</b> estudio que animou o anime</p>\n",
    "<p><b>Release_season:</b> temporada(época do ano) na que saíu o anime</p>\n",
    "<p><b>Tags:</b> xéneros que abarca o anime</p>\n",
    "<p><b>Rating:</b> valoración do anime de 0 a 5</p>\n",
    "<p><b>Release_year:</b> ano no que saíu o anime</p>\n",
    "<p><b>End_year:</b> ano no que rematou o anime</p>\n",
    "<p><b>Description:</b> descripción do anime</p>\n",
    "<p><b>Content warning:</b> contido 'perigoso' que pode ter o anime(violencia,suicidio ...)</p>\n",
    "<p><b>Related_manga:</b> mangas relacionados</p>\n",
    "<p><b>Related_anime:</b> animes relacionados</p>\n",
    "<p><b>Voice_actor:</b> persoas que puxeron a voz dos personaxes</p>\n",
    "<p><b>Staff:</b> persoas que participaron na realización do anime</p>"
   ]
  },
  {
   "cell_type": "markdown",
   "metadata": {},
   "source": [
    "<h2><b>Tipos dos datos</b></h2>\n",
    "<p><b>Rank:</b> int</p>\n",
    "<p><b>Name:</b> String</p>\n",
    "<p><b>Japanese_name:</b> String</p>\n",
    "<p><b>Type:</b> String</p>\n",
    "<p><b>Episodes:</b> int</p>\n",
    "<p><b>Studio:</b> String</p>\n",
    "<p><b>Release_season:</b> String</p>\n",
    "<p><b>Tags:</b> String</p>\n",
    "<p><b>Rating:</b> Float</p>\n",
    "<p><b>Release_year:</b> int</p>\n",
    "<p><b>End_year:</b> int</p>\n",
    "<p><b>Description:</b> String</p>\n",
    "<p><b>Content warning:</b> String</p>\n",
    "<p><b>Related_manga:</b> String</p>\n",
    "<p><b>Related_anime:</b> String</p>\n",
    "<p><b>Voice_actor:</b> String</p>\n",
    "<p><b>Staff:</b> String</p>"
   ]
  },
  {
   "cell_type": "code",
   "execution_count": 1,
   "metadata": {},
   "outputs": [],
   "source": [
    "#Importo as librerías\n",
    "import seaborn as sns\n",
    "import numpy as np\n",
    "import pandas as pd\n",
    "import matplotlib.pyplot as plt"
   ]
  },
  {
   "cell_type": "code",
   "execution_count": 2,
   "metadata": {},
   "outputs": [],
   "source": [
    "#Abro o ficheiro obtido de https://www.kaggle.com/vishalmane10/anime-dataset-2022?select=Anime.csv\n",
    "anime = pd.read_csv('Anime.csv', index_col = 0);"
   ]
  },
  {
   "cell_type": "code",
   "execution_count": 3,
   "metadata": {},
   "outputs": [
    {
     "name": "stdout",
     "output_type": "stream",
     "text": [
      "<class 'pandas.core.frame.DataFrame'>\n",
      "Int64Index: 18495 entries, 1 to 18495\n",
      "Data columns (total 16 columns):\n",
      " #   Column           Non-Null Count  Dtype  \n",
      "---  ------           --------------  -----  \n",
      " 0   Name             18495 non-null  object \n",
      " 1   Japanese_name    7938 non-null   object \n",
      " 2   Type             18495 non-null  object \n",
      " 3   Episodes         9501 non-null   float64\n",
      " 4   Studio           12018 non-null  object \n",
      " 5   Release_season   4116 non-null   object \n",
      " 6   Tags             18095 non-null  object \n",
      " 7   Rating           15364 non-null  float64\n",
      " 8   Release_year     18112 non-null  float64\n",
      " 9   End_year         2854 non-null   float64\n",
      " 10  Description      18491 non-null  object \n",
      " 11  Content_Warning  1840 non-null   object \n",
      " 12  Related_Mange    7627 non-null   object \n",
      " 13  Related_anime    10063 non-null  object \n",
      " 14  Voice_actors     15309 non-null  object \n",
      " 15  staff            13005 non-null  object \n",
      "dtypes: float64(4), object(12)\n",
      "memory usage: 2.4+ MB\n"
     ]
    }
   ],
   "source": [
    "#Tipo de datos do dataset no dataframe\n",
    "anime.info()"
   ]
  },
  {
   "cell_type": "code",
   "execution_count": 4,
   "metadata": {},
   "outputs": [
    {
     "data": {
      "text/html": [
       "<div>\n",
       "<style scoped>\n",
       "    .dataframe tbody tr th:only-of-type {\n",
       "        vertical-align: middle;\n",
       "    }\n",
       "\n",
       "    .dataframe tbody tr th {\n",
       "        vertical-align: top;\n",
       "    }\n",
       "\n",
       "    .dataframe thead th {\n",
       "        text-align: right;\n",
       "    }\n",
       "</style>\n",
       "<table border=\"1\" class=\"dataframe\">\n",
       "  <thead>\n",
       "    <tr style=\"text-align: right;\">\n",
       "      <th></th>\n",
       "      <th>Name</th>\n",
       "      <th>Japanese_name</th>\n",
       "      <th>Type</th>\n",
       "      <th>Episodes</th>\n",
       "      <th>Studio</th>\n",
       "      <th>Release_season</th>\n",
       "      <th>Tags</th>\n",
       "      <th>Rating</th>\n",
       "      <th>Release_year</th>\n",
       "      <th>End_year</th>\n",
       "      <th>Description</th>\n",
       "      <th>Content_Warning</th>\n",
       "      <th>Related_Mange</th>\n",
       "      <th>Related_anime</th>\n",
       "      <th>Voice_actors</th>\n",
       "      <th>staff</th>\n",
       "    </tr>\n",
       "    <tr>\n",
       "      <th>Rank</th>\n",
       "      <th></th>\n",
       "      <th></th>\n",
       "      <th></th>\n",
       "      <th></th>\n",
       "      <th></th>\n",
       "      <th></th>\n",
       "      <th></th>\n",
       "      <th></th>\n",
       "      <th></th>\n",
       "      <th></th>\n",
       "      <th></th>\n",
       "      <th></th>\n",
       "      <th></th>\n",
       "      <th></th>\n",
       "      <th></th>\n",
       "      <th></th>\n",
       "    </tr>\n",
       "  </thead>\n",
       "  <tbody>\n",
       "    <tr>\n",
       "      <th>148</th>\n",
       "      <td>Miss Kobayashi's Dragon Maid S</td>\n",
       "      <td>Kobayashi-san Chi no Maid Dragon S</td>\n",
       "      <td>TV</td>\n",
       "      <td>12.0</td>\n",
       "      <td>Kyoto Animation</td>\n",
       "      <td>Summer</td>\n",
       "      <td>Comedy, Fantasy, Seinen, Slice of Life, Animal...</td>\n",
       "      <td>4.30</td>\n",
       "      <td>2021.0</td>\n",
       "      <td>NaN</td>\n",
       "      <td>\"The second season of Miss Kobayashi's Dragon ...</td>\n",
       "      <td>NaN</td>\n",
       "      <td>Miss Kobayashi's Dragon Maid</td>\n",
       "      <td>Miss Kobayashi's Dragon Maid, Miss Kobayashi's...</td>\n",
       "      <td>Kanna Kamui : Maria Naganawa, Kobayashi : Muts...</td>\n",
       "      <td>Coolkyousinjya : Original Creator, Tatsuya Ish...</td>\n",
       "    </tr>\n",
       "    <tr>\n",
       "      <th>4200</th>\n",
       "      <td>Bakumatsu no Spasibo</td>\n",
       "      <td>NaN</td>\n",
       "      <td>Movie</td>\n",
       "      <td>NaN</td>\n",
       "      <td>Magic Bus</td>\n",
       "      <td>NaN</td>\n",
       "      <td>Adventure, Historical</td>\n",
       "      <td>3.56</td>\n",
       "      <td>1997.0</td>\n",
       "      <td>NaN</td>\n",
       "      <td>'No synopsis yet - check back soon!'</td>\n",
       "      <td>NaN</td>\n",
       "      <td>NaN</td>\n",
       "      <td>NaN</td>\n",
       "      <td>Yevfimy Vasilyevich Putyatin : Seizo Katou, Sa...</td>\n",
       "      <td>Satoshi Dezaki : Director &amp; Screenplay, Kazuno...</td>\n",
       "    </tr>\n",
       "    <tr>\n",
       "      <th>2769</th>\n",
       "      <td>Sailor Moon R Memorial</td>\n",
       "      <td>Bishoujo Senshi Sailor Moon R Memorial</td>\n",
       "      <td>OVA</td>\n",
       "      <td>1.0</td>\n",
       "      <td>Toei Animation</td>\n",
       "      <td>NaN</td>\n",
       "      <td>Magical Girl, Shoujo, Henshin Heroes, Magic, R...</td>\n",
       "      <td>3.69</td>\n",
       "      <td>1998.0</td>\n",
       "      <td>NaN</td>\n",
       "      <td>'With Queen Beryl defeated and her Dark Kingdo...</td>\n",
       "      <td>NaN</td>\n",
       "      <td>Codename: Sailor V, Sailor Moon, Pretty Guardi...</td>\n",
       "      <td>Sailor Moon, Sailor Moon R, Sailor Moon R: The...</td>\n",
       "      <td>Naoko Takeuchi\\nOriginal Creator</td>\n",
       "      <td>Naoko Takeuchi : Original Creator</td>\n",
       "    </tr>\n",
       "    <tr>\n",
       "      <th>17054</th>\n",
       "      <td>Tegami</td>\n",
       "      <td>Letter</td>\n",
       "      <td>OVA</td>\n",
       "      <td>1.0</td>\n",
       "      <td>NaN</td>\n",
       "      <td>NaN</td>\n",
       "      <td>Drama, Educational, Family Friendly, Historica...</td>\n",
       "      <td>NaN</td>\n",
       "      <td>2004.0</td>\n",
       "      <td>NaN</td>\n",
       "      <td>No synopsis yet - check back soon!</td>\n",
       "      <td>NaN</td>\n",
       "      <td>NaN</td>\n",
       "      <td>NaN</td>\n",
       "      <td>NaN</td>\n",
       "      <td>NaN</td>\n",
       "    </tr>\n",
       "    <tr>\n",
       "      <th>5327</th>\n",
       "      <td>Miss Caretaker of Sunohara-sou</td>\n",
       "      <td>Sunoharasou no Kanrinin-san</td>\n",
       "      <td>TV</td>\n",
       "      <td>12.0</td>\n",
       "      <td>SILVER LINK.</td>\n",
       "      <td>Summer</td>\n",
       "      <td>Comedy, Ecchi, Slice of Life, Boarding House, ...</td>\n",
       "      <td>3.49</td>\n",
       "      <td>2018.0</td>\n",
       "      <td>NaN</td>\n",
       "      <td>'Feminine-featured Shiina Aki is at odds with ...</td>\n",
       "      <td>NaN</td>\n",
       "      <td>Sunoharasou no Kanrinin-san</td>\n",
       "      <td>NaN</td>\n",
       "      <td>Aki Shiina : Eri Kitamura, Ayaka Sunohara : Ri...</td>\n",
       "      <td>Nekoume : Original Creator, Shin Oonuma : Chie...</td>\n",
       "    </tr>\n",
       "    <tr>\n",
       "      <th>6335</th>\n",
       "      <td>Higanjima X</td>\n",
       "      <td>NaN</td>\n",
       "      <td>Web</td>\n",
       "      <td>12.0</td>\n",
       "      <td>Fever Creations</td>\n",
       "      <td>Fall</td>\n",
       "      <td>Action, Comedy, Horror, Island, Short Episodes...</td>\n",
       "      <td>3.43</td>\n",
       "      <td>2016.0</td>\n",
       "      <td>2017.0</td>\n",
       "      <td>'Akira is in the midst of the final battle bet...</td>\n",
       "      <td>Violence</td>\n",
       "      <td>Higanjima, Higanjima: Saigo no 47 Nichikan, Hi...</td>\n",
       "      <td>NaN</td>\n",
       "      <td>Akira Miyamoto : Kouichi Yamadera, Kouji Matsu...</td>\n",
       "      <td>Kouji Matsumoto : Original Creator, Ryousuke A...</td>\n",
       "    </tr>\n",
       "  </tbody>\n",
       "</table>\n",
       "</div>"
      ],
      "text/plain": [
       "                                 Name  \\\n",
       "Rank                                    \n",
       "148    Miss Kobayashi's Dragon Maid S   \n",
       "4200             Bakumatsu no Spasibo   \n",
       "2769           Sailor Moon R Memorial   \n",
       "17054                          Tegami   \n",
       "5327   Miss Caretaker of Sunohara-sou   \n",
       "6335                      Higanjima X   \n",
       "\n",
       "                                 Japanese_name   Type  Episodes  \\\n",
       "Rank                                                              \n",
       "148         Kobayashi-san Chi no Maid Dragon S  TV         12.0   \n",
       "4200                                       NaN  Movie       NaN   \n",
       "2769    Bishoujo Senshi Sailor Moon R Memorial  OVA         1.0   \n",
       "17054                                   Letter  OVA         1.0   \n",
       "5327               Sunoharasou no Kanrinin-san  TV         12.0   \n",
       "6335                                       NaN  Web        12.0   \n",
       "\n",
       "                Studio Release_season  \\\n",
       "Rank                                    \n",
       "148    Kyoto Animation         Summer   \n",
       "4200         Magic Bus            NaN   \n",
       "2769    Toei Animation            NaN   \n",
       "17054              NaN            NaN   \n",
       "5327      SILVER LINK.         Summer   \n",
       "6335   Fever Creations          Fall    \n",
       "\n",
       "                                                    Tags  Rating  \\\n",
       "Rank                                                               \n",
       "148    Comedy, Fantasy, Seinen, Slice of Life, Animal...    4.30   \n",
       "4200                               Adventure, Historical    3.56   \n",
       "2769   Magical Girl, Shoujo, Henshin Heroes, Magic, R...    3.69   \n",
       "17054  Drama, Educational, Family Friendly, Historica...     NaN   \n",
       "5327   Comedy, Ecchi, Slice of Life, Boarding House, ...    3.49   \n",
       "6335   Action, Comedy, Horror, Island, Short Episodes...    3.43   \n",
       "\n",
       "       Release_year  End_year  \\\n",
       "Rank                            \n",
       "148          2021.0       NaN   \n",
       "4200         1997.0       NaN   \n",
       "2769         1998.0       NaN   \n",
       "17054        2004.0       NaN   \n",
       "5327         2018.0       NaN   \n",
       "6335         2016.0    2017.0   \n",
       "\n",
       "                                             Description Content_Warning  \\\n",
       "Rank                                                                       \n",
       "148    \"The second season of Miss Kobayashi's Dragon ...             NaN   \n",
       "4200                'No synopsis yet - check back soon!'             NaN   \n",
       "2769   'With Queen Beryl defeated and her Dark Kingdo...             NaN   \n",
       "17054                 No synopsis yet - check back soon!             NaN   \n",
       "5327   'Feminine-featured Shiina Aki is at odds with ...             NaN   \n",
       "6335   'Akira is in the midst of the final battle bet...        Violence   \n",
       "\n",
       "                                           Related_Mange  \\\n",
       "Rank                                                       \n",
       "148                         Miss Kobayashi's Dragon Maid   \n",
       "4200                                                 NaN   \n",
       "2769   Codename: Sailor V, Sailor Moon, Pretty Guardi...   \n",
       "17054                                                NaN   \n",
       "5327                         Sunoharasou no Kanrinin-san   \n",
       "6335   Higanjima, Higanjima: Saigo no 47 Nichikan, Hi...   \n",
       "\n",
       "                                           Related_anime  \\\n",
       "Rank                                                       \n",
       "148    Miss Kobayashi's Dragon Maid, Miss Kobayashi's...   \n",
       "4200                                                 NaN   \n",
       "2769   Sailor Moon, Sailor Moon R, Sailor Moon R: The...   \n",
       "17054                                                NaN   \n",
       "5327                                                 NaN   \n",
       "6335                                                 NaN   \n",
       "\n",
       "                                            Voice_actors  \\\n",
       "Rank                                                       \n",
       "148    Kanna Kamui : Maria Naganawa, Kobayashi : Muts...   \n",
       "4200   Yevfimy Vasilyevich Putyatin : Seizo Katou, Sa...   \n",
       "2769                    Naoko Takeuchi\\nOriginal Creator   \n",
       "17054                                                NaN   \n",
       "5327   Aki Shiina : Eri Kitamura, Ayaka Sunohara : Ri...   \n",
       "6335   Akira Miyamoto : Kouichi Yamadera, Kouji Matsu...   \n",
       "\n",
       "                                                   staff  \n",
       "Rank                                                      \n",
       "148    Coolkyousinjya : Original Creator, Tatsuya Ish...  \n",
       "4200   Satoshi Dezaki : Director & Screenplay, Kazuno...  \n",
       "2769                   Naoko Takeuchi : Original Creator  \n",
       "17054                                                NaN  \n",
       "5327   Nekoume : Original Creator, Shin Oonuma : Chie...  \n",
       "6335   Kouji Matsumoto : Original Creator, Ryousuke A...  "
      ]
     },
     "execution_count": 4,
     "metadata": {},
     "output_type": "execute_result"
    }
   ],
   "source": [
    "#Exemplos do dataset\n",
    "anime.sample(6)"
   ]
  },
  {
   "cell_type": "code",
   "execution_count": 5,
   "metadata": {},
   "outputs": [
    {
     "data": {
      "text/html": [
       "<div>\n",
       "<style scoped>\n",
       "    .dataframe tbody tr th:only-of-type {\n",
       "        vertical-align: middle;\n",
       "    }\n",
       "\n",
       "    .dataframe tbody tr th {\n",
       "        vertical-align: top;\n",
       "    }\n",
       "\n",
       "    .dataframe thead th {\n",
       "        text-align: right;\n",
       "    }\n",
       "</style>\n",
       "<table border=\"1\" class=\"dataframe\">\n",
       "  <thead>\n",
       "    <tr style=\"text-align: right;\">\n",
       "      <th></th>\n",
       "      <th>Episodes</th>\n",
       "      <th>Rating</th>\n",
       "      <th>Release_year</th>\n",
       "      <th>End_year</th>\n",
       "    </tr>\n",
       "  </thead>\n",
       "  <tbody>\n",
       "    <tr>\n",
       "      <th>count</th>\n",
       "      <td>9501.000000</td>\n",
       "      <td>15364.000000</td>\n",
       "      <td>18112.000000</td>\n",
       "      <td>2854.000000</td>\n",
       "    </tr>\n",
       "    <tr>\n",
       "      <th>mean</th>\n",
       "      <td>20.920850</td>\n",
       "      <td>3.355133</td>\n",
       "      <td>2006.520318</td>\n",
       "      <td>2004.256132</td>\n",
       "    </tr>\n",
       "    <tr>\n",
       "      <th>std</th>\n",
       "      <td>37.990858</td>\n",
       "      <td>0.400624</td>\n",
       "      <td>15.189537</td>\n",
       "      <td>13.257484</td>\n",
       "    </tr>\n",
       "    <tr>\n",
       "      <th>min</th>\n",
       "      <td>1.000000</td>\n",
       "      <td>0.960000</td>\n",
       "      <td>1907.000000</td>\n",
       "      <td>1962.000000</td>\n",
       "    </tr>\n",
       "    <tr>\n",
       "      <th>25%</th>\n",
       "      <td>2.000000</td>\n",
       "      <td>3.130000</td>\n",
       "      <td>2001.000000</td>\n",
       "      <td>1996.000000</td>\n",
       "    </tr>\n",
       "    <tr>\n",
       "      <th>50%</th>\n",
       "      <td>12.000000</td>\n",
       "      <td>3.360000</td>\n",
       "      <td>2012.000000</td>\n",
       "      <td>2007.000000</td>\n",
       "    </tr>\n",
       "    <tr>\n",
       "      <th>75%</th>\n",
       "      <td>26.000000</td>\n",
       "      <td>3.590000</td>\n",
       "      <td>2017.000000</td>\n",
       "      <td>2015.000000</td>\n",
       "    </tr>\n",
       "    <tr>\n",
       "      <th>max</th>\n",
       "      <td>800.000000</td>\n",
       "      <td>4.600000</td>\n",
       "      <td>2023.000000</td>\n",
       "      <td>2022.000000</td>\n",
       "    </tr>\n",
       "  </tbody>\n",
       "</table>\n",
       "</div>"
      ],
      "text/plain": [
       "          Episodes        Rating  Release_year     End_year\n",
       "count  9501.000000  15364.000000  18112.000000  2854.000000\n",
       "mean     20.920850      3.355133   2006.520318  2004.256132\n",
       "std      37.990858      0.400624     15.189537    13.257484\n",
       "min       1.000000      0.960000   1907.000000  1962.000000\n",
       "25%       2.000000      3.130000   2001.000000  1996.000000\n",
       "50%      12.000000      3.360000   2012.000000  2007.000000\n",
       "75%      26.000000      3.590000   2017.000000  2015.000000\n",
       "max     800.000000      4.600000   2023.000000  2022.000000"
      ]
     },
     "execution_count": 5,
     "metadata": {},
     "output_type": "execute_result"
    }
   ],
   "source": [
    "#Resumo variables numéricas\n",
    "anime.describe()\n",
    "#Pódese ver que hai algún outlier claro dentro do número de episodios dos animes"
   ]
  },
  {
   "cell_type": "code",
   "execution_count": 6,
   "metadata": {},
   "outputs": [
    {
     "data": {
      "text/html": [
       "<div>\n",
       "<style scoped>\n",
       "    .dataframe tbody tr th:only-of-type {\n",
       "        vertical-align: middle;\n",
       "    }\n",
       "\n",
       "    .dataframe tbody tr th {\n",
       "        vertical-align: top;\n",
       "    }\n",
       "\n",
       "    .dataframe thead th {\n",
       "        text-align: right;\n",
       "    }\n",
       "</style>\n",
       "<table border=\"1\" class=\"dataframe\">\n",
       "  <thead>\n",
       "    <tr style=\"text-align: right;\">\n",
       "      <th></th>\n",
       "      <th>Name</th>\n",
       "      <th>Japanese_name</th>\n",
       "      <th>Type</th>\n",
       "      <th>Studio</th>\n",
       "      <th>Release_season</th>\n",
       "      <th>Tags</th>\n",
       "      <th>Description</th>\n",
       "      <th>Content_Warning</th>\n",
       "      <th>Related_Mange</th>\n",
       "      <th>Related_anime</th>\n",
       "      <th>Voice_actors</th>\n",
       "      <th>staff</th>\n",
       "    </tr>\n",
       "  </thead>\n",
       "  <tbody>\n",
       "    <tr>\n",
       "      <th>count</th>\n",
       "      <td>18495</td>\n",
       "      <td>7938</td>\n",
       "      <td>18495</td>\n",
       "      <td>12018</td>\n",
       "      <td>4116</td>\n",
       "      <td>18095</td>\n",
       "      <td>18491</td>\n",
       "      <td>1840</td>\n",
       "      <td>7627</td>\n",
       "      <td>10063</td>\n",
       "      <td>15309</td>\n",
       "      <td>13005</td>\n",
       "    </tr>\n",
       "    <tr>\n",
       "      <th>unique</th>\n",
       "      <td>18443</td>\n",
       "      <td>7902</td>\n",
       "      <td>8</td>\n",
       "      <td>745</td>\n",
       "      <td>4</td>\n",
       "      <td>11799</td>\n",
       "      <td>10012</td>\n",
       "      <td>208</td>\n",
       "      <td>4151</td>\n",
       "      <td>9451</td>\n",
       "      <td>13615</td>\n",
       "      <td>10559</td>\n",
       "    </tr>\n",
       "    <tr>\n",
       "      <th>top</th>\n",
       "      <td>[email protected]</td>\n",
       "      <td>The</td>\n",
       "      <td>TV</td>\n",
       "      <td>Toei Animation</td>\n",
       "      <td>Spring</td>\n",
       "      <td>Vocaloid</td>\n",
       "      <td>No synopsis yet - check back soon!</td>\n",
       "      <td>Violence</td>\n",
       "      <td>Crayon Shin-chan, Shin Crayon Shin-chan, Crayo...</td>\n",
       "      <td>One Piece</td>\n",
       "      <td>Taku Furukawa\\nDirector</td>\n",
       "      <td>Pinocchio-P : Producer</td>\n",
       "    </tr>\n",
       "    <tr>\n",
       "      <th>freq</th>\n",
       "      <td>4</td>\n",
       "      <td>14</td>\n",
       "      <td>5446</td>\n",
       "      <td>737</td>\n",
       "      <td>1291</td>\n",
       "      <td>395</td>\n",
       "      <td>4579</td>\n",
       "      <td>529</td>\n",
       "      <td>33</td>\n",
       "      <td>35</td>\n",
       "      <td>42</td>\n",
       "      <td>45</td>\n",
       "    </tr>\n",
       "  </tbody>\n",
       "</table>\n",
       "</div>"
      ],
      "text/plain": [
       "                     Name Japanese_name   Type          Studio Release_season  \\\n",
       "count               18495          7938  18495           12018           4116   \n",
       "unique              18443          7902      8             745              4   \n",
       "top     [email protected]           The  TV     Toei Animation         Spring   \n",
       "freq                    4            14   5446             737           1291   \n",
       "\n",
       "            Tags                         Description Content_Warning  \\\n",
       "count      18095                               18491            1840   \n",
       "unique     11799                               10012             208   \n",
       "top     Vocaloid  No synopsis yet - check back soon!        Violence   \n",
       "freq         395                                4579             529   \n",
       "\n",
       "                                            Related_Mange Related_anime  \\\n",
       "count                                                7627         10063   \n",
       "unique                                               4151          9451   \n",
       "top     Crayon Shin-chan, Shin Crayon Shin-chan, Crayo...     One Piece   \n",
       "freq                                                   33            35   \n",
       "\n",
       "                   Voice_actors                   staff  \n",
       "count                     15309                   13005  \n",
       "unique                    13615                   10559  \n",
       "top     Taku Furukawa\\nDirector  Pinocchio-P : Producer  \n",
       "freq                         42                      45  "
      ]
     },
     "execution_count": 6,
     "metadata": {},
     "output_type": "execute_result"
    }
   ],
   "source": [
    "#Resumo variables categóricas\n",
    "anime.describe(include='object')\n",
    "#Con isto pódese apreciar que type e release_season posúen valores poucos valores diferentes"
   ]
  },
  {
   "cell_type": "code",
   "execution_count": 7,
   "metadata": {},
   "outputs": [
    {
     "data": {
      "text/plain": [
       "(18495, 16)"
      ]
     },
     "execution_count": 7,
     "metadata": {},
     "output_type": "execute_result"
    }
   ],
   "source": [
    "#Tamaño do dataset\n",
    "anime.shape"
   ]
  },
  {
   "cell_type": "code",
   "execution_count": 8,
   "metadata": {},
   "outputs": [
    {
     "data": {
      "text/plain": [
       "['Name',\n",
       " 'Japanese_name',\n",
       " 'Type',\n",
       " 'Episodes',\n",
       " 'Studio',\n",
       " 'Release_season',\n",
       " 'Tags',\n",
       " 'Rating',\n",
       " 'Release_year',\n",
       " 'End_year',\n",
       " 'Description',\n",
       " 'Content_Warning',\n",
       " 'Related_Mange',\n",
       " 'Related_anime',\n",
       " 'Voice_actors',\n",
       " 'staff']"
      ]
     },
     "execution_count": 8,
     "metadata": {},
     "output_type": "execute_result"
    }
   ],
   "source": [
    "# Listar todas as columnas\n",
    "columns = list(anime.columns)\n",
    "columns"
   ]
  },
  {
   "cell_type": "code",
   "execution_count": 9,
   "metadata": {},
   "outputs": [
    {
     "name": "stdout",
     "output_type": "stream",
     "text": [
      "Variables categóricas: ['Name', 'Japanese_name', 'Type', 'Studio', 'Release_season', 'Tags', 'Description', 'Content_Warning', 'Related_Mange', 'Related_anime', 'Voice_actors', 'staff']\n",
      "Variables numéricas: ['Episodes', 'Rating', 'Release_year', 'End_year']\n"
     ]
    }
   ],
   "source": [
    "# Creamos dúas listas diferentes:\n",
    "# - nomes das columnas categóricas\n",
    "# - nomes das columnas numéricas \n",
    "# Isto facilitará o tratamento das diferentes variables por separado\n",
    "\n",
    "cats = list(anime.select_dtypes(include=['object']).columns)\n",
    "nums = list(anime.select_dtypes(exclude=['object']).columns)\n",
    "print(f'Variables categóricas: {cats}')\n",
    "print(f'Variables numéricas: {nums}')"
   ]
  },
  {
   "cell_type": "code",
   "execution_count": 10,
   "metadata": {},
   "outputs": [
    {
     "data": {
      "text/plain": [
       "Name               18443\n",
       "Japanese_name       7902\n",
       "Type                   8\n",
       "Episodes             205\n",
       "Studio               745\n",
       "Release_season         4\n",
       "Tags               11799\n",
       "Rating               289\n",
       "Release_year         103\n",
       "End_year              60\n",
       "Description        10012\n",
       "Content_Warning      208\n",
       "Related_Mange       4151\n",
       "Related_anime       9451\n",
       "Voice_actors       13615\n",
       "staff              10559\n",
       "dtype: int64"
      ]
     },
     "execution_count": 10,
     "metadata": {},
     "output_type": "execute_result"
    }
   ],
   "source": [
    "# Consultamos o número de valores diferentes en cada columna\n",
    "anime.nunique(axis=0)"
   ]
  },
  {
   "cell_type": "code",
   "execution_count": 11,
   "metadata": {},
   "outputs": [
    {
     "data": {
      "text/plain": [
       "Name                   0\n",
       "Japanese_name      10557\n",
       "Type                   0\n",
       "Episodes            8994\n",
       "Studio              6477\n",
       "Release_season     14379\n",
       "Tags                 400\n",
       "Rating              3131\n",
       "Release_year         383\n",
       "End_year           15641\n",
       "Description            4\n",
       "Content_Warning    16655\n",
       "Related_Mange      10868\n",
       "Related_anime       8432\n",
       "Voice_actors        3186\n",
       "staff               5490\n",
       "dtype: int64"
      ]
     },
     "execution_count": 11,
     "metadata": {},
     "output_type": "execute_result"
    }
   ],
   "source": [
    "# búsqueda de nans - TRATAMENTO DE MISSING VALUES\n",
    "anime.isna().sum()"
   ]
  },
  {
   "cell_type": "code",
   "execution_count": 12,
   "metadata": {},
   "outputs": [
    {
     "name": "stdout",
     "output_type": "stream",
     "text": [
      "Porcentaxe nulos Jpanese_name: 0.5708029197080292%\n",
      "Porcentaxe nulos Episodes: 0.48629359286293594%\n",
      "Porcentaxe nulos Studio: 0.35020275750202756%\n",
      "Porcentaxe nulos Release_season: 0.7774533657745336%\n",
      "Porcentaxe nulos Tags: 0.021627466882941336%\n",
      "Porcentaxe nulos Rating: 0.1692889970262233%\n",
      "Porcentaxe nulos Release_year: 0.02070829954041633%\n",
      "Porcentaxe nulos End_year: 0.8456880237902136%\n",
      "Porcentaxe nulos Description: 0.00021627466882941334%\n",
      "Porcentaxe nulos Content_Warning: 0.9005136523384698%\n",
      "Porcentaxe nulos Related_Mange: 0.587618275209516%\n",
      "Porcentaxe nulos Related_anime: 0.45590700189240335%\n",
      "Porcentaxe nulos Voice_actors: 0.17226277372262774%\n",
      "Porcentaxe nulos Staff: 0.29683698296836986%\n"
     ]
    }
   ],
   "source": [
    "# proporción de nans\n",
    "print('Porcentaxe nulos Jpanese_name: {}%'.format(10557/len(anime)))\n",
    "print('Porcentaxe nulos Episodes: {}%'.format(8994/len(anime)))\n",
    "print('Porcentaxe nulos Studio: {}%'.format(6477/len(anime)))\n",
    "print('Porcentaxe nulos Release_season: {}%'.format(14379/len(anime)))\n",
    "print('Porcentaxe nulos Tags: {}%'.format(400/len(anime)))\n",
    "print('Porcentaxe nulos Rating: {}%'.format(3131/len(anime)))\n",
    "print('Porcentaxe nulos Release_year: {}%'.format(383/len(anime)))\n",
    "print('Porcentaxe nulos End_year: {}%'.format(15641/len(anime)))\n",
    "print('Porcentaxe nulos Description: {}%'.format(4/len(anime)))\n",
    "print('Porcentaxe nulos Content_Warning: {}%'.format(16655/len(anime)))\n",
    "print('Porcentaxe nulos Related_Mange: {}%'.format(10868/len(anime)))\n",
    "print('Porcentaxe nulos Related_anime: {}%'.format(8432/len(anime)))\n",
    "print('Porcentaxe nulos Voice_actors: {}%'.format(3186/len(anime)))\n",
    "print('Porcentaxe nulos Staff: {}%'.format(5490/len(anime)))\n"
   ]
  },
  {
   "cell_type": "code",
   "execution_count": 13,
   "metadata": {},
   "outputs": [
    {
     "name": "stdout",
     "output_type": "stream",
     "text": [
      "<class 'pandas.core.frame.DataFrame'>\n",
      "Int64Index: 18495 entries, 1 to 18495\n",
      "Data columns (total 16 columns):\n",
      " #   Column           Non-Null Count  Dtype  \n",
      "---  ------           --------------  -----  \n",
      " 0   Name             18495 non-null  object \n",
      " 1   Japanese_name    7938 non-null   object \n",
      " 2   Type             18495 non-null  object \n",
      " 3   Episodes         9501 non-null   float64\n",
      " 4   Studio           12018 non-null  object \n",
      " 5   Release_season   4116 non-null   object \n",
      " 6   Tags             18095 non-null  object \n",
      " 7   Rating           15364 non-null  float64\n",
      " 8   Release_year     18112 non-null  float64\n",
      " 9   End_year         2854 non-null   float64\n",
      " 10  Description      18491 non-null  object \n",
      " 11  Content_Warning  1840 non-null   object \n",
      " 12  Related_Mange    7627 non-null   object \n",
      " 13  Related_anime    10063 non-null  object \n",
      " 14  Voice_actors     15309 non-null  object \n",
      " 15  staff            13005 non-null  object \n",
      "dtypes: float64(4), object(12)\n",
      "memory usage: 2.4+ MB\n"
     ]
    }
   ],
   "source": [
    "anime.info()"
   ]
  },
  {
   "cell_type": "code",
   "execution_count": 14,
   "metadata": {},
   "outputs": [
    {
     "data": {
      "text/plain": [
       "(18495, 10)"
      ]
     },
     "execution_count": 14,
     "metadata": {},
     "output_type": "execute_result"
    }
   ],
   "source": [
    "#Elimino as columnas con un porcentaxe superior ao 50 % de nulos ademais da columna Related_anime que non ten demasiada importancia\n",
    "anime = anime.dropna(axis=1,thresh=(len(anime)/2))\n",
    "anime = anime.drop('Related_anime', axis=1)\n",
    "anime.shape"
   ]
  },
  {
   "cell_type": "code",
   "execution_count": 15,
   "metadata": {},
   "outputs": [
    {
     "data": {
      "text/plain": [
       "Name               0\n",
       "Type               0\n",
       "Episodes        8994\n",
       "Studio          6477\n",
       "Tags               0\n",
       "Rating          3131\n",
       "Release_year       0\n",
       "Description        0\n",
       "Voice_actors    3186\n",
       "staff           5490\n",
       "dtype: int64"
      ]
     },
     "execution_count": 15,
     "metadata": {},
     "output_type": "execute_result"
    }
   ],
   "source": [
    "#Trato individualmente las otras columnas\n",
    "anime['Description'] = anime[['Description']].apply(lambda x: x.fillna('ningunha'),axis=0)\n",
    "anime['Release_year'] = anime[['Release_year']].apply(lambda x: x.fillna(x.mean()),axis=0)\n",
    "anime['Tags'] = anime[['Tags']].apply(lambda x: x.fillna('descoñecido'),axis=0)\n",
    "\n",
    "anime.isna().sum()"
   ]
  },
  {
   "cell_type": "code",
   "execution_count": 16,
   "metadata": {},
   "outputs": [
    {
     "name": "stdout",
     "output_type": "stream",
     "text": [
      "Total de filas duplicadas: 14\n"
     ]
    }
   ],
   "source": [
    "# Buscar filas duplicadas\n",
    "print(f'Total de filas duplicadas: {anime.duplicated().sum()}')"
   ]
  },
  {
   "cell_type": "code",
   "execution_count": 17,
   "metadata": {},
   "outputs": [
    {
     "data": {
      "text/plain": [
       "(18481, 10)"
      ]
     },
     "execution_count": 17,
     "metadata": {},
     "output_type": "execute_result"
    }
   ],
   "source": [
    "#Borramos as filas duplicadas\n",
    "anime.drop_duplicates(inplace=True)\n",
    "anime.shape"
   ]
  },
  {
   "cell_type": "code",
   "execution_count": 18,
   "metadata": {},
   "outputs": [],
   "source": [
    "#O resto de nulos  e gardoo unha copia\n",
    "anime.to_csv('anime_limpo.csv',index=False)"
   ]
  },
  {
   "cell_type": "code",
   "execution_count": 19,
   "metadata": {},
   "outputs": [
    {
     "data": {
      "image/png": "[encoded data removed]",
      "text/plain": [
       "<Figure size 504x504 with 1 Axes>"
      ]
     },
     "metadata": {
      "needs_background": "light"
     },
     "output_type": "display_data"
    }
   ],
   "source": [
    "#VISUALIZACIÓN\n",
    "sns.displot(anime.Rating, height=7,kde=True)\n",
    "plt.title(\"Distribución de la valoración\", size=18);\n",
    "#La mayoría de los animes tienen una valoración comprendidad entre 3 y 4 puntos, muy pocos consiguen una puntuación mayor y al menos\n",
    "# en este dataset ningún anime recibe la valoración más alta(5)"
   ]
  },
  {
   "cell_type": "code",
   "execution_count": 20,
   "metadata": {},
   "outputs": [
    {
     "name": "stdout",
     "output_type": "stream",
     "text": [
      "<class 'pandas.core.frame.DataFrame'>\n",
      "Int64Index: 18481 entries, 1 to 18495\n",
      "Data columns (total 10 columns):\n",
      " #   Column        Non-Null Count  Dtype  \n",
      "---  ------        --------------  -----  \n",
      " 0   Name          18481 non-null  object \n",
      " 1   Type          18481 non-null  object \n",
      " 2   Episodes      9491 non-null   float64\n",
      " 3   Studio        12012 non-null  object \n",
      " 4   Tags          18481 non-null  object \n",
      " 5   Rating        15350 non-null  float64\n",
      " 6   Release_year  18481 non-null  float64\n",
      " 7   Description   18481 non-null  object \n",
      " 8   Voice_actors  15300 non-null  object \n",
      " 9   staff         12999 non-null  object \n",
      "dtypes: float64(3), object(7)\n",
      "memory usage: 1.6+ MB\n"
     ]
    }
   ],
   "source": [
    "anime.info()"
   ]
  },
  {
   "cell_type": "code",
   "execution_count": 21,
   "metadata": {},
   "outputs": [
    {
     "data": {
      "image/png": "[encoded data removed]",
      "text/plain": [
       "<Figure size 504x504 with 1 Axes>"
      ]
     },
     "metadata": {
      "needs_background": "light"
     },
     "output_type": "display_data"
    }
   ],
   "source": [
    "sns.displot(anime.Release_year, height=7)\n",
    "plt.title('Distribución de su año de salida', size=18);\n",
    "#En este gráfico y aun teniendo en cuenta que apliqué la media para los valores nulos de este campo\n",
    "#se aprecia que la produción de los anime tuvo un gran auje a partir del 1980, alcanzando un gran pico entorno al 2012 y que a día de hoy sigue\n",
    "#manteniendo ese nivel, además se ven que los primeros animes surgieron a principios del 1900, hace más de 100 años"
   ]
  },
  {
   "cell_type": "code",
   "execution_count": 25,
   "metadata": {},
   "outputs": [
    {
     "data": {
      "image/png": "[encoded data removed]",
      "text/plain": [
       "<Figure size 504x504 with 1 Axes>"
      ]
     },
     "metadata": {
      "needs_background": "light"
     },
     "output_type": "display_data"
    }
   ],
   "source": [
    "sns.displot(anime.Episodes, height=7)\n",
    "plt.title('Distribución del número de episodios', size=18);\n",
    "#Se pueden apreciar que los animes que más destacan son los cortos, con una cantidad de episodios comprendida principalmente entre los 12 y 24\n",
    "#Además se aprecia que los animes con más de 100 episodios se vuelven muy escasos"
   ]
  },
  {
   "cell_type": "code",
   "execution_count": 22,
   "metadata": {},
   "outputs": [
    {
     "data": {
      "image/png": "[encoded data removed]",
      "text/plain": [
       "<Figure size 1080x1080 with 1 Axes>"
      ]
     },
     "metadata": {
      "needs_background": "light"
     },
     "output_type": "display_data"
    }
   ],
   "source": [
    "#Esta es la forma de las distribuciones del tipo de anime\n",
    "plt.figure(figsize=(15,15))\n",
    "sns.barplot(y=anime['Type'], x=anime['Type'].index, ci=None)\n",
    "plt.title('Distribution of {}'.format('Type'), size=20)\n",
    "plt.show()\n",
    "#Se aprecia que mayoritariamente los animes ocupan diversos formatos, pueden ser sacados en internet al mismo tiempo\n",
    "#que se emiten por televisión o se distribuyen mediante dvds"
   ]
  },
  {
   "cell_type": "code",
   "execution_count": 23,
   "metadata": {},
   "outputs": [
    {
     "data": {
      "image/png": "[encoded data removed]",
      "text/plain": [
       "<Figure size 432x288 with 1 Axes>"
      ]
     },
     "metadata": {
      "needs_background": "light"
     },
     "output_type": "display_data"
    }
   ],
   "source": [
    "top_studios = anime.Studio.value_counts()[:15]\n",
    "sns.barplot(y=top_studios.index, x=top_studios, ci=False)\n",
    "plt.title('Estudios de anime con su respectivas cantidades', size=20);\n",
    "#O estudo que máis animes produciu foi TOEI Animation por unha gran diferenza"
   ]
  },
  {
   "cell_type": "code",
   "execution_count": 24,
   "metadata": {},
   "outputs": [],
   "source": [
    "#Conclusiones:\n",
    "#Los animes llevan en auje desde el siglo pasado, cada vez son más la cantidad de animes que hay y los cuales puedes obtener o visualizar\n",
    "#en una gran cantidad de formatos. Además aunque la cantidad de empresas de animación es abrumadora, hay algunas las cuales concentran\n",
    "#la gran mayoría de la producción y distribución de estos animes, los cuáles mayoritariemente alcanzan superior al aprobado y que muy pocos\n",
    "#reciben una valoración mala, además de que ninguno posee una valoración perfecta"
   ]
  }
 ],
 "metadata": {
  "interpreter": {
   "hash": "39cc0fc56b4c20956e4b32f89a014905117d0dc74c376bbde8453306e7e0feab"
  },
  "kernelspec": {
   "display_name": "Python 3.8.12 ('sistemasbigdata')",
   "language": "python",
   "name": "python3"
  },
  "language_info": {
   "codemirror_mode": {
    "name": "ipython",
    "version": 3
   },
   "file_extension": ".py",
   "mimetype": "text/x-python",
   "name": "python",
   "nbconvert_exporter": "python",
   "pygments_lexer": "ipython3",
   "version": "3.9.7"
  },
  "orig_nbformat": 4
 },
 "nbformat": 4,
 "nbformat_minor": 2
}
