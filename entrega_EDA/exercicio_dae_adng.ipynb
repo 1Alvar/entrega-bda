{
  "nbformat": 4,
  "nbformat_minor": 0,
  "metadata": {
    "colab": {
      "name": "exercicioDAE.ipynb",
      "provenance": [],
      "collapsed_sections": []
    },
    "kernelspec": {
      "name": "python3",
      "display_name": "Python 3"
    },
    "language_info": {
      "name": "python"
    }
  },
  "cells": [
    {
      "cell_type": "markdown",
      "source": [
        "### Alejandro de Nicolás Gómez"
      ],
      "metadata": {
        "id": "KXlkcBBo6KSq"
      }
    },
    {
      "cell_type": "markdown",
      "source": [
        "# EXERCICIO DAE"
      ],
      "metadata": {
        "id": "ngHFOnjj6MNy"
      }
    },
    {
      "cell_type": "markdown",
      "source": [
        "## Enunciado da tarefa"
      ],
      "metadata": {
        "id": "zfP31MW-67T4"
      }
    },
    {
      "cell_type": "markdown",
      "source": [
        "Ao longo das anteriores prácticas traballouse con algunhas das diferentes ferramentas e técnicas que proporciona Python para o análise e tratamento de datos. Agora que xa coñeces as ferramentas é o momento de aplicalas para analizar un conxunto de datos.\n",
        "\n",
        "O proceso de análise exploratorio de datos non é un camiño predefinido no que seguir uns pasos, polo que podes encontrar moitos exemplos diferentes que seguen pasos diferentes. Lembra que o obxectivo do EDA é coñecer mellor os datos, extraer información significativa que nos sirva para outros propósitos (por exemplo, para obter mellores modelos predictivos, entrenamentos mais efectivos, ...).\n",
        "\n",
        "Algúns dos pasos que nos encontramos nunha análise EDA son:\n",
        "\n",
        "* Descrición dos datos; significado dos diferentes campos\n",
        "* Tipos de datos; verificar os tipos dos datos\n",
        "* Mostrar datos de exemplo\n",
        "* Cálculo de estatísticos descritivos\n",
        "* Tratamento de outliers\n",
        "* Impacto dos valores ausentes\n",
        "* Gráficas"
      ],
      "metadata": {
        "id": "ZfGchh6U8XrY"
      }
    },
    {
      "cell_type": "markdown",
      "source": [
        "## Exemplos contidos na páxina de descarga do csv"
      ],
      "metadata": {
        "id": "mPi1rqXQ-vkY"
      }
    },
    {
      "cell_type": "markdown",
      "source": [
        "You can use this data to rank cities with the most and least fast food restaurants across the U.S. E.g.:\n",
        "\n",
        "    Cities with the most and least McDonald's per capita\n",
        "    Fast food restaurants per capita for all states\n",
        "    Fast food restaurants with the most locations nationally\n",
        "    Major cities with the most and least fast food restaurants per capita\n",
        "    Small cities with the most fast food restaurants per capita\n",
        "    States with the most and least fast food restaurants per capita\n",
        "    The number of fast food restaurants per capita\n"
      ],
      "metadata": {
        "id": "37Zx1RaQ-30h"
      }
    },
    {
      "cell_type": "markdown",
      "source": [
        "## DAE - Fast Food Restaurants Across America\n"
      ],
      "metadata": {
        "id": "4gthnIgO6PSh"
      }
    },
    {
      "cell_type": "markdown",
      "source": [
        "### Descripción inicial do dataset"
      ],
      "metadata": {
        "id": "UcWGNVAj9t3a"
      }
    },
    {
      "cell_type": "markdown",
      "source": [
        " Este dataset é unha lista de 10000 restaurantes de comida rápida sacadas do \"Datafiniti's Business Database\".\n",
        "\n",
        " [Enlace ao dataset](https://www.kaggle.com/yamqwe/fast-food-restaurants-across-americae?select=FastFoodRestaurants.csv)"
      ],
      "metadata": {
        "id": "8io2fSWI8ACA"
      }
    },
    {
      "cell_type": "markdown",
      "source": [
        "As columnas que contén son:\n",
        "* **city:**       cidade onde se atopa o restaurante\n",
        "* **country:**    pais onde se atopa o restaurante\n",
        "* **keys:**       \n",
        "* **latitude**    \n",
        "* **longitude**   \n",
        "* **name:**       nome do restaurante\n",
        "* **postalCode:** código postal do restaurante\n",
        "* **province:**   estado onde se atopa o restaurante\n",
        "* **sourceURLs:**\n",
        "* **websites:**"
      ],
      "metadata": {
        "id": "cmhCVyNh6lM6"
      }
    },
    {
      "cell_type": "markdown",
      "source": [
        "### Carga de datos"
      ],
      "metadata": {
        "id": "Xi4PoXiR6vYp"
      }
    },
    {
      "cell_type": "markdown",
      "source": [
        "Acceso a colab desde drive"
      ],
      "metadata": {
        "id": "CY-fUkVQ7PkZ"
      }
    },
    {
      "cell_type": "code",
      "source": [
        "from google.colab import drive;\n",
        "drive.mount('/content/drive')"
      ],
      "metadata": {
        "id": "cDZz2gJf67px",
        "colab": {
          "base_uri": "https://localhost:8080/"
        },
        "outputId": "af5e29c4-029e-4270-e747-85490d894676"
      },
      "execution_count": null,
      "outputs": [
        {
          "output_type": "stream",
          "name": "stdout",
          "text": [
            "Mounted at /content/drive\n"
          ]
        }
      ]
    },
    {
      "cell_type": "markdown",
      "source": [
        "Imports"
      ],
      "metadata": {
        "id": "Tz8V55vm6XKS"
      }
    },
    {
      "cell_type": "code",
      "source": [
        "import seaborn as sns\n",
        "import numpy as np\n",
        "import pandas as pd\n",
        "import matplotlib.pyplot as plt"
      ],
      "metadata": {
        "id": "0wt-ir7n6KsJ"
      },
      "execution_count": null,
      "outputs": []
    },
    {
      "cell_type": "markdown",
      "source": [
        "Carga do CSV"
      ],
      "metadata": {
        "id": "v_m5xJJ87RrR"
      }
    },
    {
      "cell_type": "code",
      "source": [
        "fastFood = pd.read_csv(\"/content/drive/MyDrive/SistemasBigData/Datafiniti_Fast_Food_Restaurants.csv\");"
      ],
      "metadata": {
        "id": "fF0Q5uaE7SNp"
      },
      "execution_count": null,
      "outputs": []
    },
    {
      "cell_type": "markdown",
      "source": [
        "### Estudo xeral dos datos"
      ],
      "metadata": {
        "id": "s-1djd-w8DWB"
      }
    },
    {
      "cell_type": "markdown",
      "source": [
        "Vemos como está estruturada a táboa de datos"
      ],
      "metadata": {
        "id": "uNcevBOb8JRp"
      }
    },
    {
      "cell_type": "code",
      "source": [
        "fastFood.shape"
      ],
      "metadata": {
        "id": "s2wWNsKx_P3e",
        "colab": {
          "base_uri": "https://localhost:8080/"
        },
        "outputId": "1fe265a9-395c-49b8-914c-b5015b0d74cb"
      },
      "execution_count": null,
      "outputs": [
        {
          "output_type": "execute_result",
          "data": {
            "text/plain": [
              "(10000, 16)"
            ]
          },
          "metadata": {},
          "execution_count": 4
        }
      ]
    },
    {
      "cell_type": "code",
      "source": [
        "fastFood.sample(5)"
      ],
      "metadata": {
        "id": "s6ThzkkQ6Y8i",
        "colab": {
          "base_uri": "https://localhost:8080/",
          "height": 479
        },
        "outputId": "56b24736-d566-48ef-bcb7-69da58ba2334"
      },
      "execution_count": null,
      "outputs": [
        {
          "output_type": "execute_result",
          "data": {
            "text/html": [
              "\n",
              "  <div id=\"df-f8897d49-d3d1-45a6-bcae-3a7cb26c3562\">\n",
              "    <div class=\"colab-df-container\">\n",
              "      <div>\n",
              "<style scoped>\n",
              "    .dataframe tbody tr th:only-of-type {\n",
              "        vertical-align: middle;\n",
              "    }\n",
              "\n",
              "    .dataframe tbody tr th {\n",
              "        vertical-align: top;\n",
              "    }\n",
              "\n",
              "    .dataframe thead th {\n",
              "        text-align: right;\n",
              "    }\n",
              "</style>\n",
              "<table border=\"1\" class=\"dataframe\">\n",
              "  <thead>\n",
              "    <tr style=\"text-align: right;\">\n",
              "      <th></th>\n",
              "      <th>index</th>\n",
              "      <th>id</th>\n",
              "      <th>dateAdded</th>\n",
              "      <th>dateUpdated</th>\n",
              "      <th>address</th>\n",
              "      <th>categories</th>\n",
              "      <th>city</th>\n",
              "      <th>country</th>\n",
              "      <th>keys</th>\n",
              "      <th>latitude</th>\n",
              "      <th>longitude</th>\n",
              "      <th>name</th>\n",
              "      <th>postalCode</th>\n",
              "      <th>province</th>\n",
              "      <th>sourceURLs</th>\n",
              "      <th>websites</th>\n",
              "    </tr>\n",
              "  </thead>\n",
              "  <tbody>\n",
              "    <tr>\n",
              "      <th>656</th>\n",
              "      <td>656</td>\n",
              "      <td>AVwdGu-QkufWRAb52Wen</td>\n",
              "      <td>2016-07-06T20:55:58Z</td>\n",
              "      <td>2018-06-22T18:28:46Z</td>\n",
              "      <td>1215 M 89</td>\n",
              "      <td>Fast Food Restaurants</td>\n",
              "      <td>Plainwell</td>\n",
              "      <td>US</td>\n",
              "      <td>us/mi/plainwell/1215m89/93075755</td>\n",
              "      <td>42.450431</td>\n",
              "      <td>-85.663248</td>\n",
              "      <td>Arby's</td>\n",
              "      <td>49080</td>\n",
              "      <td>MI</td>\n",
              "      <td>http://www.citysearch.com/profile/5392488/plai...</td>\n",
              "      <td>http://www.arbys.com,https://locations.arbys.c...</td>\n",
              "    </tr>\n",
              "    <tr>\n",
              "      <th>7615</th>\n",
              "      <td>7615</td>\n",
              "      <td>AVwdA5BAkufWRAb51ZoK</td>\n",
              "      <td>2016-03-27T14:48:39Z</td>\n",
              "      <td>2018-05-09T21:34:34Z</td>\n",
              "      <td>423 Wythe Creek Rd</td>\n",
              "      <td>Fast Food Restaurants</td>\n",
              "      <td>Poquoson</td>\n",
              "      <td>US</td>\n",
              "      <td>us/va/poquoson/423wythecreekrd/-891525969</td>\n",
              "      <td>37.122731</td>\n",
              "      <td>-76.392054</td>\n",
              "      <td>Subway</td>\n",
              "      <td>23662</td>\n",
              "      <td>VA</td>\n",
              "      <td>https://www.allmenus.com/va/poquoson/147774-su...</td>\n",
              "      <td>http://www.subway.com,http://subway.com\\r</td>\n",
              "    </tr>\n",
              "    <tr>\n",
              "      <th>8024</th>\n",
              "      <td>8024</td>\n",
              "      <td>AV1_BBCfIxWefVJwid8b</td>\n",
              "      <td>2017-07-26T13:09:19Z</td>\n",
              "      <td>2018-05-07T11:08:03Z</td>\n",
              "      <td>613 Highway 53 East Se</td>\n",
              "      <td>Fast Food Restaurants</td>\n",
              "      <td>Calhoun</td>\n",
              "      <td>US</td>\n",
              "      <td>us/ga/calhoun/613highway53eastse/-66712705</td>\n",
              "      <td>34.473300</td>\n",
              "      <td>-84.924910</td>\n",
              "      <td>Pizza Hut</td>\n",
              "      <td>30701</td>\n",
              "      <td>GA</td>\n",
              "      <td>https://www.yellowpages.com/calhoun-ga/mip/piz...</td>\n",
              "      <td>http://www.pizzahut.com</td>\n",
              "    </tr>\n",
              "    <tr>\n",
              "      <th>8157</th>\n",
              "      <td>8157</td>\n",
              "      <td>AVwdH1HckufWRAb52hn_</td>\n",
              "      <td>2016-04-03T01:45:27Z</td>\n",
              "      <td>2018-05-01T23:08:14Z</td>\n",
              "      <td>3399 State Highway 365</td>\n",
              "      <td>Fast Food Restaurant</td>\n",
              "      <td>Alto</td>\n",
              "      <td>US</td>\n",
              "      <td>us/ga/alto/3399statehighway365/-1721138121</td>\n",
              "      <td>34.480522</td>\n",
              "      <td>-83.588615</td>\n",
              "      <td>Dairy Queen</td>\n",
              "      <td>30510</td>\n",
              "      <td>GA</td>\n",
              "      <td>https://foursquare.com/v/dairy-queen/4c1395e88...</td>\n",
              "      <td>http://www.dairyqueen.com</td>\n",
              "    </tr>\n",
              "    <tr>\n",
              "      <th>5686</th>\n",
              "      <td>5686</td>\n",
              "      <td>AVwcf-x7ByjofQCxe6m9</td>\n",
              "      <td>2016-06-08T16:13:33Z</td>\n",
              "      <td>2018-05-28T16:27:48Z</td>\n",
              "      <td>3644 Flat Shoals Rd</td>\n",
              "      <td>Fast Food Restaurants</td>\n",
              "      <td>Decatur</td>\n",
              "      <td>US</td>\n",
              "      <td>us/ga/decatur/3644flatshoalsrd/-864103396</td>\n",
              "      <td>33.701885</td>\n",
              "      <td>-84.267936</td>\n",
              "      <td>Taco Bell</td>\n",
              "      <td>30034</td>\n",
              "      <td>GA</td>\n",
              "      <td>https://www.allmenus.com/ga/decatur/196001-tac...</td>\n",
              "      <td>http://www.tacobell.com</td>\n",
              "    </tr>\n",
              "  </tbody>\n",
              "</table>\n",
              "</div>\n",
              "      <button class=\"colab-df-convert\" onclick=\"convertToInteractive('df-f8897d49-d3d1-45a6-bcae-3a7cb26c3562')\"\n",
              "              title=\"Convert this dataframe to an interactive table.\"\n",
              "              style=\"display:none;\">\n",
              "        \n",
              "  <svg xmlns=\"http://www.w3.org/2000/svg\" height=\"24px\"viewBox=\"0 0 24 24\"\n",
              "       width=\"24px\">\n",
              "    <path d=\"M0 0h24v24H0V0z\" fill=\"none\"/>\n",
              "    <path d=\"M18.56 5.44l.94 2.06.94-2.06 2.06-.94-2.06-.94-.94-2.06-.94 2.06-2.06.94zm-11 1L8.5 8.5l.94-2.06 2.06-.94-2.06-.94L8.5 2.5l-.94 2.06-2.06.94zm10 10l.94 2.06.94-2.06 2.06-.94-2.06-.94-.94-2.06-.94 2.06-2.06.94z\"/><path d=\"M17.41 7.96l-1.37-1.37c-.4-.4-.92-.59-1.43-.59-.52 0-1.04.2-1.43.59L10.3 9.45l-7.72 7.72c-.78.78-.78 2.05 0 2.83L4 21.41c.39.39.9.59 1.41.59.51 0 1.02-.2 1.41-.59l7.78-7.78 2.81-2.81c.8-.78.8-2.07 0-2.86zM5.41 20L4 18.59l7.72-7.72 1.47 1.35L5.41 20z\"/>\n",
              "  </svg>\n",
              "      </button>\n",
              "      \n",
              "  <style>\n",
              "    .colab-df-container {\n",
              "      display:flex;\n",
              "      flex-wrap:wrap;\n",
              "      gap: 12px;\n",
              "    }\n",
              "\n",
              "    .colab-df-convert {\n",
              "      background-color: #E8F0FE;\n",
              "      border: none;\n",
              "      border-radius: 50%;\n",
              "      cursor: pointer;\n",
              "      display: none;\n",
              "      fill: #1967D2;\n",
              "      height: 32px;\n",
              "      padding: 0 0 0 0;\n",
              "      width: 32px;\n",
              "    }\n",
              "\n",
              "    .colab-df-convert:hover {\n",
              "      background-color: #E2EBFA;\n",
              "      box-shadow: 0px 1px 2px rgba(60, 64, 67, 0.3), 0px 1px 3px 1px rgba(60, 64, 67, 0.15);\n",
              "      fill: #174EA6;\n",
              "    }\n",
              "\n",
              "    [theme=dark] .colab-df-convert {\n",
              "      background-color: #3B4455;\n",
              "      fill: #D2E3FC;\n",
              "    }\n",
              "\n",
              "    [theme=dark] .colab-df-convert:hover {\n",
              "      background-color: #434B5C;\n",
              "      box-shadow: 0px 1px 3px 1px rgba(0, 0, 0, 0.15);\n",
              "      filter: drop-shadow(0px 1px 2px rgba(0, 0, 0, 0.3));\n",
              "      fill: #FFFFFF;\n",
              "    }\n",
              "  </style>\n",
              "\n",
              "      <script>\n",
              "        const buttonEl =\n",
              "          document.querySelector('#df-f8897d49-d3d1-45a6-bcae-3a7cb26c3562 button.colab-df-convert');\n",
              "        buttonEl.style.display =\n",
              "          google.colab.kernel.accessAllowed ? 'block' : 'none';\n",
              "\n",
              "        async function convertToInteractive(key) {\n",
              "          const element = document.querySelector('#df-f8897d49-d3d1-45a6-bcae-3a7cb26c3562');\n",
              "          const dataTable =\n",
              "            await google.colab.kernel.invokeFunction('convertToInteractive',\n",
              "                                                     [key], {});\n",
              "          if (!dataTable) return;\n",
              "\n",
              "          const docLinkHtml = 'Like what you see? Visit the ' +\n",
              "            '<a target=\"_blank\" href=https://colab.research.google.com/notebooks/data_table.ipynb>data table notebook</a>'\n",
              "            + ' to learn more about interactive tables.';\n",
              "          element.innerHTML = '';\n",
              "          dataTable['output_type'] = 'display_data';\n",
              "          await google.colab.output.renderOutput(dataTable, element);\n",
              "          const docLink = document.createElement('div');\n",
              "          docLink.innerHTML = docLinkHtml;\n",
              "          element.appendChild(docLink);\n",
              "        }\n",
              "      </script>\n",
              "    </div>\n",
              "  </div>\n",
              "  "
            ],
            "text/plain": [
              "      index  ...                                           websites\n",
              "656     656  ...  http://www.arbys.com,https://locations.arbys.c...\n",
              "7615   7615  ...          http://www.subway.com,http://subway.com\\r\n",
              "8024   8024  ...                            http://www.pizzahut.com\n",
              "8157   8157  ...                          http://www.dairyqueen.com\n",
              "5686   5686  ...                            http://www.tacobell.com\n",
              "\n",
              "[5 rows x 16 columns]"
            ]
          },
          "metadata": {},
          "execution_count": 5
        }
      ]
    },
    {
      "cell_type": "markdown",
      "source": [
        "Vemos con mas detalle as columnas"
      ],
      "metadata": {
        "id": "L4BwcqQI8jqh"
      }
    },
    {
      "cell_type": "code",
      "source": [
        "#Con info, podemos ver que non temos diferencias no número de datos nulos en cada campo\n",
        "#Tamén vemos que temos 3 columnas numéricas e 13 de tipo texto\n",
        "\n",
        "fastFood.info()"
      ],
      "metadata": {
        "id": "MQcKKCFO8G2Y",
        "colab": {
          "base_uri": "https://localhost:8080/"
        },
        "outputId": "f2726008-ba19-48c3-e2be-17e66fd32648"
      },
      "execution_count": null,
      "outputs": [
        {
          "output_type": "stream",
          "name": "stdout",
          "text": [
            "<class 'pandas.core.frame.DataFrame'>\n",
            "RangeIndex: 10000 entries, 0 to 9999\n",
            "Data columns (total 16 columns):\n",
            " #   Column       Non-Null Count  Dtype  \n",
            "---  ------       --------------  -----  \n",
            " 0   index        10000 non-null  int64  \n",
            " 1   id           10000 non-null  object \n",
            " 2   dateAdded    10000 non-null  object \n",
            " 3   dateUpdated  10000 non-null  object \n",
            " 4   address      10000 non-null  object \n",
            " 5   categories   10000 non-null  object \n",
            " 6   city         10000 non-null  object \n",
            " 7   country      10000 non-null  object \n",
            " 8   keys         10000 non-null  object \n",
            " 9   latitude     10000 non-null  float64\n",
            " 10  longitude    10000 non-null  float64\n",
            " 11  name         10000 non-null  object \n",
            " 12  postalCode   10000 non-null  object \n",
            " 13  province     10000 non-null  object \n",
            " 14  sourceURLs   10000 non-null  object \n",
            " 15  websites     10000 non-null  object \n",
            "dtypes: float64(2), int64(1), object(13)\n",
            "memory usage: 1.2+ MB\n"
          ]
        }
      ]
    },
    {
      "cell_type": "code",
      "source": [
        "#Con describe, podemos ver os estadísticos descritivos das columnas numéricas\n",
        "\n",
        "fastFood.describe()"
      ],
      "metadata": {
        "id": "t3BWRXqf8xRI",
        "colab": {
          "base_uri": "https://localhost:8080/",
          "height": 301
        },
        "outputId": "bd5b0a44-fe39-47a5-e6fc-405d36de87ca"
      },
      "execution_count": null,
      "outputs": [
        {
          "output_type": "execute_result",
          "data": {
            "text/html": [
              "\n",
              "  <div id=\"df-027d6b0c-d547-4091-821a-bfa6438b0be1\">\n",
              "    <div class=\"colab-df-container\">\n",
              "      <div>\n",
              "<style scoped>\n",
              "    .dataframe tbody tr th:only-of-type {\n",
              "        vertical-align: middle;\n",
              "    }\n",
              "\n",
              "    .dataframe tbody tr th {\n",
              "        vertical-align: top;\n",
              "    }\n",
              "\n",
              "    .dataframe thead th {\n",
              "        text-align: right;\n",
              "    }\n",
              "</style>\n",
              "<table border=\"1\" class=\"dataframe\">\n",
              "  <thead>\n",
              "    <tr style=\"text-align: right;\">\n",
              "      <th></th>\n",
              "      <th>index</th>\n",
              "      <th>latitude</th>\n",
              "      <th>longitude</th>\n",
              "    </tr>\n",
              "  </thead>\n",
              "  <tbody>\n",
              "    <tr>\n",
              "      <th>count</th>\n",
              "      <td>10000.00000</td>\n",
              "      <td>10000.000000</td>\n",
              "      <td>10000.000000</td>\n",
              "    </tr>\n",
              "    <tr>\n",
              "      <th>mean</th>\n",
              "      <td>4999.50000</td>\n",
              "      <td>37.337400</td>\n",
              "      <td>-93.106515</td>\n",
              "    </tr>\n",
              "    <tr>\n",
              "      <th>std</th>\n",
              "      <td>2886.89568</td>\n",
              "      <td>5.100276</td>\n",
              "      <td>15.787614</td>\n",
              "    </tr>\n",
              "    <tr>\n",
              "      <th>min</th>\n",
              "      <td>0.00000</td>\n",
              "      <td>19.504168</td>\n",
              "      <td>-159.378066</td>\n",
              "    </tr>\n",
              "    <tr>\n",
              "      <th>25%</th>\n",
              "      <td>2499.75000</td>\n",
              "      <td>33.773973</td>\n",
              "      <td>-102.891796</td>\n",
              "    </tr>\n",
              "    <tr>\n",
              "      <th>50%</th>\n",
              "      <td>4999.50000</td>\n",
              "      <td>37.706263</td>\n",
              "      <td>-87.951148</td>\n",
              "    </tr>\n",
              "    <tr>\n",
              "      <th>75%</th>\n",
              "      <td>7499.25000</td>\n",
              "      <td>41.140722</td>\n",
              "      <td>-81.454907</td>\n",
              "    </tr>\n",
              "    <tr>\n",
              "      <th>max</th>\n",
              "      <td>9999.00000</td>\n",
              "      <td>64.840240</td>\n",
              "      <td>-67.463019</td>\n",
              "    </tr>\n",
              "  </tbody>\n",
              "</table>\n",
              "</div>\n",
              "      <button class=\"colab-df-convert\" onclick=\"convertToInteractive('df-027d6b0c-d547-4091-821a-bfa6438b0be1')\"\n",
              "              title=\"Convert this dataframe to an interactive table.\"\n",
              "              style=\"display:none;\">\n",
              "        \n",
              "  <svg xmlns=\"http://www.w3.org/2000/svg\" height=\"24px\"viewBox=\"0 0 24 24\"\n",
              "       width=\"24px\">\n",
              "    <path d=\"M0 0h24v24H0V0z\" fill=\"none\"/>\n",
              "    <path d=\"M18.56 5.44l.94 2.06.94-2.06 2.06-.94-2.06-.94-.94-2.06-.94 2.06-2.06.94zm-11 1L8.5 8.5l.94-2.06 2.06-.94-2.06-.94L8.5 2.5l-.94 2.06-2.06.94zm10 10l.94 2.06.94-2.06 2.06-.94-2.06-.94-.94-2.06-.94 2.06-2.06.94z\"/><path d=\"M17.41 7.96l-1.37-1.37c-.4-.4-.92-.59-1.43-.59-.52 0-1.04.2-1.43.59L10.3 9.45l-7.72 7.72c-.78.78-.78 2.05 0 2.83L4 21.41c.39.39.9.59 1.41.59.51 0 1.02-.2 1.41-.59l7.78-7.78 2.81-2.81c.8-.78.8-2.07 0-2.86zM5.41 20L4 18.59l7.72-7.72 1.47 1.35L5.41 20z\"/>\n",
              "  </svg>\n",
              "      </button>\n",
              "      \n",
              "  <style>\n",
              "    .colab-df-container {\n",
              "      display:flex;\n",
              "      flex-wrap:wrap;\n",
              "      gap: 12px;\n",
              "    }\n",
              "\n",
              "    .colab-df-convert {\n",
              "      background-color: #E8F0FE;\n",
              "      border: none;\n",
              "      border-radius: 50%;\n",
              "      cursor: pointer;\n",
              "      display: none;\n",
              "      fill: #1967D2;\n",
              "      height: 32px;\n",
              "      padding: 0 0 0 0;\n",
              "      width: 32px;\n",
              "    }\n",
              "\n",
              "    .colab-df-convert:hover {\n",
              "      background-color: #E2EBFA;\n",
              "      box-shadow: 0px 1px 2px rgba(60, 64, 67, 0.3), 0px 1px 3px 1px rgba(60, 64, 67, 0.15);\n",
              "      fill: #174EA6;\n",
              "    }\n",
              "\n",
              "    [theme=dark] .colab-df-convert {\n",
              "      background-color: #3B4455;\n",
              "      fill: #D2E3FC;\n",
              "    }\n",
              "\n",
              "    [theme=dark] .colab-df-convert:hover {\n",
              "      background-color: #434B5C;\n",
              "      box-shadow: 0px 1px 3px 1px rgba(0, 0, 0, 0.15);\n",
              "      filter: drop-shadow(0px 1px 2px rgba(0, 0, 0, 0.3));\n",
              "      fill: #FFFFFF;\n",
              "    }\n",
              "  </style>\n",
              "\n",
              "      <script>\n",
              "        const buttonEl =\n",
              "          document.querySelector('#df-027d6b0c-d547-4091-821a-bfa6438b0be1 button.colab-df-convert');\n",
              "        buttonEl.style.display =\n",
              "          google.colab.kernel.accessAllowed ? 'block' : 'none';\n",
              "\n",
              "        async function convertToInteractive(key) {\n",
              "          const element = document.querySelector('#df-027d6b0c-d547-4091-821a-bfa6438b0be1');\n",
              "          const dataTable =\n",
              "            await google.colab.kernel.invokeFunction('convertToInteractive',\n",
              "                                                     [key], {});\n",
              "          if (!dataTable) return;\n",
              "\n",
              "          const docLinkHtml = 'Like what you see? Visit the ' +\n",
              "            '<a target=\"_blank\" href=https://colab.research.google.com/notebooks/data_table.ipynb>data table notebook</a>'\n",
              "            + ' to learn more about interactive tables.';\n",
              "          element.innerHTML = '';\n",
              "          dataTable['output_type'] = 'display_data';\n",
              "          await google.colab.output.renderOutput(dataTable, element);\n",
              "          const docLink = document.createElement('div');\n",
              "          docLink.innerHTML = docLinkHtml;\n",
              "          element.appendChild(docLink);\n",
              "        }\n",
              "      </script>\n",
              "    </div>\n",
              "  </div>\n",
              "  "
            ],
            "text/plain": [
              "             index      latitude     longitude\n",
              "count  10000.00000  10000.000000  10000.000000\n",
              "mean    4999.50000     37.337400    -93.106515\n",
              "std     2886.89568      5.100276     15.787614\n",
              "min        0.00000     19.504168   -159.378066\n",
              "25%     2499.75000     33.773973   -102.891796\n",
              "50%     4999.50000     37.706263    -87.951148\n",
              "75%     7499.25000     41.140722    -81.454907\n",
              "max     9999.00000     64.840240    -67.463019"
            ]
          },
          "metadata": {},
          "execution_count": 7
        }
      ]
    },
    {
      "cell_type": "code",
      "source": [
        "#Engadindo o include=\"object\", podemos ver estadísticos descritivos das columnas non-numéricas\n",
        "\n",
        "fastFood.describe(include=\"object\")"
      ],
      "metadata": {
        "id": "4UKJhF-K88YZ",
        "colab": {
          "base_uri": "https://localhost:8080/",
          "height": 309
        },
        "outputId": "b42ec574-e5d7-436f-974e-aba0c399c50a"
      },
      "execution_count": null,
      "outputs": [
        {
          "output_type": "execute_result",
          "data": {
            "text/html": [
              "\n",
              "  <div id=\"df-6898880e-bb2d-4ed2-967b-ba3912adaaba\">\n",
              "    <div class=\"colab-df-container\">\n",
              "      <div>\n",
              "<style scoped>\n",
              "    .dataframe tbody tr th:only-of-type {\n",
              "        vertical-align: middle;\n",
              "    }\n",
              "\n",
              "    .dataframe tbody tr th {\n",
              "        vertical-align: top;\n",
              "    }\n",
              "\n",
              "    .dataframe thead th {\n",
              "        text-align: right;\n",
              "    }\n",
              "</style>\n",
              "<table border=\"1\" class=\"dataframe\">\n",
              "  <thead>\n",
              "    <tr style=\"text-align: right;\">\n",
              "      <th></th>\n",
              "      <th>id</th>\n",
              "      <th>dateAdded</th>\n",
              "      <th>dateUpdated</th>\n",
              "      <th>address</th>\n",
              "      <th>categories</th>\n",
              "      <th>city</th>\n",
              "      <th>country</th>\n",
              "      <th>keys</th>\n",
              "      <th>name</th>\n",
              "      <th>postalCode</th>\n",
              "      <th>province</th>\n",
              "      <th>sourceURLs</th>\n",
              "      <th>websites</th>\n",
              "    </tr>\n",
              "  </thead>\n",
              "  <tbody>\n",
              "    <tr>\n",
              "      <th>count</th>\n",
              "      <td>10000</td>\n",
              "      <td>10000</td>\n",
              "      <td>10000</td>\n",
              "      <td>10000</td>\n",
              "      <td>10000</td>\n",
              "      <td>10000</td>\n",
              "      <td>10000</td>\n",
              "      <td>10000</td>\n",
              "      <td>10000</td>\n",
              "      <td>10000</td>\n",
              "      <td>10000</td>\n",
              "      <td>10000</td>\n",
              "      <td>10000</td>\n",
              "    </tr>\n",
              "    <tr>\n",
              "      <th>unique</th>\n",
              "      <td>9343</td>\n",
              "      <td>8960</td>\n",
              "      <td>7052</td>\n",
              "      <td>9302</td>\n",
              "      <td>324</td>\n",
              "      <td>2764</td>\n",
              "      <td>1</td>\n",
              "      <td>9343</td>\n",
              "      <td>571</td>\n",
              "      <td>5429</td>\n",
              "      <td>50</td>\n",
              "      <td>9338</td>\n",
              "      <td>4136</td>\n",
              "    </tr>\n",
              "    <tr>\n",
              "      <th>top</th>\n",
              "      <td>AVwdiX0skufWRAb563Xt</td>\n",
              "      <td>2017-06-19T14:48:37Z</td>\n",
              "      <td>2018-06-19T09:42:27Z</td>\n",
              "      <td>3100 Riverside Dr</td>\n",
              "      <td>Fast Food Restaurant</td>\n",
              "      <td>Houston</td>\n",
              "      <td>US</td>\n",
              "      <td>us/ga/macon/3100riversidedr/93075755</td>\n",
              "      <td>McDonald's</td>\n",
              "      <td>78209</td>\n",
              "      <td>CA</td>\n",
              "      <td>There are too many sourceURLs objects to show....</td>\n",
              "      <td>http://mcdonalds.com,http://www.mcdonalds.com/...</td>\n",
              "    </tr>\n",
              "    <tr>\n",
              "      <th>freq</th>\n",
              "      <td>4</td>\n",
              "      <td>6</td>\n",
              "      <td>12</td>\n",
              "      <td>4</td>\n",
              "      <td>3425</td>\n",
              "      <td>107</td>\n",
              "      <td>10000</td>\n",
              "      <td>4</td>\n",
              "      <td>1898</td>\n",
              "      <td>10</td>\n",
              "      <td>1201</td>\n",
              "      <td>6</td>\n",
              "      <td>830</td>\n",
              "    </tr>\n",
              "  </tbody>\n",
              "</table>\n",
              "</div>\n",
              "      <button class=\"colab-df-convert\" onclick=\"convertToInteractive('df-6898880e-bb2d-4ed2-967b-ba3912adaaba')\"\n",
              "              title=\"Convert this dataframe to an interactive table.\"\n",
              "              style=\"display:none;\">\n",
              "        \n",
              "  <svg xmlns=\"http://www.w3.org/2000/svg\" height=\"24px\"viewBox=\"0 0 24 24\"\n",
              "       width=\"24px\">\n",
              "    <path d=\"M0 0h24v24H0V0z\" fill=\"none\"/>\n",
              "    <path d=\"M18.56 5.44l.94 2.06.94-2.06 2.06-.94-2.06-.94-.94-2.06-.94 2.06-2.06.94zm-11 1L8.5 8.5l.94-2.06 2.06-.94-2.06-.94L8.5 2.5l-.94 2.06-2.06.94zm10 10l.94 2.06.94-2.06 2.06-.94-2.06-.94-.94-2.06-.94 2.06-2.06.94z\"/><path d=\"M17.41 7.96l-1.37-1.37c-.4-.4-.92-.59-1.43-.59-.52 0-1.04.2-1.43.59L10.3 9.45l-7.72 7.72c-.78.78-.78 2.05 0 2.83L4 21.41c.39.39.9.59 1.41.59.51 0 1.02-.2 1.41-.59l7.78-7.78 2.81-2.81c.8-.78.8-2.07 0-2.86zM5.41 20L4 18.59l7.72-7.72 1.47 1.35L5.41 20z\"/>\n",
              "  </svg>\n",
              "      </button>\n",
              "      \n",
              "  <style>\n",
              "    .colab-df-container {\n",
              "      display:flex;\n",
              "      flex-wrap:wrap;\n",
              "      gap: 12px;\n",
              "    }\n",
              "\n",
              "    .colab-df-convert {\n",
              "      background-color: #E8F0FE;\n",
              "      border: none;\n",
              "      border-radius: 50%;\n",
              "      cursor: pointer;\n",
              "      display: none;\n",
              "      fill: #1967D2;\n",
              "      height: 32px;\n",
              "      padding: 0 0 0 0;\n",
              "      width: 32px;\n",
              "    }\n",
              "\n",
              "    .colab-df-convert:hover {\n",
              "      background-color: #E2EBFA;\n",
              "      box-shadow: 0px 1px 2px rgba(60, 64, 67, 0.3), 0px 1px 3px 1px rgba(60, 64, 67, 0.15);\n",
              "      fill: #174EA6;\n",
              "    }\n",
              "\n",
              "    [theme=dark] .colab-df-convert {\n",
              "      background-color: #3B4455;\n",
              "      fill: #D2E3FC;\n",
              "    }\n",
              "\n",
              "    [theme=dark] .colab-df-convert:hover {\n",
              "      background-color: #434B5C;\n",
              "      box-shadow: 0px 1px 3px 1px rgba(0, 0, 0, 0.15);\n",
              "      filter: drop-shadow(0px 1px 2px rgba(0, 0, 0, 0.3));\n",
              "      fill: #FFFFFF;\n",
              "    }\n",
              "  </style>\n",
              "\n",
              "      <script>\n",
              "        const buttonEl =\n",
              "          document.querySelector('#df-6898880e-bb2d-4ed2-967b-ba3912adaaba button.colab-df-convert');\n",
              "        buttonEl.style.display =\n",
              "          google.colab.kernel.accessAllowed ? 'block' : 'none';\n",
              "\n",
              "        async function convertToInteractive(key) {\n",
              "          const element = document.querySelector('#df-6898880e-bb2d-4ed2-967b-ba3912adaaba');\n",
              "          const dataTable =\n",
              "            await google.colab.kernel.invokeFunction('convertToInteractive',\n",
              "                                                     [key], {});\n",
              "          if (!dataTable) return;\n",
              "\n",
              "          const docLinkHtml = 'Like what you see? Visit the ' +\n",
              "            '<a target=\"_blank\" href=https://colab.research.google.com/notebooks/data_table.ipynb>data table notebook</a>'\n",
              "            + ' to learn more about interactive tables.';\n",
              "          element.innerHTML = '';\n",
              "          dataTable['output_type'] = 'display_data';\n",
              "          await google.colab.output.renderOutput(dataTable, element);\n",
              "          const docLink = document.createElement('div');\n",
              "          docLink.innerHTML = docLinkHtml;\n",
              "          element.appendChild(docLink);\n",
              "        }\n",
              "      </script>\n",
              "    </div>\n",
              "  </div>\n",
              "  "
            ],
            "text/plain": [
              "                          id  ...                                           websites\n",
              "count                  10000  ...                                              10000\n",
              "unique                  9343  ...                                               4136\n",
              "top     AVwdiX0skufWRAb563Xt  ...  http://mcdonalds.com,http://www.mcdonalds.com/...\n",
              "freq                       4  ...                                                830\n",
              "\n",
              "[4 rows x 13 columns]"
            ]
          },
          "metadata": {},
          "execution_count": 8
        }
      ]
    },
    {
      "cell_type": "markdown",
      "source": [
        "### Correlacións"
      ],
      "metadata": {
        "id": "bNovKg9z-WOg"
      }
    },
    {
      "cell_type": "markdown",
      "source": [
        "Podemos ver a correlación das filas numéricas. Neste caso non é moi interesante porque só temos latitude e lonxitude\n"
      ],
      "metadata": {
        "id": "DkuvFCP6-GYI"
      }
    },
    {
      "cell_type": "code",
      "source": [
        "fastFood.corr()"
      ],
      "metadata": {
        "colab": {
          "base_uri": "https://localhost:8080/",
          "height": 144
        },
        "id": "63OjVoQb-Hvv",
        "outputId": "40e2ee71-54da-4179-fc87-ac66ef4dc132"
      },
      "execution_count": null,
      "outputs": [
        {
          "output_type": "execute_result",
          "data": {
            "text/html": [
              "\n",
              "  <div id=\"df-a737e33e-1208-483d-adc0-f5c9a2c14834\">\n",
              "    <div class=\"colab-df-container\">\n",
              "      <div>\n",
              "<style scoped>\n",
              "    .dataframe tbody tr th:only-of-type {\n",
              "        vertical-align: middle;\n",
              "    }\n",
              "\n",
              "    .dataframe tbody tr th {\n",
              "        vertical-align: top;\n",
              "    }\n",
              "\n",
              "    .dataframe thead th {\n",
              "        text-align: right;\n",
              "    }\n",
              "</style>\n",
              "<table border=\"1\" class=\"dataframe\">\n",
              "  <thead>\n",
              "    <tr style=\"text-align: right;\">\n",
              "      <th></th>\n",
              "      <th>index</th>\n",
              "      <th>latitude</th>\n",
              "      <th>longitude</th>\n",
              "    </tr>\n",
              "  </thead>\n",
              "  <tbody>\n",
              "    <tr>\n",
              "      <th>index</th>\n",
              "      <td>1.000000</td>\n",
              "      <td>-0.046334</td>\n",
              "      <td>0.043245</td>\n",
              "    </tr>\n",
              "    <tr>\n",
              "      <th>latitude</th>\n",
              "      <td>-0.046334</td>\n",
              "      <td>1.000000</td>\n",
              "      <td>0.071574</td>\n",
              "    </tr>\n",
              "    <tr>\n",
              "      <th>longitude</th>\n",
              "      <td>0.043245</td>\n",
              "      <td>0.071574</td>\n",
              "      <td>1.000000</td>\n",
              "    </tr>\n",
              "  </tbody>\n",
              "</table>\n",
              "</div>\n",
              "      <button class=\"colab-df-convert\" onclick=\"convertToInteractive('df-a737e33e-1208-483d-adc0-f5c9a2c14834')\"\n",
              "              title=\"Convert this dataframe to an interactive table.\"\n",
              "              style=\"display:none;\">\n",
              "        \n",
              "  <svg xmlns=\"http://www.w3.org/2000/svg\" height=\"24px\"viewBox=\"0 0 24 24\"\n",
              "       width=\"24px\">\n",
              "    <path d=\"M0 0h24v24H0V0z\" fill=\"none\"/>\n",
              "    <path d=\"M18.56 5.44l.94 2.06.94-2.06 2.06-.94-2.06-.94-.94-2.06-.94 2.06-2.06.94zm-11 1L8.5 8.5l.94-2.06 2.06-.94-2.06-.94L8.5 2.5l-.94 2.06-2.06.94zm10 10l.94 2.06.94-2.06 2.06-.94-2.06-.94-.94-2.06-.94 2.06-2.06.94z\"/><path d=\"M17.41 7.96l-1.37-1.37c-.4-.4-.92-.59-1.43-.59-.52 0-1.04.2-1.43.59L10.3 9.45l-7.72 7.72c-.78.78-.78 2.05 0 2.83L4 21.41c.39.39.9.59 1.41.59.51 0 1.02-.2 1.41-.59l7.78-7.78 2.81-2.81c.8-.78.8-2.07 0-2.86zM5.41 20L4 18.59l7.72-7.72 1.47 1.35L5.41 20z\"/>\n",
              "  </svg>\n",
              "      </button>\n",
              "      \n",
              "  <style>\n",
              "    .colab-df-container {\n",
              "      display:flex;\n",
              "      flex-wrap:wrap;\n",
              "      gap: 12px;\n",
              "    }\n",
              "\n",
              "    .colab-df-convert {\n",
              "      background-color: #E8F0FE;\n",
              "      border: none;\n",
              "      border-radius: 50%;\n",
              "      cursor: pointer;\n",
              "      display: none;\n",
              "      fill: #1967D2;\n",
              "      height: 32px;\n",
              "      padding: 0 0 0 0;\n",
              "      width: 32px;\n",
              "    }\n",
              "\n",
              "    .colab-df-convert:hover {\n",
              "      background-color: #E2EBFA;\n",
              "      box-shadow: 0px 1px 2px rgba(60, 64, 67, 0.3), 0px 1px 3px 1px rgba(60, 64, 67, 0.15);\n",
              "      fill: #174EA6;\n",
              "    }\n",
              "\n",
              "    [theme=dark] .colab-df-convert {\n",
              "      background-color: #3B4455;\n",
              "      fill: #D2E3FC;\n",
              "    }\n",
              "\n",
              "    [theme=dark] .colab-df-convert:hover {\n",
              "      background-color: #434B5C;\n",
              "      box-shadow: 0px 1px 3px 1px rgba(0, 0, 0, 0.15);\n",
              "      filter: drop-shadow(0px 1px 2px rgba(0, 0, 0, 0.3));\n",
              "      fill: #FFFFFF;\n",
              "    }\n",
              "  </style>\n",
              "\n",
              "      <script>\n",
              "        const buttonEl =\n",
              "          document.querySelector('#df-a737e33e-1208-483d-adc0-f5c9a2c14834 button.colab-df-convert');\n",
              "        buttonEl.style.display =\n",
              "          google.colab.kernel.accessAllowed ? 'block' : 'none';\n",
              "\n",
              "        async function convertToInteractive(key) {\n",
              "          const element = document.querySelector('#df-a737e33e-1208-483d-adc0-f5c9a2c14834');\n",
              "          const dataTable =\n",
              "            await google.colab.kernel.invokeFunction('convertToInteractive',\n",
              "                                                     [key], {});\n",
              "          if (!dataTable) return;\n",
              "\n",
              "          const docLinkHtml = 'Like what you see? Visit the ' +\n",
              "            '<a target=\"_blank\" href=https://colab.research.google.com/notebooks/data_table.ipynb>data table notebook</a>'\n",
              "            + ' to learn more about interactive tables.';\n",
              "          element.innerHTML = '';\n",
              "          dataTable['output_type'] = 'display_data';\n",
              "          await google.colab.output.renderOutput(dataTable, element);\n",
              "          const docLink = document.createElement('div');\n",
              "          docLink.innerHTML = docLinkHtml;\n",
              "          element.appendChild(docLink);\n",
              "        }\n",
              "      </script>\n",
              "    </div>\n",
              "  </div>\n",
              "  "
            ],
            "text/plain": [
              "              index  latitude  longitude\n",
              "index      1.000000 -0.046334   0.043245\n",
              "latitude  -0.046334  1.000000   0.071574\n",
              "longitude  0.043245  0.071574   1.000000"
            ]
          },
          "metadata": {},
          "execution_count": 9
        }
      ]
    },
    {
      "cell_type": "markdown",
      "source": [
        "### Cambios nos datos"
      ],
      "metadata": {
        "id": "Hj9n4zuQDDIO"
      }
    },
    {
      "cell_type": "markdown",
      "source": [
        "É posible que poda mellorar a información do dataset cambiando o tipo de algúns datos"
      ],
      "metadata": {
        "id": "Ordw8Vr4A7z0"
      }
    },
    {
      "cell_type": "code",
      "source": [
        "#primeiro fago unha copia dos datos con deepcopy, así aseguro que non perdo os iniciais\n",
        "fastFoodCopy = fastFood.copy(deep=True)"
      ],
      "metadata": {
        "id": "CcS2Ana2Avo9"
      },
      "execution_count": null,
      "outputs": []
    },
    {
      "cell_type": "code",
      "source": [
        "#parece que todos os códigos postais son numéricos, pero algúns teñen información extra\n",
        "#en formato \"#####-####\"\n",
        "#podo probar a cambialos porque parece que non perdería moita información\n",
        "fastFoodCopy['postalCode'].head(10)"
      ],
      "metadata": {
        "colab": {
          "base_uri": "https://localhost:8080/"
        },
        "id": "IqSwrvkBA52l",
        "outputId": "e931117c-7206-4fa7-a5ff-adff376f3e6f"
      },
      "execution_count": null,
      "outputs": [
        {
          "output_type": "execute_result",
          "data": {
            "text/plain": [
              "0    70301\n",
              "1    70301\n",
              "2    37863\n",
              "3    37863\n",
              "4    30260\n",
              "5    48204\n",
              "6    48235\n",
              "7    92056\n",
              "8    11901\n",
              "9    79756\n",
              "Name: postalCode, dtype: object"
            ]
          },
          "metadata": {},
          "execution_count": 11
        }
      ]
    },
    {
      "cell_type": "code",
      "source": [
        "#paso a int o código postal e me quedo con só os datos nas primeiras 5 posicións\n",
        "fastFoodCopy['codigoPostal'] = fastFoodCopy['postalCode'].map(lambda x: int(x[:5]))"
      ],
      "metadata": {
        "id": "P5EPvR8zBW7A"
      },
      "execution_count": null,
      "outputs": []
    },
    {
      "cell_type": "code",
      "source": [
        "fastFoodCopy['codigoPostal'].head(10)"
      ],
      "metadata": {
        "colab": {
          "base_uri": "https://localhost:8080/"
        },
        "id": "DjeB1FI0AmHn",
        "outputId": "07177de8-643b-4a74-dde2-e9e5fcb6cfc4"
      },
      "execution_count": null,
      "outputs": [
        {
          "output_type": "execute_result",
          "data": {
            "text/plain": [
              "0    70301\n",
              "1    70301\n",
              "2    37863\n",
              "3    37863\n",
              "4    30260\n",
              "5    48204\n",
              "6    48235\n",
              "7    92056\n",
              "8    11901\n",
              "9    79756\n",
              "Name: codigoPostal, dtype: int64"
            ]
          },
          "metadata": {},
          "execution_count": 13
        }
      ]
    },
    {
      "cell_type": "code",
      "source": [
        "#Como dato curioso, podemos ver que o código postal ten unha correlación moito maior\n",
        "#con lonxitude que con latitude\n",
        "fastFoodCopyCorr = fastFoodCopy.corr()\n",
        "fastFoodCopyCorr['codigoPostal'].sort_values(ascending=False)"
      ],
      "metadata": {
        "colab": {
          "base_uri": "https://localhost:8080/"
        },
        "id": "jkng6M77A2P_",
        "outputId": "dd06d089-e68b-4e42-cbdb-cdb5bd0af4ba"
      },
      "execution_count": null,
      "outputs": [
        {
          "output_type": "execute_result",
          "data": {
            "text/plain": [
              "codigoPostal    1.000000\n",
              "index          -0.026341\n",
              "latitude       -0.128152\n",
              "longitude      -0.926560\n",
              "Name: codigoPostal, dtype: float64"
            ]
          },
          "metadata": {},
          "execution_count": 14
        }
      ]
    },
    {
      "cell_type": "markdown",
      "source": [
        "### Gráficas"
      ],
      "metadata": {
        "id": "nldFZpLA-Bsw"
      }
    },
    {
      "cell_type": "markdown",
      "source": [
        "Gracias aos cambios feitos no apartado anterior, podemos ver moi ben o mapa dos restaurantes co seu código postal"
      ],
      "metadata": {
        "id": "92Os-qLZ-XwI"
      }
    },
    {
      "cell_type": "code",
      "source": [
        "fastFoodCopy.plot(kind=\"scatter\", x=\"longitude\", y=\"latitude\", alpha=0.2, \n",
        "                  c=fastFoodCopy['codigoPostal'], cmap=plt.get_cmap(\"jet\"))"
      ],
      "metadata": {
        "colab": {
          "base_uri": "https://localhost:8080/",
          "height": 271
        },
        "id": "2BgWIBF0-YfA",
        "outputId": "3c1e98a5-f526-41ea-f50c-a29b6c0c70d3"
      },
      "execution_count": null,
      "outputs": [
        {
          "output_type": "execute_result",
          "data": {
            "text/plain": [
              "<matplotlib.axes._subplots.AxesSubplot at 0x7fd38567a410>"
            ]
          },
          "metadata": {},
          "execution_count": 15
        },
        {
          "output_type": "display_data",
          "data": {
            "image/png": "[encoded data removed]",
            "text/plain": [
              "<Figure size 432x288 with 2 Axes>"
            ]
          },
          "metadata": {
            "needs_background": "light"
          }
        }
      ]
    },
    {
      "cell_type": "markdown",
      "source": [
        "Podemos ver a cantidade de restaurantes en cada estado"
      ],
      "metadata": {
        "id": "cHxYvszPEdNB"
      }
    },
    {
      "cell_type": "code",
      "source": [
        "sns.displot(data=fastFoodCopy,y='province')"
      ],
      "metadata": {
        "colab": {
          "base_uri": "https://localhost:8080/",
          "height": 388
        },
        "id": "obWvOkL8EdpK",
        "outputId": "528560ff-5923-478b-954a-c03e8a57d665"
      },
      "execution_count": null,
      "outputs": [
        {
          "output_type": "execute_result",
          "data": {
            "text/plain": [
              "<seaborn.axisgrid.FacetGrid at 0x7fd38564e750>"
            ]
          },
          "metadata": {},
          "execution_count": 16
        },
        {
          "output_type": "display_data",
          "data": {
            "image/png": "[encoded data removed]",
            "text/plain": [
              "<Figure size 360x360 with 1 Axes>"
            ]
          },
          "metadata": {
            "needs_background": "light"
          }
        }
      ]
    },
    {
      "cell_type": "markdown",
      "source": [
        "Punto máis preto de todos os restaurantes en cada rexión"
      ],
      "metadata": {
        "id": "w_v8M5tZ-IrV"
      }
    },
    {
      "cell_type": "code",
      "source": [
        "grouped_fastFood = fastFoodCopy.groupby('province')\n",
        "puntosQuentes = grouped_fastFood['codigoPostal'].mean()\n",
        "puntosQuentes.sample(5)"
      ],
      "metadata": {
        "id": "QL4LgHxP-H1d",
        "colab": {
          "base_uri": "https://localhost:8080/"
        },
        "outputId": "1563c394-b875-446c-fe86-a4cc12063563"
      },
      "execution_count": null,
      "outputs": [
        {
          "output_type": "execute_result",
          "data": {
            "text/plain": [
              "province\n",
              "KY    41075.168675\n",
              "VT     5467.866667\n",
              "MA     1976.321951\n",
              "IA    51175.017391\n",
              "VA    23185.877470\n",
              "Name: codigoPostal, dtype: float64"
            ]
          },
          "metadata": {},
          "execution_count": 31
        }
      ]
    },
    {
      "cell_type": "code",
      "source": [
        "type(puntosQuentes)"
      ],
      "metadata": {
        "colab": {
          "base_uri": "https://localhost:8080/"
        },
        "id": "SQco4HB3lGg0",
        "outputId": "35496daf-cfee-4629-8b20-fa1c41d558eb"
      },
      "execution_count": null,
      "outputs": [
        {
          "output_type": "execute_result",
          "data": {
            "text/plain": [
              "pandas.core.series.Series"
            ]
          },
          "metadata": {},
          "execution_count": 32
        }
      ]
    },
    {
      "cell_type": "code",
      "source": [
        "puntosQuentesDF = pd.DataFrame(puntosQuentes)\n",
        "puntosQuentesDF.sample(5)"
      ],
      "metadata": {
        "colab": {
          "base_uri": "https://localhost:8080/",
          "height": 238
        },
        "id": "GFmZTuYFlFVU",
        "outputId": "f69c8fd4-0fff-4b9e-9177-ed11015241fa"
      },
      "execution_count": null,
      "outputs": [
        {
          "output_type": "execute_result",
          "data": {
            "text/html": [
              "\n",
              "  <div id=\"df-43f12ffa-6c12-4cf7-9251-532f72c5770d\">\n",
              "    <div class=\"colab-df-container\">\n",
              "      <div>\n",
              "<style scoped>\n",
              "    .dataframe tbody tr th:only-of-type {\n",
              "        vertical-align: middle;\n",
              "    }\n",
              "\n",
              "    .dataframe tbody tr th {\n",
              "        vertical-align: top;\n",
              "    }\n",
              "\n",
              "    .dataframe thead th {\n",
              "        text-align: right;\n",
              "    }\n",
              "</style>\n",
              "<table border=\"1\" class=\"dataframe\">\n",
              "  <thead>\n",
              "    <tr style=\"text-align: right;\">\n",
              "      <th></th>\n",
              "      <th>codigoPostal</th>\n",
              "    </tr>\n",
              "    <tr>\n",
              "      <th>province</th>\n",
              "      <th></th>\n",
              "    </tr>\n",
              "  </thead>\n",
              "  <tbody>\n",
              "    <tr>\n",
              "      <th>MS</th>\n",
              "      <td>39068.145455</td>\n",
              "    </tr>\n",
              "    <tr>\n",
              "      <th>AL</th>\n",
              "      <td>35704.833333</td>\n",
              "    </tr>\n",
              "    <tr>\n",
              "      <th>SD</th>\n",
              "      <td>57312.857143</td>\n",
              "    </tr>\n",
              "    <tr>\n",
              "      <th>MT</th>\n",
              "      <td>59609.684211</td>\n",
              "    </tr>\n",
              "    <tr>\n",
              "      <th>FL</th>\n",
              "      <td>33156.534622</td>\n",
              "    </tr>\n",
              "  </tbody>\n",
              "</table>\n",
              "</div>\n",
              "      <button class=\"colab-df-convert\" onclick=\"convertToInteractive('df-43f12ffa-6c12-4cf7-9251-532f72c5770d')\"\n",
              "              title=\"Convert this dataframe to an interactive table.\"\n",
              "              style=\"display:none;\">\n",
              "        \n",
              "  <svg xmlns=\"http://www.w3.org/2000/svg\" height=\"24px\"viewBox=\"0 0 24 24\"\n",
              "       width=\"24px\">\n",
              "    <path d=\"M0 0h24v24H0V0z\" fill=\"none\"/>\n",
              "    <path d=\"M18.56 5.44l.94 2.06.94-2.06 2.06-.94-2.06-.94-.94-2.06-.94 2.06-2.06.94zm-11 1L8.5 8.5l.94-2.06 2.06-.94-2.06-.94L8.5 2.5l-.94 2.06-2.06.94zm10 10l.94 2.06.94-2.06 2.06-.94-2.06-.94-.94-2.06-.94 2.06-2.06.94z\"/><path d=\"M17.41 7.96l-1.37-1.37c-.4-.4-.92-.59-1.43-.59-.52 0-1.04.2-1.43.59L10.3 9.45l-7.72 7.72c-.78.78-.78 2.05 0 2.83L4 21.41c.39.39.9.59 1.41.59.51 0 1.02-.2 1.41-.59l7.78-7.78 2.81-2.81c.8-.78.8-2.07 0-2.86zM5.41 20L4 18.59l7.72-7.72 1.47 1.35L5.41 20z\"/>\n",
              "  </svg>\n",
              "      </button>\n",
              "      \n",
              "  <style>\n",
              "    .colab-df-container {\n",
              "      display:flex;\n",
              "      flex-wrap:wrap;\n",
              "      gap: 12px;\n",
              "    }\n",
              "\n",
              "    .colab-df-convert {\n",
              "      background-color: #E8F0FE;\n",
              "      border: none;\n",
              "      border-radius: 50%;\n",
              "      cursor: pointer;\n",
              "      display: none;\n",
              "      fill: #1967D2;\n",
              "      height: 32px;\n",
              "      padding: 0 0 0 0;\n",
              "      width: 32px;\n",
              "    }\n",
              "\n",
              "    .colab-df-convert:hover {\n",
              "      background-color: #E2EBFA;\n",
              "      box-shadow: 0px 1px 2px rgba(60, 64, 67, 0.3), 0px 1px 3px 1px rgba(60, 64, 67, 0.15);\n",
              "      fill: #174EA6;\n",
              "    }\n",
              "\n",
              "    [theme=dark] .colab-df-convert {\n",
              "      background-color: #3B4455;\n",
              "      fill: #D2E3FC;\n",
              "    }\n",
              "\n",
              "    [theme=dark] .colab-df-convert:hover {\n",
              "      background-color: #434B5C;\n",
              "      box-shadow: 0px 1px 3px 1px rgba(0, 0, 0, 0.15);\n",
              "      filter: drop-shadow(0px 1px 2px rgba(0, 0, 0, 0.3));\n",
              "      fill: #FFFFFF;\n",
              "    }\n",
              "  </style>\n",
              "\n",
              "      <script>\n",
              "        const buttonEl =\n",
              "          document.querySelector('#df-43f12ffa-6c12-4cf7-9251-532f72c5770d button.colab-df-convert');\n",
              "        buttonEl.style.display =\n",
              "          google.colab.kernel.accessAllowed ? 'block' : 'none';\n",
              "\n",
              "        async function convertToInteractive(key) {\n",
              "          const element = document.querySelector('#df-43f12ffa-6c12-4cf7-9251-532f72c5770d');\n",
              "          const dataTable =\n",
              "            await google.colab.kernel.invokeFunction('convertToInteractive',\n",
              "                                                     [key], {});\n",
              "          if (!dataTable) return;\n",
              "\n",
              "          const docLinkHtml = 'Like what you see? Visit the ' +\n",
              "            '<a target=\"_blank\" href=https://colab.research.google.com/notebooks/data_table.ipynb>data table notebook</a>'\n",
              "            + ' to learn more about interactive tables.';\n",
              "          element.innerHTML = '';\n",
              "          dataTable['output_type'] = 'display_data';\n",
              "          await google.colab.output.renderOutput(dataTable, element);\n",
              "          const docLink = document.createElement('div');\n",
              "          docLink.innerHTML = docLinkHtml;\n",
              "          element.appendChild(docLink);\n",
              "        }\n",
              "      </script>\n",
              "    </div>\n",
              "  </div>\n",
              "  "
            ],
            "text/plain": [
              "          codigoPostal\n",
              "province              \n",
              "MS        39068.145455\n",
              "AL        35704.833333\n",
              "SD        57312.857143\n",
              "MT        59609.684211\n",
              "FL        33156.534622"
            ]
          },
          "metadata": {},
          "execution_count": 34
        }
      ]
    },
    {
      "cell_type": "markdown",
      "source": [
        "### Outros datos interesantes"
      ],
      "metadata": {
        "id": "eCYq2s0gnqF0"
      }
    },
    {
      "cell_type": "code",
      "source": [
        "#Provincias con maior e menor número de restaurantes"
      ],
      "metadata": {
        "id": "dCj_QmTlnqck"
      },
      "execution_count": null,
      "outputs": []
    },
    {
      "cell_type": "code",
      "source": [
        "grouped_fastFood['keys'].count().sort_values(ascending=False).head(5)"
      ],
      "metadata": {
        "id": "efed_ndxnx_c",
        "colab": {
          "base_uri": "https://localhost:8080/"
        },
        "outputId": "441ed2b9-f5af-44ba-a710-3264df52c6ba"
      },
      "execution_count": null,
      "outputs": [
        {
          "output_type": "execute_result",
          "data": {
            "text/plain": [
              "province\n",
              "CA    1201\n",
              "TX     811\n",
              "FL     621\n",
              "OH     522\n",
              "GA     420\n",
              "Name: keys, dtype: int64"
            ]
          },
          "metadata": {},
          "execution_count": 89
        }
      ]
    },
    {
      "cell_type": "code",
      "source": [
        "grouped_fastFood['keys'].count().sort_values(ascending=True).head(5)"
      ],
      "metadata": {
        "colab": {
          "base_uri": "https://localhost:8080/"
        },
        "id": "1rjyUXFVvEcI",
        "outputId": "09b84563-a536-4c3d-f6f9-914372bf846a"
      },
      "execution_count": null,
      "outputs": [
        {
          "output_type": "execute_result",
          "data": {
            "text/plain": [
              "province\n",
              "AL     6\n",
              "VT    15\n",
              "RI    15\n",
              "AK    16\n",
              "ME    25\n",
              "Name: keys, dtype: int64"
            ]
          },
          "metadata": {},
          "execution_count": 90
        }
      ]
    },
    {
      "cell_type": "markdown",
      "source": [
        "### Outliers, nulos, repetidos"
      ],
      "metadata": {
        "id": "zvyLLLzX993Q"
      }
    },
    {
      "cell_type": "code",
      "source": [
        "#Facemos outra copia do dataframe previamente modificado, \n",
        "#por se borramos nestos pasos algún dato que máis adiante nos interese manter\n",
        "\n",
        "fastFoodLimpo = fastFoodCopy.copy(deep=True)"
      ],
      "metadata": {
        "id": "vO85QHfqpcmR"
      },
      "execution_count": null,
      "outputs": []
    },
    {
      "cell_type": "markdown",
      "source": [
        "Nulos"
      ],
      "metadata": {
        "id": "eGkWwjUK-rfU"
      }
    },
    {
      "cell_type": "code",
      "source": [
        "fastFoodLimpo.info()"
      ],
      "metadata": {
        "colab": {
          "base_uri": "https://localhost:8080/"
        },
        "id": "f7DLK2Huqv5Z",
        "outputId": "9250e055-ea51-45ff-ca3e-6591200e4a1d"
      },
      "execution_count": null,
      "outputs": [
        {
          "output_type": "stream",
          "name": "stdout",
          "text": [
            "<class 'pandas.core.frame.DataFrame'>\n",
            "Int64Index: 10000 entries, 0 to 9999\n",
            "Data columns (total 17 columns):\n",
            " #   Column        Non-Null Count  Dtype  \n",
            "---  ------        --------------  -----  \n",
            " 0   index         10000 non-null  int64  \n",
            " 1   id            10000 non-null  object \n",
            " 2   dateAdded     10000 non-null  object \n",
            " 3   dateUpdated   10000 non-null  object \n",
            " 4   address       10000 non-null  object \n",
            " 5   categories    10000 non-null  object \n",
            " 6   city          10000 non-null  object \n",
            " 7   country       10000 non-null  object \n",
            " 8   keys          10000 non-null  object \n",
            " 9   latitude      10000 non-null  float64\n",
            " 10  longitude     10000 non-null  float64\n",
            " 11  name          10000 non-null  object \n",
            " 12  postalCode    10000 non-null  object \n",
            " 13  province      10000 non-null  object \n",
            " 14  sourceURLs    10000 non-null  object \n",
            " 15  websites      10000 non-null  object \n",
            " 16  codigoPostal  10000 non-null  int64  \n",
            "dtypes: float64(2), int64(2), object(13)\n",
            "memory usage: 1.4+ MB\n"
          ]
        }
      ]
    },
    {
      "cell_type": "code",
      "source": [
        "#neste caso non temos datos nulos, pero poderíamos"
      ],
      "metadata": {
        "id": "t7luCIWt-scc"
      },
      "execution_count": null,
      "outputs": []
    },
    {
      "cell_type": "code",
      "source": [
        "#borrar as filas que teñan datos nulos\n",
        "fastFoodLimpo = fastFoodLimpo.dropna()"
      ],
      "metadata": {
        "id": "0LtyXbrIpo4z"
      },
      "execution_count": null,
      "outputs": []
    },
    {
      "cell_type": "code",
      "source": [
        "#borrar as columnas que teñan datos nulos\n",
        "fastFoodLimpo = fastFoodLimpo.dropna(axis=1)"
      ],
      "metadata": {
        "id": "ghPC01Vgpouw"
      },
      "execution_count": null,
      "outputs": []
    },
    {
      "cell_type": "code",
      "source": [
        "#engadir un treshold a esos borrados, para só facelos se pasan de \"thresh\" datos nulos\n",
        "fastFoodLimpo = fastFoodLimpo.dropna(axis=1, thresh=10)"
      ],
      "metadata": {
        "id": "tJP9vSRkpojv"
      },
      "execution_count": null,
      "outputs": []
    },
    {
      "cell_type": "code",
      "source": [
        "#engadir \"Descoñecido\" nos valores nulos (ou 0 nos numéricos)\n",
        "fastFoodLimpo = fastFoodLimpo.fillna(\"Descoñecido\")"
      ],
      "metadata": {
        "id": "_4kEnoB2q87V"
      },
      "execution_count": null,
      "outputs": []
    },
    {
      "cell_type": "code",
      "source": [
        "# reemprazo con valores da fila anterior\n",
        "fastFoodLimpo = fastFoodLimpo.fillna(method='ffill')"
      ],
      "metadata": {
        "id": "S_DLLD-friZV"
      },
      "execution_count": null,
      "outputs": []
    },
    {
      "cell_type": "code",
      "source": [
        "# reemprazo don valores da fila posterios\n",
        "fastFoodLimpo = fastFoodLimpo.fillna(method='bfill')"
      ],
      "metadata": {
        "id": "R02hvbUeriu1"
      },
      "execution_count": null,
      "outputs": []
    },
    {
      "cell_type": "markdown",
      "source": [
        "Filas Duplicadas"
      ],
      "metadata": {
        "id": "A7RBSNCqqOn_"
      }
    },
    {
      "cell_type": "code",
      "source": [
        "#tampoco temos filas duplicadas\n",
        "fastFoodLimpo[fastFoodLimpo.duplicated()]"
      ],
      "metadata": {
        "colab": {
          "base_uri": "https://localhost:8080/",
          "height": 94
        },
        "id": "uRhDFzZWqM5P",
        "outputId": "8122d149-889a-4bec-b460-9aee9a422b28"
      },
      "execution_count": null,
      "outputs": [
        {
          "output_type": "execute_result",
          "data": {
            "text/html": [
              "\n",
              "  <div id=\"df-72298a88-63c2-4b8b-ac59-15a9c2d5d8d3\">\n",
              "    <div class=\"colab-df-container\">\n",
              "      <div>\n",
              "<style scoped>\n",
              "    .dataframe tbody tr th:only-of-type {\n",
              "        vertical-align: middle;\n",
              "    }\n",
              "\n",
              "    .dataframe tbody tr th {\n",
              "        vertical-align: top;\n",
              "    }\n",
              "\n",
              "    .dataframe thead th {\n",
              "        text-align: right;\n",
              "    }\n",
              "</style>\n",
              "<table border=\"1\" class=\"dataframe\">\n",
              "  <thead>\n",
              "    <tr style=\"text-align: right;\">\n",
              "      <th></th>\n",
              "      <th>index</th>\n",
              "      <th>id</th>\n",
              "      <th>dateAdded</th>\n",
              "      <th>dateUpdated</th>\n",
              "      <th>address</th>\n",
              "      <th>categories</th>\n",
              "      <th>city</th>\n",
              "      <th>country</th>\n",
              "      <th>keys</th>\n",
              "      <th>latitude</th>\n",
              "      <th>longitude</th>\n",
              "      <th>name</th>\n",
              "      <th>postalCode</th>\n",
              "      <th>province</th>\n",
              "      <th>sourceURLs</th>\n",
              "      <th>websites</th>\n",
              "      <th>codigoPostal</th>\n",
              "    </tr>\n",
              "  </thead>\n",
              "  <tbody>\n",
              "  </tbody>\n",
              "</table>\n",
              "</div>\n",
              "      <button class=\"colab-df-convert\" onclick=\"convertToInteractive('df-72298a88-63c2-4b8b-ac59-15a9c2d5d8d3')\"\n",
              "              title=\"Convert this dataframe to an interactive table.\"\n",
              "              style=\"display:none;\">\n",
              "        \n",
              "  <svg xmlns=\"http://www.w3.org/2000/svg\" height=\"24px\"viewBox=\"0 0 24 24\"\n",
              "       width=\"24px\">\n",
              "    <path d=\"M0 0h24v24H0V0z\" fill=\"none\"/>\n",
              "    <path d=\"M18.56 5.44l.94 2.06.94-2.06 2.06-.94-2.06-.94-.94-2.06-.94 2.06-2.06.94zm-11 1L8.5 8.5l.94-2.06 2.06-.94-2.06-.94L8.5 2.5l-.94 2.06-2.06.94zm10 10l.94 2.06.94-2.06 2.06-.94-2.06-.94-.94-2.06-.94 2.06-2.06.94z\"/><path d=\"M17.41 7.96l-1.37-1.37c-.4-.4-.92-.59-1.43-.59-.52 0-1.04.2-1.43.59L10.3 9.45l-7.72 7.72c-.78.78-.78 2.05 0 2.83L4 21.41c.39.39.9.59 1.41.59.51 0 1.02-.2 1.41-.59l7.78-7.78 2.81-2.81c.8-.78.8-2.07 0-2.86zM5.41 20L4 18.59l7.72-7.72 1.47 1.35L5.41 20z\"/>\n",
              "  </svg>\n",
              "      </button>\n",
              "      \n",
              "  <style>\n",
              "    .colab-df-container {\n",
              "      display:flex;\n",
              "      flex-wrap:wrap;\n",
              "      gap: 12px;\n",
              "    }\n",
              "\n",
              "    .colab-df-convert {\n",
              "      background-color: #E8F0FE;\n",
              "      border: none;\n",
              "      border-radius: 50%;\n",
              "      cursor: pointer;\n",
              "      display: none;\n",
              "      fill: #1967D2;\n",
              "      height: 32px;\n",
              "      padding: 0 0 0 0;\n",
              "      width: 32px;\n",
              "    }\n",
              "\n",
              "    .colab-df-convert:hover {\n",
              "      background-color: #E2EBFA;\n",
              "      box-shadow: 0px 1px 2px rgba(60, 64, 67, 0.3), 0px 1px 3px 1px rgba(60, 64, 67, 0.15);\n",
              "      fill: #174EA6;\n",
              "    }\n",
              "\n",
              "    [theme=dark] .colab-df-convert {\n",
              "      background-color: #3B4455;\n",
              "      fill: #D2E3FC;\n",
              "    }\n",
              "\n",
              "    [theme=dark] .colab-df-convert:hover {\n",
              "      background-color: #434B5C;\n",
              "      box-shadow: 0px 1px 3px 1px rgba(0, 0, 0, 0.15);\n",
              "      filter: drop-shadow(0px 1px 2px rgba(0, 0, 0, 0.3));\n",
              "      fill: #FFFFFF;\n",
              "    }\n",
              "  </style>\n",
              "\n",
              "      <script>\n",
              "        const buttonEl =\n",
              "          document.querySelector('#df-72298a88-63c2-4b8b-ac59-15a9c2d5d8d3 button.colab-df-convert');\n",
              "        buttonEl.style.display =\n",
              "          google.colab.kernel.accessAllowed ? 'block' : 'none';\n",
              "\n",
              "        async function convertToInteractive(key) {\n",
              "          const element = document.querySelector('#df-72298a88-63c2-4b8b-ac59-15a9c2d5d8d3');\n",
              "          const dataTable =\n",
              "            await google.colab.kernel.invokeFunction('convertToInteractive',\n",
              "                                                     [key], {});\n",
              "          if (!dataTable) return;\n",
              "\n",
              "          const docLinkHtml = 'Like what you see? Visit the ' +\n",
              "            '<a target=\"_blank\" href=https://colab.research.google.com/notebooks/data_table.ipynb>data table notebook</a>'\n",
              "            + ' to learn more about interactive tables.';\n",
              "          element.innerHTML = '';\n",
              "          dataTable['output_type'] = 'display_data';\n",
              "          await google.colab.output.renderOutput(dataTable, element);\n",
              "          const docLink = document.createElement('div');\n",
              "          docLink.innerHTML = docLinkHtml;\n",
              "          element.appendChild(docLink);\n",
              "        }\n",
              "      </script>\n",
              "    </div>\n",
              "  </div>\n",
              "  "
            ],
            "text/plain": [
              "Empty DataFrame\n",
              "Columns: [index, id, dateAdded, dateUpdated, address, categories, city, country, keys, latitude, longitude, name, postalCode, province, sourceURLs, websites, codigoPostal]\n",
              "Index: []"
            ]
          },
          "metadata": {},
          "execution_count": 61
        }
      ]
    },
    {
      "cell_type": "code",
      "source": [
        "#as eliminaríamos de esta forma\n",
        "fastFoodLimpo = fastFoodLimpo.drop_duplicates()"
      ],
      "metadata": {
        "id": "FRj-f15PqaaX"
      },
      "execution_count": null,
      "outputs": []
    },
    {
      "cell_type": "markdown",
      "source": [
        "Outliers"
      ],
      "metadata": {
        "id": "jMT1wVJW-HGA"
      }
    },
    {
      "cell_type": "code",
      "source": [
        "#Neste caso, pode ser posible que non queramos gardar os datos das zonas que estén moi lonxe\n",
        "#Podemos tratalos como outliers e eliminalos\n",
        "\n",
        "fastFoodLimpo.describe()"
      ],
      "metadata": {
        "colab": {
          "base_uri": "https://localhost:8080/",
          "height": 301
        },
        "id": "zWRVuQNQsCVe",
        "outputId": "36208c78-999d-4a52-8bca-7fd0f9241dd3"
      },
      "execution_count": null,
      "outputs": [
        {
          "output_type": "execute_result",
          "data": {
            "text/html": [
              "\n",
              "  <div id=\"df-c8625d40-8cdd-4092-89fd-b6793918e3dc\">\n",
              "    <div class=\"colab-df-container\">\n",
              "      <div>\n",
              "<style scoped>\n",
              "    .dataframe tbody tr th:only-of-type {\n",
              "        vertical-align: middle;\n",
              "    }\n",
              "\n",
              "    .dataframe tbody tr th {\n",
              "        vertical-align: top;\n",
              "    }\n",
              "\n",
              "    .dataframe thead th {\n",
              "        text-align: right;\n",
              "    }\n",
              "</style>\n",
              "<table border=\"1\" class=\"dataframe\">\n",
              "  <thead>\n",
              "    <tr style=\"text-align: right;\">\n",
              "      <th></th>\n",
              "      <th>index</th>\n",
              "      <th>latitude</th>\n",
              "      <th>longitude</th>\n",
              "      <th>codigoPostal</th>\n",
              "    </tr>\n",
              "  </thead>\n",
              "  <tbody>\n",
              "    <tr>\n",
              "      <th>count</th>\n",
              "      <td>10000.00000</td>\n",
              "      <td>10000.000000</td>\n",
              "      <td>10000.000000</td>\n",
              "      <td>10000.000000</td>\n",
              "    </tr>\n",
              "    <tr>\n",
              "      <th>mean</th>\n",
              "      <td>4999.50000</td>\n",
              "      <td>37.337400</td>\n",
              "      <td>-93.106515</td>\n",
              "      <td>54251.921900</td>\n",
              "    </tr>\n",
              "    <tr>\n",
              "      <th>std</th>\n",
              "      <td>2886.89568</td>\n",
              "      <td>5.100276</td>\n",
              "      <td>15.787614</td>\n",
              "      <td>28066.036321</td>\n",
              "    </tr>\n",
              "    <tr>\n",
              "      <th>min</th>\n",
              "      <td>0.00000</td>\n",
              "      <td>19.504168</td>\n",
              "      <td>-159.378066</td>\n",
              "      <td>1001.000000</td>\n",
              "    </tr>\n",
              "    <tr>\n",
              "      <th>25%</th>\n",
              "      <td>2499.75000</td>\n",
              "      <td>33.773973</td>\n",
              "      <td>-102.891796</td>\n",
              "      <td>30642.750000</td>\n",
              "    </tr>\n",
              "    <tr>\n",
              "      <th>50%</th>\n",
              "      <td>4999.50000</td>\n",
              "      <td>37.706263</td>\n",
              "      <td>-87.951148</td>\n",
              "      <td>50414.500000</td>\n",
              "    </tr>\n",
              "    <tr>\n",
              "      <th>75%</th>\n",
              "      <td>7499.25000</td>\n",
              "      <td>41.140722</td>\n",
              "      <td>-81.454907</td>\n",
              "      <td>78840.000000</td>\n",
              "    </tr>\n",
              "    <tr>\n",
              "      <th>max</th>\n",
              "      <td>9999.00000</td>\n",
              "      <td>64.840240</td>\n",
              "      <td>-67.463019</td>\n",
              "      <td>99709.000000</td>\n",
              "    </tr>\n",
              "  </tbody>\n",
              "</table>\n",
              "</div>\n",
              "      <button class=\"colab-df-convert\" onclick=\"convertToInteractive('df-c8625d40-8cdd-4092-89fd-b6793918e3dc')\"\n",
              "              title=\"Convert this dataframe to an interactive table.\"\n",
              "              style=\"display:none;\">\n",
              "        \n",
              "  <svg xmlns=\"http://www.w3.org/2000/svg\" height=\"24px\"viewBox=\"0 0 24 24\"\n",
              "       width=\"24px\">\n",
              "    <path d=\"M0 0h24v24H0V0z\" fill=\"none\"/>\n",
              "    <path d=\"M18.56 5.44l.94 2.06.94-2.06 2.06-.94-2.06-.94-.94-2.06-.94 2.06-2.06.94zm-11 1L8.5 8.5l.94-2.06 2.06-.94-2.06-.94L8.5 2.5l-.94 2.06-2.06.94zm10 10l.94 2.06.94-2.06 2.06-.94-2.06-.94-.94-2.06-.94 2.06-2.06.94z\"/><path d=\"M17.41 7.96l-1.37-1.37c-.4-.4-.92-.59-1.43-.59-.52 0-1.04.2-1.43.59L10.3 9.45l-7.72 7.72c-.78.78-.78 2.05 0 2.83L4 21.41c.39.39.9.59 1.41.59.51 0 1.02-.2 1.41-.59l7.78-7.78 2.81-2.81c.8-.78.8-2.07 0-2.86zM5.41 20L4 18.59l7.72-7.72 1.47 1.35L5.41 20z\"/>\n",
              "  </svg>\n",
              "      </button>\n",
              "      \n",
              "  <style>\n",
              "    .colab-df-container {\n",
              "      display:flex;\n",
              "      flex-wrap:wrap;\n",
              "      gap: 12px;\n",
              "    }\n",
              "\n",
              "    .colab-df-convert {\n",
              "      background-color: #E8F0FE;\n",
              "      border: none;\n",
              "      border-radius: 50%;\n",
              "      cursor: pointer;\n",
              "      display: none;\n",
              "      fill: #1967D2;\n",
              "      height: 32px;\n",
              "      padding: 0 0 0 0;\n",
              "      width: 32px;\n",
              "    }\n",
              "\n",
              "    .colab-df-convert:hover {\n",
              "      background-color: #E2EBFA;\n",
              "      box-shadow: 0px 1px 2px rgba(60, 64, 67, 0.3), 0px 1px 3px 1px rgba(60, 64, 67, 0.15);\n",
              "      fill: #174EA6;\n",
              "    }\n",
              "\n",
              "    [theme=dark] .colab-df-convert {\n",
              "      background-color: #3B4455;\n",
              "      fill: #D2E3FC;\n",
              "    }\n",
              "\n",
              "    [theme=dark] .colab-df-convert:hover {\n",
              "      background-color: #434B5C;\n",
              "      box-shadow: 0px 1px 3px 1px rgba(0, 0, 0, 0.15);\n",
              "      filter: drop-shadow(0px 1px 2px rgba(0, 0, 0, 0.3));\n",
              "      fill: #FFFFFF;\n",
              "    }\n",
              "  </style>\n",
              "\n",
              "      <script>\n",
              "        const buttonEl =\n",
              "          document.querySelector('#df-c8625d40-8cdd-4092-89fd-b6793918e3dc button.colab-df-convert');\n",
              "        buttonEl.style.display =\n",
              "          google.colab.kernel.accessAllowed ? 'block' : 'none';\n",
              "\n",
              "        async function convertToInteractive(key) {\n",
              "          const element = document.querySelector('#df-c8625d40-8cdd-4092-89fd-b6793918e3dc');\n",
              "          const dataTable =\n",
              "            await google.colab.kernel.invokeFunction('convertToInteractive',\n",
              "                                                     [key], {});\n",
              "          if (!dataTable) return;\n",
              "\n",
              "          const docLinkHtml = 'Like what you see? Visit the ' +\n",
              "            '<a target=\"_blank\" href=https://colab.research.google.com/notebooks/data_table.ipynb>data table notebook</a>'\n",
              "            + ' to learn more about interactive tables.';\n",
              "          element.innerHTML = '';\n",
              "          dataTable['output_type'] = 'display_data';\n",
              "          await google.colab.output.renderOutput(dataTable, element);\n",
              "          const docLink = document.createElement('div');\n",
              "          docLink.innerHTML = docLinkHtml;\n",
              "          element.appendChild(docLink);\n",
              "        }\n",
              "      </script>\n",
              "    </div>\n",
              "  </div>\n",
              "  "
            ],
            "text/plain": [
              "             index      latitude     longitude  codigoPostal\n",
              "count  10000.00000  10000.000000  10000.000000  10000.000000\n",
              "mean    4999.50000     37.337400    -93.106515  54251.921900\n",
              "std     2886.89568      5.100276     15.787614  28066.036321\n",
              "min        0.00000     19.504168   -159.378066   1001.000000\n",
              "25%     2499.75000     33.773973   -102.891796  30642.750000\n",
              "50%     4999.50000     37.706263    -87.951148  50414.500000\n",
              "75%     7499.25000     41.140722    -81.454907  78840.000000\n",
              "max     9999.00000     64.840240    -67.463019  99709.000000"
            ]
          },
          "metadata": {},
          "execution_count": 69
        }
      ]
    },
    {
      "cell_type": "code",
      "source": [
        "sns.boxplot(data=fastFoodLimpo,x='latitude')"
      ],
      "metadata": {
        "id": "9mn6Aho4-ADQ",
        "colab": {
          "base_uri": "https://localhost:8080/",
          "height": 298
        },
        "outputId": "86d4fb0e-10fc-4b97-82a7-c29497086208"
      },
      "execution_count": null,
      "outputs": [
        {
          "output_type": "execute_result",
          "data": {
            "text/plain": [
              "<matplotlib.axes._subplots.AxesSubplot at 0x7fd37fbb0510>"
            ]
          },
          "metadata": {},
          "execution_count": 67
        },
        {
          "output_type": "display_data",
          "data": {
            "image/png": "[encoded data removed]",
            "text/plain": [
              "<Figure size 432x288 with 1 Axes>"
            ]
          },
          "metadata": {
            "needs_background": "light"
          }
        }
      ]
    },
    {
      "cell_type": "code",
      "source": [
        "#preparamos os datos\n",
        "Q1 = fastFoodLimpo.latitude.quantile(0.25)\n",
        "Q3 = fastFoodLimpo.latitude.quantile(0.75)\n",
        "IQR = Q3 - Q1"
      ],
      "metadata": {
        "id": "cBEdf-rysmlz"
      },
      "execution_count": null,
      "outputs": []
    },
    {
      "cell_type": "code",
      "source": [
        "# Cálculo dos \"bigotes\"\n",
        "BI = (Q1 - 1.5 * IQR)\n",
        "BS = (Q3 + 1.5 * IQR)"
      ],
      "metadata": {
        "id": "AG_FJdTgsuCs"
      },
      "execution_count": null,
      "outputs": []
    },
    {
      "cell_type": "code",
      "source": [
        "#Os outliers serán os valores que están fóra do intervalo que definen os bigotes\n",
        "outliers = fastFoodLimpo[(fastFoodLimpo.latitude < BI) | (fastFoodLimpo.latitude > BS)].sort_values('latitude')"
      ],
      "metadata": {
        "id": "3Mls64xGs2gs"
      },
      "execution_count": null,
      "outputs": []
    },
    {
      "cell_type": "code",
      "source": [
        "fastFoodLimpo = fastFoodLimpo[(fastFoodLimpo.latitude >= BI) & (fastFoodLimpo.latitude <= BS)].sort_values('latitude')"
      ],
      "metadata": {
        "id": "ClRigv-ktE8k"
      },
      "execution_count": null,
      "outputs": []
    },
    {
      "cell_type": "code",
      "source": [
        "sns.boxplot(data=fastFoodLimpo,x='latitude')"
      ],
      "metadata": {
        "colab": {
          "base_uri": "https://localhost:8080/",
          "height": 298
        },
        "id": "hyob2HSHtS5S",
        "outputId": "17618edc-642d-4c17-bc8b-4c270b280847"
      },
      "execution_count": null,
      "outputs": [
        {
          "output_type": "execute_result",
          "data": {
            "text/plain": [
              "<matplotlib.axes._subplots.AxesSubplot at 0x7fd37fb25ad0>"
            ]
          },
          "metadata": {},
          "execution_count": 76
        },
        {
          "output_type": "display_data",
          "data": {
            "image/png": "[encoded data removed]",
            "text/plain": [
              "<Figure size 432x288 with 1 Axes>"
            ]
          },
          "metadata": {
            "needs_background": "light"
          }
        }
      ]
    },
    {
      "cell_type": "code",
      "source": [
        "#poderíamos repetir o mesmo para lonxitude, pero neste caso ao eliminar\n",
        "#os outliers en latitude xa eliminamos os de lonxitude"
      ],
      "metadata": {
        "id": "7Y5behjotXYD"
      },
      "execution_count": null,
      "outputs": []
    },
    {
      "cell_type": "code",
      "source": [
        "sns.boxplot(data=fastFoodLimpo,x='longitude')"
      ],
      "metadata": {
        "colab": {
          "base_uri": "https://localhost:8080/",
          "height": 298
        },
        "id": "Pe9MMoyPsC_-",
        "outputId": "8eff4b85-e265-4d2d-ccca-a5572b81f9c6"
      },
      "execution_count": null,
      "outputs": [
        {
          "output_type": "execute_result",
          "data": {
            "text/plain": [
              "<matplotlib.axes._subplots.AxesSubplot at 0x7fd37fa1f210>"
            ]
          },
          "metadata": {},
          "execution_count": 78
        },
        {
          "output_type": "display_data",
          "data": {
            "image/png": "[encoded data removed]",
            "text/plain": [
              "<Figure size 432x288 with 1 Axes>"
            ]
          },
          "metadata": {
            "needs_background": "light"
          }
        }
      ]
    },
    {
      "cell_type": "code",
      "source": [
        "#Xa podemos ver o dataframe cun área de terreno moito máis limitada\n",
        "\n",
        "fastFoodLimpo.plot(kind=\"scatter\", x=\"longitude\", y=\"latitude\", alpha=0.2, \n",
        "                  c=fastFoodLimpo['codigoPostal'], cmap=plt.get_cmap(\"jet\"))"
      ],
      "metadata": {
        "colab": {
          "base_uri": "https://localhost:8080/",
          "height": 271
        },
        "id": "rhF4CzBasRQr",
        "outputId": "098fe07d-ac75-49fe-f78c-9da1b4e10d1b"
      },
      "execution_count": null,
      "outputs": [
        {
          "output_type": "execute_result",
          "data": {
            "text/plain": [
              "<matplotlib.axes._subplots.AxesSubplot at 0x7fd37f992e10>"
            ]
          },
          "metadata": {},
          "execution_count": 79
        },
        {
          "output_type": "display_data",
          "data": {
            "image/png": "[encoded data removed]",
            "text/plain": [
              "<Figure size 432x288 with 2 Axes>"
            ]
          },
          "metadata": {
            "needs_background": "light"
          }
        }
      ]
    }
  ]
}