{
 "cells": [
  {
   "cell_type": "markdown",
   "metadata": {},
   "source": [
    "### Dataframes, Spark SQL e Parquet - practica"
   ]
  },
  {
   "cell_type": "code",
   "execution_count": 1,
   "metadata": {},
   "outputs": [],
   "source": [
    "# Carga o ficheiro purchases.txt desde o sistema de ficheiros localabs"
   ]
  },
  {
   "cell_type": "code",
   "execution_count": 17,
   "metadata": {},
   "outputs": [],
   "source": [
    "df = spark.read.csv(\"file:///home/hduser/Descargas/purchases.txt\", sep='\\t')\n",
    "\n",
    "df = df.toDF('fecha','hora','tenda','categoria','precio','tipo_pago')"
   ]
  },
  {
   "cell_type": "code",
   "execution_count": 20,
   "metadata": {},
   "outputs": [],
   "source": [
    "# Mostra os datos do dataframe"
   ]
  },
  {
   "cell_type": "code",
   "execution_count": 21,
   "metadata": {},
   "outputs": [
    {
     "name": "stdout",
     "output_type": "stream",
     "text": [
      "+----------+-----+--------------+--------------------+------+----------+\n",
      "|     fecha| hora|         tenda|           categoria|precio| tipo_pago|\n",
      "+----------+-----+--------------+--------------------+------+----------+\n",
      "|2012-01-01|09:00|      San Jose|      Men's Clothing|214.05|      Amex|\n",
      "|2012-01-01|09:00|    Fort Worth|    Women's Clothing|153.57|      Visa|\n",
      "|2012-01-01|09:00|     San Diego|               Music| 66.08|      Cash|\n",
      "|2012-01-01|09:00|    Pittsburgh|        Pet Supplies|493.51|  Discover|\n",
      "|2012-01-01|09:00|         Omaha| Children's Clothing|235.63|MasterCard|\n",
      "|2012-01-01|09:00|      Stockton|      Men's Clothing|247.18|MasterCard|\n",
      "|2012-01-01|09:00|        Austin|             Cameras| 379.6|      Visa|\n",
      "|2012-01-01|09:00|      New York|Consumer Electronics| 296.8|      Cash|\n",
      "|2012-01-01|09:00|Corpus Christi|                Toys| 25.38|  Discover|\n",
      "|2012-01-01|09:00|    Fort Worth|                Toys|213.88|      Visa|\n",
      "|2012-01-01|09:00|     Las Vegas|         Video Games| 53.26|      Visa|\n",
      "|2012-01-01|09:00|        Newark|         Video Games| 39.75|      Cash|\n",
      "|2012-01-01|09:00|        Austin|             Cameras|469.63|MasterCard|\n",
      "|2012-01-01|09:00|    Greensboro|                DVDs|290.82|MasterCard|\n",
      "|2012-01-01|09:00| San Francisco|               Music|260.65|  Discover|\n",
      "|2012-01-01|09:00|       Lincoln|              Garden| 136.9|      Visa|\n",
      "|2012-01-01|09:00|       Buffalo|    Women's Clothing|483.82|      Visa|\n",
      "|2012-01-01|09:00|      San Jose|    Women's Clothing|215.82|      Cash|\n",
      "|2012-01-01|09:00|        Boston|             Cameras|418.94|      Amex|\n",
      "|2012-01-01|09:00|       Houston|                Baby|309.16|      Visa|\n",
      "+----------+-----+--------------+--------------------+------+----------+\n",
      "only showing top 20 rows\n",
      "\n"
     ]
    }
   ],
   "source": [
    "df.show()"
   ]
  },
  {
   "cell_type": "code",
   "execution_count": 2,
   "metadata": {},
   "outputs": [],
   "source": [
    "# Crea unha táboa sobre o dataframe para poder realizar consultas SQL"
   ]
  },
  {
   "cell_type": "code",
   "execution_count": 27,
   "metadata": {},
   "outputs": [],
   "source": [
    "df.createOrReplaceTempView('vendas')"
   ]
  },
  {
   "cell_type": "code",
   "execution_count": 28,
   "metadata": {},
   "outputs": [],
   "source": [
    "# Mostra os datos da táboa cunha consulta SQL"
   ]
  },
  {
   "cell_type": "code",
   "execution_count": 29,
   "metadata": {},
   "outputs": [
    {
     "name": "stdout",
     "output_type": "stream",
     "text": [
      "+----------+-----+--------------+--------------------+------+----------+\n",
      "|     fecha| hora|         tenda|           categoria|precio| tipo_pago|\n",
      "+----------+-----+--------------+--------------------+------+----------+\n",
      "|2012-01-01|09:00|      San Jose|      Men's Clothing|214.05|      Amex|\n",
      "|2012-01-01|09:00|    Fort Worth|    Women's Clothing|153.57|      Visa|\n",
      "|2012-01-01|09:00|     San Diego|               Music| 66.08|      Cash|\n",
      "|2012-01-01|09:00|    Pittsburgh|        Pet Supplies|493.51|  Discover|\n",
      "|2012-01-01|09:00|         Omaha| Children's Clothing|235.63|MasterCard|\n",
      "|2012-01-01|09:00|      Stockton|      Men's Clothing|247.18|MasterCard|\n",
      "|2012-01-01|09:00|        Austin|             Cameras| 379.6|      Visa|\n",
      "|2012-01-01|09:00|      New York|Consumer Electronics| 296.8|      Cash|\n",
      "|2012-01-01|09:00|Corpus Christi|                Toys| 25.38|  Discover|\n",
      "|2012-01-01|09:00|    Fort Worth|                Toys|213.88|      Visa|\n",
      "|2012-01-01|09:00|     Las Vegas|         Video Games| 53.26|      Visa|\n",
      "|2012-01-01|09:00|        Newark|         Video Games| 39.75|      Cash|\n",
      "|2012-01-01|09:00|        Austin|             Cameras|469.63|MasterCard|\n",
      "|2012-01-01|09:00|    Greensboro|                DVDs|290.82|MasterCard|\n",
      "|2012-01-01|09:00| San Francisco|               Music|260.65|  Discover|\n",
      "|2012-01-01|09:00|       Lincoln|              Garden| 136.9|      Visa|\n",
      "|2012-01-01|09:00|       Buffalo|    Women's Clothing|483.82|      Visa|\n",
      "|2012-01-01|09:00|      San Jose|    Women's Clothing|215.82|      Cash|\n",
      "|2012-01-01|09:00|        Boston|             Cameras|418.94|      Amex|\n",
      "|2012-01-01|09:00|       Houston|                Baby|309.16|      Visa|\n",
      "+----------+-----+--------------+--------------------+------+----------+\n",
      "only showing top 20 rows\n",
      "\n"
     ]
    }
   ],
   "source": [
    "spark.sql('SELECT * FROM vendas').show()"
   ]
  },
  {
   "cell_type": "code",
   "execution_count": 5,
   "metadata": {},
   "outputs": [],
   "source": [
    "# Conta o número de vendas por tenda"
   ]
  },
  {
   "cell_type": "code",
   "execution_count": 33,
   "metadata": {},
   "outputs": [
    {
     "name": "stdout",
     "output_type": "stream",
     "text": [
      "+---------------+--------+\n",
      "|          tenda|count(1)|\n",
      "+---------------+--------+\n",
      "|North Las Vegas|   40013|\n",
      "|        Phoenix|   40333|\n",
      "|          Omaha|   40209|\n",
      "|      Anchorage|   39806|\n",
      "|        Anaheim|   40086|\n",
      "|     Greensboro|   40232|\n",
      "|         Dallas|   40368|\n",
      "|        Oakland|   39728|\n",
      "|         Laredo|   40342|\n",
      "|     Scottsdale|   40173|\n",
      "|    San Antonio|   40197|\n",
      "|    Bakersfield|   40326|\n",
      "|        Raleigh|   40261|\n",
      "|    Chula Vista|   40080|\n",
      "|   Philadelphia|   40748|\n",
      "|     Louisville|   40099|\n",
      "|    Los Angeles|   40254|\n",
      "|       Chandler|   39826|\n",
      "|     Sacramento|   40561|\n",
      "|   Indianapolis|   40321|\n",
      "+---------------+--------+\n",
      "only showing top 20 rows\n",
      "\n"
     ]
    }
   ],
   "source": [
    "spark.sql(\"SELECT tenda, count(*) FROM vendas GROUP BY tenda\").show()"
   ]
  },
  {
   "cell_type": "code",
   "execution_count": 6,
   "metadata": {},
   "outputs": [],
   "source": [
    "# Fai un total de vendas por categoría"
   ]
  },
  {
   "cell_type": "code",
   "execution_count": 41,
   "metadata": {},
   "outputs": [
    {
     "name": "stdout",
     "output_type": "stream",
     "text": [
      "+--------------------+--------------------+\n",
      "|           categoria|         sum(precio)|\n",
      "+--------------------+--------------------+\n",
      "| Children's Clothing| 5.762482093999994E7|\n",
      "|      Sporting Goods| 5.759908588999996E7|\n",
      "|                 CDs| 5.741075303999995E7|\n",
      "|           Computers| 5.731540632000032E7|\n",
      "|Consumer Electronics|5.7452374130000055E7|\n",
      "|   Health and Beauty|5.7481589560001045E7|\n",
      "|        Pet Supplies| 5.719725023999971E7|\n",
      "|                DVDs| 5.764921214000037E7|\n",
      "|                Baby|5.7491808440000996E7|\n",
      "|              Crafts| 5.741815449999973E7|\n",
      "|    Women's Clothing| 5.743444896999931E7|\n",
      "|         Video Games| 5.751316558000001E7|\n",
      "|               Books| 5.745075790999974E7|\n",
      "|               Music| 5.749548970000029E7|\n",
      "|      Men's Clothing| 5.762127904000029E7|\n",
      "|             Cameras| 5.729904664000106E7|\n",
      "|              Garden| 5.753983310999994E7|\n",
      "|                Toys| 5.746347710999978E7|\n",
      "+--------------------+--------------------+\n",
      "\n"
     ]
    }
   ],
   "source": [
    "spark.sql(\"SELECT categoria, SUM(precio) FROM vendas GROUP BY categoria\").show()\n",
    "\n"
   ]
  },
  {
   "cell_type": "code",
   "execution_count": 7,
   "metadata": {},
   "outputs": [],
   "source": [
    "# Garda o dataframe en HDFS en formato parquet, con particións para as diferentes tendas"
   ]
  },
  {
   "cell_type": "code",
   "execution_count": 44,
   "metadata": {},
   "outputs": [],
   "source": [
    "df.write.partitionBy(\"tenda\").mode(\"overwrite\").parquet(\"output/exercicio_04/vendas_por_tenda.parquet\")"
   ]
  },
  {
   "cell_type": "code",
   "execution_count": 8,
   "metadata": {},
   "outputs": [],
   "source": [
    "# Carga os datos da tenda de San Jose"
   ]
  },
  {
   "cell_type": "code",
   "execution_count": 54,
   "metadata": {},
   "outputs": [],
   "source": [
    "df_vendas_San_Jose = spark.read.parquet(\"output/exercicio_04/vendas_por_tenda.parquet/tenda=San Jose\")\n"
   ]
  },
  {
   "cell_type": "code",
   "execution_count": 9,
   "metadata": {},
   "outputs": [],
   "source": [
    "# Mostra os datos do dataframe"
   ]
  },
  {
   "cell_type": "code",
   "execution_count": 55,
   "metadata": {},
   "outputs": [
    {
     "name": "stdout",
     "output_type": "stream",
     "text": [
      "+----------+-----+--------------------+------+----------+\n",
      "|     fecha| hora|           categoria|precio| tipo_pago|\n",
      "+----------+-----+--------------------+------+----------+\n",
      "|2012-04-16|09:22|                 CDs| 94.52|  Discover|\n",
      "|2012-01-01|09:00|      Men's Clothing|214.05|      Amex|\n",
      "|2012-04-16|09:29|Consumer Electronics|381.52|MasterCard|\n",
      "|2012-01-01|09:00|    Women's Clothing|215.82|      Cash|\n",
      "|2012-04-16|09:36|      Sporting Goods|145.74|      Amex|\n",
      "|2012-01-01|09:09|                Toys|337.71|      Cash|\n",
      "|2012-04-16|09:37|                DVDs|212.34|      Amex|\n",
      "|2012-01-01|09:17|              Garden|192.82|      Cash|\n",
      "|2012-04-16|09:51| Children's Clothing|105.58|MasterCard|\n",
      "|2012-01-01|09:19|             Cameras| 95.81|      Cash|\n",
      "|2012-04-16|09:53|           Computers|307.14|      Cash|\n",
      "|2012-01-01|09:19|        Pet Supplies|253.33|  Discover|\n",
      "|2012-04-16|09:55|                Baby| 141.5|      Visa|\n",
      "|2012-01-01|09:20|           Computers| 160.6|      Amex|\n",
      "|2012-04-16|09:57|              Garden| 346.9|      Cash|\n",
      "|2012-01-01|09:20|             Cameras|285.57|MasterCard|\n",
      "|2012-04-16|10:07| Children's Clothing|248.35|MasterCard|\n",
      "|2012-01-01|09:22|                 CDs|250.46|      Cash|\n",
      "|2012-04-16|10:28|      Men's Clothing|473.99|MasterCard|\n",
      "|2012-01-01|09:24|                DVDs|204.88|      Visa|\n",
      "+----------+-----+--------------------+------+----------+\n",
      "only showing top 20 rows\n",
      "\n"
     ]
    }
   ],
   "source": [
    "df_vendas_San_Jose.show()"
   ]
  },
  {
   "cell_type": "code",
   "execution_count": 10,
   "metadata": {},
   "outputs": [],
   "source": [
    "# Crea unha táboa sobre o dataframe dos datos de San Jose"
   ]
  },
  {
   "cell_type": "code",
   "execution_count": 56,
   "metadata": {},
   "outputs": [],
   "source": [
    "df_vendas_San_Jose.createOrReplaceTempView('vista_vendas_San_Jose')"
   ]
  },
  {
   "cell_type": "code",
   "execution_count": 11,
   "metadata": {},
   "outputs": [],
   "source": [
    "# Mostra os datos da táboa"
   ]
  },
  {
   "cell_type": "code",
   "execution_count": 57,
   "metadata": {},
   "outputs": [
    {
     "name": "stdout",
     "output_type": "stream",
     "text": [
      "+----------+-----+--------------------+------+----------+\n",
      "|     fecha| hora|           categoria|precio| tipo_pago|\n",
      "+----------+-----+--------------------+------+----------+\n",
      "|2012-04-16|09:22|                 CDs| 94.52|  Discover|\n",
      "|2012-01-01|09:00|      Men's Clothing|214.05|      Amex|\n",
      "|2012-04-16|09:29|Consumer Electronics|381.52|MasterCard|\n",
      "|2012-01-01|09:00|    Women's Clothing|215.82|      Cash|\n",
      "|2012-04-16|09:36|      Sporting Goods|145.74|      Amex|\n",
      "|2012-01-01|09:09|                Toys|337.71|      Cash|\n",
      "|2012-04-16|09:37|                DVDs|212.34|      Amex|\n",
      "|2012-01-01|09:17|              Garden|192.82|      Cash|\n",
      "|2012-04-16|09:51| Children's Clothing|105.58|MasterCard|\n",
      "|2012-01-01|09:19|             Cameras| 95.81|      Cash|\n",
      "|2012-04-16|09:53|           Computers|307.14|      Cash|\n",
      "|2012-01-01|09:19|        Pet Supplies|253.33|  Discover|\n",
      "|2012-04-16|09:55|                Baby| 141.5|      Visa|\n",
      "|2012-01-01|09:20|           Computers| 160.6|      Amex|\n",
      "|2012-04-16|09:57|              Garden| 346.9|      Cash|\n",
      "|2012-01-01|09:20|             Cameras|285.57|MasterCard|\n",
      "|2012-04-16|10:07| Children's Clothing|248.35|MasterCard|\n",
      "|2012-01-01|09:22|                 CDs|250.46|      Cash|\n",
      "|2012-04-16|10:28|      Men's Clothing|473.99|MasterCard|\n",
      "|2012-01-01|09:24|                DVDs|204.88|      Visa|\n",
      "+----------+-----+--------------------+------+----------+\n",
      "only showing top 20 rows\n",
      "\n"
     ]
    }
   ],
   "source": [
    "spark.sql('SELECT * FROM vista_vendas_San_Jose').show()"
   ]
  },
  {
   "cell_type": "code",
   "execution_count": 64,
   "metadata": {},
   "outputs": [],
   "source": [
    "# Consulta o total de vendas de San José por tipo de elementos (categoría)"
   ]
  },
  {
   "cell_type": "code",
   "execution_count": 68,
   "metadata": {},
   "outputs": [
    {
     "name": "stdout",
     "output_type": "stream",
     "text": [
      "+--------------------+------------------+\n",
      "|           categoria|       sum(precio)|\n",
      "+--------------------+------------------+\n",
      "| Children's Clothing| 549454.2400000003|\n",
      "|      Sporting Goods| 540678.4100000004|\n",
      "|                 CDs| 586499.6699999999|\n",
      "|           Computers| 561784.6999999997|\n",
      "|Consumer Electronics| 556462.0700000002|\n",
      "|   Health and Beauty| 553600.1900000004|\n",
      "|        Pet Supplies| 540508.1199999999|\n",
      "|                DVDs| 569417.1900000004|\n",
      "|                Baby|         566853.52|\n",
      "|              Crafts|         548947.01|\n",
      "|    Women's Clothing| 540482.1599999997|\n",
      "|         Video Games| 573047.9199999999|\n",
      "|               Books|522989.79999999993|\n",
      "|               Music| 550085.7599999993|\n",
      "|      Men's Clothing| 551148.6200000005|\n",
      "|              Garden| 559343.9099999995|\n",
      "|             Cameras|         527568.34|\n",
      "|                Toys|         537849.78|\n",
      "+--------------------+------------------+\n",
      "\n"
     ]
    }
   ],
   "source": [
    "spark.sql(\"SELECT categoria, SUM(precio) FROM vista_vendas_San_Jose GROUP BY categoria\").show()\n"
   ]
  },
  {
   "cell_type": "code",
   "execution_count": null,
   "metadata": {},
   "outputs": [],
   "source": []
  }
 ],
 "metadata": {
  "kernelspec": {
   "display_name": "Python 3",
   "language": "python",
   "name": "python3"
  },
  "language_info": {
   "codemirror_mode": {
    "name": "ipython",
    "version": 3
   },
   "file_extension": ".py",
   "mimetype": "text/x-python",
   "name": "python",
   "nbconvert_exporter": "python",
   "pygments_lexer": "ipython3",
   "version": "3.8.10"
  }
 },
 "nbformat": 4,
 "nbformat_minor": 5
}
