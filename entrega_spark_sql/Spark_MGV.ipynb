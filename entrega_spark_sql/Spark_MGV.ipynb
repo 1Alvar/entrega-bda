{
 "cells": [
  {
   "cell_type": "markdown",
   "id": "4b02d094",
   "metadata": {},
   "source": [
    "### Dataframes, Spark SQL e Parquet - practica"
   ]
  },
  {
   "cell_type": "code",
   "execution_count": 1,
   "id": "7956debe",
   "metadata": {},
   "outputs": [],
   "source": [
    "# Carga o ficheiro purchases.txt desde o sistema de ficheiros localabs"
   ]
  },
  {
   "cell_type": "code",
   "execution_count": 11,
   "id": "d0c9a756",
   "metadata": {},
   "outputs": [],
   "source": [
    "from pyspark.sql import SparkSession\n",
    "\n",
    "spark = SparkSession.builder.appName(\"DataFrame\").getOrCreate()\n",
    "    \n"
   ]
  },
  {
   "cell_type": "code",
   "execution_count": 2,
   "id": "e9e8b263",
   "metadata": {},
   "outputs": [],
   "source": [
    "# Crea unha táboa sobre o dataframe para poder realizar consultas SQL"
   ]
  },
  {
   "cell_type": "code",
   "execution_count": 29,
   "id": "16a33d92",
   "metadata": {},
   "outputs": [],
   "source": [
    "df = spark.read.option('delimiter','\\t').csv('compras')\n"
   ]
  },
  {
   "cell_type": "code",
   "execution_count": 3,
   "id": "06519f9d",
   "metadata": {},
   "outputs": [],
   "source": [
    "# Mostra os datos do dataframe"
   ]
  },
  {
   "cell_type": "code",
   "execution_count": 30,
   "id": "f7ccb850",
   "metadata": {},
   "outputs": [
    {
     "name": "stdout",
     "output_type": "stream",
     "text": [
      "+----------+-----+--------------+--------------------+------+----------+\n",
      "|       _c0|  _c1|           _c2|                 _c3|   _c4|       _c5|\n",
      "+----------+-----+--------------+--------------------+------+----------+\n",
      "|2012-01-01|09:00|      San Jose|      Men's Clothing|214.05|      Amex|\n",
      "|2012-01-01|09:00|    Fort Worth|    Women's Clothing|153.57|      Visa|\n",
      "|2012-01-01|09:00|     San Diego|               Music| 66.08|      Cash|\n",
      "|2012-01-01|09:00|    Pittsburgh|        Pet Supplies|493.51|  Discover|\n",
      "|2012-01-01|09:00|         Omaha| Children's Clothing|235.63|MasterCard|\n",
      "|2012-01-01|09:00|      Stockton|      Men's Clothing|247.18|MasterCard|\n",
      "|2012-01-01|09:00|        Austin|             Cameras| 379.6|      Visa|\n",
      "|2012-01-01|09:00|      New York|Consumer Electronics| 296.8|      Cash|\n",
      "|2012-01-01|09:00|Corpus Christi|                Toys| 25.38|  Discover|\n",
      "|2012-01-01|09:00|    Fort Worth|                Toys|213.88|      Visa|\n",
      "|2012-01-01|09:00|     Las Vegas|         Video Games| 53.26|      Visa|\n",
      "|2012-01-01|09:00|        Newark|         Video Games| 39.75|      Cash|\n",
      "|2012-01-01|09:00|        Austin|             Cameras|469.63|MasterCard|\n",
      "|2012-01-01|09:00|    Greensboro|                DVDs|290.82|MasterCard|\n",
      "|2012-01-01|09:00| San Francisco|               Music|260.65|  Discover|\n",
      "|2012-01-01|09:00|       Lincoln|              Garden| 136.9|      Visa|\n",
      "|2012-01-01|09:00|       Buffalo|    Women's Clothing|483.82|      Visa|\n",
      "|2012-01-01|09:00|      San Jose|    Women's Clothing|215.82|      Cash|\n",
      "|2012-01-01|09:00|        Boston|             Cameras|418.94|      Amex|\n",
      "|2012-01-01|09:00|       Houston|                Baby|309.16|      Visa|\n",
      "+----------+-----+--------------+--------------------+------+----------+\n",
      "only showing top 20 rows\n",
      "\n"
     ]
    }
   ],
   "source": [
    "df.show()"
   ]
  },
  {
   "cell_type": "code",
   "execution_count": 4,
   "id": "742669b9",
   "metadata": {},
   "outputs": [],
   "source": [
    "# Mostra os datos da táboa cunha consulta SQL"
   ]
  },
  {
   "cell_type": "code",
   "execution_count": 33,
   "id": "b403b4fa",
   "metadata": {},
   "outputs": [
    {
     "name": "stdout",
     "output_type": "stream",
     "text": [
      "+----------+-----+----------+-------------------+------+----------+\n",
      "|       _c0|  _c1|       _c2|                _c3|   _c4|       _c5|\n",
      "+----------+-----+----------+-------------------+------+----------+\n",
      "|2012-01-01|09:00|  San Jose|     Men's Clothing|214.05|      Amex|\n",
      "|2012-01-01|09:00|Fort Worth|   Women's Clothing|153.57|      Visa|\n",
      "|2012-01-01|09:00| San Diego|              Music| 66.08|      Cash|\n",
      "|2012-01-01|09:00|Pittsburgh|       Pet Supplies|493.51|  Discover|\n",
      "|2012-01-01|09:00|     Omaha|Children's Clothing|235.63|MasterCard|\n",
      "+----------+-----+----------+-------------------+------+----------+\n",
      "\n"
     ]
    }
   ],
   "source": [
    "df.createOrReplaceTempView('purchases')\n",
    "spark.sql('SELECT * FROM purchases LIMIT 5').show()"
   ]
  },
  {
   "cell_type": "code",
   "execution_count": 5,
   "id": "a47de64b",
   "metadata": {},
   "outputs": [],
   "source": [
    "# Conta o número de vendas por tenda"
   ]
  },
  {
   "cell_type": "code",
   "execution_count": 38,
   "id": "e7dd6f30",
   "metadata": {},
   "outputs": [
    {
     "name": "stderr",
     "output_type": "stream",
     "text": [
      "[Stage 32:=============================>                            (1 + 1) / 2]\r"
     ]
    },
    {
     "name": "stdout",
     "output_type": "stream",
     "text": [
      "+----------+---------------+\n",
      "|count(_c1)|            _c2|\n",
      "+----------+---------------+\n",
      "|     40013|North Las Vegas|\n",
      "|     40333|        Phoenix|\n",
      "|     40209|          Omaha|\n",
      "|     39806|      Anchorage|\n",
      "|     40086|        Anaheim|\n",
      "|     40232|     Greensboro|\n",
      "|     40368|         Dallas|\n",
      "|     39728|        Oakland|\n",
      "|     40342|         Laredo|\n",
      "|     40173|     Scottsdale|\n",
      "|     40197|    San Antonio|\n",
      "|     40326|    Bakersfield|\n",
      "|     40261|        Raleigh|\n",
      "|     40080|    Chula Vista|\n",
      "|     40748|   Philadelphia|\n",
      "|     40099|     Louisville|\n",
      "|     40254|    Los Angeles|\n",
      "|     39826|       Chandler|\n",
      "|     40561|     Sacramento|\n",
      "|     40321|   Indianapolis|\n",
      "+----------+---------------+\n",
      "only showing top 20 rows\n",
      "\n"
     ]
    },
    {
     "name": "stderr",
     "output_type": "stream",
     "text": [
      "                                                                                \r"
     ]
    }
   ],
   "source": [
    "spark.sql('SELECT count(_c1),_c2 from purchases group by _c2 ').show()"
   ]
  },
  {
   "cell_type": "code",
   "execution_count": 6,
   "id": "994c7904",
   "metadata": {},
   "outputs": [],
   "source": [
    "# Fai un total de vendas por categoría"
   ]
  },
  {
   "cell_type": "code",
   "execution_count": 40,
   "id": "e4acf0ce",
   "metadata": {},
   "outputs": [
    {
     "name": "stderr",
     "output_type": "stream",
     "text": [
      "[Stage 38:=============================>                            (1 + 1) / 2]\r"
     ]
    },
    {
     "name": "stdout",
     "output_type": "stream",
     "text": [
      "+--------------------+--------------------+\n",
      "|            sum(_c4)|                 _c3|\n",
      "+--------------------+--------------------+\n",
      "| 5.762482093999994E7| Children's Clothing|\n",
      "| 5.759908588999996E7|      Sporting Goods|\n",
      "| 5.741075303999995E7|                 CDs|\n",
      "| 5.731540632000032E7|           Computers|\n",
      "|5.7452374130000055E7|Consumer Electronics|\n",
      "|5.7481589560001045E7|   Health and Beauty|\n",
      "| 5.719725023999971E7|        Pet Supplies|\n",
      "| 5.764921214000037E7|                DVDs|\n",
      "|5.7491808440000996E7|                Baby|\n",
      "| 5.741815449999973E7|              Crafts|\n",
      "| 5.743444896999931E7|    Women's Clothing|\n",
      "| 5.751316558000001E7|         Video Games|\n",
      "| 5.745075790999974E7|               Books|\n",
      "| 5.749548970000029E7|               Music|\n",
      "| 5.762127904000029E7|      Men's Clothing|\n",
      "| 5.729904664000106E7|             Cameras|\n",
      "| 5.753983310999994E7|              Garden|\n",
      "| 5.746347710999978E7|                Toys|\n",
      "+--------------------+--------------------+\n",
      "\n"
     ]
    },
    {
     "name": "stderr",
     "output_type": "stream",
     "text": [
      "                                                                                \r"
     ]
    }
   ],
   "source": [
    "spark.sql('SELECT sum(_c4),_c3 from purchases group by _c3 ').show()"
   ]
  },
  {
   "cell_type": "code",
   "execution_count": 7,
   "id": "87db82d8",
   "metadata": {},
   "outputs": [],
   "source": [
    "# Garda o dataframe en HDFS en formato parquet, con particións para as diferentes tendas"
   ]
  },
  {
   "cell_type": "code",
   "execution_count": 45,
   "id": "29da5cd8",
   "metadata": {},
   "outputs": [
    {
     "name": "stderr",
     "output_type": "stream",
     "text": [
      "                                                                                \r"
     ]
    }
   ],
   "source": [
    "df.write.partitionBy(\"_c2\").mode(\"overwrite\").parquet(\"file:///tmp/compras.parquet/\")\n"
   ]
  },
  {
   "cell_type": "code",
   "execution_count": 8,
   "id": "d11a99e0",
   "metadata": {},
   "outputs": [],
   "source": [
    "# Carga os datos da tenda de San Jose"
   ]
  },
  {
   "cell_type": "code",
   "execution_count": 52,
   "id": "970eda7a",
   "metadata": {},
   "outputs": [],
   "source": [
    "df_parquet_partido = spark.read.parquet(\"file:///tmp/compras.parquet/_c2=San Jose\")\n"
   ]
  },
  {
   "cell_type": "code",
   "execution_count": 9,
   "id": "89d43ad4",
   "metadata": {},
   "outputs": [],
   "source": [
    "# Mostra os datos do dataframe"
   ]
  },
  {
   "cell_type": "code",
   "execution_count": 53,
   "id": "d8441aa9",
   "metadata": {},
   "outputs": [
    {
     "name": "stdout",
     "output_type": "stream",
     "text": [
      "+----------+-----+--------------------+------+----------+\n",
      "|       _c0|  _c1|                 _c3|   _c4|       _c5|\n",
      "+----------+-----+--------------------+------+----------+\n",
      "|2012-04-16|09:22|                 CDs| 94.52|  Discover|\n",
      "|2012-01-01|09:00|      Men's Clothing|214.05|      Amex|\n",
      "|2012-04-16|09:29|Consumer Electronics|381.52|MasterCard|\n",
      "|2012-01-01|09:00|    Women's Clothing|215.82|      Cash|\n",
      "|2012-04-16|09:36|      Sporting Goods|145.74|      Amex|\n",
      "|2012-01-01|09:09|                Toys|337.71|      Cash|\n",
      "|2012-04-16|09:37|                DVDs|212.34|      Amex|\n",
      "|2012-01-01|09:17|              Garden|192.82|      Cash|\n",
      "|2012-04-16|09:51| Children's Clothing|105.58|MasterCard|\n",
      "|2012-01-01|09:19|             Cameras| 95.81|      Cash|\n",
      "|2012-04-16|09:53|           Computers|307.14|      Cash|\n",
      "|2012-01-01|09:19|        Pet Supplies|253.33|  Discover|\n",
      "|2012-04-16|09:55|                Baby| 141.5|      Visa|\n",
      "|2012-01-01|09:20|           Computers| 160.6|      Amex|\n",
      "|2012-04-16|09:57|              Garden| 346.9|      Cash|\n",
      "|2012-01-01|09:20|             Cameras|285.57|MasterCard|\n",
      "|2012-04-16|10:07| Children's Clothing|248.35|MasterCard|\n",
      "|2012-01-01|09:22|                 CDs|250.46|      Cash|\n",
      "|2012-04-16|10:28|      Men's Clothing|473.99|MasterCard|\n",
      "|2012-01-01|09:24|                DVDs|204.88|      Visa|\n",
      "+----------+-----+--------------------+------+----------+\n",
      "only showing top 20 rows\n",
      "\n"
     ]
    }
   ],
   "source": [
    "df_parquet_partido.show()"
   ]
  },
  {
   "cell_type": "code",
   "execution_count": 10,
   "id": "2eb647e9",
   "metadata": {},
   "outputs": [],
   "source": [
    "# Crea unha táboa sobre o dataframe dos datos de San Jose"
   ]
  },
  {
   "cell_type": "code",
   "execution_count": 55,
   "id": "3b30463c",
   "metadata": {},
   "outputs": [],
   "source": [
    "df_parquet_partido.createOrReplaceTempView('jose')"
   ]
  },
  {
   "cell_type": "code",
   "execution_count": 11,
   "id": "2089c3c9",
   "metadata": {},
   "outputs": [],
   "source": [
    "# Mostra os datos da táboa"
   ]
  },
  {
   "cell_type": "code",
   "execution_count": 57,
   "id": "419d3f10",
   "metadata": {},
   "outputs": [
    {
     "name": "stdout",
     "output_type": "stream",
     "text": [
      "+----------+-----+--------------------+------+----------+\n",
      "|       _c0|  _c1|                 _c3|   _c4|       _c5|\n",
      "+----------+-----+--------------------+------+----------+\n",
      "|2012-04-16|09:22|                 CDs| 94.52|  Discover|\n",
      "|2012-01-01|09:00|      Men's Clothing|214.05|      Amex|\n",
      "|2012-04-16|09:29|Consumer Electronics|381.52|MasterCard|\n",
      "|2012-01-01|09:00|    Women's Clothing|215.82|      Cash|\n",
      "|2012-04-16|09:36|      Sporting Goods|145.74|      Amex|\n",
      "|2012-01-01|09:09|                Toys|337.71|      Cash|\n",
      "|2012-04-16|09:37|                DVDs|212.34|      Amex|\n",
      "|2012-01-01|09:17|              Garden|192.82|      Cash|\n",
      "|2012-04-16|09:51| Children's Clothing|105.58|MasterCard|\n",
      "|2012-01-01|09:19|             Cameras| 95.81|      Cash|\n",
      "+----------+-----+--------------------+------+----------+\n",
      "\n"
     ]
    }
   ],
   "source": [
    "spark.sql('SELECT * from jose limit 10').show()"
   ]
  },
  {
   "cell_type": "code",
   "execution_count": 12,
   "id": "9c05c885",
   "metadata": {},
   "outputs": [],
   "source": [
    "# Consulta o total de vendas de San José por tipo de elementos (categoría)"
   ]
  },
  {
   "cell_type": "code",
   "execution_count": 59,
   "id": "e93245a1",
   "metadata": {},
   "outputs": [
    {
     "name": "stdout",
     "output_type": "stream",
     "text": [
      "+------------------+--------------------+\n",
      "|          sum(_c4)|                 _c3|\n",
      "+------------------+--------------------+\n",
      "| 549454.2400000003| Children's Clothing|\n",
      "| 540678.4100000004|      Sporting Goods|\n",
      "| 586499.6699999999|                 CDs|\n",
      "| 561784.6999999997|           Computers|\n",
      "| 556462.0700000002|Consumer Electronics|\n",
      "| 553600.1900000004|   Health and Beauty|\n",
      "| 540508.1199999999|        Pet Supplies|\n",
      "| 569417.1900000004|                DVDs|\n",
      "|         566853.52|                Baby|\n",
      "|         548947.01|              Crafts|\n",
      "| 540482.1599999997|    Women's Clothing|\n",
      "| 573047.9199999999|         Video Games|\n",
      "|522989.79999999993|               Books|\n",
      "| 550085.7599999993|               Music|\n",
      "| 551148.6200000005|      Men's Clothing|\n",
      "| 559343.9099999995|              Garden|\n",
      "|         527568.34|             Cameras|\n",
      "|         537849.78|                Toys|\n",
      "+------------------+--------------------+\n",
      "\n"
     ]
    }
   ],
   "source": [
    "spark.sql('SELECT SUM(_c4),_c3 from jose group by _c3').show()"
   ]
  }
 ],
 "metadata": {
  "kernelspec": {
   "display_name": "Python 3 (ipykernel)",
   "language": "python",
   "name": "python3"
  },
  "language_info": {
   "codemirror_mode": {
    "name": "ipython",
    "version": 3
   },
   "file_extension": ".py",
   "mimetype": "text/x-python",
   "name": "python",
   "nbconvert_exporter": "python",
   "pygments_lexer": "ipython3",
   "version": "3.8.10"
  }
 },
 "nbformat": 4,
 "nbformat_minor": 5
}
