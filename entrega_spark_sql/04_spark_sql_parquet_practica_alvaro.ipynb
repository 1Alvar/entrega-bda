{
 "cells": [
  {
   "cell_type": "markdown",
   "id": "4b02d094",
   "metadata": {},
   "source": [
    "### Dataframes, Spark SQL e Parquet - practica"
   ]
  },
  {
   "cell_type": "code",
   "execution_count": 1,
   "id": "7956debe",
   "metadata": {},
   "outputs": [],
   "source": [
    "# Carga o ficheiro purchases.txt desde o sistema de ficheiros localabs"
   ]
  },
  {
   "cell_type": "code",
   "execution_count": 11,
   "id": "d0c9a756",
   "metadata": {},
   "outputs": [],
   "source": [
    "compras = spark.read.csv('file:///home/hduser/Descargas/purchases.txt',sep='\\t')\n",
    "compras = compras.toDF('data', 'hora', 'tenda', 'categoria', 'vendas', 'tipo_pago')"
   ]
  },
  {
   "cell_type": "code",
   "execution_count": 2,
   "id": "e9e8b263",
   "metadata": {},
   "outputs": [],
   "source": [
    "# Crea unha táboa sobre o dataframe para poder realizar consultas SQL"
   ]
  },
  {
   "cell_type": "code",
   "execution_count": 12,
   "id": "16a33d92",
   "metadata": {},
   "outputs": [],
   "source": [
    "compras.createOrReplaceTempView('employees')"
   ]
  },
  {
   "cell_type": "code",
   "execution_count": 3,
   "id": "06519f9d",
   "metadata": {},
   "outputs": [],
   "source": [
    "# Mostra os datos do dataframe"
   ]
  },
  {
   "cell_type": "code",
   "execution_count": 13,
   "id": "f7ccb850",
   "metadata": {},
   "outputs": [
    {
     "name": "stdout",
     "output_type": "stream",
     "text": [
      "+----------+-----+--------------+--------------------+------+----------+\n",
      "|      data| hora|         tenda|           categoria|vendas| tipo_pago|\n",
      "+----------+-----+--------------+--------------------+------+----------+\n",
      "|2012-01-01|09:00|      San Jose|      Men's Clothing|214.05|      Amex|\n",
      "|2012-01-01|09:00|    Fort Worth|    Women's Clothing|153.57|      Visa|\n",
      "|2012-01-01|09:00|     San Diego|               Music| 66.08|      Cash|\n",
      "|2012-01-01|09:00|    Pittsburgh|        Pet Supplies|493.51|  Discover|\n",
      "|2012-01-01|09:00|         Omaha| Children's Clothing|235.63|MasterCard|\n",
      "|2012-01-01|09:00|      Stockton|      Men's Clothing|247.18|MasterCard|\n",
      "|2012-01-01|09:00|        Austin|             Cameras| 379.6|      Visa|\n",
      "|2012-01-01|09:00|      New York|Consumer Electronics| 296.8|      Cash|\n",
      "|2012-01-01|09:00|Corpus Christi|                Toys| 25.38|  Discover|\n",
      "|2012-01-01|09:00|    Fort Worth|                Toys|213.88|      Visa|\n",
      "|2012-01-01|09:00|     Las Vegas|         Video Games| 53.26|      Visa|\n",
      "|2012-01-01|09:00|        Newark|         Video Games| 39.75|      Cash|\n",
      "|2012-01-01|09:00|        Austin|             Cameras|469.63|MasterCard|\n",
      "|2012-01-01|09:00|    Greensboro|                DVDs|290.82|MasterCard|\n",
      "|2012-01-01|09:00| San Francisco|               Music|260.65|  Discover|\n",
      "|2012-01-01|09:00|       Lincoln|              Garden| 136.9|      Visa|\n",
      "|2012-01-01|09:00|       Buffalo|    Women's Clothing|483.82|      Visa|\n",
      "|2012-01-01|09:00|      San Jose|    Women's Clothing|215.82|      Cash|\n",
      "|2012-01-01|09:00|        Boston|             Cameras|418.94|      Amex|\n",
      "|2012-01-01|09:00|       Houston|                Baby|309.16|      Visa|\n",
      "+----------+-----+--------------+--------------------+------+----------+\n",
      "only showing top 20 rows\n",
      "\n"
     ]
    }
   ],
   "source": [
    "compras.show()"
   ]
  },
  {
   "cell_type": "code",
   "execution_count": 4,
   "id": "742669b9",
   "metadata": {},
   "outputs": [],
   "source": [
    "# Mostra os datos da táboa cunha consulta SQL"
   ]
  },
  {
   "cell_type": "code",
   "execution_count": 14,
   "id": "b403b4fa",
   "metadata": {},
   "outputs": [
    {
     "name": "stdout",
     "output_type": "stream",
     "text": [
      "+----------+-----+--------------+--------------------+------+----------+\n",
      "|      data| hora|         tenda|           categoria|vendas| tipo_pago|\n",
      "+----------+-----+--------------+--------------------+------+----------+\n",
      "|2012-01-01|09:00|      San Jose|      Men's Clothing|214.05|      Amex|\n",
      "|2012-01-01|09:00|    Fort Worth|    Women's Clothing|153.57|      Visa|\n",
      "|2012-01-01|09:00|     San Diego|               Music| 66.08|      Cash|\n",
      "|2012-01-01|09:00|    Pittsburgh|        Pet Supplies|493.51|  Discover|\n",
      "|2012-01-01|09:00|         Omaha| Children's Clothing|235.63|MasterCard|\n",
      "|2012-01-01|09:00|      Stockton|      Men's Clothing|247.18|MasterCard|\n",
      "|2012-01-01|09:00|        Austin|             Cameras| 379.6|      Visa|\n",
      "|2012-01-01|09:00|      New York|Consumer Electronics| 296.8|      Cash|\n",
      "|2012-01-01|09:00|Corpus Christi|                Toys| 25.38|  Discover|\n",
      "|2012-01-01|09:00|    Fort Worth|                Toys|213.88|      Visa|\n",
      "|2012-01-01|09:00|     Las Vegas|         Video Games| 53.26|      Visa|\n",
      "|2012-01-01|09:00|        Newark|         Video Games| 39.75|      Cash|\n",
      "|2012-01-01|09:00|        Austin|             Cameras|469.63|MasterCard|\n",
      "|2012-01-01|09:00|    Greensboro|                DVDs|290.82|MasterCard|\n",
      "|2012-01-01|09:00| San Francisco|               Music|260.65|  Discover|\n",
      "|2012-01-01|09:00|       Lincoln|              Garden| 136.9|      Visa|\n",
      "|2012-01-01|09:00|       Buffalo|    Women's Clothing|483.82|      Visa|\n",
      "|2012-01-01|09:00|      San Jose|    Women's Clothing|215.82|      Cash|\n",
      "|2012-01-01|09:00|        Boston|             Cameras|418.94|      Amex|\n",
      "|2012-01-01|09:00|       Houston|                Baby|309.16|      Visa|\n",
      "+----------+-----+--------------+--------------------+------+----------+\n",
      "only showing top 20 rows\n",
      "\n"
     ]
    }
   ],
   "source": [
    "spark.sql('SELECT * FROM employees').show()"
   ]
  },
  {
   "cell_type": "code",
   "execution_count": 5,
   "id": "a47de64b",
   "metadata": {},
   "outputs": [],
   "source": [
    "# Conta o número de vendas por tenda"
   ]
  },
  {
   "cell_type": "code",
   "execution_count": 16,
   "id": "e7dd6f30",
   "metadata": {},
   "outputs": [
    {
     "name": "stderr",
     "output_type": "stream",
     "text": [
      "\r",
      "[Stage 14:>                                                         (0 + 2) / 2]\r"
     ]
    },
    {
     "name": "stdout",
     "output_type": "stream",
     "text": [
      "+---------------+------------+\n",
      "|          tenda|vendas_tenda|\n",
      "+---------------+------------+\n",
      "|North Las Vegas|       40013|\n",
      "|        Phoenix|       40333|\n",
      "|          Omaha|       40209|\n",
      "|      Anchorage|       39806|\n",
      "|        Anaheim|       40086|\n",
      "|     Greensboro|       40232|\n",
      "|         Dallas|       40368|\n",
      "|        Oakland|       39728|\n",
      "|         Laredo|       40342|\n",
      "|     Scottsdale|       40173|\n",
      "|    San Antonio|       40197|\n",
      "|    Bakersfield|       40326|\n",
      "|        Raleigh|       40261|\n",
      "|    Chula Vista|       40080|\n",
      "|   Philadelphia|       40748|\n",
      "|     Louisville|       40099|\n",
      "|    Los Angeles|       40254|\n",
      "|       Chandler|       39826|\n",
      "|     Sacramento|       40561|\n",
      "|   Indianapolis|       40321|\n",
      "+---------------+------------+\n",
      "only showing top 20 rows\n",
      "\n"
     ]
    },
    {
     "name": "stderr",
     "output_type": "stream",
     "text": [
      "\r",
      "                                                                                \r"
     ]
    }
   ],
   "source": [
    "spark.sql(\"SELECT tenda, count(vendas) as vendas_tenda FROM employees GROUP BY tenda\").show()"
   ]
  },
  {
   "cell_type": "code",
   "execution_count": 6,
   "id": "994c7904",
   "metadata": {},
   "outputs": [],
   "source": [
    "# Fai un total de vendas por categoría"
   ]
  },
  {
   "cell_type": "code",
   "execution_count": 18,
   "id": "e4acf0ce",
   "metadata": {},
   "outputs": [
    {
     "name": "stderr",
     "output_type": "stream",
     "text": [
      "\r",
      "[Stage 17:>                                                         (0 + 2) / 2]\r"
     ]
    },
    {
     "name": "stdout",
     "output_type": "stream",
     "text": [
      "+--------------------+----------------+\n",
      "|           categoria|vendas_categoria|\n",
      "+--------------------+----------------+\n",
      "| Children's Clothing|          230469|\n",
      "|      Sporting Goods|          229932|\n",
      "|                 CDs|          230039|\n",
      "|           Computers|          229059|\n",
      "|Consumer Electronics|          229761|\n",
      "|   Health and Beauty|          229667|\n",
      "|        Pet Supplies|          229222|\n",
      "|                DVDs|          230274|\n",
      "|                Baby|          230293|\n",
      "|              Crafts|          229749|\n",
      "|    Women's Clothing|          230050|\n",
      "|         Video Games|          230237|\n",
      "|               Books|          229787|\n",
      "|               Music|          230150|\n",
      "|      Men's Clothing|          230430|\n",
      "|             Cameras|          229320|\n",
      "|              Garden|          230073|\n",
      "|                Toys|          229964|\n",
      "+--------------------+----------------+\n",
      "\n"
     ]
    },
    {
     "name": "stderr",
     "output_type": "stream",
     "text": [
      "\r",
      "[Stage 17:=============================>                            (1 + 1) / 2]\r",
      "\r",
      "                                                                                \r"
     ]
    }
   ],
   "source": [
    "spark.sql(\"SELECT categoria, count(vendas) as vendas_categoria FROM employees GROUP BY categoria\").show()"
   ]
  },
  {
   "cell_type": "code",
   "execution_count": 7,
   "id": "87db82d8",
   "metadata": {},
   "outputs": [],
   "source": [
    "# Garda o dataframe en HDFS en formato parquet, con particións para as diferentes tendas"
   ]
  },
  {
   "cell_type": "code",
   "execution_count": 20,
   "id": "29da5cd8",
   "metadata": {},
   "outputs": [
    {
     "name": "stderr",
     "output_type": "stream",
     "text": [
      "                                                                                \r"
     ]
    }
   ],
   "source": [
    "compras.write.partitionBy(\"tenda\").mode(\"overwrite\").parquet(\"employees.parquet\")"
   ]
  },
  {
   "cell_type": "code",
   "execution_count": 8,
   "id": "d11a99e0",
   "metadata": {},
   "outputs": [],
   "source": [
    "# Carga os datos da tenda de San Jose"
   ]
  },
  {
   "cell_type": "code",
   "execution_count": 22,
   "id": "970eda7a",
   "metadata": {},
   "outputs": [],
   "source": [
    "compras_parquet_partido = spark.read.parquet(\"employees.parquet/tenda=San Jose\")"
   ]
  },
  {
   "cell_type": "code",
   "execution_count": 9,
   "id": "89d43ad4",
   "metadata": {},
   "outputs": [],
   "source": [
    "# Mostra os datos do dataframe"
   ]
  },
  {
   "cell_type": "code",
   "execution_count": 23,
   "id": "d8441aa9",
   "metadata": {},
   "outputs": [
    {
     "name": "stdout",
     "output_type": "stream",
     "text": [
      "+----------+-----+--------------------+------+----------+\n",
      "|      data| hora|           categoria|vendas| tipo_pago|\n",
      "+----------+-----+--------------------+------+----------+\n",
      "|2012-04-16|09:22|                 CDs| 94.52|  Discover|\n",
      "|2012-01-01|09:00|      Men's Clothing|214.05|      Amex|\n",
      "|2012-04-16|09:29|Consumer Electronics|381.52|MasterCard|\n",
      "|2012-01-01|09:00|    Women's Clothing|215.82|      Cash|\n",
      "|2012-04-16|09:36|      Sporting Goods|145.74|      Amex|\n",
      "|2012-01-01|09:09|                Toys|337.71|      Cash|\n",
      "|2012-04-16|09:37|                DVDs|212.34|      Amex|\n",
      "|2012-01-01|09:17|              Garden|192.82|      Cash|\n",
      "|2012-04-16|09:51| Children's Clothing|105.58|MasterCard|\n",
      "|2012-01-01|09:19|             Cameras| 95.81|      Cash|\n",
      "|2012-04-16|09:53|           Computers|307.14|      Cash|\n",
      "|2012-01-01|09:19|        Pet Supplies|253.33|  Discover|\n",
      "|2012-04-16|09:55|                Baby| 141.5|      Visa|\n",
      "|2012-01-01|09:20|           Computers| 160.6|      Amex|\n",
      "|2012-04-16|09:57|              Garden| 346.9|      Cash|\n",
      "|2012-01-01|09:20|             Cameras|285.57|MasterCard|\n",
      "|2012-04-16|10:07| Children's Clothing|248.35|MasterCard|\n",
      "|2012-01-01|09:22|                 CDs|250.46|      Cash|\n",
      "|2012-04-16|10:28|      Men's Clothing|473.99|MasterCard|\n",
      "|2012-01-01|09:24|                DVDs|204.88|      Visa|\n",
      "+----------+-----+--------------------+------+----------+\n",
      "only showing top 20 rows\n",
      "\n"
     ]
    }
   ],
   "source": [
    "compras_parquet_partido.show()"
   ]
  },
  {
   "cell_type": "code",
   "execution_count": 10,
   "id": "2eb647e9",
   "metadata": {},
   "outputs": [],
   "source": [
    "# Crea unha táboa sobre o dataframe dos datos de San Jose"
   ]
  },
  {
   "cell_type": "code",
   "execution_count": 24,
   "id": "3b30463c",
   "metadata": {},
   "outputs": [],
   "source": [
    "compras_parquet_partido.createOrReplaceTempView('sanjose')"
   ]
  },
  {
   "cell_type": "code",
   "execution_count": 11,
   "id": "2089c3c9",
   "metadata": {},
   "outputs": [],
   "source": [
    "# Mostra os datos da táboa"
   ]
  },
  {
   "cell_type": "code",
   "execution_count": 26,
   "id": "419d3f10",
   "metadata": {},
   "outputs": [
    {
     "name": "stdout",
     "output_type": "stream",
     "text": [
      "+----------+-----+--------------------+------+----------+\n",
      "|      data| hora|           categoria|vendas| tipo_pago|\n",
      "+----------+-----+--------------------+------+----------+\n",
      "|2012-04-16|09:22|                 CDs| 94.52|  Discover|\n",
      "|2012-01-01|09:00|      Men's Clothing|214.05|      Amex|\n",
      "|2012-04-16|09:29|Consumer Electronics|381.52|MasterCard|\n",
      "|2012-01-01|09:00|    Women's Clothing|215.82|      Cash|\n",
      "|2012-04-16|09:36|      Sporting Goods|145.74|      Amex|\n",
      "|2012-01-01|09:09|                Toys|337.71|      Cash|\n",
      "|2012-04-16|09:37|                DVDs|212.34|      Amex|\n",
      "|2012-01-01|09:17|              Garden|192.82|      Cash|\n",
      "|2012-04-16|09:51| Children's Clothing|105.58|MasterCard|\n",
      "|2012-01-01|09:19|             Cameras| 95.81|      Cash|\n",
      "|2012-04-16|09:53|           Computers|307.14|      Cash|\n",
      "|2012-01-01|09:19|        Pet Supplies|253.33|  Discover|\n",
      "|2012-04-16|09:55|                Baby| 141.5|      Visa|\n",
      "|2012-01-01|09:20|           Computers| 160.6|      Amex|\n",
      "|2012-04-16|09:57|              Garden| 346.9|      Cash|\n",
      "|2012-01-01|09:20|             Cameras|285.57|MasterCard|\n",
      "|2012-04-16|10:07| Children's Clothing|248.35|MasterCard|\n",
      "|2012-01-01|09:22|                 CDs|250.46|      Cash|\n",
      "|2012-04-16|10:28|      Men's Clothing|473.99|MasterCard|\n",
      "|2012-01-01|09:24|                DVDs|204.88|      Visa|\n",
      "+----------+-----+--------------------+------+----------+\n",
      "only showing top 20 rows\n",
      "\n"
     ]
    }
   ],
   "source": [
    "spark.sql('SELECT * FROM sanjose').show()"
   ]
  },
  {
   "cell_type": "code",
   "execution_count": 12,
   "id": "9c05c885",
   "metadata": {},
   "outputs": [],
   "source": [
    "# Consulta o total de vendas de San José por tipo de elementos (categoría)"
   ]
  },
  {
   "cell_type": "code",
   "execution_count": 27,
   "id": "e93245a1",
   "metadata": {},
   "outputs": [
    {
     "name": "stdout",
     "output_type": "stream",
     "text": [
      "+--------------------+----------------+\n",
      "|           categoria|vendas_categoria|\n",
      "+--------------------+----------------+\n",
      "| Children's Clothing|            2173|\n",
      "|      Sporting Goods|            2180|\n",
      "|                 CDs|            2325|\n",
      "|           Computers|            2264|\n",
      "|Consumer Electronics|            2240|\n",
      "|   Health and Beauty|            2233|\n",
      "|        Pet Supplies|            2179|\n",
      "|                DVDs|            2239|\n",
      "|                Baby|            2268|\n",
      "|              Crafts|            2208|\n",
      "|    Women's Clothing|            2199|\n",
      "|         Video Games|            2298|\n",
      "|               Books|            2107|\n",
      "|               Music|            2220|\n",
      "|      Men's Clothing|            2229|\n",
      "|              Garden|            2215|\n",
      "|             Cameras|            2143|\n",
      "|                Toys|            2178|\n",
      "+--------------------+----------------+\n",
      "\n"
     ]
    }
   ],
   "source": [
    "spark.sql(\"SELECT categoria, count(vendas) as vendas_categoria FROM sanjose GROUP BY categoria\").show()"
   ]
  },
  {
   "cell_type": "code",
   "execution_count": null,
   "id": "ff62b5cc",
   "metadata": {},
   "outputs": [],
   "source": []
  }
 ],
 "metadata": {
  "kernelspec": {
   "display_name": "Python 3 (ipykernel)",
   "language": "python",
   "name": "python3"
  },
  "language_info": {
   "codemirror_mode": {
    "name": "ipython",
    "version": 3
   },
   "file_extension": ".py",
   "mimetype": "text/x-python",
   "name": "python",
   "nbconvert_exporter": "python",
   "pygments_lexer": "ipython3",
   "version": "3.8.10"
  }
 },
 "nbformat": 4,
 "nbformat_minor": 5
}
