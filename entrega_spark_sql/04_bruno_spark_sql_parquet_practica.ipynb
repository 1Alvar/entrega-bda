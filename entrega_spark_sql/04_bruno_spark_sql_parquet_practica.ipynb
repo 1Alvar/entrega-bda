{
 "cells": [
  {
   "cell_type": "markdown",
   "id": "4b02d094",
   "metadata": {},
   "source": [
    "### Dataframes, Spark SQL e Parquet - practica"
   ]
  },
  {
   "cell_type": "code",
   "execution_count": 1,
   "id": "7956debe",
   "metadata": {},
   "outputs": [],
   "source": [
    "# Carga o ficheiro purchases.txt desde o sistema de ficheiros localabs"
   ]
  },
  {
   "cell_type": "code",
   "execution_count": 15,
   "id": "d0c9a756",
   "metadata": {},
   "outputs": [],
   "source": [
    "compras = spark.read.csv('/user/hduser/purchases.txt',sep='\\t')\n",
    "compras = compras.toDF('date','time','store','category','sales','mp')"
   ]
  },
  {
   "cell_type": "code",
   "execution_count": 2,
   "id": "e9e8b263",
   "metadata": {},
   "outputs": [],
   "source": [
    "# Crea unha táboa sobre o dataframe para poder realizar consultas SQL"
   ]
  },
  {
   "cell_type": "code",
   "execution_count": 17,
   "id": "16a33d92",
   "metadata": {},
   "outputs": [],
   "source": [
    "compras.createOrReplaceTempView('purchases')"
   ]
  },
  {
   "cell_type": "code",
   "execution_count": 3,
   "id": "06519f9d",
   "metadata": {},
   "outputs": [],
   "source": [
    "# Mostra os datos do dataframe"
   ]
  },
  {
   "cell_type": "code",
   "execution_count": 16,
   "id": "f7ccb850",
   "metadata": {},
   "outputs": [
    {
     "name": "stdout",
     "output_type": "stream",
     "text": [
      "+----------+-----+--------------+--------------------+------+----------+\n",
      "|      date| time|         store|            category| sales|        mp|\n",
      "+----------+-----+--------------+--------------------+------+----------+\n",
      "|2012-01-01|09:00|      San Jose|      Men's Clothing|214.05|      Amex|\n",
      "|2012-01-01|09:00|    Fort Worth|    Women's Clothing|153.57|      Visa|\n",
      "|2012-01-01|09:00|     San Diego|               Music| 66.08|      Cash|\n",
      "|2012-01-01|09:00|    Pittsburgh|        Pet Supplies|493.51|  Discover|\n",
      "|2012-01-01|09:00|         Omaha| Children's Clothing|235.63|MasterCard|\n",
      "|2012-01-01|09:00|      Stockton|      Men's Clothing|247.18|MasterCard|\n",
      "|2012-01-01|09:00|        Austin|             Cameras| 379.6|      Visa|\n",
      "|2012-01-01|09:00|      New York|Consumer Electronics| 296.8|      Cash|\n",
      "|2012-01-01|09:00|Corpus Christi|                Toys| 25.38|  Discover|\n",
      "|2012-01-01|09:00|    Fort Worth|                Toys|213.88|      Visa|\n",
      "|2012-01-01|09:00|     Las Vegas|         Video Games| 53.26|      Visa|\n",
      "|2012-01-01|09:00|        Newark|         Video Games| 39.75|      Cash|\n",
      "|2012-01-01|09:00|        Austin|             Cameras|469.63|MasterCard|\n",
      "|2012-01-01|09:00|    Greensboro|                DVDs|290.82|MasterCard|\n",
      "|2012-01-01|09:00| San Francisco|               Music|260.65|  Discover|\n",
      "|2012-01-01|09:00|       Lincoln|              Garden| 136.9|      Visa|\n",
      "|2012-01-01|09:00|       Buffalo|    Women's Clothing|483.82|      Visa|\n",
      "|2012-01-01|09:00|      San Jose|    Women's Clothing|215.82|      Cash|\n",
      "|2012-01-01|09:00|        Boston|             Cameras|418.94|      Amex|\n",
      "|2012-01-01|09:00|       Houston|                Baby|309.16|      Visa|\n",
      "+----------+-----+--------------+--------------------+------+----------+\n",
      "only showing top 20 rows\n",
      "\n"
     ]
    }
   ],
   "source": [
    "compras.show()"
   ]
  },
  {
   "cell_type": "code",
   "execution_count": 4,
   "id": "742669b9",
   "metadata": {},
   "outputs": [],
   "source": [
    "# Mostra os datos da táboa cunha consulta SQL"
   ]
  },
  {
   "cell_type": "code",
   "execution_count": 18,
   "id": "b403b4fa",
   "metadata": {},
   "outputs": [
    {
     "name": "stdout",
     "output_type": "stream",
     "text": [
      "+----------+-----+--------------+--------------------+------+----------+\n",
      "|      date| time|         store|            category| sales|        mp|\n",
      "+----------+-----+--------------+--------------------+------+----------+\n",
      "|2012-01-01|09:00|      San Jose|      Men's Clothing|214.05|      Amex|\n",
      "|2012-01-01|09:00|    Fort Worth|    Women's Clothing|153.57|      Visa|\n",
      "|2012-01-01|09:00|     San Diego|               Music| 66.08|      Cash|\n",
      "|2012-01-01|09:00|    Pittsburgh|        Pet Supplies|493.51|  Discover|\n",
      "|2012-01-01|09:00|         Omaha| Children's Clothing|235.63|MasterCard|\n",
      "|2012-01-01|09:00|      Stockton|      Men's Clothing|247.18|MasterCard|\n",
      "|2012-01-01|09:00|        Austin|             Cameras| 379.6|      Visa|\n",
      "|2012-01-01|09:00|      New York|Consumer Electronics| 296.8|      Cash|\n",
      "|2012-01-01|09:00|Corpus Christi|                Toys| 25.38|  Discover|\n",
      "|2012-01-01|09:00|    Fort Worth|                Toys|213.88|      Visa|\n",
      "|2012-01-01|09:00|     Las Vegas|         Video Games| 53.26|      Visa|\n",
      "|2012-01-01|09:00|        Newark|         Video Games| 39.75|      Cash|\n",
      "|2012-01-01|09:00|        Austin|             Cameras|469.63|MasterCard|\n",
      "|2012-01-01|09:00|    Greensboro|                DVDs|290.82|MasterCard|\n",
      "|2012-01-01|09:00| San Francisco|               Music|260.65|  Discover|\n",
      "|2012-01-01|09:00|       Lincoln|              Garden| 136.9|      Visa|\n",
      "|2012-01-01|09:00|       Buffalo|    Women's Clothing|483.82|      Visa|\n",
      "|2012-01-01|09:00|      San Jose|    Women's Clothing|215.82|      Cash|\n",
      "|2012-01-01|09:00|        Boston|             Cameras|418.94|      Amex|\n",
      "|2012-01-01|09:00|       Houston|                Baby|309.16|      Visa|\n",
      "+----------+-----+--------------+--------------------+------+----------+\n",
      "only showing top 20 rows\n",
      "\n"
     ]
    }
   ],
   "source": [
    "spark.sql('SELECT * FROM purchases').show()"
   ]
  },
  {
   "cell_type": "code",
   "execution_count": 5,
   "id": "a47de64b",
   "metadata": {},
   "outputs": [],
   "source": [
    "# Conta o número de vendas por tenda"
   ]
  },
  {
   "cell_type": "code",
   "execution_count": 22,
   "id": "e7dd6f30",
   "metadata": {},
   "outputs": [
    {
     "name": "stderr",
     "output_type": "stream",
     "text": [
      "[Stage 26:=============================>                            (1 + 1) / 2]\r"
     ]
    },
    {
     "name": "stdout",
     "output_type": "stream",
     "text": [
      "+---------------+--------------------+\n",
      "|          store|          sum(sales)|\n",
      "+---------------+--------------------+\n",
      "|North Las Vegas|1.0029652509999933E7|\n",
      "|        Phoenix|1.0079076700000003E7|\n",
      "|          Omaha| 1.002664233999998E7|\n",
      "|      Anchorage|   9933500.399999995|\n",
      "|        Anaheim|1.0076416359999968E7|\n",
      "|     Greensboro|1.0033781390000068E7|\n",
      "|         Dallas|1.0066548450000022E7|\n",
      "|        Oakland|   9947292.520000033|\n",
      "|         Laredo|1.0144604979999993E7|\n",
      "|     Scottsdale|1.0037929849999957E7|\n",
      "|    San Antonio|1.0014441700000005E7|\n",
      "|    Bakersfield|1.0031208919999965E7|\n",
      "|        Raleigh|1.0061442539999988E7|\n",
      "|    Chula Vista|   9974951.340000018|\n",
      "|   Philadelphia|1.0190080259999951E7|\n",
      "|     Louisville|1.0008566470000014E7|\n",
      "|    Los Angeles|1.0084576799999982E7|\n",
      "|       Chandler|   9919559.859999968|\n",
      "|     Sacramento|1.0123468179999966E7|\n",
      "|   Indianapolis|1.0090272770000013E7|\n",
      "+---------------+--------------------+\n",
      "only showing top 20 rows\n",
      "\n"
     ]
    },
    {
     "name": "stderr",
     "output_type": "stream",
     "text": [
      "\r",
      "                                                                                \r"
     ]
    }
   ],
   "source": [
    "spark.sql('SELECT store,SUM(sales) FROM purchases GROUP BY store').show()"
   ]
  },
  {
   "cell_type": "code",
   "execution_count": 6,
   "id": "994c7904",
   "metadata": {},
   "outputs": [],
   "source": [
    "# Fai un total de vendas por categoría"
   ]
  },
  {
   "cell_type": "code",
   "execution_count": 20,
   "id": "e4acf0ce",
   "metadata": {},
   "outputs": [
    {
     "name": "stderr",
     "output_type": "stream",
     "text": [
      "[Stage 20:=============================>                            (1 + 1) / 2]\r"
     ]
    },
    {
     "name": "stdout",
     "output_type": "stream",
     "text": [
      "+--------------------+--------------------+\n",
      "|            category|          sum(sales)|\n",
      "+--------------------+--------------------+\n",
      "| Children's Clothing| 5.762482093999994E7|\n",
      "|      Sporting Goods| 5.759908588999996E7|\n",
      "|                 CDs| 5.741075303999995E7|\n",
      "|           Computers| 5.731540632000032E7|\n",
      "|Consumer Electronics|5.7452374130000055E7|\n",
      "|   Health and Beauty|5.7481589560001045E7|\n",
      "|        Pet Supplies| 5.719725023999971E7|\n",
      "|                DVDs| 5.764921214000037E7|\n",
      "|                Baby|5.7491808440000996E7|\n",
      "|              Crafts| 5.741815449999973E7|\n",
      "|    Women's Clothing| 5.743444896999931E7|\n",
      "|         Video Games| 5.751316558000001E7|\n",
      "|               Books| 5.745075790999974E7|\n",
      "|               Music| 5.749548970000029E7|\n",
      "|      Men's Clothing| 5.762127904000029E7|\n",
      "|             Cameras| 5.729904664000106E7|\n",
      "|              Garden| 5.753983310999994E7|\n",
      "|                Toys| 5.746347710999978E7|\n",
      "+--------------------+--------------------+\n",
      "\n"
     ]
    },
    {
     "name": "stderr",
     "output_type": "stream",
     "text": [
      "\r",
      "                                                                                \r"
     ]
    }
   ],
   "source": [
    "spark.sql('SELECT category,SUM(sales) FROM purchases GROUP BY category').show()"
   ]
  },
  {
   "cell_type": "code",
   "execution_count": 7,
   "id": "87db82d8",
   "metadata": {},
   "outputs": [],
   "source": [
    "# Garda o dataframe en HDFS en formato parquet, con particións para as diferentes tendas"
   ]
  },
  {
   "cell_type": "code",
   "execution_count": 36,
   "id": "29da5cd8",
   "metadata": {},
   "outputs": [
    {
     "name": "stderr",
     "output_type": "stream",
     "text": [
      "                                                                                \r"
     ]
    }
   ],
   "source": [
    "compras.write.partitionBy(\"store\").mode(\"overwrite\").parquet(\"purchases2.parquet\")"
   ]
  },
  {
   "cell_type": "code",
   "execution_count": 8,
   "id": "d11a99e0",
   "metadata": {},
   "outputs": [],
   "source": [
    "# Carga os datos da tenda de San Jose"
   ]
  },
  {
   "cell_type": "code",
   "execution_count": 37,
   "id": "970eda7a",
   "metadata": {},
   "outputs": [],
   "source": [
    "df_parquet_partido = spark.read.parquet(\"purchases2.parquet/store=San Jose\")"
   ]
  },
  {
   "cell_type": "code",
   "execution_count": 9,
   "id": "89d43ad4",
   "metadata": {},
   "outputs": [],
   "source": [
    "# Mostra os datos do dataframe"
   ]
  },
  {
   "cell_type": "code",
   "execution_count": 38,
   "id": "d8441aa9",
   "metadata": {},
   "outputs": [
    {
     "name": "stdout",
     "output_type": "stream",
     "text": [
      "+----------+-----+--------------------+------+----------+\n",
      "|      date| time|            category| sales|        mp|\n",
      "+----------+-----+--------------------+------+----------+\n",
      "|2012-04-16|09:22|                 CDs| 94.52|  Discover|\n",
      "|2012-01-01|09:00|      Men's Clothing|214.05|      Amex|\n",
      "|2012-04-16|09:29|Consumer Electronics|381.52|MasterCard|\n",
      "|2012-01-01|09:00|    Women's Clothing|215.82|      Cash|\n",
      "|2012-04-16|09:36|      Sporting Goods|145.74|      Amex|\n",
      "|2012-01-01|09:09|                Toys|337.71|      Cash|\n",
      "|2012-04-16|09:37|                DVDs|212.34|      Amex|\n",
      "|2012-01-01|09:17|              Garden|192.82|      Cash|\n",
      "|2012-04-16|09:51| Children's Clothing|105.58|MasterCard|\n",
      "|2012-01-01|09:19|             Cameras| 95.81|      Cash|\n",
      "|2012-04-16|09:53|           Computers|307.14|      Cash|\n",
      "|2012-01-01|09:19|        Pet Supplies|253.33|  Discover|\n",
      "|2012-04-16|09:55|                Baby| 141.5|      Visa|\n",
      "|2012-01-01|09:20|           Computers| 160.6|      Amex|\n",
      "|2012-04-16|09:57|              Garden| 346.9|      Cash|\n",
      "|2012-01-01|09:20|             Cameras|285.57|MasterCard|\n",
      "|2012-04-16|10:07| Children's Clothing|248.35|MasterCard|\n",
      "|2012-01-01|09:22|                 CDs|250.46|      Cash|\n",
      "|2012-04-16|10:28|      Men's Clothing|473.99|MasterCard|\n",
      "|2012-01-01|09:24|                DVDs|204.88|      Visa|\n",
      "+----------+-----+--------------------+------+----------+\n",
      "only showing top 20 rows\n",
      "\n"
     ]
    }
   ],
   "source": [
    "df_parquet_partido.show()"
   ]
  },
  {
   "cell_type": "code",
   "execution_count": 10,
   "id": "2eb647e9",
   "metadata": {},
   "outputs": [],
   "source": [
    "# Crea unha táboa sobre o dataframe dos datos de San Jose"
   ]
  },
  {
   "cell_type": "code",
   "execution_count": 39,
   "id": "3b30463c",
   "metadata": {},
   "outputs": [],
   "source": [
    "df_parquet_partido.createOrReplaceTempView('purchases_SanJose')"
   ]
  },
  {
   "cell_type": "code",
   "execution_count": 11,
   "id": "2089c3c9",
   "metadata": {},
   "outputs": [],
   "source": [
    "# Mostra os datos da táboa"
   ]
  },
  {
   "cell_type": "code",
   "execution_count": 41,
   "id": "419d3f10",
   "metadata": {},
   "outputs": [
    {
     "name": "stdout",
     "output_type": "stream",
     "text": [
      "+----------+-----+--------------------+------+----------+\n",
      "|      date| time|            category| sales|        mp|\n",
      "+----------+-----+--------------------+------+----------+\n",
      "|2012-04-16|09:22|                 CDs| 94.52|  Discover|\n",
      "|2012-01-01|09:00|      Men's Clothing|214.05|      Amex|\n",
      "|2012-04-16|09:29|Consumer Electronics|381.52|MasterCard|\n",
      "|2012-01-01|09:00|    Women's Clothing|215.82|      Cash|\n",
      "|2012-04-16|09:36|      Sporting Goods|145.74|      Amex|\n",
      "|2012-01-01|09:09|                Toys|337.71|      Cash|\n",
      "|2012-04-16|09:37|                DVDs|212.34|      Amex|\n",
      "|2012-01-01|09:17|              Garden|192.82|      Cash|\n",
      "|2012-04-16|09:51| Children's Clothing|105.58|MasterCard|\n",
      "|2012-01-01|09:19|             Cameras| 95.81|      Cash|\n",
      "|2012-04-16|09:53|           Computers|307.14|      Cash|\n",
      "|2012-01-01|09:19|        Pet Supplies|253.33|  Discover|\n",
      "|2012-04-16|09:55|                Baby| 141.5|      Visa|\n",
      "|2012-01-01|09:20|           Computers| 160.6|      Amex|\n",
      "|2012-04-16|09:57|              Garden| 346.9|      Cash|\n",
      "|2012-01-01|09:20|             Cameras|285.57|MasterCard|\n",
      "|2012-04-16|10:07| Children's Clothing|248.35|MasterCard|\n",
      "|2012-01-01|09:22|                 CDs|250.46|      Cash|\n",
      "|2012-04-16|10:28|      Men's Clothing|473.99|MasterCard|\n",
      "|2012-01-01|09:24|                DVDs|204.88|      Visa|\n",
      "+----------+-----+--------------------+------+----------+\n",
      "only showing top 20 rows\n",
      "\n"
     ]
    }
   ],
   "source": [
    "spark.sql('SELECT * FROM purchases_SanJose').show()"
   ]
  },
  {
   "cell_type": "code",
   "execution_count": 12,
   "id": "9c05c885",
   "metadata": {},
   "outputs": [],
   "source": [
    "# Consulta o total de vendas de San José por tipo de elementos (categoría)"
   ]
  },
  {
   "cell_type": "code",
   "execution_count": 42,
   "id": "e93245a1",
   "metadata": {},
   "outputs": [
    {
     "name": "stdout",
     "output_type": "stream",
     "text": [
      "+--------------------+------------------+\n",
      "|            category|        sum(sales)|\n",
      "+--------------------+------------------+\n",
      "| Children's Clothing| 549454.2400000003|\n",
      "|      Sporting Goods| 540678.4100000004|\n",
      "|                 CDs| 586499.6699999999|\n",
      "|           Computers| 561784.6999999997|\n",
      "|Consumer Electronics| 556462.0700000002|\n",
      "|   Health and Beauty| 553600.1900000004|\n",
      "|        Pet Supplies| 540508.1199999999|\n",
      "|                DVDs| 569417.1900000004|\n",
      "|                Baby|         566853.52|\n",
      "|              Crafts|         548947.01|\n",
      "|    Women's Clothing| 540482.1599999997|\n",
      "|         Video Games| 573047.9199999999|\n",
      "|               Books|522989.79999999993|\n",
      "|               Music| 550085.7599999993|\n",
      "|      Men's Clothing| 551148.6200000005|\n",
      "|              Garden| 559343.9099999995|\n",
      "|             Cameras|         527568.34|\n",
      "|                Toys|         537849.78|\n",
      "+--------------------+------------------+\n",
      "\n"
     ]
    }
   ],
   "source": [
    "spark.sql('SELECT category,SUM(sales) FROM purchases_SanJose GROUP BY category').show()"
   ]
  }
 ],
 "metadata": {
  "kernelspec": {
   "display_name": "Python 3 (ipykernel)",
   "language": "python",
   "name": "python3"
  },
  "language_info": {
   "codemirror_mode": {
    "name": "ipython",
    "version": 3
   },
   "file_extension": ".py",
   "mimetype": "text/x-python",
   "name": "python",
   "nbconvert_exporter": "python",
   "pygments_lexer": "ipython3",
   "version": "3.8.10"
  }
 },
 "nbformat": 4,
 "nbformat_minor": 5
}
